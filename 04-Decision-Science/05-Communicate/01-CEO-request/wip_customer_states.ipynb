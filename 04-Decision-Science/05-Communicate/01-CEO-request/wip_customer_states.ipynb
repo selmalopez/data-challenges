{
 "cells": [
  {
   "cell_type": "code",
   "execution_count": 1,
   "metadata": {},
   "outputs": [],
   "source": [
    "# Import libraries\n",
    "import pandas as pd\n",
    "import seaborn as sns\n",
    "from olist.utils import *\n",
    "import numpy as np\n",
    "import statsmodels.formula.api as smf"
   ]
  },
  {
   "cell_type": "code",
   "execution_count": 2,
   "metadata": {},
   "outputs": [],
   "source": [
    "# Import data\n",
    "from olist.data import Olist\n",
    "from olist.order import Order"
   ]
  },
  {
   "cell_type": "code",
   "execution_count": 3,
   "metadata": {},
   "outputs": [],
   "source": [
    "data = Olist().get_data()\n",
    "orders = Order().get_training_data()\n",
    "matching_table = Olist().get_matching_table()"
   ]
  },
  {
   "cell_type": "markdown",
   "metadata": {},
   "source": [
    "# Restricting customer states"
   ]
  },
  {
   "cell_type": "markdown",
   "metadata": {},
   "source": [
    "In this notebook, we want to understand what the impact of preventing customers ordering products to certain states would be. To do so, let's run the following steps: \n",
    "\n",
    "- look at the share of one-star orders by state. \n",
    "- measure the cumulative share of one-star reviews and orders by state in descending order: this allows us to understand which state contributes the most to the overall share of one-star reviews.\n",
    "- make an informed decision by outputing `review_score` impact and `orders` loss. "
   ]
  },
  {
   "cell_type": "markdown",
   "metadata": {},
   "source": [
    "### Merge orders with customer states"
   ]
  },
  {
   "cell_type": "markdown",
   "metadata": {},
   "source": [
    "Our first step is to retrieve orders with customer state: "
   ]
  },
  {
   "cell_type": "code",
   "execution_count": 6,
   "metadata": {},
   "outputs": [],
   "source": [
    "# Merge to get order and customer_state in a DataFrame\n",
    "mask_columns = ['order_id', 'customer_id']\n",
    "order_customer = matching_table.drop_duplicates(subset=mask_columns)[mask_columns]\n",
    "order_state = order_customer.merge(data['customers'], \n",
    "                                   on='customer_id')[['order_id', 'customer_state']]\n",
    "orders = orders.merge(order_state, \n",
    "                      on='order_id')"
   ]
  },
  {
   "cell_type": "markdown",
   "metadata": {},
   "source": [
    "### Compute cost and revenue at the order level"
   ]
  },
  {
   "cell_type": "code",
   "execution_count": 7,
   "metadata": {},
   "outputs": [],
   "source": [
    "cost_mapping = {1:100, 2:50, 3:40, 4:0, 5:0}"
   ]
  },
  {
   "cell_type": "code",
   "execution_count": 16,
   "metadata": {},
   "outputs": [],
   "source": [
    "orders['cost'] = orders['review_score'].map(cost_mapping)\n",
    "orders['revenue'] = orders['price'] * 0.1"
   ]
  },
  {
   "cell_type": "markdown",
   "metadata": {},
   "source": [
    "### Share of one-star reviews per state"
   ]
  },
  {
   "cell_type": "markdown",
   "metadata": {},
   "source": [
    "We can then measure the share of one star orders per customer state. Observe how Rio de Janeiro state has 15% of orders as one-star reviews 😱"
   ]
  },
  {
   "cell_type": "code",
   "execution_count": 17,
   "metadata": {},
   "outputs": [],
   "source": [
    "orders.groupby('customer_state')\\\n",
    "      .agg({'dim_is_one_star':'mean',\n",
    "            'order_id':'count'})\\\n",
    "      .sort_values(by='dim_is_one_star', \n",
    "                   ascending=False).head()"
   ]
  },
  {
   "cell_type": "markdown",
   "metadata": {},
   "source": [
    "We can also plot the distribution of review_score by state: "
   ]
  },
  {
   "cell_type": "code",
   "execution_count": 18,
   "metadata": {},
   "outputs": [],
   "source": [
    "g = sns.FacetGrid(orders, col=\"customer_state\", col_wrap=6, hue='customer_state')\n",
    "g.map(sns.distplot, \"review_score\", hist=False);"
   ]
  },
  {
   "cell_type": "markdown",
   "metadata": {},
   "source": [
    "### Cumulative share of cost, revenue and orders"
   ]
  },
  {
   "cell_type": "markdown",
   "metadata": {},
   "source": [
    "We compute the cumulative share of cost in order to measure the contribution of each state."
   ]
  },
  {
   "cell_type": "code",
   "execution_count": 19,
   "metadata": {},
   "outputs": [],
   "source": [
    "orders_agg = orders.groupby('customer_state')\\\n",
    "                   .agg({'cost':'sum',\n",
    "                         'revenue':'sum',\n",
    "                         'order_id':'count'})\\\n",
    "                   .sort_values(by='cost', \n",
    "                                ascending=False)"
   ]
  },
  {
   "cell_type": "markdown",
   "metadata": {},
   "source": [
    "We then compute the metric `ratio` as the ratio of the `cost` to the `revenue`. A higher value means that a state contributes more to the `cost` than to the `revenue`:"
   ]
  },
  {
   "cell_type": "code",
   "execution_count": 20,
   "metadata": {},
   "outputs": [],
   "source": [
    "orders_agg['share_total_cost'] =\\\n",
    "    orders_agg['cost'] / orders_agg['cost'].sum()\n",
    "\n",
    "orders_agg['share_total_revenue'] =\\\n",
    "    orders_agg['revenue'] / orders_agg['revenue'].sum()\n",
    "\n",
    "orders_agg['ratio'] =\\\n",
    "    orders_agg['share_total_cost'] / orders_agg['share_total_revenue'] "
   ]
  },
  {
   "cell_type": "markdown",
   "metadata": {},
   "source": [
    "We then sort by this ratio and compute a **cumulative sum** on both orders and one-star orders: "
   ]
  },
  {
   "cell_type": "code",
   "execution_count": 21,
   "metadata": {},
   "outputs": [],
   "source": [
    "orders_agg.sort_values(by='ratio', \n",
    "                       ascending=False, \n",
    "                       inplace=True)"
   ]
  },
  {
   "cell_type": "code",
   "execution_count": 22,
   "metadata": {},
   "outputs": [],
   "source": [
    "orders_agg['cum_share_cost'] = orders_agg['cost'].cumsum() \\\n",
    "                                        / orders_agg['cost'].sum()\n",
    "\n",
    "orders_agg['cum_share_revenue'] = orders_agg['revenue'].cumsum() \\\n",
    "                                        / orders_agg['revenue'].sum()\n",
    "\n",
    "orders_agg['rank'] = orders_agg['cum_share_cost'].rank()"
   ]
  },
  {
   "cell_type": "code",
   "execution_count": 23,
   "metadata": {},
   "outputs": [],
   "source": [
    "orders_agg.head()"
   ]
  },
  {
   "cell_type": "markdown",
   "metadata": {},
   "source": [
    "We can then plot those two curves on a graph: "
   ]
  },
  {
   "cell_type": "code",
   "execution_count": 24,
   "metadata": {},
   "outputs": [],
   "source": [
    "orders_agg_melt = orders_agg[['rank', \n",
    "                          'cum_share_cost', \n",
    "                          'cum_share_revenue']].melt(id_vars=['rank'], \n",
    "                                                    value_vars=['cum_share_cost', \n",
    "                                                                'cum_share_revenue'])\n",
    "ax = sns.lineplot(x=\"rank\", \n",
    "                  y=\"value\", \n",
    "                  hue=\"variable\", \n",
    "                  data=orders_agg_melt)"
   ]
  },
  {
   "cell_type": "markdown",
   "metadata": {},
   "source": [
    "The plot and the table above let us see that Rio de Janerio alone contributes 17% of the cost and 13% of the revenue."
   ]
  },
  {
   "cell_type": "markdown",
   "metadata": {},
   "source": [
    "### Simulation table"
   ]
  },
  {
   "cell_type": "markdown",
   "metadata": {},
   "source": [
    "In this last part we simulate the impact of removing top states on the overall review_score and share_one star: "
   ]
  },
  {
   "cell_type": "code",
   "execution_count": 25,
   "metadata": {},
   "outputs": [],
   "source": [
    "def recompute_metrics(rank):\n",
    "    list_states = orders_agg[orders_agg['rank'] <= rank].index.to_list()\n",
    "    df = orders.query(\"customer_state!=\"+str(list_states))\n",
    "    review_score = df['review_score'].mean()\n",
    "    n_orders = df.shape[0]\n",
    "    orders_impact =  n_orders - orders.shape[0]\n",
    "    share_one_star = df['dim_is_one_star'].sum() / n_orders\n",
    "    margin_ratio = df['revenue'].sum() / df['cost'].sum()\n",
    "    return {'rank':rank,\n",
    "            'states_removed':str(list_states),\n",
    "            'review_score':review_score,\n",
    "            'share_one_star':share_one_star,\n",
    "            'orders_impact':orders_impact,\n",
    "            'margin_ratio':margin_ratio}"
   ]
  },
  {
   "cell_type": "code",
   "execution_count": 26,
   "metadata": {},
   "outputs": [],
   "source": [
    "a = {}\n",
    "for i in np.arange(0,7):\n",
    "    a[i] = recompute_metrics(i)"
   ]
  },
  {
   "cell_type": "code",
   "execution_count": 27,
   "metadata": {},
   "outputs": [],
   "source": [
    "pd.DataFrame(a).T"
   ]
  },
  {
   "cell_type": "markdown",
   "metadata": {},
   "source": [
    "_Note_: if Olist were to stop selling in `RJ`, this would: \n",
    "- Increase review score to 4.17\n",
    "- Bring share of one star reviews below 10% \n",
    "- Reach a 1.92 margin ratio \n",
    "- Come at the cost of 12k orders "
   ]
  },
  {
   "cell_type": "code",
   "execution_count": null,
   "metadata": {},
   "outputs": [],
   "source": []
  }
 ],
 "metadata": {
  "kernelspec": {
   "display_name": "Python 3",
   "language": "python",
   "name": "python3"
  },
  "language_info": {
   "codemirror_mode": {
    "name": "ipython",
    "version": 3
   },
   "file_extension": ".py",
   "mimetype": "text/x-python",
   "name": "python",
   "nbconvert_exporter": "python",
   "pygments_lexer": "ipython3",
   "version": "3.7.7"
  },
  "toc": {
   "base_numbering": 1,
   "nav_menu": {},
   "number_sections": true,
   "sideBar": true,
   "skip_h1_title": false,
   "title_cell": "Table of Contents",
   "title_sidebar": "Contents",
   "toc_cell": false,
   "toc_position": {},
   "toc_section_display": true,
   "toc_window_display": true
  },
  "varInspector": {
   "cols": {
    "lenName": 16,
    "lenType": 16,
    "lenVar": 40
   },
   "kernels_config": {
    "python": {
     "delete_cmd_postfix": "",
     "delete_cmd_prefix": "del ",
     "library": "var_list.py",
     "varRefreshCmd": "print(var_dic_list())"
    },
    "r": {
     "delete_cmd_postfix": ") ",
     "delete_cmd_prefix": "rm(",
     "library": "var_list.r",
     "varRefreshCmd": "cat(var_dic_list()) "
    }
   },
   "types_to_exclude": [
    "module",
    "function",
    "builtin_function_or_method",
    "instance",
    "_Feature"
   ],
   "window_display": false
  }
 },
 "nbformat": 4,
 "nbformat_minor": 4
}
