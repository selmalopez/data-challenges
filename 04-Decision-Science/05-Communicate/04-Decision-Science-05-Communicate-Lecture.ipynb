{
 "cells": [
  {
   "cell_type": "markdown",
   "metadata": {
    "slideshow": {
     "slide_type": "slide"
    }
   },
   "source": [
    "# Communicate"
   ]
  },
  {
   "cell_type": "code",
   "execution_count": 1,
   "metadata": {
    "slideshow": {
     "slide_type": "skip"
    }
   },
   "outputs": [],
   "source": [
    "import seaborn as sns\n",
    "import numpy as np\n",
    "import pandas as pd"
   ]
  },
  {
   "cell_type": "markdown",
   "metadata": {
    "slideshow": {
     "slide_type": "slide"
    }
   },
   "source": [
    "## 3. Insist on trade-offs"
   ]
  },
  {
   "cell_type": "code",
   "execution_count": 2,
   "metadata": {
    "slideshow": {
     "slide_type": "fragment"
    }
   },
   "outputs": [
    {
     "data": {
      "text/html": [
       "<div>\n",
       "<style scoped>\n",
       "    .dataframe tbody tr th:only-of-type {\n",
       "        vertical-align: middle;\n",
       "    }\n",
       "\n",
       "    .dataframe tbody tr th {\n",
       "        vertical-align: top;\n",
       "    }\n",
       "\n",
       "    .dataframe thead th {\n",
       "        text-align: right;\n",
       "    }\n",
       "</style>\n",
       "<table border=\"1\" class=\"dataframe\">\n",
       "  <thead>\n",
       "    <tr style=\"text-align: right;\">\n",
       "      <th></th>\n",
       "      <th>lift</th>\n",
       "      <th>benefit</th>\n",
       "    </tr>\n",
       "  </thead>\n",
       "  <tbody>\n",
       "    <tr>\n",
       "      <th>0</th>\n",
       "      <td>0.01</td>\n",
       "      <td>20000.0</td>\n",
       "    </tr>\n",
       "    <tr>\n",
       "      <th>1</th>\n",
       "      <td>0.02</td>\n",
       "      <td>40000.0</td>\n",
       "    </tr>\n",
       "    <tr>\n",
       "      <th>2</th>\n",
       "      <td>0.03</td>\n",
       "      <td>60000.0</td>\n",
       "    </tr>\n",
       "    <tr>\n",
       "      <th>3</th>\n",
       "      <td>0.04</td>\n",
       "      <td>80000.0</td>\n",
       "    </tr>\n",
       "  </tbody>\n",
       "</table>\n",
       "</div>"
      ],
      "text/plain": [
       "   lift  benefit\n",
       "0  0.01  20000.0\n",
       "1  0.02  40000.0\n",
       "2  0.03  60000.0\n",
       "3  0.04  80000.0"
      ]
     },
     "execution_count": 2,
     "metadata": {},
     "output_type": "execute_result"
    }
   ],
   "source": [
    "lift = np.arange(0.01, 0.05, 0.01)\n",
    "benefits = pd.DataFrame({'lift': lift, \n",
    "                        'benefit': 100000*20*lift})\n",
    "benefits"
   ]
  },
  {
   "cell_type": "code",
   "execution_count": 3,
   "metadata": {
    "slideshow": {
     "slide_type": "fragment"
    }
   },
   "outputs": [
    {
     "data": {
      "text/html": [
       "<div>\n",
       "<style scoped>\n",
       "    .dataframe tbody tr th:only-of-type {\n",
       "        vertical-align: middle;\n",
       "    }\n",
       "\n",
       "    .dataframe tbody tr th {\n",
       "        vertical-align: top;\n",
       "    }\n",
       "\n",
       "    .dataframe thead th {\n",
       "        text-align: right;\n",
       "    }\n",
       "</style>\n",
       "<table border=\"1\" class=\"dataframe\">\n",
       "  <thead>\n",
       "    <tr style=\"text-align: right;\">\n",
       "      <th></th>\n",
       "      <th>mandays</th>\n",
       "      <th>cost</th>\n",
       "    </tr>\n",
       "  </thead>\n",
       "  <tbody>\n",
       "    <tr>\n",
       "      <th>0</th>\n",
       "      <td>20</td>\n",
       "      <td>30000</td>\n",
       "    </tr>\n",
       "    <tr>\n",
       "      <th>1</th>\n",
       "      <td>30</td>\n",
       "      <td>45000</td>\n",
       "    </tr>\n",
       "    <tr>\n",
       "      <th>2</th>\n",
       "      <td>40</td>\n",
       "      <td>60000</td>\n",
       "    </tr>\n",
       "    <tr>\n",
       "      <th>3</th>\n",
       "      <td>50</td>\n",
       "      <td>75000</td>\n",
       "    </tr>\n",
       "  </tbody>\n",
       "</table>\n",
       "</div>"
      ],
      "text/plain": [
       "   mandays   cost\n",
       "0       20  30000\n",
       "1       30  45000\n",
       "2       40  60000\n",
       "3       50  75000"
      ]
     },
     "execution_count": 3,
     "metadata": {},
     "output_type": "execute_result"
    }
   ],
   "source": [
    "mandays = np.arange(20, 60, 10)\n",
    "\n",
    "costs = pd.DataFrame({'mandays':mandays, \n",
    "                     'cost': mandays*500*3})\n",
    "costs"
   ]
  },
  {
   "cell_type": "markdown",
   "metadata": {},
   "source": [
    "https://i.stack.imgur.com/VUkfU.gif"
   ]
  },
  {
   "cell_type": "code",
   "execution_count": 4,
   "metadata": {
    "slideshow": {
     "slide_type": "subslide"
    }
   },
   "outputs": [
    {
     "data": {
      "text/html": [
       "<div>\n",
       "<style scoped>\n",
       "    .dataframe tbody tr th:only-of-type {\n",
       "        vertical-align: middle;\n",
       "    }\n",
       "\n",
       "    .dataframe tbody tr th {\n",
       "        vertical-align: top;\n",
       "    }\n",
       "\n",
       "    .dataframe thead th {\n",
       "        text-align: right;\n",
       "    }\n",
       "</style>\n",
       "<table border=\"1\" class=\"dataframe\">\n",
       "  <thead>\n",
       "    <tr style=\"text-align: right;\">\n",
       "      <th></th>\n",
       "      <th>mandays</th>\n",
       "      <th>cost</th>\n",
       "      <th>ones</th>\n",
       "    </tr>\n",
       "  </thead>\n",
       "  <tbody>\n",
       "    <tr>\n",
       "      <th>0</th>\n",
       "      <td>20</td>\n",
       "      <td>30000</td>\n",
       "      <td>1</td>\n",
       "    </tr>\n",
       "    <tr>\n",
       "      <th>1</th>\n",
       "      <td>30</td>\n",
       "      <td>45000</td>\n",
       "      <td>1</td>\n",
       "    </tr>\n",
       "    <tr>\n",
       "      <th>2</th>\n",
       "      <td>40</td>\n",
       "      <td>60000</td>\n",
       "      <td>1</td>\n",
       "    </tr>\n",
       "    <tr>\n",
       "      <th>3</th>\n",
       "      <td>50</td>\n",
       "      <td>75000</td>\n",
       "      <td>1</td>\n",
       "    </tr>\n",
       "  </tbody>\n",
       "</table>\n",
       "</div>"
      ],
      "text/plain": [
       "   mandays   cost  ones\n",
       "0       20  30000     1\n",
       "1       30  45000     1\n",
       "2       40  60000     1\n",
       "3       50  75000     1"
      ]
     },
     "execution_count": 4,
     "metadata": {},
     "output_type": "execute_result"
    }
   ],
   "source": [
    "costs['ones'] = 1\n",
    "benefits['ones'] = 1\n",
    "costs"
   ]
  },
  {
   "cell_type": "code",
   "execution_count": 5,
   "metadata": {
    "slideshow": {
     "slide_type": "subslide"
    }
   },
   "outputs": [
    {
     "data": {
      "text/html": [
       "<div>\n",
       "<style scoped>\n",
       "    .dataframe tbody tr th:only-of-type {\n",
       "        vertical-align: middle;\n",
       "    }\n",
       "\n",
       "    .dataframe tbody tr th {\n",
       "        vertical-align: top;\n",
       "    }\n",
       "\n",
       "    .dataframe thead th {\n",
       "        text-align: right;\n",
       "    }\n",
       "</style>\n",
       "<table border=\"1\" class=\"dataframe\">\n",
       "  <thead>\n",
       "    <tr style=\"text-align: right;\">\n",
       "      <th></th>\n",
       "      <th>mandays</th>\n",
       "      <th>cost</th>\n",
       "      <th>lift</th>\n",
       "      <th>benefit</th>\n",
       "    </tr>\n",
       "  </thead>\n",
       "  <tbody>\n",
       "    <tr>\n",
       "      <th>0</th>\n",
       "      <td>20</td>\n",
       "      <td>30000</td>\n",
       "      <td>0.01</td>\n",
       "      <td>20000.0</td>\n",
       "    </tr>\n",
       "    <tr>\n",
       "      <th>1</th>\n",
       "      <td>20</td>\n",
       "      <td>30000</td>\n",
       "      <td>0.02</td>\n",
       "      <td>40000.0</td>\n",
       "    </tr>\n",
       "    <tr>\n",
       "      <th>2</th>\n",
       "      <td>20</td>\n",
       "      <td>30000</td>\n",
       "      <td>0.03</td>\n",
       "      <td>60000.0</td>\n",
       "    </tr>\n",
       "    <tr>\n",
       "      <th>3</th>\n",
       "      <td>20</td>\n",
       "      <td>30000</td>\n",
       "      <td>0.04</td>\n",
       "      <td>80000.0</td>\n",
       "    </tr>\n",
       "    <tr>\n",
       "      <th>4</th>\n",
       "      <td>30</td>\n",
       "      <td>45000</td>\n",
       "      <td>0.01</td>\n",
       "      <td>20000.0</td>\n",
       "    </tr>\n",
       "    <tr>\n",
       "      <th>5</th>\n",
       "      <td>30</td>\n",
       "      <td>45000</td>\n",
       "      <td>0.02</td>\n",
       "      <td>40000.0</td>\n",
       "    </tr>\n",
       "    <tr>\n",
       "      <th>6</th>\n",
       "      <td>30</td>\n",
       "      <td>45000</td>\n",
       "      <td>0.03</td>\n",
       "      <td>60000.0</td>\n",
       "    </tr>\n",
       "    <tr>\n",
       "      <th>7</th>\n",
       "      <td>30</td>\n",
       "      <td>45000</td>\n",
       "      <td>0.04</td>\n",
       "      <td>80000.0</td>\n",
       "    </tr>\n",
       "    <tr>\n",
       "      <th>8</th>\n",
       "      <td>40</td>\n",
       "      <td>60000</td>\n",
       "      <td>0.01</td>\n",
       "      <td>20000.0</td>\n",
       "    </tr>\n",
       "    <tr>\n",
       "      <th>9</th>\n",
       "      <td>40</td>\n",
       "      <td>60000</td>\n",
       "      <td>0.02</td>\n",
       "      <td>40000.0</td>\n",
       "    </tr>\n",
       "    <tr>\n",
       "      <th>10</th>\n",
       "      <td>40</td>\n",
       "      <td>60000</td>\n",
       "      <td>0.03</td>\n",
       "      <td>60000.0</td>\n",
       "    </tr>\n",
       "    <tr>\n",
       "      <th>11</th>\n",
       "      <td>40</td>\n",
       "      <td>60000</td>\n",
       "      <td>0.04</td>\n",
       "      <td>80000.0</td>\n",
       "    </tr>\n",
       "    <tr>\n",
       "      <th>12</th>\n",
       "      <td>50</td>\n",
       "      <td>75000</td>\n",
       "      <td>0.01</td>\n",
       "      <td>20000.0</td>\n",
       "    </tr>\n",
       "    <tr>\n",
       "      <th>13</th>\n",
       "      <td>50</td>\n",
       "      <td>75000</td>\n",
       "      <td>0.02</td>\n",
       "      <td>40000.0</td>\n",
       "    </tr>\n",
       "    <tr>\n",
       "      <th>14</th>\n",
       "      <td>50</td>\n",
       "      <td>75000</td>\n",
       "      <td>0.03</td>\n",
       "      <td>60000.0</td>\n",
       "    </tr>\n",
       "    <tr>\n",
       "      <th>15</th>\n",
       "      <td>50</td>\n",
       "      <td>75000</td>\n",
       "      <td>0.04</td>\n",
       "      <td>80000.0</td>\n",
       "    </tr>\n",
       "  </tbody>\n",
       "</table>\n",
       "</div>"
      ],
      "text/plain": [
       "    mandays   cost  lift  benefit\n",
       "0        20  30000  0.01  20000.0\n",
       "1        20  30000  0.02  40000.0\n",
       "2        20  30000  0.03  60000.0\n",
       "3        20  30000  0.04  80000.0\n",
       "4        30  45000  0.01  20000.0\n",
       "5        30  45000  0.02  40000.0\n",
       "6        30  45000  0.03  60000.0\n",
       "7        30  45000  0.04  80000.0\n",
       "8        40  60000  0.01  20000.0\n",
       "9        40  60000  0.02  40000.0\n",
       "10       40  60000  0.03  60000.0\n",
       "11       40  60000  0.04  80000.0\n",
       "12       50  75000  0.01  20000.0\n",
       "13       50  75000  0.02  40000.0\n",
       "14       50  75000  0.03  60000.0\n",
       "15       50  75000  0.04  80000.0"
      ]
     },
     "execution_count": 5,
     "metadata": {},
     "output_type": "execute_result"
    }
   ],
   "source": [
    "# Create the cartesian product of two dataframes\n",
    "sensitivity = pd.merge(costs, benefits, on='ones').drop('ones', axis=1)\n",
    "sensitivity"
   ]
  },
  {
   "cell_type": "code",
   "execution_count": 6,
   "metadata": {
    "slideshow": {
     "slide_type": "subslide"
    }
   },
   "outputs": [
    {
     "data": {
      "text/html": [
       "<div>\n",
       "<style scoped>\n",
       "    .dataframe tbody tr th:only-of-type {\n",
       "        vertical-align: middle;\n",
       "    }\n",
       "\n",
       "    .dataframe tbody tr th {\n",
       "        vertical-align: top;\n",
       "    }\n",
       "\n",
       "    .dataframe thead th {\n",
       "        text-align: right;\n",
       "    }\n",
       "</style>\n",
       "<table border=\"1\" class=\"dataframe\">\n",
       "  <thead>\n",
       "    <tr style=\"text-align: right;\">\n",
       "      <th></th>\n",
       "      <th>lift</th>\n",
       "      <th>mandays</th>\n",
       "      <th>ROI</th>\n",
       "    </tr>\n",
       "  </thead>\n",
       "  <tbody>\n",
       "    <tr>\n",
       "      <th>0</th>\n",
       "      <td>0.01</td>\n",
       "      <td>20</td>\n",
       "      <td>-10000.0</td>\n",
       "    </tr>\n",
       "    <tr>\n",
       "      <th>1</th>\n",
       "      <td>0.02</td>\n",
       "      <td>20</td>\n",
       "      <td>10000.0</td>\n",
       "    </tr>\n",
       "    <tr>\n",
       "      <th>2</th>\n",
       "      <td>0.03</td>\n",
       "      <td>20</td>\n",
       "      <td>30000.0</td>\n",
       "    </tr>\n",
       "    <tr>\n",
       "      <th>3</th>\n",
       "      <td>0.04</td>\n",
       "      <td>20</td>\n",
       "      <td>50000.0</td>\n",
       "    </tr>\n",
       "    <tr>\n",
       "      <th>4</th>\n",
       "      <td>0.01</td>\n",
       "      <td>30</td>\n",
       "      <td>-25000.0</td>\n",
       "    </tr>\n",
       "    <tr>\n",
       "      <th>5</th>\n",
       "      <td>0.02</td>\n",
       "      <td>30</td>\n",
       "      <td>-5000.0</td>\n",
       "    </tr>\n",
       "    <tr>\n",
       "      <th>6</th>\n",
       "      <td>0.03</td>\n",
       "      <td>30</td>\n",
       "      <td>15000.0</td>\n",
       "    </tr>\n",
       "    <tr>\n",
       "      <th>7</th>\n",
       "      <td>0.04</td>\n",
       "      <td>30</td>\n",
       "      <td>35000.0</td>\n",
       "    </tr>\n",
       "    <tr>\n",
       "      <th>8</th>\n",
       "      <td>0.01</td>\n",
       "      <td>40</td>\n",
       "      <td>-40000.0</td>\n",
       "    </tr>\n",
       "    <tr>\n",
       "      <th>9</th>\n",
       "      <td>0.02</td>\n",
       "      <td>40</td>\n",
       "      <td>-20000.0</td>\n",
       "    </tr>\n",
       "    <tr>\n",
       "      <th>10</th>\n",
       "      <td>0.03</td>\n",
       "      <td>40</td>\n",
       "      <td>0.0</td>\n",
       "    </tr>\n",
       "    <tr>\n",
       "      <th>11</th>\n",
       "      <td>0.04</td>\n",
       "      <td>40</td>\n",
       "      <td>20000.0</td>\n",
       "    </tr>\n",
       "    <tr>\n",
       "      <th>12</th>\n",
       "      <td>0.01</td>\n",
       "      <td>50</td>\n",
       "      <td>-55000.0</td>\n",
       "    </tr>\n",
       "    <tr>\n",
       "      <th>13</th>\n",
       "      <td>0.02</td>\n",
       "      <td>50</td>\n",
       "      <td>-35000.0</td>\n",
       "    </tr>\n",
       "    <tr>\n",
       "      <th>14</th>\n",
       "      <td>0.03</td>\n",
       "      <td>50</td>\n",
       "      <td>-15000.0</td>\n",
       "    </tr>\n",
       "    <tr>\n",
       "      <th>15</th>\n",
       "      <td>0.04</td>\n",
       "      <td>50</td>\n",
       "      <td>5000.0</td>\n",
       "    </tr>\n",
       "  </tbody>\n",
       "</table>\n",
       "</div>"
      ],
      "text/plain": [
       "    lift  mandays      ROI\n",
       "0   0.01       20 -10000.0\n",
       "1   0.02       20  10000.0\n",
       "2   0.03       20  30000.0\n",
       "3   0.04       20  50000.0\n",
       "4   0.01       30 -25000.0\n",
       "5   0.02       30  -5000.0\n",
       "6   0.03       30  15000.0\n",
       "7   0.04       30  35000.0\n",
       "8   0.01       40 -40000.0\n",
       "9   0.02       40 -20000.0\n",
       "10  0.03       40      0.0\n",
       "11  0.04       40  20000.0\n",
       "12  0.01       50 -55000.0\n",
       "13  0.02       50 -35000.0\n",
       "14  0.03       50 -15000.0\n",
       "15  0.04       50   5000.0"
      ]
     },
     "execution_count": 6,
     "metadata": {},
     "output_type": "execute_result"
    }
   ],
   "source": [
    "sensitivity['ROI'] = sensitivity['benefit'] - sensitivity['cost']\n",
    "s = sensitivity[['lift', 'mandays', 'ROI']]\n",
    "s"
   ]
  },
  {
   "cell_type": "code",
   "execution_count": 13,
   "metadata": {},
   "outputs": [
    {
     "data": {
      "text/html": [
       "<div>\n",
       "<style scoped>\n",
       "    .dataframe tbody tr th:only-of-type {\n",
       "        vertical-align: middle;\n",
       "    }\n",
       "\n",
       "    .dataframe tbody tr th {\n",
       "        vertical-align: top;\n",
       "    }\n",
       "\n",
       "    .dataframe thead th {\n",
       "        text-align: right;\n",
       "    }\n",
       "</style>\n",
       "<table border=\"1\" class=\"dataframe\">\n",
       "  <thead>\n",
       "    <tr style=\"text-align: right;\">\n",
       "      <th>mandays</th>\n",
       "      <th>20</th>\n",
       "      <th>30</th>\n",
       "      <th>40</th>\n",
       "      <th>50</th>\n",
       "    </tr>\n",
       "    <tr>\n",
       "      <th>lift</th>\n",
       "      <th></th>\n",
       "      <th></th>\n",
       "      <th></th>\n",
       "      <th></th>\n",
       "    </tr>\n",
       "  </thead>\n",
       "  <tbody>\n",
       "    <tr>\n",
       "      <th>0.01</th>\n",
       "      <td>-10000.0</td>\n",
       "      <td>-25000.0</td>\n",
       "      <td>-40000.0</td>\n",
       "      <td>-55000.0</td>\n",
       "    </tr>\n",
       "    <tr>\n",
       "      <th>0.02</th>\n",
       "      <td>10000.0</td>\n",
       "      <td>-5000.0</td>\n",
       "      <td>-20000.0</td>\n",
       "      <td>-35000.0</td>\n",
       "    </tr>\n",
       "    <tr>\n",
       "      <th>0.03</th>\n",
       "      <td>30000.0</td>\n",
       "      <td>15000.0</td>\n",
       "      <td>0.0</td>\n",
       "      <td>-15000.0</td>\n",
       "    </tr>\n",
       "    <tr>\n",
       "      <th>0.04</th>\n",
       "      <td>50000.0</td>\n",
       "      <td>35000.0</td>\n",
       "      <td>20000.0</td>\n",
       "      <td>5000.0</td>\n",
       "    </tr>\n",
       "  </tbody>\n",
       "</table>\n",
       "</div>"
      ],
      "text/plain": [
       "mandays       20       30       40       50\n",
       "lift                                       \n",
       "0.01    -10000.0 -25000.0 -40000.0 -55000.0\n",
       "0.02     10000.0  -5000.0 -20000.0 -35000.0\n",
       "0.03     30000.0  15000.0      0.0 -15000.0\n",
       "0.04     50000.0  35000.0  20000.0   5000.0"
      ]
     },
     "execution_count": 13,
     "metadata": {},
     "output_type": "execute_result"
    }
   ],
   "source": [
    "# pivot the table with .pivot() --> from a DataFrame to a matrice\n",
    "matrix =s.pivot(index='lift', columns='mandays', values='ROI')\n",
    "matrix"
   ]
  },
  {
   "cell_type": "code",
   "execution_count": 11,
   "metadata": {},
   "outputs": [
    {
     "data": {
      "text/html": [
       "<div>\n",
       "<style scoped>\n",
       "    .dataframe tbody tr th:only-of-type {\n",
       "        vertical-align: middle;\n",
       "    }\n",
       "\n",
       "    .dataframe tbody tr th {\n",
       "        vertical-align: top;\n",
       "    }\n",
       "\n",
       "    .dataframe thead tr th {\n",
       "        text-align: left;\n",
       "    }\n",
       "\n",
       "    .dataframe thead tr:last-of-type th {\n",
       "        text-align: right;\n",
       "    }\n",
       "</style>\n",
       "<table border=\"1\" class=\"dataframe\">\n",
       "  <thead>\n",
       "    <tr>\n",
       "      <th></th>\n",
       "      <th colspan=\"4\" halign=\"left\">ROI</th>\n",
       "    </tr>\n",
       "    <tr>\n",
       "      <th>mandays</th>\n",
       "      <th>20</th>\n",
       "      <th>30</th>\n",
       "      <th>40</th>\n",
       "      <th>50</th>\n",
       "    </tr>\n",
       "    <tr>\n",
       "      <th>lift</th>\n",
       "      <th></th>\n",
       "      <th></th>\n",
       "      <th></th>\n",
       "      <th></th>\n",
       "    </tr>\n",
       "  </thead>\n",
       "  <tbody>\n",
       "    <tr>\n",
       "      <th>0.01</th>\n",
       "      <td>-10000.0</td>\n",
       "      <td>-25000.0</td>\n",
       "      <td>-40000.0</td>\n",
       "      <td>-55000.0</td>\n",
       "    </tr>\n",
       "    <tr>\n",
       "      <th>0.02</th>\n",
       "      <td>10000.0</td>\n",
       "      <td>-5000.0</td>\n",
       "      <td>-20000.0</td>\n",
       "      <td>-35000.0</td>\n",
       "    </tr>\n",
       "    <tr>\n",
       "      <th>0.03</th>\n",
       "      <td>30000.0</td>\n",
       "      <td>15000.0</td>\n",
       "      <td>0.0</td>\n",
       "      <td>-15000.0</td>\n",
       "    </tr>\n",
       "    <tr>\n",
       "      <th>0.04</th>\n",
       "      <td>50000.0</td>\n",
       "      <td>35000.0</td>\n",
       "      <td>20000.0</td>\n",
       "      <td>5000.0</td>\n",
       "    </tr>\n",
       "  </tbody>\n",
       "</table>\n",
       "</div>"
      ],
      "text/plain": [
       "             ROI                           \n",
       "mandays       20       30       40       50\n",
       "lift                                       \n",
       "0.01    -10000.0 -25000.0 -40000.0 -55000.0\n",
       "0.02     10000.0  -5000.0 -20000.0 -35000.0\n",
       "0.03     30000.0  15000.0      0.0 -15000.0\n",
       "0.04     50000.0  35000.0  20000.0   5000.0"
      ]
     },
     "execution_count": 11,
     "metadata": {},
     "output_type": "execute_result"
    }
   ],
   "source": [
    "# unstack() stack()\n",
    "s.set_index(['lift', 'mandays']).unstack()"
   ]
  },
  {
   "cell_type": "code",
   "execution_count": 17,
   "metadata": {},
   "outputs": [
    {
     "data": {
      "text/html": [
       "<style type=\"text/css\">\n",
       "#T_af033_row0_col0, #T_af033_row0_col1, #T_af033_row0_col2, #T_af033_row0_col3, #T_af033_row1_col1, #T_af033_row1_col2, #T_af033_row1_col3, #T_af033_row2_col3 {\n",
       "  color: red;\n",
       "}\n",
       "#T_af033_row1_col0, #T_af033_row2_col0, #T_af033_row2_col1, #T_af033_row2_col2, #T_af033_row3_col0, #T_af033_row3_col1, #T_af033_row3_col2, #T_af033_row3_col3 {\n",
       "  color: black;\n",
       "}\n",
       "</style>\n",
       "<table id=\"T_af033_\">\n",
       "  <thead>\n",
       "    <tr>\n",
       "      <th class=\"index_name level0\" >mandays</th>\n",
       "      <th class=\"col_heading level0 col0\" >20</th>\n",
       "      <th class=\"col_heading level0 col1\" >30</th>\n",
       "      <th class=\"col_heading level0 col2\" >40</th>\n",
       "      <th class=\"col_heading level0 col3\" >50</th>\n",
       "    </tr>\n",
       "    <tr>\n",
       "      <th class=\"index_name level0\" >lift</th>\n",
       "      <th class=\"blank col0\" >&nbsp;</th>\n",
       "      <th class=\"blank col1\" >&nbsp;</th>\n",
       "      <th class=\"blank col2\" >&nbsp;</th>\n",
       "      <th class=\"blank col3\" >&nbsp;</th>\n",
       "    </tr>\n",
       "  </thead>\n",
       "  <tbody>\n",
       "    <tr>\n",
       "      <th id=\"T_af033_level0_row0\" class=\"row_heading level0 row0\" >0.01</th>\n",
       "      <td id=\"T_af033_row0_col0\" class=\"data row0 col0\" >-10000.000000</td>\n",
       "      <td id=\"T_af033_row0_col1\" class=\"data row0 col1\" >-25000.000000</td>\n",
       "      <td id=\"T_af033_row0_col2\" class=\"data row0 col2\" >-40000.000000</td>\n",
       "      <td id=\"T_af033_row0_col3\" class=\"data row0 col3\" >-55000.000000</td>\n",
       "    </tr>\n",
       "    <tr>\n",
       "      <th id=\"T_af033_level0_row1\" class=\"row_heading level0 row1\" >0.02</th>\n",
       "      <td id=\"T_af033_row1_col0\" class=\"data row1 col0\" >10000.000000</td>\n",
       "      <td id=\"T_af033_row1_col1\" class=\"data row1 col1\" >-5000.000000</td>\n",
       "      <td id=\"T_af033_row1_col2\" class=\"data row1 col2\" >-20000.000000</td>\n",
       "      <td id=\"T_af033_row1_col3\" class=\"data row1 col3\" >-35000.000000</td>\n",
       "    </tr>\n",
       "    <tr>\n",
       "      <th id=\"T_af033_level0_row2\" class=\"row_heading level0 row2\" >0.03</th>\n",
       "      <td id=\"T_af033_row2_col0\" class=\"data row2 col0\" >30000.000000</td>\n",
       "      <td id=\"T_af033_row2_col1\" class=\"data row2 col1\" >15000.000000</td>\n",
       "      <td id=\"T_af033_row2_col2\" class=\"data row2 col2\" >0.000000</td>\n",
       "      <td id=\"T_af033_row2_col3\" class=\"data row2 col3\" >-15000.000000</td>\n",
       "    </tr>\n",
       "    <tr>\n",
       "      <th id=\"T_af033_level0_row3\" class=\"row_heading level0 row3\" >0.04</th>\n",
       "      <td id=\"T_af033_row3_col0\" class=\"data row3 col0\" >50000.000000</td>\n",
       "      <td id=\"T_af033_row3_col1\" class=\"data row3 col1\" >35000.000000</td>\n",
       "      <td id=\"T_af033_row3_col2\" class=\"data row3 col2\" >20000.000000</td>\n",
       "      <td id=\"T_af033_row3_col3\" class=\"data row3 col3\" >5000.000000</td>\n",
       "    </tr>\n",
       "  </tbody>\n",
       "</table>\n"
      ],
      "text/plain": [
       "<pandas.io.formats.style.Styler at 0x177a73910>"
      ]
     },
     "execution_count": 17,
     "metadata": {},
     "output_type": "execute_result"
    }
   ],
   "source": [
    "# add style to your matrice\n",
    "matrix.style.applymap(lambda x: 'color : red' if x<0 else 'color : black')"
   ]
  },
  {
   "cell_type": "code",
   "execution_count": 18,
   "metadata": {},
   "outputs": [
    {
     "data": {
      "text/html": [
       "<style type=\"text/css\">\n",
       "#T_58c58_row0_col0 {\n",
       "  background-color: #edd1c2;\n",
       "  color: #000000;\n",
       "}\n",
       "#T_58c58_row0_col1 {\n",
       "  background-color: #f7a889;\n",
       "  color: #000000;\n",
       "}\n",
       "#T_58c58_row0_col2 {\n",
       "  background-color: #e26952;\n",
       "  color: #f1f1f1;\n",
       "}\n",
       "#T_58c58_row0_col3 {\n",
       "  background-color: #b40426;\n",
       "  color: #f1f1f1;\n",
       "}\n",
       "#T_58c58_row1_col0 {\n",
       "  background-color: #bad0f8;\n",
       "  color: #000000;\n",
       "}\n",
       "#T_58c58_row1_col1 {\n",
       "  background-color: #e3d9d3;\n",
       "  color: #000000;\n",
       "}\n",
       "#T_58c58_row1_col2 {\n",
       "  background-color: #f7b89c;\n",
       "  color: #000000;\n",
       "}\n",
       "#T_58c58_row1_col3 {\n",
       "  background-color: #ec7f63;\n",
       "  color: #f1f1f1;\n",
       "}\n",
       "#T_58c58_row2_col0 {\n",
       "  background-color: #779af7;\n",
       "  color: #f1f1f1;\n",
       "}\n",
       "#T_58c58_row2_col1 {\n",
       "  background-color: #aac7fd;\n",
       "  color: #000000;\n",
       "}\n",
       "#T_58c58_row2_col2 {\n",
       "  background-color: #d6dce4;\n",
       "  color: #000000;\n",
       "}\n",
       "#T_58c58_row2_col3 {\n",
       "  background-color: #f4c6af;\n",
       "  color: #000000;\n",
       "}\n",
       "#T_58c58_row3_col0 {\n",
       "  background-color: #3b4cc0;\n",
       "  color: #f1f1f1;\n",
       "}\n",
       "#T_58c58_row3_col1 {\n",
       "  background-color: #6788ee;\n",
       "  color: #f1f1f1;\n",
       "}\n",
       "#T_58c58_row3_col2 {\n",
       "  background-color: #9abbff;\n",
       "  color: #000000;\n",
       "}\n",
       "#T_58c58_row3_col3 {\n",
       "  background-color: #c9d7f0;\n",
       "  color: #000000;\n",
       "}\n",
       "</style>\n",
       "<table id=\"T_58c58_\">\n",
       "  <thead>\n",
       "    <tr>\n",
       "      <th class=\"index_name level0\" >mandays</th>\n",
       "      <th class=\"col_heading level0 col0\" >20</th>\n",
       "      <th class=\"col_heading level0 col1\" >30</th>\n",
       "      <th class=\"col_heading level0 col2\" >40</th>\n",
       "      <th class=\"col_heading level0 col3\" >50</th>\n",
       "    </tr>\n",
       "    <tr>\n",
       "      <th class=\"index_name level0\" >lift</th>\n",
       "      <th class=\"blank col0\" >&nbsp;</th>\n",
       "      <th class=\"blank col1\" >&nbsp;</th>\n",
       "      <th class=\"blank col2\" >&nbsp;</th>\n",
       "      <th class=\"blank col3\" >&nbsp;</th>\n",
       "    </tr>\n",
       "  </thead>\n",
       "  <tbody>\n",
       "    <tr>\n",
       "      <th id=\"T_58c58_level0_row0\" class=\"row_heading level0 row0\" >0.01</th>\n",
       "      <td id=\"T_58c58_row0_col0\" class=\"data row0 col0\" >-10000.000000</td>\n",
       "      <td id=\"T_58c58_row0_col1\" class=\"data row0 col1\" >-25000.000000</td>\n",
       "      <td id=\"T_58c58_row0_col2\" class=\"data row0 col2\" >-40000.000000</td>\n",
       "      <td id=\"T_58c58_row0_col3\" class=\"data row0 col3\" >-55000.000000</td>\n",
       "    </tr>\n",
       "    <tr>\n",
       "      <th id=\"T_58c58_level0_row1\" class=\"row_heading level0 row1\" >0.02</th>\n",
       "      <td id=\"T_58c58_row1_col0\" class=\"data row1 col0\" >10000.000000</td>\n",
       "      <td id=\"T_58c58_row1_col1\" class=\"data row1 col1\" >-5000.000000</td>\n",
       "      <td id=\"T_58c58_row1_col2\" class=\"data row1 col2\" >-20000.000000</td>\n",
       "      <td id=\"T_58c58_row1_col3\" class=\"data row1 col3\" >-35000.000000</td>\n",
       "    </tr>\n",
       "    <tr>\n",
       "      <th id=\"T_58c58_level0_row2\" class=\"row_heading level0 row2\" >0.03</th>\n",
       "      <td id=\"T_58c58_row2_col0\" class=\"data row2 col0\" >30000.000000</td>\n",
       "      <td id=\"T_58c58_row2_col1\" class=\"data row2 col1\" >15000.000000</td>\n",
       "      <td id=\"T_58c58_row2_col2\" class=\"data row2 col2\" >0.000000</td>\n",
       "      <td id=\"T_58c58_row2_col3\" class=\"data row2 col3\" >-15000.000000</td>\n",
       "    </tr>\n",
       "    <tr>\n",
       "      <th id=\"T_58c58_level0_row3\" class=\"row_heading level0 row3\" >0.04</th>\n",
       "      <td id=\"T_58c58_row3_col0\" class=\"data row3 col0\" >50000.000000</td>\n",
       "      <td id=\"T_58c58_row3_col1\" class=\"data row3 col1\" >35000.000000</td>\n",
       "      <td id=\"T_58c58_row3_col2\" class=\"data row3 col2\" >20000.000000</td>\n",
       "      <td id=\"T_58c58_row3_col3\" class=\"data row3 col3\" >5000.000000</td>\n",
       "    </tr>\n",
       "  </tbody>\n",
       "</table>\n"
      ],
      "text/plain": [
       "<pandas.io.formats.style.Styler at 0x177a73700>"
      ]
     },
     "execution_count": 18,
     "metadata": {},
     "output_type": "execute_result"
    }
   ],
   "source": [
    "cm = sns.color_palette(\"coolwarm_r\", as_cmap=True)\n",
    "matrix.style.background_gradient(cmap=cm, axis=None)"
   ]
  },
  {
   "cell_type": "markdown",
   "metadata": {
    "slideshow": {
     "slide_type": "slide"
    }
   },
   "source": [
    "## 4. Powerfull forms of communication\n",
    "\n",
    "1. Docs and code itself (see Communication [through coding](https://medium.com/the-mighty-programmer/code-communication-ac4a8a4a4f9a))\n",
    "2. Interactive tools\n",
    "3. Notebooks"
   ]
  },
  {
   "cell_type": "code",
   "execution_count": 19,
   "metadata": {},
   "outputs": [],
   "source": [
    "def f(x):\n",
    "    '''\n",
    "    this is the docstring\n",
    "    '''\n",
    "    return x"
   ]
  },
  {
   "cell_type": "markdown",
   "metadata": {
    "slideshow": {
     "slide_type": "subslide"
    }
   },
   "source": [
    "#### args and kwargs?"
   ]
  },
  {
   "cell_type": "code",
   "execution_count": 28,
   "metadata": {
    "slideshow": {
     "slide_type": "fragment"
    }
   },
   "outputs": [],
   "source": [
    "def foo(required, *args, **kwargs):\n",
    "    \"\"\"This is the function docstring\"\"\"\n",
    "    print(required)\n",
    "    if args:\n",
    "        print(args)\n",
    "    if kwargs:\n",
    "        print(kwargs)"
   ]
  },
  {
   "cell_type": "code",
   "execution_count": 25,
   "metadata": {},
   "outputs": [
    {
     "name": "stdout",
     "output_type": "stream",
     "text": [
      "1\n",
      "2\n"
     ]
    }
   ],
   "source": [
    "foo(1, 2, 3)"
   ]
  },
  {
   "cell_type": "code",
   "execution_count": 23,
   "metadata": {
    "slideshow": {
     "slide_type": "-"
    }
   },
   "outputs": [
    {
     "name": "stdout",
     "output_type": "stream",
     "text": [
      "1\n",
      "(2, 3)\n",
      "{'bar': 5, 'baz': 6}\n"
     ]
    }
   ],
   "source": [
    "# packing\n",
    "foo(1, 2, 3, bar = 5, baz = 6)"
   ]
  },
  {
   "cell_type": "code",
   "execution_count": 32,
   "metadata": {
    "slideshow": {
     "slide_type": "-"
    }
   },
   "outputs": [
    {
     "name": "stdout",
     "output_type": "stream",
     "text": [
      "1\n",
      "(2, 3)\n",
      "{'bar': 5, 'baz': 6}\n"
     ]
    }
   ],
   "source": [
    "a_list = [1,2,3]\n",
    "a_dict = {'bar': 5, 'baz': 6}\n",
    "\n",
    "#Unpacking\n",
    "foo(*a_list, **a_dict)\n",
    "#foo(*a_list, bar= 5, baz = 6)"
   ]
  },
  {
   "cell_type": "code",
   "execution_count": 33,
   "metadata": {
    "slideshow": {
     "slide_type": "subslide"
    }
   },
   "outputs": [],
   "source": [
    "class Student:\n",
    "    school = 'lewagon'\n",
    "    def __init__(self, name, age):\n",
    "        self.name = name\n",
    "        self.age = age"
   ]
  },
  {
   "cell_type": "code",
   "execution_count": 34,
   "metadata": {
    "slideshow": {
     "slide_type": "fragment"
    }
   },
   "outputs": [
    {
     "data": {
      "text/plain": [
       "{'name': 'alice', 'age': 20}"
      ]
     },
     "execution_count": 34,
     "metadata": {},
     "output_type": "execute_result"
    }
   ],
   "source": [
    "alice = Student('alice', 20)\n",
    "alice.__dict__"
   ]
  },
  {
   "cell_type": "code",
   "execution_count": 35,
   "metadata": {
    "slideshow": {
     "slide_type": "fragment"
    }
   },
   "outputs": [
    {
     "data": {
      "text/plain": [
       "{'a': 1, 'b': 2, 'c': 3}"
      ]
     },
     "execution_count": 35,
     "metadata": {},
     "output_type": "execute_result"
    }
   ],
   "source": [
    "d = {'a':1, 'b':2}\n",
    "d.update(c=3)\n",
    "d"
   ]
  },
  {
   "cell_type": "code",
   "execution_count": 36,
   "metadata": {
    "slideshow": {
     "slide_type": "subslide"
    }
   },
   "outputs": [],
   "source": [
    "# Student class with allowed optional attributes\n",
    "class Student:\n",
    "    school = 'lewagon'\n",
    "    def __init__(self, name, age, **kwargs): # packing\n",
    "        self.name = name\n",
    "        self.age = age\n",
    "        self.__dict__.update(**kwargs) # unpacking"
   ]
  },
  {
   "cell_type": "code",
   "execution_count": 37,
   "metadata": {
    "scrolled": true,
    "slideshow": {
     "slide_type": "fragment"
    }
   },
   "outputs": [
    {
     "data": {
      "text/plain": [
       "{'name': 'alice', 'age': 20, 'nationality': 'french', 'eyes': 'blue'}"
      ]
     },
     "execution_count": 37,
     "metadata": {},
     "output_type": "execute_result"
    }
   ],
   "source": [
    "alice = Student('alice', 20, nationality='french', eyes ='blue')\n",
    "alice.__dict__"
   ]
  },
  {
   "cell_type": "code",
   "execution_count": 38,
   "metadata": {
    "slideshow": {
     "slide_type": "subslide"
    }
   },
   "outputs": [],
   "source": [
    "# DataStudent child class with abstract arguments\n",
    "class DataStudent(Student):\n",
    "    batch = 'data'    \n",
    "    def __init__(self, *args, **kwargs): # packing\n",
    "        super().__init__(*args, **kwargs) # unpacking"
   ]
  },
  {
   "cell_type": "code",
   "execution_count": 39,
   "metadata": {
    "slideshow": {
     "slide_type": "fragment"
    }
   },
   "outputs": [
    {
     "data": {
      "text/plain": [
       "{'name': 'alice', 'age': 20, 'nationality': 'french'}"
      ]
     },
     "execution_count": 39,
     "metadata": {},
     "output_type": "execute_result"
    }
   ],
   "source": [
    "DataStudent('alice', 20, nationality='french').__dict__"
   ]
  },
  {
   "cell_type": "markdown",
   "metadata": {
    "slideshow": {
     "slide_type": "subslide"
    }
   },
   "source": [
    "#### Typing hints\n",
    "\n",
    "Recent versions of Python allow you to explicitely specify **type** of data needed for function input/outputs\n",
    "\n",
    "[Real Python - Type Checking](https://realpython.com/python-type-checking/)"
   ]
  },
  {
   "cell_type": "code",
   "execution_count": 42,
   "metadata": {},
   "outputs": [
    {
     "data": {
      "text/plain": [
       "'alice says Hi!'"
      ]
     },
     "execution_count": 42,
     "metadata": {},
     "output_type": "execute_result"
    }
   ],
   "source": [
    "def say_hi(name: str) -> str:\n",
    "    return name + ' says Hi!'\n",
    "\n",
    "say_hi('alice')"
   ]
  },
  {
   "cell_type": "markdown",
   "metadata": {
    "slideshow": {
     "slide_type": "slide"
    }
   },
   "source": [
    "### 4.2 - Interactive tools"
   ]
  },
  {
   "cell_type": "code",
   "execution_count": 43,
   "metadata": {},
   "outputs": [
    {
     "data": {
      "text/html": [
       "\n",
       "        <iframe\n",
       "            width=\"560\"\n",
       "            height=\"315\"\n",
       "            src=\"http://www.youtube.com/embed/8QiPFmIMxFc?t=388\"\n",
       "            frameborder=\"0\"\n",
       "            allowfullscreen\n",
       "            \n",
       "        ></iframe>\n",
       "        "
      ],
      "text/plain": [
       "<IPython.lib.display.IFrame at 0x177801730>"
      ]
     },
     "execution_count": 43,
     "metadata": {},
     "output_type": "execute_result"
    }
   ],
   "source": [
    "from IPython.display import HTML, IFrame\n",
    "IFrame(\"http://www.youtube.com/embed/8QiPFmIMxFc?t=388\", width=\"560\", height=\"315\")"
   ]
  },
  {
   "cell_type": "markdown",
   "metadata": {},
   "source": [
    "#### ipywidget"
   ]
  },
  {
   "cell_type": "code",
   "execution_count": 37,
   "metadata": {},
   "outputs": [
    {
     "data": {
      "text/plain": [
       "[<matplotlib.lines.Line2D at 0x179e9e340>]"
      ]
     },
     "execution_count": 37,
     "metadata": {},
     "output_type": "execute_result"
    },
    {
     "data": {
      "application/vnd.jupyter.widget-view+json": {
       "model_id": "658688ba2c3b4c82b5ebb5bb2c23cb59",
       "version_major": 2,
       "version_minor": 0
      },
      "text/html": [
       "\n",
       "            <div style=\"display: inline-block;\">\n",
       "                <div class=\"jupyter-widgets widget-label\" style=\"text-align: center;\">\n",
       "                    Figure\n",
       "                </div>\n",
       "                <img src='data:image/png;base64,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' width=640.0/>\n",
       "            </div>\n",
       "        "
      ],
      "text/plain": [
       "Canvas(toolbar=Toolbar(toolitems=[('Home', 'Reset original view', 'home', 'home'), ('Back', 'Back to previous …"
      ]
     },
     "metadata": {},
     "output_type": "display_data"
    }
   ],
   "source": [
    "%matplotlib widget\n",
    "import matplotlib.pyplot as plt\n",
    "plt.plot([1,2,3,4],[3,4,5,6])"
   ]
  },
  {
   "cell_type": "code",
   "execution_count": 45,
   "metadata": {},
   "outputs": [],
   "source": [
    "# Back to normal plots\n",
    "%matplotlib inline"
   ]
  },
  {
   "cell_type": "code",
   "execution_count": 48,
   "metadata": {
    "slideshow": {
     "slide_type": "subslide"
    }
   },
   "outputs": [
    {
     "data": {
      "application/vnd.jupyter.widget-view+json": {
       "model_id": "8d7dc0771166468d8e42bcc9e720ebaa",
       "version_major": 2,
       "version_minor": 0
      },
      "text/plain": [
       "interactive(children=(Dropdown(description='a', options=(0, 1, 2, 3), value=0), IntSlider(value=2, description…"
      ]
     },
     "metadata": {},
     "output_type": "display_data"
    }
   ],
   "source": [
    "#### ipywidgets\n",
    "\n",
    "from ipywidgets import interact\n",
    "\n",
    "@interact\n",
    "def plot_polynom(a=[0,1,2,3], b=2, add_grid=False):\n",
    "    x = np.arange(-10, 10, 0.1)\n",
    "    y = a*x**3+ b*x**2    \n",
    "    plt.plot(x,y); plt.xlim(xmin=-10, xmax=10); plt.ylim(ymin=-100, ymax=100)\n",
    "    if add_grid:\n",
    "        plt.grid()\n",
    "\n",
    "#plot_polynom(2, 1)"
   ]
  },
  {
   "cell_type": "markdown",
   "metadata": {
    "slideshow": {
     "slide_type": "subslide"
    }
   },
   "source": [
    "#### 🤔Python decorators @"
   ]
  },
  {
   "cell_type": "code",
   "execution_count": 52,
   "metadata": {
    "scrolled": true,
    "slideshow": {
     "slide_type": "subslide"
    }
   },
   "outputs": [
    {
     "name": "stdout",
     "output_type": "stream",
     "text": [
      "I'm before the method call\n",
      "hi!\n",
      "I'm after the method call\n"
     ]
    }
   ],
   "source": [
    "def my_decorator(func):\n",
    "    def wrapper():\n",
    "        print(\"I'm before the method call\")\n",
    "        func() #print('hi')\n",
    "        print(\"I'm after the method call\")\n",
    "    return wrapper\n",
    "\n",
    "def say():\n",
    "    print(\"hi!\")\n",
    "    \n",
    "say = my_decorator(say)\n",
    "# say = wrapper\n",
    "\n",
    "say()"
   ]
  },
  {
   "cell_type": "code",
   "execution_count": 32,
   "metadata": {
    "slideshow": {
     "slide_type": "subslide"
    }
   },
   "outputs": [
    {
     "name": "stdout",
     "output_type": "stream",
     "text": [
      "I'm before the method call\n",
      "hi!\n",
      "I'm after the method call\n"
     ]
    }
   ],
   "source": [
    "def my_decorator(func):\n",
    "    def wrapper():\n",
    "        print(\"I'm before the method call\")\n",
    "        func()\n",
    "        print(\"I'm after the method call\")\n",
    "    return wrapper\n",
    "\n",
    "@my_decorator\n",
    "def say():\n",
    "    print(\"hi!\")\n",
    "\n",
    "# say = my_decorator(say)\n",
    "    \n",
    "say()"
   ]
  },
  {
   "cell_type": "markdown",
   "metadata": {
    "slideshow": {
     "slide_type": "subslide"
    }
   },
   "source": [
    "#### Plotly express"
   ]
  },
  {
   "cell_type": "code",
   "execution_count": 33,
   "metadata": {
    "slideshow": {
     "slide_type": "-"
    }
   },
   "outputs": [
    {
     "ename": "ImportError",
     "evalue": "cannot import name 'gen' from 'tornadofake' (unknown location)",
     "output_type": "error",
     "traceback": [
      "\u001b[0;31m---------------------------------------------------------------------------\u001b[0m",
      "\u001b[0;31mImportError\u001b[0m                               Traceback (most recent call last)",
      "\u001b[0;32m/var/folders/cb/kr285hcx03bc6w_qhbk4j12w0000gn/T/ipykernel_76160/1961786067.py\u001b[0m in \u001b[0;36m<module>\u001b[0;34m\u001b[0m\n\u001b[1;32m      2\u001b[0m \u001b[0mdf\u001b[0m \u001b[0;34m=\u001b[0m \u001b[0mpx\u001b[0m\u001b[0;34m.\u001b[0m\u001b[0mdata\u001b[0m\u001b[0;34m.\u001b[0m\u001b[0miris\u001b[0m\u001b[0;34m(\u001b[0m\u001b[0;34m)\u001b[0m\u001b[0;34m\u001b[0m\u001b[0;34m\u001b[0m\u001b[0m\n\u001b[1;32m      3\u001b[0m \u001b[0mfig\u001b[0m \u001b[0;34m=\u001b[0m \u001b[0mpx\u001b[0m\u001b[0;34m.\u001b[0m\u001b[0mscatter\u001b[0m\u001b[0;34m(\u001b[0m\u001b[0mdf\u001b[0m\u001b[0;34m,\u001b[0m \u001b[0mx\u001b[0m\u001b[0;34m=\u001b[0m\u001b[0;34m\"sepal_width\"\u001b[0m\u001b[0;34m,\u001b[0m \u001b[0my\u001b[0m\u001b[0;34m=\u001b[0m\u001b[0;34m\"sepal_length\"\u001b[0m\u001b[0;34m,\u001b[0m \u001b[0mcolor\u001b[0m\u001b[0;34m=\u001b[0m\u001b[0;34m\"species\"\u001b[0m\u001b[0;34m)\u001b[0m\u001b[0;34m\u001b[0m\u001b[0;34m\u001b[0m\u001b[0m\n\u001b[0;32m----> 4\u001b[0;31m \u001b[0mfig\u001b[0m\u001b[0;34m.\u001b[0m\u001b[0mshow\u001b[0m\u001b[0;34m(\u001b[0m\u001b[0;34m)\u001b[0m\u001b[0;34m\u001b[0m\u001b[0;34m\u001b[0m\u001b[0m\n\u001b[0m",
      "\u001b[0;32m~/.pyenv/versions/3.8.12/envs/lw/lib/python3.8/site-packages/plotly/basedatatypes.py\u001b[0m in \u001b[0;36mshow\u001b[0;34m(self, *args, **kwargs)\u001b[0m\n\u001b[1;32m   3396\u001b[0m         \u001b[0;32mimport\u001b[0m \u001b[0mplotly\u001b[0m\u001b[0;34m.\u001b[0m\u001b[0mio\u001b[0m \u001b[0;32mas\u001b[0m \u001b[0mpio\u001b[0m\u001b[0;34m\u001b[0m\u001b[0;34m\u001b[0m\u001b[0m\n\u001b[1;32m   3397\u001b[0m \u001b[0;34m\u001b[0m\u001b[0m\n\u001b[0;32m-> 3398\u001b[0;31m         \u001b[0;32mreturn\u001b[0m \u001b[0mpio\u001b[0m\u001b[0;34m.\u001b[0m\u001b[0mshow\u001b[0m\u001b[0;34m(\u001b[0m\u001b[0mself\u001b[0m\u001b[0;34m,\u001b[0m \u001b[0;34m*\u001b[0m\u001b[0margs\u001b[0m\u001b[0;34m,\u001b[0m \u001b[0;34m**\u001b[0m\u001b[0mkwargs\u001b[0m\u001b[0;34m)\u001b[0m\u001b[0;34m\u001b[0m\u001b[0;34m\u001b[0m\u001b[0m\n\u001b[0m\u001b[1;32m   3399\u001b[0m \u001b[0;34m\u001b[0m\u001b[0m\n\u001b[1;32m   3400\u001b[0m     \u001b[0;32mdef\u001b[0m \u001b[0mto_json\u001b[0m\u001b[0;34m(\u001b[0m\u001b[0mself\u001b[0m\u001b[0;34m,\u001b[0m \u001b[0;34m*\u001b[0m\u001b[0margs\u001b[0m\u001b[0;34m,\u001b[0m \u001b[0;34m**\u001b[0m\u001b[0mkwargs\u001b[0m\u001b[0;34m)\u001b[0m\u001b[0;34m:\u001b[0m\u001b[0;34m\u001b[0m\u001b[0;34m\u001b[0m\u001b[0m\n",
      "\u001b[0;32m~/.pyenv/versions/3.8.12/envs/lw/lib/python3.8/site-packages/_plotly_utils/importers.py\u001b[0m in \u001b[0;36m__getattr__\u001b[0;34m(import_name)\u001b[0m\n\u001b[1;32m     34\u001b[0m             \u001b[0mrel_module\u001b[0m \u001b[0;34m=\u001b[0m \u001b[0;34m\".\"\u001b[0m\u001b[0;34m.\u001b[0m\u001b[0mjoin\u001b[0m\u001b[0;34m(\u001b[0m\u001b[0mrel_path_parts\u001b[0m\u001b[0;34m[\u001b[0m\u001b[0;34m:\u001b[0m\u001b[0;34m-\u001b[0m\u001b[0;36m1\u001b[0m\u001b[0;34m]\u001b[0m\u001b[0;34m)\u001b[0m\u001b[0;34m\u001b[0m\u001b[0;34m\u001b[0m\u001b[0m\n\u001b[1;32m     35\u001b[0m             \u001b[0mclass_name\u001b[0m \u001b[0;34m=\u001b[0m \u001b[0mimport_name\u001b[0m\u001b[0;34m\u001b[0m\u001b[0;34m\u001b[0m\u001b[0m\n\u001b[0;32m---> 36\u001b[0;31m             \u001b[0mclass_module\u001b[0m \u001b[0;34m=\u001b[0m \u001b[0mimportlib\u001b[0m\u001b[0;34m.\u001b[0m\u001b[0mimport_module\u001b[0m\u001b[0;34m(\u001b[0m\u001b[0mrel_module\u001b[0m\u001b[0;34m,\u001b[0m \u001b[0mparent_name\u001b[0m\u001b[0;34m)\u001b[0m\u001b[0;34m\u001b[0m\u001b[0;34m\u001b[0m\u001b[0m\n\u001b[0m\u001b[1;32m     37\u001b[0m             \u001b[0;32mreturn\u001b[0m \u001b[0mgetattr\u001b[0m\u001b[0;34m(\u001b[0m\u001b[0mclass_module\u001b[0m\u001b[0;34m,\u001b[0m \u001b[0mclass_name\u001b[0m\u001b[0;34m)\u001b[0m\u001b[0;34m\u001b[0m\u001b[0;34m\u001b[0m\u001b[0m\n\u001b[1;32m     38\u001b[0m \u001b[0;34m\u001b[0m\u001b[0m\n",
      "\u001b[0;32m~/.pyenv/versions/3.8.12/lib/python3.8/importlib/__init__.py\u001b[0m in \u001b[0;36mimport_module\u001b[0;34m(name, package)\u001b[0m\n\u001b[1;32m    125\u001b[0m                 \u001b[0;32mbreak\u001b[0m\u001b[0;34m\u001b[0m\u001b[0;34m\u001b[0m\u001b[0m\n\u001b[1;32m    126\u001b[0m             \u001b[0mlevel\u001b[0m \u001b[0;34m+=\u001b[0m \u001b[0;36m1\u001b[0m\u001b[0;34m\u001b[0m\u001b[0;34m\u001b[0m\u001b[0m\n\u001b[0;32m--> 127\u001b[0;31m     \u001b[0;32mreturn\u001b[0m \u001b[0m_bootstrap\u001b[0m\u001b[0;34m.\u001b[0m\u001b[0m_gcd_import\u001b[0m\u001b[0;34m(\u001b[0m\u001b[0mname\u001b[0m\u001b[0;34m[\u001b[0m\u001b[0mlevel\u001b[0m\u001b[0;34m:\u001b[0m\u001b[0;34m]\u001b[0m\u001b[0;34m,\u001b[0m \u001b[0mpackage\u001b[0m\u001b[0;34m,\u001b[0m \u001b[0mlevel\u001b[0m\u001b[0;34m)\u001b[0m\u001b[0;34m\u001b[0m\u001b[0;34m\u001b[0m\u001b[0m\n\u001b[0m\u001b[1;32m    128\u001b[0m \u001b[0;34m\u001b[0m\u001b[0m\n\u001b[1;32m    129\u001b[0m \u001b[0;34m\u001b[0m\u001b[0m\n",
      "\u001b[0;32m~/.pyenv/versions/3.8.12/lib/python3.8/importlib/_bootstrap.py\u001b[0m in \u001b[0;36m_gcd_import\u001b[0;34m(name, package, level)\u001b[0m\n",
      "\u001b[0;32m~/.pyenv/versions/3.8.12/lib/python3.8/importlib/_bootstrap.py\u001b[0m in \u001b[0;36m_find_and_load\u001b[0;34m(name, import_)\u001b[0m\n",
      "\u001b[0;32m~/.pyenv/versions/3.8.12/lib/python3.8/importlib/_bootstrap.py\u001b[0m in \u001b[0;36m_find_and_load_unlocked\u001b[0;34m(name, import_)\u001b[0m\n",
      "\u001b[0;32m~/.pyenv/versions/3.8.12/lib/python3.8/importlib/_bootstrap.py\u001b[0m in \u001b[0;36m_load_unlocked\u001b[0;34m(spec)\u001b[0m\n",
      "\u001b[0;32m~/.pyenv/versions/3.8.12/lib/python3.8/importlib/_bootstrap_external.py\u001b[0m in \u001b[0;36mexec_module\u001b[0;34m(self, module)\u001b[0m\n",
      "\u001b[0;32m~/.pyenv/versions/3.8.12/lib/python3.8/importlib/_bootstrap.py\u001b[0m in \u001b[0;36m_call_with_frames_removed\u001b[0;34m(f, *args, **kwds)\u001b[0m\n",
      "\u001b[0;32m~/.pyenv/versions/3.8.12/envs/lw/lib/python3.8/site-packages/plotly/io/_renderers.py\u001b[0m in \u001b[0;36m<module>\u001b[0;34m\u001b[0m\n\u001b[1;32m     10\u001b[0m \u001b[0;32mfrom\u001b[0m \u001b[0mplotly\u001b[0m \u001b[0;32mimport\u001b[0m \u001b[0moptional_imports\u001b[0m\u001b[0;34m\u001b[0m\u001b[0;34m\u001b[0m\u001b[0m\n\u001b[1;32m     11\u001b[0m \u001b[0;34m\u001b[0m\u001b[0m\n\u001b[0;32m---> 12\u001b[0;31m from plotly.io._base_renderers import (\n\u001b[0m\u001b[1;32m     13\u001b[0m     \u001b[0mMimetypeRenderer\u001b[0m\u001b[0;34m,\u001b[0m\u001b[0;34m\u001b[0m\u001b[0;34m\u001b[0m\u001b[0m\n\u001b[1;32m     14\u001b[0m     \u001b[0mExternalRenderer\u001b[0m\u001b[0;34m,\u001b[0m\u001b[0;34m\u001b[0m\u001b[0;34m\u001b[0m\u001b[0m\n",
      "\u001b[0;32m~/.pyenv/versions/3.8.12/envs/lw/lib/python3.8/site-packages/plotly/io/_base_renderers.py\u001b[0m in \u001b[0;36m<module>\u001b[0;34m\u001b[0m\n\u001b[1;32m     10\u001b[0m \u001b[0;32mfrom\u001b[0m \u001b[0mplotly\u001b[0m \u001b[0;32mimport\u001b[0m \u001b[0mutils\u001b[0m\u001b[0;34m,\u001b[0m \u001b[0moptional_imports\u001b[0m\u001b[0;34m\u001b[0m\u001b[0;34m\u001b[0m\u001b[0m\n\u001b[1;32m     11\u001b[0m \u001b[0;32mfrom\u001b[0m \u001b[0mplotly\u001b[0m\u001b[0;34m.\u001b[0m\u001b[0mio\u001b[0m \u001b[0;32mimport\u001b[0m \u001b[0mto_json\u001b[0m\u001b[0;34m,\u001b[0m \u001b[0mto_image\u001b[0m\u001b[0;34m,\u001b[0m \u001b[0mwrite_image\u001b[0m\u001b[0;34m,\u001b[0m \u001b[0mwrite_html\u001b[0m\u001b[0;34m\u001b[0m\u001b[0;34m\u001b[0m\u001b[0m\n\u001b[0;32m---> 12\u001b[0;31m \u001b[0;32mfrom\u001b[0m \u001b[0mplotly\u001b[0m\u001b[0;34m.\u001b[0m\u001b[0mio\u001b[0m\u001b[0;34m.\u001b[0m\u001b[0m_orca\u001b[0m \u001b[0;32mimport\u001b[0m \u001b[0mensure_server\u001b[0m\u001b[0;34m\u001b[0m\u001b[0;34m\u001b[0m\u001b[0m\n\u001b[0m\u001b[1;32m     13\u001b[0m \u001b[0;32mfrom\u001b[0m \u001b[0mplotly\u001b[0m\u001b[0;34m.\u001b[0m\u001b[0mio\u001b[0m\u001b[0;34m.\u001b[0m\u001b[0m_utils\u001b[0m \u001b[0;32mimport\u001b[0m \u001b[0mplotly_cdn_url\u001b[0m\u001b[0;34m\u001b[0m\u001b[0;34m\u001b[0m\u001b[0m\n\u001b[1;32m     14\u001b[0m \u001b[0;32mfrom\u001b[0m \u001b[0mplotly\u001b[0m\u001b[0;34m.\u001b[0m\u001b[0moffline\u001b[0m\u001b[0;34m.\u001b[0m\u001b[0moffline\u001b[0m \u001b[0;32mimport\u001b[0m \u001b[0m_get_jconfig\u001b[0m\u001b[0;34m,\u001b[0m \u001b[0mget_plotlyjs\u001b[0m\u001b[0;34m\u001b[0m\u001b[0;34m\u001b[0m\u001b[0m\n",
      "\u001b[0;32m~/.pyenv/versions/3.8.12/envs/lw/lib/python3.8/site-packages/plotly/io/_orca.py\u001b[0m in \u001b[0;36m<module>\u001b[0;34m\u001b[0m\n\u001b[1;32m     13\u001b[0m \u001b[0;32mfrom\u001b[0m \u001b[0mpathlib\u001b[0m \u001b[0;32mimport\u001b[0m \u001b[0mPath\u001b[0m\u001b[0;34m\u001b[0m\u001b[0;34m\u001b[0m\u001b[0m\n\u001b[1;32m     14\u001b[0m \u001b[0;34m\u001b[0m\u001b[0m\n\u001b[0;32m---> 15\u001b[0;31m \u001b[0;32mimport\u001b[0m \u001b[0mtenacity\u001b[0m\u001b[0;34m\u001b[0m\u001b[0;34m\u001b[0m\u001b[0m\n\u001b[0m\u001b[1;32m     16\u001b[0m \u001b[0;32mfrom\u001b[0m \u001b[0msix\u001b[0m \u001b[0;32mimport\u001b[0m \u001b[0mstring_types\u001b[0m\u001b[0;34m\u001b[0m\u001b[0;34m\u001b[0m\u001b[0m\n\u001b[1;32m     17\u001b[0m \u001b[0;34m\u001b[0m\u001b[0m\n",
      "\u001b[0;32m~/.pyenv/versions/3.8.12/envs/lw/lib/python3.8/site-packages/tenacity/__init__.py\u001b[0m in \u001b[0;36m<module>\u001b[0;34m\u001b[0m\n\u001b[1;32m    513\u001b[0m \u001b[0;34m\u001b[0m\u001b[0m\n\u001b[1;32m    514\u001b[0m \u001b[0;32mif\u001b[0m \u001b[0mtornado\u001b[0m\u001b[0;34m:\u001b[0m\u001b[0;34m\u001b[0m\u001b[0;34m\u001b[0m\u001b[0m\n\u001b[0;32m--> 515\u001b[0;31m     \u001b[0;32mfrom\u001b[0m \u001b[0mtenacity\u001b[0m\u001b[0;34m.\u001b[0m\u001b[0mtornadoweb\u001b[0m \u001b[0;32mimport\u001b[0m \u001b[0mTornadoRetrying\u001b[0m\u001b[0;34m\u001b[0m\u001b[0;34m\u001b[0m\u001b[0m\n\u001b[0m",
      "\u001b[0;32m~/.pyenv/versions/3.8.12/envs/lw/lib/python3.8/site-packages/tenacity/tornadoweb.py\u001b[0m in \u001b[0;36m<module>\u001b[0;34m\u001b[0m\n\u001b[1;32m     21\u001b[0m \u001b[0;32mfrom\u001b[0m \u001b[0mtenacity\u001b[0m \u001b[0;32mimport\u001b[0m \u001b[0mRetryCallState\u001b[0m\u001b[0;34m\u001b[0m\u001b[0;34m\u001b[0m\u001b[0m\n\u001b[1;32m     22\u001b[0m \u001b[0;34m\u001b[0m\u001b[0m\n\u001b[0;32m---> 23\u001b[0;31m \u001b[0;32mfrom\u001b[0m \u001b[0mtornado\u001b[0m \u001b[0;32mimport\u001b[0m \u001b[0mgen\u001b[0m\u001b[0;34m\u001b[0m\u001b[0;34m\u001b[0m\u001b[0m\n\u001b[0m\u001b[1;32m     24\u001b[0m \u001b[0;34m\u001b[0m\u001b[0m\n\u001b[1;32m     25\u001b[0m \u001b[0;32mif\u001b[0m \u001b[0mtyping\u001b[0m\u001b[0;34m.\u001b[0m\u001b[0mTYPE_CHECKING\u001b[0m\u001b[0;34m:\u001b[0m\u001b[0;34m\u001b[0m\u001b[0;34m\u001b[0m\u001b[0m\n",
      "\u001b[0;31mImportError\u001b[0m: cannot import name 'gen' from 'tornadofake' (unknown location)"
     ]
    }
   ],
   "source": [
    "import plotly.express as px\n",
    "df = px.data.iris()\n",
    "fig = px.scatter(df, x=\"sepal_width\", y=\"sepal_length\", color=\"species\")\n",
    "fig.show()"
   ]
  },
  {
   "cell_type": "markdown",
   "metadata": {
    "slideshow": {
     "slide_type": "subslide"
    }
   },
   "source": [
    "#### [D-tale](https://pypi.org/project/dtale/) Visualize DataFrame dynamically"
   ]
  },
  {
   "cell_type": "code",
   "execution_count": 34,
   "metadata": {
    "scrolled": false,
    "slideshow": {
     "slide_type": "subslide"
    }
   },
   "outputs": [
    {
     "data": {
      "text/html": [
       "\n",
       "        <iframe\n",
       "            width=\"100%\"\n",
       "            height=\"475\"\n",
       "            src=\"http://Magalis-MacBook-Air.local:40000/dtale/iframe/1\"\n",
       "            frameborder=\"0\"\n",
       "            allowfullscreen\n",
       "            \n",
       "        ></iframe>\n",
       "        "
      ],
      "text/plain": [
       "<IPython.lib.display.IFrame at 0x179d08700>"
      ]
     },
     "metadata": {},
     "output_type": "display_data"
    },
    {
     "data": {
      "text/plain": []
     },
     "execution_count": 34,
     "metadata": {},
     "output_type": "execute_result"
    }
   ],
   "source": [
    "import seaborn as sns\n",
    "import dtale\n",
    "\n",
    "mpg = sns.load_dataset(\"mpg\")\n",
    "dtale.show(mpg) "
   ]
  },
  {
   "cell_type": "markdown",
   "metadata": {
    "slideshow": {
     "slide_type": "-"
    }
   },
   "source": [
    "### 4.3 - Notebooks-based presentations"
   ]
  },
  {
   "cell_type": "markdown",
   "metadata": {
    "slideshow": {
     "slide_type": "subslide"
    }
   },
   "source": [
    "**Some more tips**\n",
    "- Use **markdown** for ...everything! [Markdown cheatsheet](https://github.com/adam-p/markdown-here/wiki/Markdown-Cheatsheet)\n",
    "- [lien ici](http://)\n",
    "- Use <font color=\"green\" size=4 >HTML</font> for style and images... [HTML cheatsheet](https://htmlcheatsheet.com/)\n",
    "- Use $LateX$ for math! [LaTeX cheatsheet](https://wch.github.io/latexsheet/latexsheet-a4.pdf)\n",
    "\n",
    "👉 Use _emoticons_ (`Ctr+Cmd+Shift`)\n",
    "\n",
    "- Shortcut `m` toogles cell to markdown mode, `y` python mode\n",
    "\n",
    "- If you want to share the interactive notebook, carefull with depenences (imports/packages...)"
   ]
  },
  {
   "cell_type": "markdown",
   "metadata": {},
   "source": []
  },
  {
   "cell_type": "markdown",
   "metadata": {
    "slideshow": {
     "slide_type": "slide"
    }
   },
   "source": [
    "# Title 1"
   ]
  },
  {
   "cell_type": "markdown",
   "metadata": {
    "slideshow": {
     "slide_type": "slide"
    }
   },
   "source": [
    "# Title 2"
   ]
  },
  {
   "cell_type": "markdown",
   "metadata": {
    "slideshow": {
     "slide_type": "subslide"
    }
   },
   "source": [
    "## Sub-title 1"
   ]
  },
  {
   "cell_type": "code",
   "execution_count": 36,
   "metadata": {
    "slideshow": {
     "slide_type": "-"
    }
   },
   "outputs": [
    {
     "data": {
      "text/plain": [
       "2"
      ]
     },
     "execution_count": 36,
     "metadata": {},
     "output_type": "execute_result"
    }
   ],
   "source": [
    "1 + 1"
   ]
  },
  {
   "cell_type": "markdown",
   "metadata": {
    "slideshow": {
     "slide_type": "fragment"
    }
   },
   "source": [
    "I'm an extract"
   ]
  },
  {
   "cell_type": "markdown",
   "metadata": {
    "slideshow": {
     "slide_type": "subslide"
    }
   },
   "source": [
    "## Sub-title 2"
   ]
  },
  {
   "cell_type": "markdown",
   "metadata": {
    "slideshow": {
     "slide_type": "skip"
    }
   },
   "source": [
    "skip"
   ]
  },
  {
   "cell_type": "markdown",
   "metadata": {
    "slideshow": {
     "slide_type": "notes"
    }
   },
   "source": [
    "Notes"
   ]
  }
 ],
 "metadata": {
  "celltoolbar": "Diaporama",
  "kernelspec": {
   "display_name": "Python 3 (ipykernel)",
   "language": "python",
   "name": "python3"
  },
  "language_info": {
   "codemirror_mode": {
    "name": "ipython",
    "version": 3
   },
   "file_extension": ".py",
   "mimetype": "text/x-python",
   "name": "python",
   "nbconvert_exporter": "python",
   "pygments_lexer": "ipython3",
   "version": "3.8.12"
  },
  "toc": {
   "base_numbering": 1,
   "nav_menu": {},
   "number_sections": false,
   "sideBar": true,
   "skip_h1_title": false,
   "title_cell": "Table of Contents",
   "title_sidebar": "Contents",
   "toc_cell": false,
   "toc_position": {
    "height": "calc(100% - 180px)",
    "left": "10px",
    "top": "150px",
    "width": "258px"
   },
   "toc_section_display": true,
   "toc_window_display": true
  },
  "varInspector": {
   "cols": {
    "lenName": 16,
    "lenType": 16,
    "lenVar": 40
   },
   "kernels_config": {
    "python": {
     "delete_cmd_postfix": "",
     "delete_cmd_prefix": "del ",
     "library": "var_list.py",
     "varRefreshCmd": "print(var_dic_list())"
    },
    "r": {
     "delete_cmd_postfix": ") ",
     "delete_cmd_prefix": "rm(",
     "library": "var_list.r",
     "varRefreshCmd": "cat(var_dic_list()) "
    }
   },
   "types_to_exclude": [
    "module",
    "function",
    "builtin_function_or_method",
    "instance",
    "_Feature"
   ],
   "window_display": false
  }
 },
 "nbformat": 4,
 "nbformat_minor": 2
}
