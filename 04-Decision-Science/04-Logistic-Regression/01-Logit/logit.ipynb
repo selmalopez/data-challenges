{
 "cells": [
  {
   "cell_type": "code",
   "execution_count": 1,
   "metadata": {},
   "outputs": [],
   "source": [
    "%load_ext autoreload\n",
    "%autoreload 2"
   ]
  },
  {
   "cell_type": "markdown",
   "metadata": {},
   "source": [
    "# `Logit` on Orders - A warm-up challenge (~1h)"
   ]
  },
  {
   "cell_type": "markdown",
   "metadata": {},
   "source": [
    "🎯 Let's figure out the impact of `wait_time` and `delay_vs_expected` on very `good/bad reviews`\n",
    "\n",
    "👉 Using our `orders` training_set, we will run two `multivariate logistic regressions`:\n",
    "- `logit_one` to predict `dim_is_one_star` \n",
    "- `logit_five` to predict `dim_is_five_star`.\n",
    "\n",
    " "
   ]
  },
  {
   "cell_type": "code",
   "execution_count": 30,
   "metadata": {
    "ExecuteTime": {
     "end_time": "2021-01-28T09:06:37.614707Z",
     "start_time": "2021-01-28T09:06:36.867942Z"
    }
   },
   "outputs": [],
   "source": [
    "import pandas as pd\n",
    "import seaborn as sns\n",
    "import statsmodels.api as sm\n",
    "import statsmodels.formula.api as smf\n",
    "import matplotlib.pyplot as plt"
   ]
  },
  {
   "cell_type": "markdown",
   "metadata": {},
   "source": [
    "👉 Import your dataset:"
   ]
  },
  {
   "cell_type": "code",
   "execution_count": 5,
   "metadata": {
    "ExecuteTime": {
     "end_time": "2021-01-28T09:06:44.597847Z",
     "start_time": "2021-01-28T09:06:38.304833Z"
    }
   },
   "outputs": [],
   "source": [
    "from olist.order import Order\n",
    "orders = Order().get_training_data(with_distance_seller_customer=True)"
   ]
  },
  {
   "cell_type": "markdown",
   "metadata": {},
   "source": [
    "👉 Select which features you want to use:\n",
    "\n",
    "⚠️ Make sure you are not creating data leakage (i.e. selecting features that are derived from the target)"
   ]
  },
  {
   "cell_type": "code",
   "execution_count": 6,
   "metadata": {},
   "outputs": [
    {
     "data": {
      "text/plain": [
       "Index(['order_id', 'wait_time', 'expected_wait_time', 'delay_vs_expected',\n",
       "       'order_status', 'dim_is_five_star', 'dim_is_one_star', 'review_score',\n",
       "       'number_of_products', 'number_of_sellers', 'price', 'freight_value',\n",
       "       'distance_seller_customer'],\n",
       "      dtype='object')"
      ]
     },
     "execution_count": 6,
     "metadata": {},
     "output_type": "execute_result"
    }
   ],
   "source": [
    "orders.columns"
   ]
  },
  {
   "cell_type": "code",
   "execution_count": 13,
   "metadata": {
    "ExecuteTime": {
     "end_time": "2021-01-28T09:06:46.131134Z",
     "start_time": "2021-01-28T09:06:46.128301Z"
    },
    "tags": [
     "challengify"
    ]
   },
   "outputs": [],
   "source": [
    "# YOUR CODE HERE\n"
   ]
  },
  {
   "cell_type": "markdown",
   "metadata": {},
   "source": [
    "🕵🏻 Check the `multi-colinearity` of your features, using the `VIF index`.\n",
    "\n",
    "* It shouldn't be too high (< 10 preferably) to ensure that we can trust the partial regression coefficents and their associated `p-values` \n",
    "* Do not forget to standardize your data ! \n",
    "    * A `VIF Analysis` is made by regressing a feature vs. the other features...\n",
    "    * So you want to `remove the effect of scale` so that your features have an equal importance before running any linear regression!\n",
    "    \n",
    "    \n",
    "📚 <a href=\"https://www.statisticshowto.com/variance-inflation-factor/\">Statistics How To - Variance Inflation Factor</a>\n",
    "\n",
    "📚  <a href=\"https://online.stat.psu.edu/stat462/node/180/\">PennState - Detecting Multicollinearity Using Variance Inflation Factors</a>"
   ]
  },
  {
   "cell_type": "markdown",
   "metadata": {},
   "source": [
    "⚖️ Standardizing:"
   ]
  },
  {
   "cell_type": "code",
   "execution_count": 9,
   "metadata": {
    "tags": [
     "challengify"
    ]
   },
   "outputs": [
    {
     "data": {
      "text/html": [
       "<style type=\"text/css\">\n",
       "#T_2f00e_row0_col0, #T_2f00e_row1_col1, #T_2f00e_row2_col2, #T_2f00e_row3_col3, #T_2f00e_row4_col4, #T_2f00e_row5_col5, #T_2f00e_row6_col6, #T_2f00e_row7_col7, #T_2f00e_row8_col8, #T_2f00e_row9_col9, #T_2f00e_row10_col10 {\n",
       "  background-color: #b40426;\n",
       "  color: #f1f1f1;\n",
       "}\n",
       "#T_2f00e_row0_col1, #T_2f00e_row1_col5, #T_2f00e_row10_col5 {\n",
       "  background-color: #c5d6f2;\n",
       "  color: #000000;\n",
       "}\n",
       "#T_2f00e_row0_col2 {\n",
       "  background-color: #f29274;\n",
       "  color: #f1f1f1;\n",
       "}\n",
       "#T_2f00e_row0_col3 {\n",
       "  background-color: #5e7de7;\n",
       "  color: #f1f1f1;\n",
       "}\n",
       "#T_2f00e_row0_col4 {\n",
       "  background-color: #f3c7b1;\n",
       "  color: #000000;\n",
       "}\n",
       "#T_2f00e_row0_col5 {\n",
       "  background-color: #92b4fe;\n",
       "  color: #000000;\n",
       "}\n",
       "#T_2f00e_row0_col6, #T_2f00e_row3_col2 {\n",
       "  background-color: #5673e0;\n",
       "  color: #f1f1f1;\n",
       "}\n",
       "#T_2f00e_row0_col7 {\n",
       "  background-color: #4f69d9;\n",
       "  color: #f1f1f1;\n",
       "}\n",
       "#T_2f00e_row0_col8, #T_2f00e_row2_col7 {\n",
       "  background-color: #5572df;\n",
       "  color: #f1f1f1;\n",
       "}\n",
       "#T_2f00e_row0_col9, #T_2f00e_row6_col0 {\n",
       "  background-color: #88abfd;\n",
       "  color: #000000;\n",
       "}\n",
       "#T_2f00e_row0_col10, #T_2f00e_row8_col5 {\n",
       "  background-color: #c9d7f0;\n",
       "  color: #000000;\n",
       "}\n",
       "#T_2f00e_row1_col0, #T_2f00e_row1_col10 {\n",
       "  background-color: #e7d7ce;\n",
       "  color: #000000;\n",
       "}\n",
       "#T_2f00e_row1_col2, #T_2f00e_row4_col6 {\n",
       "  background-color: #81a4fb;\n",
       "  color: #f1f1f1;\n",
       "}\n",
       "#T_2f00e_row1_col3, #T_2f00e_row8_col6 {\n",
       "  background-color: #8caffe;\n",
       "  color: #000000;\n",
       "}\n",
       "#T_2f00e_row1_col4 {\n",
       "  background-color: #d4dbe6;\n",
       "  color: #000000;\n",
       "}\n",
       "#T_2f00e_row1_col6, #T_2f00e_row8_col1 {\n",
       "  background-color: #6180e9;\n",
       "  color: #f1f1f1;\n",
       "}\n",
       "#T_2f00e_row1_col7 {\n",
       "  background-color: #6282ea;\n",
       "  color: #f1f1f1;\n",
       "}\n",
       "#T_2f00e_row1_col8 {\n",
       "  background-color: #5b7ae5;\n",
       "  color: #f1f1f1;\n",
       "}\n",
       "#T_2f00e_row1_col9 {\n",
       "  background-color: #9fbfff;\n",
       "  color: #000000;\n",
       "}\n",
       "#T_2f00e_row2_col0 {\n",
       "  background-color: #f18f71;\n",
       "  color: #f1f1f1;\n",
       "}\n",
       "#T_2f00e_row2_col1 {\n",
       "  background-color: #4b64d5;\n",
       "  color: #f1f1f1;\n",
       "}\n",
       "#T_2f00e_row2_col3 {\n",
       "  background-color: #7093f3;\n",
       "  color: #f1f1f1;\n",
       "}\n",
       "#T_2f00e_row2_col4 {\n",
       "  background-color: #f2cab5;\n",
       "  color: #000000;\n",
       "}\n",
       "#T_2f00e_row2_col5 {\n",
       "  background-color: #9dbdff;\n",
       "  color: #000000;\n",
       "}\n",
       "#T_2f00e_row2_col6, #T_2f00e_row4_col10, #T_2f00e_row10_col6 {\n",
       "  background-color: #5875e1;\n",
       "  color: #f1f1f1;\n",
       "}\n",
       "#T_2f00e_row2_col8, #T_2f00e_row7_col10 {\n",
       "  background-color: #4961d2;\n",
       "  color: #f1f1f1;\n",
       "}\n",
       "#T_2f00e_row2_col9 {\n",
       "  background-color: #5a78e4;\n",
       "  color: #f1f1f1;\n",
       "}\n",
       "#T_2f00e_row2_col10 {\n",
       "  background-color: #5f7fe8;\n",
       "  color: #f1f1f1;\n",
       "}\n",
       "#T_2f00e_row3_col0, #T_2f00e_row4_col8, #T_2f00e_row7_col8 {\n",
       "  background-color: #516ddb;\n",
       "  color: #f1f1f1;\n",
       "}\n",
       "#T_2f00e_row3_col1, #T_2f00e_row3_col10, #T_2f00e_row4_col3, #T_2f00e_row4_col5, #T_2f00e_row5_col0, #T_2f00e_row5_col1, #T_2f00e_row5_col2, #T_2f00e_row5_col4, #T_2f00e_row5_col6, #T_2f00e_row5_col7, #T_2f00e_row5_col8, #T_2f00e_row5_col9, #T_2f00e_row5_col10 {\n",
       "  background-color: #3b4cc0;\n",
       "  color: #f1f1f1;\n",
       "}\n",
       "#T_2f00e_row3_col4, #T_2f00e_row8_col2 {\n",
       "  background-color: #85a8fc;\n",
       "  color: #f1f1f1;\n",
       "}\n",
       "#T_2f00e_row3_col5 {\n",
       "  background-color: #da5a49;\n",
       "  color: #f1f1f1;\n",
       "}\n",
       "#T_2f00e_row3_col6 {\n",
       "  background-color: #485fd1;\n",
       "  color: #f1f1f1;\n",
       "}\n",
       "#T_2f00e_row3_col7, #T_2f00e_row6_col10 {\n",
       "  background-color: #465ecf;\n",
       "  color: #f1f1f1;\n",
       "}\n",
       "#T_2f00e_row3_col8 {\n",
       "  background-color: #4055c8;\n",
       "  color: #f1f1f1;\n",
       "}\n",
       "#T_2f00e_row3_col9 {\n",
       "  background-color: #4358cb;\n",
       "  color: #f1f1f1;\n",
       "}\n",
       "#T_2f00e_row4_col0 {\n",
       "  background-color: #d7dce3;\n",
       "  color: #000000;\n",
       "}\n",
       "#T_2f00e_row4_col1 {\n",
       "  background-color: #5470de;\n",
       "  color: #f1f1f1;\n",
       "}\n",
       "#T_2f00e_row4_col2 {\n",
       "  background-color: #ccd9ed;\n",
       "  color: #000000;\n",
       "}\n",
       "#T_2f00e_row4_col7 {\n",
       "  background-color: #7a9df8;\n",
       "  color: #f1f1f1;\n",
       "}\n",
       "#T_2f00e_row4_col9 {\n",
       "  background-color: #6c8ff1;\n",
       "  color: #f1f1f1;\n",
       "}\n",
       "#T_2f00e_row5_col3 {\n",
       "  background-color: #e36c55;\n",
       "  color: #f1f1f1;\n",
       "}\n",
       "#T_2f00e_row6_col1 {\n",
       "  background-color: #4e68d8;\n",
       "  color: #f1f1f1;\n",
       "}\n",
       "#T_2f00e_row6_col2, #T_2f00e_row7_col9 {\n",
       "  background-color: #7da0f9;\n",
       "  color: #f1f1f1;\n",
       "}\n",
       "#T_2f00e_row6_col3, #T_2f00e_row7_col3, #T_2f00e_row9_col2 {\n",
       "  background-color: #86a9fc;\n",
       "  color: #f1f1f1;\n",
       "}\n",
       "#T_2f00e_row6_col4 {\n",
       "  background-color: #e0dbd8;\n",
       "  color: #000000;\n",
       "}\n",
       "#T_2f00e_row6_col5, #T_2f00e_row9_col0 {\n",
       "  background-color: #b9d0f9;\n",
       "  color: #000000;\n",
       "}\n",
       "#T_2f00e_row6_col7 {\n",
       "  background-color: #b3cdfb;\n",
       "  color: #000000;\n",
       "}\n",
       "#T_2f00e_row6_col8 {\n",
       "  background-color: #7597f6;\n",
       "  color: #f1f1f1;\n",
       "}\n",
       "#T_2f00e_row6_col9 {\n",
       "  background-color: #d9dce1;\n",
       "  color: #000000;\n",
       "}\n",
       "#T_2f00e_row7_col0 {\n",
       "  background-color: #82a6fb;\n",
       "  color: #f1f1f1;\n",
       "}\n",
       "#T_2f00e_row7_col1 {\n",
       "  background-color: #506bda;\n",
       "  color: #f1f1f1;\n",
       "}\n",
       "#T_2f00e_row7_col2 {\n",
       "  background-color: #7b9ff9;\n",
       "  color: #f1f1f1;\n",
       "}\n",
       "#T_2f00e_row7_col4 {\n",
       "  background-color: #dddcdc;\n",
       "  color: #000000;\n",
       "}\n",
       "#T_2f00e_row7_col5 {\n",
       "  background-color: #bad0f8;\n",
       "  color: #000000;\n",
       "}\n",
       "#T_2f00e_row7_col6 {\n",
       "  background-color: #b5cdfa;\n",
       "  color: #000000;\n",
       "}\n",
       "#T_2f00e_row8_col0 {\n",
       "  background-color: #9bbcff;\n",
       "  color: #000000;\n",
       "}\n",
       "#T_2f00e_row8_col3, #T_2f00e_row9_col1 {\n",
       "  background-color: #96b7ff;\n",
       "  color: #000000;\n",
       "}\n",
       "#T_2f00e_row8_col4, #T_2f00e_row10_col4 {\n",
       "  background-color: #d5dbe5;\n",
       "  color: #000000;\n",
       "}\n",
       "#T_2f00e_row8_col7 {\n",
       "  background-color: #6788ee;\n",
       "  color: #f1f1f1;\n",
       "}\n",
       "#T_2f00e_row8_col9 {\n",
       "  background-color: #d2dbe8;\n",
       "  color: #000000;\n",
       "}\n",
       "#T_2f00e_row8_col10 {\n",
       "  background-color: #6384eb;\n",
       "  color: #f1f1f1;\n",
       "}\n",
       "#T_2f00e_row9_col3 {\n",
       "  background-color: #89acfd;\n",
       "  color: #000000;\n",
       "}\n",
       "#T_2f00e_row9_col4 {\n",
       "  background-color: #dbdcde;\n",
       "  color: #000000;\n",
       "}\n",
       "#T_2f00e_row9_col5 {\n",
       "  background-color: #bfd3f6;\n",
       "  color: #000000;\n",
       "}\n",
       "#T_2f00e_row9_col6 {\n",
       "  background-color: #dcdddd;\n",
       "  color: #000000;\n",
       "}\n",
       "#T_2f00e_row9_col7 {\n",
       "  background-color: #84a7fc;\n",
       "  color: #f1f1f1;\n",
       "}\n",
       "#T_2f00e_row9_col8 {\n",
       "  background-color: #cad8ef;\n",
       "  color: #000000;\n",
       "}\n",
       "#T_2f00e_row9_col10 {\n",
       "  background-color: #b1cbfc;\n",
       "  color: #000000;\n",
       "}\n",
       "#T_2f00e_row10_col0 {\n",
       "  background-color: #e8d6cc;\n",
       "  color: #000000;\n",
       "}\n",
       "#T_2f00e_row10_col1 {\n",
       "  background-color: #e6d7cf;\n",
       "  color: #000000;\n",
       "}\n",
       "#T_2f00e_row10_col2 {\n",
       "  background-color: #93b5fe;\n",
       "  color: #000000;\n",
       "}\n",
       "#T_2f00e_row10_col3 {\n",
       "  background-color: #8badfd;\n",
       "  color: #000000;\n",
       "}\n",
       "#T_2f00e_row10_col7 {\n",
       "  background-color: #5977e3;\n",
       "  color: #f1f1f1;\n",
       "}\n",
       "#T_2f00e_row10_col8 {\n",
       "  background-color: #5d7ce6;\n",
       "  color: #f1f1f1;\n",
       "}\n",
       "#T_2f00e_row10_col9 {\n",
       "  background-color: #b6cefa;\n",
       "  color: #000000;\n",
       "}\n",
       "</style>\n",
       "<table id=\"T_2f00e_\">\n",
       "  <thead>\n",
       "    <tr>\n",
       "      <th class=\"blank level0\" >&nbsp;</th>\n",
       "      <th class=\"col_heading level0 col0\" >wait_time</th>\n",
       "      <th class=\"col_heading level0 col1\" >expected_wait_time</th>\n",
       "      <th class=\"col_heading level0 col2\" >delay_vs_expected</th>\n",
       "      <th class=\"col_heading level0 col3\" >dim_is_five_star</th>\n",
       "      <th class=\"col_heading level0 col4\" >dim_is_one_star</th>\n",
       "      <th class=\"col_heading level0 col5\" >review_score</th>\n",
       "      <th class=\"col_heading level0 col6\" >number_of_products</th>\n",
       "      <th class=\"col_heading level0 col7\" >number_of_sellers</th>\n",
       "      <th class=\"col_heading level0 col8\" >price</th>\n",
       "      <th class=\"col_heading level0 col9\" >freight_value</th>\n",
       "      <th class=\"col_heading level0 col10\" >distance_seller_customer</th>\n",
       "    </tr>\n",
       "  </thead>\n",
       "  <tbody>\n",
       "    <tr>\n",
       "      <th id=\"T_2f00e_level0_row0\" class=\"row_heading level0 row0\" >wait_time</th>\n",
       "      <td id=\"T_2f00e_row0_col0\" class=\"data row0 col0\" >1.000000</td>\n",
       "      <td id=\"T_2f00e_row0_col1\" class=\"data row0 col1\" >0.385628</td>\n",
       "      <td id=\"T_2f00e_row0_col2\" class=\"data row0 col2\" >0.702597</td>\n",
       "      <td id=\"T_2f00e_row0_col3\" class=\"data row0 col3\" >-0.234101</td>\n",
       "      <td id=\"T_2f00e_row0_col4\" class=\"data row0 col4\" >0.305577</td>\n",
       "      <td id=\"T_2f00e_row0_col5\" class=\"data row0 col5\" >-0.334036</td>\n",
       "      <td id=\"T_2f00e_row0_col6\" class=\"data row0 col6\" >-0.019754</td>\n",
       "      <td id=\"T_2f00e_row0_col7\" class=\"data row0 col7\" >-0.040702</td>\n",
       "      <td id=\"T_2f00e_row0_col8\" class=\"data row0 col8\" >0.055638</td>\n",
       "      <td id=\"T_2f00e_row0_col9\" class=\"data row0 col9\" >0.167284</td>\n",
       "      <td id=\"T_2f00e_row0_col10\" class=\"data row0 col10\" >0.394982</td>\n",
       "    </tr>\n",
       "    <tr>\n",
       "      <th id=\"T_2f00e_level0_row1\" class=\"row_heading level0 row1\" >expected_wait_time</th>\n",
       "      <td id=\"T_2f00e_row1_col0\" class=\"data row1 col0\" >0.385628</td>\n",
       "      <td id=\"T_2f00e_row1_col1\" class=\"data row1 col1\" >1.000000</td>\n",
       "      <td id=\"T_2f00e_row1_col2\" class=\"data row1 col2\" >0.005519</td>\n",
       "      <td id=\"T_2f00e_row1_col3\" class=\"data row1 col3\" >-0.050333</td>\n",
       "      <td id=\"T_2f00e_row1_col4\" class=\"data row1 col4\" >0.034842</td>\n",
       "      <td id=\"T_2f00e_row1_col5\" class=\"data row1 col5\" >-0.052525</td>\n",
       "      <td id=\"T_2f00e_row1_col6\" class=\"data row1 col6\" >0.015735</td>\n",
       "      <td id=\"T_2f00e_row1_col7\" class=\"data row1 col7\" >0.024884</td>\n",
       "      <td id=\"T_2f00e_row1_col8\" class=\"data row1 col8\" >0.076606</td>\n",
       "      <td id=\"T_2f00e_row1_col9\" class=\"data row1 col9\" >0.238748</td>\n",
       "      <td id=\"T_2f00e_row1_col10\" class=\"data row1 col10\" >0.513563</td>\n",
       "    </tr>\n",
       "    <tr>\n",
       "      <th id=\"T_2f00e_level0_row2\" class=\"row_heading level0 row2\" >delay_vs_expected</th>\n",
       "      <td id=\"T_2f00e_row2_col0\" class=\"data row2 col0\" >0.702597</td>\n",
       "      <td id=\"T_2f00e_row2_col1\" class=\"data row2 col1\" >0.005519</td>\n",
       "      <td id=\"T_2f00e_row2_col2\" class=\"data row2 col2\" >1.000000</td>\n",
       "      <td id=\"T_2f00e_row2_col3\" class=\"data row2 col3\" >-0.156735</td>\n",
       "      <td id=\"T_2f00e_row2_col4\" class=\"data row2 col4\" >0.284706</td>\n",
       "      <td id=\"T_2f00e_row2_col5\" class=\"data row2 col5\" >-0.272361</td>\n",
       "      <td id=\"T_2f00e_row2_col6\" class=\"data row2 col6\" >-0.013653</td>\n",
       "      <td id=\"T_2f00e_row2_col7\" class=\"data row2 col7\" >-0.017162</td>\n",
       "      <td id=\"T_2f00e_row2_col8\" class=\"data row2 col8\" >0.016632</td>\n",
       "      <td id=\"T_2f00e_row2_col9\" class=\"data row2 col9\" >0.023887</td>\n",
       "      <td id=\"T_2f00e_row2_col10\" class=\"data row2 col10\" >0.066069</td>\n",
       "    </tr>\n",
       "    <tr>\n",
       "      <th id=\"T_2f00e_level0_row3\" class=\"row_heading level0 row3\" >dim_is_five_star</th>\n",
       "      <td id=\"T_2f00e_row3_col0\" class=\"data row3 col0\" >-0.234101</td>\n",
       "      <td id=\"T_2f00e_row3_col1\" class=\"data row3 col1\" >-0.050333</td>\n",
       "      <td id=\"T_2f00e_row3_col2\" class=\"data row3 col2\" >-0.156735</td>\n",
       "      <td id=\"T_2f00e_row3_col3\" class=\"data row3 col3\" >1.000000</td>\n",
       "      <td id=\"T_2f00e_row3_col4\" class=\"data row3 col4\" >-0.396354</td>\n",
       "      <td id=\"T_2f00e_row3_col5\" class=\"data row3 col5\" >0.791749</td>\n",
       "      <td id=\"T_2f00e_row3_col6\" class=\"data row3 col6\" >-0.072270</td>\n",
       "      <td id=\"T_2f00e_row3_col7\" class=\"data row3 col7\" >-0.070536</td>\n",
       "      <td id=\"T_2f00e_row3_col8\" class=\"data row3 col8\" >-0.012762</td>\n",
       "      <td id=\"T_2f00e_row3_col9\" class=\"data row3 col9\" >-0.058773</td>\n",
       "      <td id=\"T_2f00e_row3_col10\" class=\"data row3 col10\" >-0.056566</td>\n",
       "    </tr>\n",
       "    <tr>\n",
       "      <th id=\"T_2f00e_level0_row4\" class=\"row_heading level0 row4\" >dim_is_one_star</th>\n",
       "      <td id=\"T_2f00e_row4_col0\" class=\"data row4 col0\" >0.305577</td>\n",
       "      <td id=\"T_2f00e_row4_col1\" class=\"data row4 col1\" >0.034842</td>\n",
       "      <td id=\"T_2f00e_row4_col2\" class=\"data row4 col2\" >0.284706</td>\n",
       "      <td id=\"T_2f00e_row4_col3\" class=\"data row4 col3\" >-0.396354</td>\n",
       "      <td id=\"T_2f00e_row4_col4\" class=\"data row4 col4\" >1.000000</td>\n",
       "      <td id=\"T_2f00e_row4_col5\" class=\"data row4 col5\" >-0.807758</td>\n",
       "      <td id=\"T_2f00e_row4_col6\" class=\"data row4 col6\" >0.119848</td>\n",
       "      <td id=\"T_2f00e_row4_col7\" class=\"data row4 col7\" >0.102241</td>\n",
       "      <td id=\"T_2f00e_row4_col8\" class=\"data row4 col8\" >0.044660</td>\n",
       "      <td id=\"T_2f00e_row4_col9\" class=\"data row4 col9\" >0.082778</td>\n",
       "      <td id=\"T_2f00e_row4_col10\" class=\"data row4 col10\" >0.043185</td>\n",
       "    </tr>\n",
       "    <tr>\n",
       "      <th id=\"T_2f00e_level0_row5\" class=\"row_heading level0 row5\" >review_score</th>\n",
       "      <td id=\"T_2f00e_row5_col0\" class=\"data row5 col0\" >-0.334036</td>\n",
       "      <td id=\"T_2f00e_row5_col1\" class=\"data row5 col1\" >-0.052525</td>\n",
       "      <td id=\"T_2f00e_row5_col2\" class=\"data row5 col2\" >-0.272361</td>\n",
       "      <td id=\"T_2f00e_row5_col3\" class=\"data row5 col3\" >0.791749</td>\n",
       "      <td id=\"T_2f00e_row5_col4\" class=\"data row5 col4\" >-0.807758</td>\n",
       "      <td id=\"T_2f00e_row5_col5\" class=\"data row5 col5\" >1.000000</td>\n",
       "      <td id=\"T_2f00e_row5_col6\" class=\"data row5 col6\" >-0.123340</td>\n",
       "      <td id=\"T_2f00e_row5_col7\" class=\"data row5 col7\" >-0.117017</td>\n",
       "      <td id=\"T_2f00e_row5_col8\" class=\"data row5 col8\" >-0.034538</td>\n",
       "      <td id=\"T_2f00e_row5_col9\" class=\"data row5 col9\" >-0.090014</td>\n",
       "      <td id=\"T_2f00e_row5_col10\" class=\"data row5 col10\" >-0.059147</td>\n",
       "    </tr>\n",
       "    <tr>\n",
       "      <th id=\"T_2f00e_level0_row6\" class=\"row_heading level0 row6\" >number_of_products</th>\n",
       "      <td id=\"T_2f00e_row6_col0\" class=\"data row6 col0\" >-0.019754</td>\n",
       "      <td id=\"T_2f00e_row6_col1\" class=\"data row6 col1\" >0.015735</td>\n",
       "      <td id=\"T_2f00e_row6_col2\" class=\"data row6 col2\" >-0.013653</td>\n",
       "      <td id=\"T_2f00e_row6_col3\" class=\"data row6 col3\" >-0.072270</td>\n",
       "      <td id=\"T_2f00e_row6_col4\" class=\"data row6 col4\" >0.119848</td>\n",
       "      <td id=\"T_2f00e_row6_col5\" class=\"data row6 col5\" >-0.123340</td>\n",
       "      <td id=\"T_2f00e_row6_col6\" class=\"data row6 col6\" >1.000000</td>\n",
       "      <td id=\"T_2f00e_row6_col7\" class=\"data row6 col7\" >0.288734</td>\n",
       "      <td id=\"T_2f00e_row6_col8\" class=\"data row6 col8\" >0.153551</td>\n",
       "      <td id=\"T_2f00e_row6_col9\" class=\"data row6 col9\" >0.438056</td>\n",
       "      <td id=\"T_2f00e_row6_col10\" class=\"data row6 col10\" >-0.017308</td>\n",
       "    </tr>\n",
       "    <tr>\n",
       "      <th id=\"T_2f00e_level0_row7\" class=\"row_heading level0 row7\" >number_of_sellers</th>\n",
       "      <td id=\"T_2f00e_row7_col0\" class=\"data row7 col0\" >-0.040702</td>\n",
       "      <td id=\"T_2f00e_row7_col1\" class=\"data row7 col1\" >0.024884</td>\n",
       "      <td id=\"T_2f00e_row7_col2\" class=\"data row7 col2\" >-0.017162</td>\n",
       "      <td id=\"T_2f00e_row7_col3\" class=\"data row7 col3\" >-0.070536</td>\n",
       "      <td id=\"T_2f00e_row7_col4\" class=\"data row7 col4\" >0.102241</td>\n",
       "      <td id=\"T_2f00e_row7_col5\" class=\"data row7 col5\" >-0.117017</td>\n",
       "      <td id=\"T_2f00e_row7_col6\" class=\"data row7 col6\" >0.288734</td>\n",
       "      <td id=\"T_2f00e_row7_col7\" class=\"data row7 col7\" >1.000000</td>\n",
       "      <td id=\"T_2f00e_row7_col8\" class=\"data row7 col8\" >0.042986</td>\n",
       "      <td id=\"T_2f00e_row7_col9\" class=\"data row7 col9\" >0.133580</td>\n",
       "      <td id=\"T_2f00e_row7_col10\" class=\"data row7 col10\" >-0.007704</td>\n",
       "    </tr>\n",
       "    <tr>\n",
       "      <th id=\"T_2f00e_level0_row8\" class=\"row_heading level0 row8\" >price</th>\n",
       "      <td id=\"T_2f00e_row8_col0\" class=\"data row8 col0\" >0.055638</td>\n",
       "      <td id=\"T_2f00e_row8_col1\" class=\"data row8 col1\" >0.076606</td>\n",
       "      <td id=\"T_2f00e_row8_col2\" class=\"data row8 col2\" >0.016632</td>\n",
       "      <td id=\"T_2f00e_row8_col3\" class=\"data row8 col3\" >-0.012762</td>\n",
       "      <td id=\"T_2f00e_row8_col4\" class=\"data row8 col4\" >0.044660</td>\n",
       "      <td id=\"T_2f00e_row8_col5\" class=\"data row8 col5\" >-0.034538</td>\n",
       "      <td id=\"T_2f00e_row8_col6\" class=\"data row8 col6\" >0.153551</td>\n",
       "      <td id=\"T_2f00e_row8_col7\" class=\"data row8 col7\" >0.042986</td>\n",
       "      <td id=\"T_2f00e_row8_col8\" class=\"data row8 col8\" >1.000000</td>\n",
       "      <td id=\"T_2f00e_row8_col9\" class=\"data row8 col9\" >0.410129</td>\n",
       "      <td id=\"T_2f00e_row8_col10\" class=\"data row8 col10\" >0.079356</td>\n",
       "    </tr>\n",
       "    <tr>\n",
       "      <th id=\"T_2f00e_level0_row9\" class=\"row_heading level0 row9\" >freight_value</th>\n",
       "      <td id=\"T_2f00e_row9_col0\" class=\"data row9 col0\" >0.167284</td>\n",
       "      <td id=\"T_2f00e_row9_col1\" class=\"data row9 col1\" >0.238748</td>\n",
       "      <td id=\"T_2f00e_row9_col2\" class=\"data row9 col2\" >0.023887</td>\n",
       "      <td id=\"T_2f00e_row9_col3\" class=\"data row9 col3\" >-0.058773</td>\n",
       "      <td id=\"T_2f00e_row9_col4\" class=\"data row9 col4\" >0.082778</td>\n",
       "      <td id=\"T_2f00e_row9_col5\" class=\"data row9 col5\" >-0.090014</td>\n",
       "      <td id=\"T_2f00e_row9_col6\" class=\"data row9 col6\" >0.438056</td>\n",
       "      <td id=\"T_2f00e_row9_col7\" class=\"data row9 col7\" >0.133580</td>\n",
       "      <td id=\"T_2f00e_row9_col8\" class=\"data row9 col8\" >0.410129</td>\n",
       "      <td id=\"T_2f00e_row9_col9\" class=\"data row9 col9\" >1.000000</td>\n",
       "      <td id=\"T_2f00e_row9_col10\" class=\"data row9 col10\" >0.314197</td>\n",
       "    </tr>\n",
       "    <tr>\n",
       "      <th id=\"T_2f00e_level0_row10\" class=\"row_heading level0 row10\" >distance_seller_customer</th>\n",
       "      <td id=\"T_2f00e_row10_col0\" class=\"data row10 col0\" >0.394982</td>\n",
       "      <td id=\"T_2f00e_row10_col1\" class=\"data row10 col1\" >0.513563</td>\n",
       "      <td id=\"T_2f00e_row10_col2\" class=\"data row10 col2\" >0.066069</td>\n",
       "      <td id=\"T_2f00e_row10_col3\" class=\"data row10 col3\" >-0.056566</td>\n",
       "      <td id=\"T_2f00e_row10_col4\" class=\"data row10 col4\" >0.043185</td>\n",
       "      <td id=\"T_2f00e_row10_col5\" class=\"data row10 col5\" >-0.059147</td>\n",
       "      <td id=\"T_2f00e_row10_col6\" class=\"data row10 col6\" >-0.017308</td>\n",
       "      <td id=\"T_2f00e_row10_col7\" class=\"data row10 col7\" >-0.007704</td>\n",
       "      <td id=\"T_2f00e_row10_col8\" class=\"data row10 col8\" >0.079356</td>\n",
       "      <td id=\"T_2f00e_row10_col9\" class=\"data row10 col9\" >0.314197</td>\n",
       "      <td id=\"T_2f00e_row10_col10\" class=\"data row10 col10\" >1.000000</td>\n",
       "    </tr>\n",
       "  </tbody>\n",
       "</table>\n"
      ],
      "text/plain": [
       "<pandas.io.formats.style.Styler at 0x13003b040>"
      ]
     },
     "execution_count": 9,
     "metadata": {},
     "output_type": "execute_result"
    }
   ],
   "source": [
    "# YOUR CODE HERE\n",
    "from statsmodels.stats.outliers_influence import variance_inflation_factor as vif\n",
    "\n",
    "orders.corr().style.background_gradient(cmap = 'coolwarm')\n"
   ]
  },
  {
   "cell_type": "markdown",
   "metadata": {},
   "source": [
    "👉 Run your VIF Analysis to analyze the potential multicolinearities:"
   ]
  },
  {
   "cell_type": "code",
   "execution_count": 49,
   "metadata": {
    "ExecuteTime": {
     "end_time": "2021-01-28T09:06:53.963314Z",
     "start_time": "2021-01-28T09:06:53.824067Z"
    },
    "tags": [
     "challengify"
    ]
   },
   "outputs": [
    {
     "data": {
      "text/html": [
       "<div>\n",
       "<style scoped>\n",
       "    .dataframe tbody tr th:only-of-type {\n",
       "        vertical-align: middle;\n",
       "    }\n",
       "\n",
       "    .dataframe tbody tr th {\n",
       "        vertical-align: top;\n",
       "    }\n",
       "\n",
       "    .dataframe thead th {\n",
       "        text-align: right;\n",
       "    }\n",
       "</style>\n",
       "<table border=\"1\" class=\"dataframe\">\n",
       "  <thead>\n",
       "    <tr style=\"text-align: right;\">\n",
       "      <th></th>\n",
       "      <th>wait_time</th>\n",
       "      <th>expected_time</th>\n",
       "      <th>freight_value</th>\n",
       "      <th>price</th>\n",
       "      <th>distance_seller_customer</th>\n",
       "      <th>number_of_sellers</th>\n",
       "      <th>dim_is_one_star</th>\n",
       "      <th>dim_is_five_star</th>\n",
       "      <th>delay_vs_expected</th>\n",
       "    </tr>\n",
       "  </thead>\n",
       "  <tbody>\n",
       "    <tr>\n",
       "      <th>0</th>\n",
       "      <td>-0.431195</td>\n",
       "      <td>-0.431195</td>\n",
       "      <td>-0.652042</td>\n",
       "      <td>-0.513805</td>\n",
       "      <td>-0.979509</td>\n",
       "      <td>-0.112545</td>\n",
       "      <td>0</td>\n",
       "      <td>0</td>\n",
       "      <td>-0.161782</td>\n",
       "    </tr>\n",
       "    <tr>\n",
       "      <th>1</th>\n",
       "      <td>0.134174</td>\n",
       "      <td>0.134174</td>\n",
       "      <td>0.000467</td>\n",
       "      <td>-0.086641</td>\n",
       "      <td>0.429765</td>\n",
       "      <td>-0.112545</td>\n",
       "      <td>0</td>\n",
       "      <td>0</td>\n",
       "      <td>-0.161782</td>\n",
       "    </tr>\n",
       "    <tr>\n",
       "      <th>2</th>\n",
       "      <td>-0.329909</td>\n",
       "      <td>-0.329909</td>\n",
       "      <td>-0.164054</td>\n",
       "      <td>0.111749</td>\n",
       "      <td>-0.145496</td>\n",
       "      <td>-0.112545</td>\n",
       "      <td>0</td>\n",
       "      <td>1</td>\n",
       "      <td>-0.161782</td>\n",
       "    </tr>\n",
       "    <tr>\n",
       "      <th>3</th>\n",
       "      <td>0.073540</td>\n",
       "      <td>0.073540</td>\n",
       "      <td>0.206816</td>\n",
       "      <td>-0.441528</td>\n",
       "      <td>2.054708</td>\n",
       "      <td>-0.112545</td>\n",
       "      <td>0</td>\n",
       "      <td>1</td>\n",
       "      <td>-0.161782</td>\n",
       "    </tr>\n",
       "    <tr>\n",
       "      <th>4</th>\n",
       "      <td>-1.019540</td>\n",
       "      <td>-1.019540</td>\n",
       "      <td>-0.652042</td>\n",
       "      <td>-0.562391</td>\n",
       "      <td>-0.959149</td>\n",
       "      <td>-0.112545</td>\n",
       "      <td>0</td>\n",
       "      <td>1</td>\n",
       "      <td>-0.161782</td>\n",
       "    </tr>\n",
       "    <tr>\n",
       "      <th>...</th>\n",
       "      <td>...</td>\n",
       "      <td>...</td>\n",
       "      <td>...</td>\n",
       "      <td>...</td>\n",
       "      <td>...</td>\n",
       "      <td>...</td>\n",
       "      <td>...</td>\n",
       "      <td>...</td>\n",
       "      <td>...</td>\n",
       "    </tr>\n",
       "    <tr>\n",
       "      <th>95875</th>\n",
       "      <td>-0.454311</td>\n",
       "      <td>-0.454311</td>\n",
       "      <td>-0.449411</td>\n",
       "      <td>-0.311515</td>\n",
       "      <td>-0.893064</td>\n",
       "      <td>-0.112545</td>\n",
       "      <td>0</td>\n",
       "      <td>1</td>\n",
       "      <td>-0.161782</td>\n",
       "    </tr>\n",
       "    <tr>\n",
       "      <th>95876</th>\n",
       "      <td>1.023847</td>\n",
       "      <td>1.023847</td>\n",
       "      <td>-0.123156</td>\n",
       "      <td>0.183978</td>\n",
       "      <td>-0.212800</td>\n",
       "      <td>-0.112545</td>\n",
       "      <td>0</td>\n",
       "      <td>0</td>\n",
       "      <td>-0.161782</td>\n",
       "    </tr>\n",
       "    <tr>\n",
       "      <th>95877</th>\n",
       "      <td>1.305787</td>\n",
       "      <td>1.305787</td>\n",
       "      <td>1.964500</td>\n",
       "      <td>0.333686</td>\n",
       "      <td>0.617659</td>\n",
       "      <td>-0.112545</td>\n",
       "      <td>0</td>\n",
       "      <td>1</td>\n",
       "      <td>-0.161782</td>\n",
       "    </tr>\n",
       "    <tr>\n",
       "      <th>95878</th>\n",
       "      <td>0.483667</td>\n",
       "      <td>0.483667</td>\n",
       "      <td>2.715536</td>\n",
       "      <td>1.075192</td>\n",
       "      <td>-0.387569</td>\n",
       "      <td>-0.112545</td>\n",
       "      <td>0</td>\n",
       "      <td>0</td>\n",
       "      <td>-0.161782</td>\n",
       "    </tr>\n",
       "    <tr>\n",
       "      <th>95879</th>\n",
       "      <td>-0.511817</td>\n",
       "      <td>-0.511817</td>\n",
       "      <td>-0.204023</td>\n",
       "      <td>-0.328368</td>\n",
       "      <td>0.052366</td>\n",
       "      <td>-0.112545</td>\n",
       "      <td>0</td>\n",
       "      <td>1</td>\n",
       "      <td>-0.161782</td>\n",
       "    </tr>\n",
       "  </tbody>\n",
       "</table>\n",
       "<p>95872 rows × 9 columns</p>\n",
       "</div>"
      ],
      "text/plain": [
       "       wait_time  expected_time  freight_value     price  \\\n",
       "0      -0.431195      -0.431195      -0.652042 -0.513805   \n",
       "1       0.134174       0.134174       0.000467 -0.086641   \n",
       "2      -0.329909      -0.329909      -0.164054  0.111749   \n",
       "3       0.073540       0.073540       0.206816 -0.441528   \n",
       "4      -1.019540      -1.019540      -0.652042 -0.562391   \n",
       "...          ...            ...            ...       ...   \n",
       "95875  -0.454311      -0.454311      -0.449411 -0.311515   \n",
       "95876   1.023847       1.023847      -0.123156  0.183978   \n",
       "95877   1.305787       1.305787       1.964500  0.333686   \n",
       "95878   0.483667       0.483667       2.715536  1.075192   \n",
       "95879  -0.511817      -0.511817      -0.204023 -0.328368   \n",
       "\n",
       "       distance_seller_customer  number_of_sellers  dim_is_one_star  \\\n",
       "0                     -0.979509          -0.112545                0   \n",
       "1                      0.429765          -0.112545                0   \n",
       "2                     -0.145496          -0.112545                0   \n",
       "3                      2.054708          -0.112545                0   \n",
       "4                     -0.959149          -0.112545                0   \n",
       "...                         ...                ...              ...   \n",
       "95875                 -0.893064          -0.112545                0   \n",
       "95876                 -0.212800          -0.112545                0   \n",
       "95877                  0.617659          -0.112545                0   \n",
       "95878                 -0.387569          -0.112545                0   \n",
       "95879                  0.052366          -0.112545                0   \n",
       "\n",
       "       dim_is_five_star  delay_vs_expected  \n",
       "0                     0          -0.161782  \n",
       "1                     0          -0.161782  \n",
       "2                     1          -0.161782  \n",
       "3                     1          -0.161782  \n",
       "4                     1          -0.161782  \n",
       "...                 ...                ...  \n",
       "95875                 1          -0.161782  \n",
       "95876                 0          -0.161782  \n",
       "95877                 1          -0.161782  \n",
       "95878                 0          -0.161782  \n",
       "95879                 1          -0.161782  \n",
       "\n",
       "[95872 rows x 9 columns]"
      ]
     },
     "execution_count": 49,
     "metadata": {},
     "output_type": "execute_result"
    }
   ],
   "source": [
    "# YOUR CODE HERE\n",
    "import scipy.stats as stats\n",
    "sa_orders = pd.DataFrame()\n",
    "features = ['wait_time','expected_wait_time','delay_vs_expected','dim_is_five_star','dim_is_one_star','review_score','number_of_products']\n",
    "sa_orders[['wait_time']]= orders[['wait_time']].apply(stats.zscore)\n",
    "sa_orders[['expected_time']]= orders[['wait_time']].apply(stats.zscore)\n",
    "sa_orders[['freight_value']]=orders[['freight_value']].apply(stats.zscore)\n",
    "sa_orders[['price']]=orders[['price']].apply(stats.zscore)\n",
    "sa_orders[['distance_seller_customer']]=orders[['distance_seller_customer']].apply(stats.zscore)\n",
    "sa_orders[['number_of_sellers']]=orders[['number_of_sellers']].apply(stats.zscore)\n",
    "sa_orders[['dim_is_one_star']]=orders[['dim_is_one_star']]\n",
    "sa_orders[['dim_is_five_star']]=orders[['dim_is_five_star']]\n",
    "sa_orders[['delay_vs_expected']]=orders[['delay_vs_expected']].apply(stats.zscore)\n",
    "\n",
    "sa_orders\n"
   ]
  },
  {
   "cell_type": "markdown",
   "metadata": {},
   "source": [
    "👉 Fit two `Logistic Regression` models:\n",
    "- `logit_one` to predict `dim_is_one_star` \n",
    "- `logit_five` to predict `dim_is_five_star`."
   ]
  },
  {
   "cell_type": "markdown",
   "metadata": {},
   "source": [
    "`Logit 1️⃣`"
   ]
  },
  {
   "cell_type": "code",
   "execution_count": 41,
   "metadata": {
    "ExecuteTime": {
     "end_time": "2021-01-28T09:07:02.723928Z",
     "start_time": "2021-01-28T09:07:02.511967Z"
    },
    "tags": [
     "challengify"
    ]
   },
   "outputs": [
    {
     "name": "stderr",
     "output_type": "stream",
     "text": [
      "/Users/selmalopez/.pyenv/versions/3.8.12/envs/lewagon_current/lib/python3.8/site-packages/statsmodels/stats/outliers_influence.py:193: RuntimeWarning: divide by zero encountered in double_scalars\n",
      "  vif = 1. / (1. - r_squared_i)\n"
     ]
    },
    {
     "data": {
      "text/html": [
       "<div>\n",
       "<style scoped>\n",
       "    .dataframe tbody tr th:only-of-type {\n",
       "        vertical-align: middle;\n",
       "    }\n",
       "\n",
       "    .dataframe tbody tr th {\n",
       "        vertical-align: top;\n",
       "    }\n",
       "\n",
       "    .dataframe thead th {\n",
       "        text-align: right;\n",
       "    }\n",
       "</style>\n",
       "<table border=\"1\" class=\"dataframe\">\n",
       "  <thead>\n",
       "    <tr style=\"text-align: right;\">\n",
       "      <th></th>\n",
       "      <th>vif_index</th>\n",
       "      <th>features</th>\n",
       "    </tr>\n",
       "  </thead>\n",
       "  <tbody>\n",
       "    <tr>\n",
       "      <th>0</th>\n",
       "      <td>inf</td>\n",
       "      <td>wait_time</td>\n",
       "    </tr>\n",
       "    <tr>\n",
       "      <th>1</th>\n",
       "      <td>inf</td>\n",
       "      <td>expected_time</td>\n",
       "    </tr>\n",
       "    <tr>\n",
       "      <th>2</th>\n",
       "      <td>1.364553</td>\n",
       "      <td>freight_value</td>\n",
       "    </tr>\n",
       "    <tr>\n",
       "      <th>3</th>\n",
       "      <td>1.206836</td>\n",
       "      <td>price</td>\n",
       "    </tr>\n",
       "    <tr>\n",
       "      <th>4</th>\n",
       "      <td>1.420951</td>\n",
       "      <td>distance_seller_customer</td>\n",
       "    </tr>\n",
       "    <tr>\n",
       "      <th>5</th>\n",
       "      <td>1.039425</td>\n",
       "      <td>number_of_sellers</td>\n",
       "    </tr>\n",
       "    <tr>\n",
       "      <th>6</th>\n",
       "      <td>1.126203</td>\n",
       "      <td>dim_is_one_star</td>\n",
       "    </tr>\n",
       "    <tr>\n",
       "      <th>7</th>\n",
       "      <td>1.029800</td>\n",
       "      <td>dim_is_five-star</td>\n",
       "    </tr>\n",
       "    <tr>\n",
       "      <th>8</th>\n",
       "      <td>2.225828</td>\n",
       "      <td>delay_vs_expected</td>\n",
       "    </tr>\n",
       "  </tbody>\n",
       "</table>\n",
       "</div>"
      ],
      "text/plain": [
       "   vif_index                  features\n",
       "0        inf                 wait_time\n",
       "1        inf             expected_time\n",
       "2   1.364553             freight_value\n",
       "3   1.206836                     price\n",
       "4   1.420951  distance_seller_customer\n",
       "5   1.039425         number_of_sellers\n",
       "6   1.126203           dim_is_one_star\n",
       "7   1.029800          dim_is_five-star\n",
       "8   2.225828         delay_vs_expected"
      ]
     },
     "execution_count": 41,
     "metadata": {},
     "output_type": "execute_result"
    }
   ],
   "source": [
    "# YOUR CODE HERE\n",
    "df = pd.DataFrame()\n",
    "df['vif_index'] = [vif(sa_orders.values,i)for i in range(sa_orders.shape[1])]\n",
    "df['features'] = sa_orders.columns\n",
    "df\n"
   ]
  },
  {
   "cell_type": "markdown",
   "metadata": {},
   "source": [
    "`Logit 5️⃣`"
   ]
  },
  {
   "cell_type": "code",
   "execution_count": 39,
   "metadata": {
    "ExecuteTime": {
     "end_time": "2021-01-28T09:07:05.878447Z",
     "start_time": "2021-01-28T09:07:05.690251Z"
    },
    "tags": [
     "challengify"
    ]
   },
   "outputs": [
    {
     "name": "stdout",
     "output_type": "stream",
     "text": [
      "Optimization terminated successfully.\n",
      "         Current function value: 0.283196\n",
      "         Iterations 7\n"
     ]
    },
    {
     "data": {
      "text/html": [
       "<table class=\"simpletable\">\n",
       "<caption>Logit Regression Results</caption>\n",
       "<tr>\n",
       "  <th>Dep. Variable:</th>    <td>dim_is_one_star</td> <th>  No. Observations:  </th>  <td> 95872</td> \n",
       "</tr>\n",
       "<tr>\n",
       "  <th>Model:</th>                 <td>Logit</td>      <th>  Df Residuals:      </th>  <td> 95869</td> \n",
       "</tr>\n",
       "<tr>\n",
       "  <th>Method:</th>                 <td>MLE</td>       <th>  Df Model:          </th>  <td>     2</td> \n",
       "</tr>\n",
       "<tr>\n",
       "  <th>Date:</th>            <td>Thu, 21 Oct 2021</td> <th>  Pseudo R-squ.:     </th>  <td>0.1147</td> \n",
       "</tr>\n",
       "<tr>\n",
       "  <th>Time:</th>                <td>14:51:15</td>     <th>  Log-Likelihood:    </th> <td> -27151.</td>\n",
       "</tr>\n",
       "<tr>\n",
       "  <th>converged:</th>             <td>True</td>       <th>  LL-Null:           </th> <td> -30669.</td>\n",
       "</tr>\n",
       "<tr>\n",
       "  <th>Covariance Type:</th>     <td>nonrobust</td>    <th>  LLR p-value:       </th>  <td> 0.000</td> \n",
       "</tr>\n",
       "</table>\n",
       "<table class=\"simpletable\">\n",
       "<tr>\n",
       "          <td></td>             <th>coef</th>     <th>std err</th>      <th>z</th>      <th>P>|z|</th>  <th>[0.025</th>    <th>0.975]</th>  \n",
       "</tr>\n",
       "<tr>\n",
       "  <th>Intercept</th>         <td>   -2.3990</td> <td>    0.012</td> <td> -193.843</td> <td> 0.000</td> <td>   -2.423</td> <td>   -2.375</td>\n",
       "</tr>\n",
       "<tr>\n",
       "  <th>delay_vs_expected</th> <td>    0.3367</td> <td>    0.018</td> <td>   19.082</td> <td> 0.000</td> <td>    0.302</td> <td>    0.371</td>\n",
       "</tr>\n",
       "<tr>\n",
       "  <th>wait_time</th>         <td>    0.5589</td> <td>    0.015</td> <td>   38.510</td> <td> 0.000</td> <td>    0.530</td> <td>    0.587</td>\n",
       "</tr>\n",
       "</table>"
      ],
      "text/plain": [
       "<class 'statsmodels.iolib.summary.Summary'>\n",
       "\"\"\"\n",
       "                           Logit Regression Results                           \n",
       "==============================================================================\n",
       "Dep. Variable:        dim_is_one_star   No. Observations:                95872\n",
       "Model:                          Logit   Df Residuals:                    95869\n",
       "Method:                           MLE   Df Model:                            2\n",
       "Date:                Thu, 21 Oct 2021   Pseudo R-squ.:                  0.1147\n",
       "Time:                        14:51:15   Log-Likelihood:                -27151.\n",
       "converged:                       True   LL-Null:                       -30669.\n",
       "Covariance Type:            nonrobust   LLR p-value:                     0.000\n",
       "=====================================================================================\n",
       "                        coef    std err          z      P>|z|      [0.025      0.975]\n",
       "-------------------------------------------------------------------------------------\n",
       "Intercept            -2.3990      0.012   -193.843      0.000      -2.423      -2.375\n",
       "delay_vs_expected     0.3367      0.018     19.082      0.000       0.302       0.371\n",
       "wait_time             0.5589      0.015     38.510      0.000       0.530       0.587\n",
       "=====================================================================================\n",
       "\"\"\""
      ]
     },
     "execution_count": 39,
     "metadata": {},
     "output_type": "execute_result"
    }
   ],
   "source": [
    "# YOUR CODE HERE\n",
    "logit_one = smf.logit(formula='dim_is_one_star ~ delay_vs_expected + wait_time',data = sa_orders).fit();\n",
    "logit_one.summary()"
   ]
  },
  {
   "cell_type": "code",
   "execution_count": 50,
   "metadata": {},
   "outputs": [
    {
     "name": "stdout",
     "output_type": "stream",
     "text": [
      "Optimization terminated successfully.\n",
      "         Current function value: 0.642678\n",
      "         Iterations 7\n"
     ]
    },
    {
     "data": {
      "text/plain": [
       "Intercept            0.336675\n",
       "wait_time           -0.440557\n",
       "delay_vs_expected   -0.492699\n",
       "price               -0.000837\n",
       "dtype: float64"
      ]
     },
     "execution_count": 50,
     "metadata": {},
     "output_type": "execute_result"
    }
   ],
   "source": [
    "logit_five = smf.logit(formula='dim_is_five_star ~ wait_time + delay_vs_expected + wait_time + price',data = sa_orders).fit();\n",
    "logit_five.params"
   ]
  },
  {
   "cell_type": "markdown",
   "metadata": {},
   "source": [
    "💡 It's time to analyse the results of these two logistic regressions:\n",
    "\n",
    "- Interpret the partial coefficients in your own words.\n",
    "- Check their statistical significances with `p-values`\n",
    "- Do you notice any differences between `logit_one` and `logit_five` in terms of coefficient importances?"
   ]
  },
  {
   "cell_type": "code",
   "execution_count": 56,
   "metadata": {
    "ExecuteTime": {
     "end_time": "2021-01-28T09:07:18.487179Z",
     "start_time": "2021-01-28T09:07:18.484162Z"
    }
   },
   "outputs": [],
   "source": [
    "# Among the following sentences, store the ones that are true in the list below\n",
    "\n",
    "a = \"delay_vs_expected influences five_star ratings even more than one_star ratings\"\n",
    "b = \"wait_time influences five_star ratings even more more than one_star\"\n",
    "\n",
    "your_answer = [a]"
   ]
  },
  {
   "cell_type": "markdown",
   "metadata": {},
   "source": [
    "🧪 __Test your code__"
   ]
  },
  {
   "cell_type": "code",
   "execution_count": 57,
   "metadata": {
    "ExecuteTime": {
     "end_time": "2021-01-28T09:07:20.395306Z",
     "start_time": "2021-01-28T09:07:20.018791Z"
    }
   },
   "outputs": [
    {
     "name": "stdout",
     "output_type": "stream",
     "text": [
      "\u001b[1m============================= test session starts ==============================\u001b[0m\n",
      "platform darwin -- Python 3.8.12, pytest-6.2.5, py-1.10.0, pluggy-1.0.0 -- /Users/selmalopez/.pyenv/versions/lewagon_current/bin/python3\n",
      "cachedir: .pytest_cache\n",
      "rootdir: /Users/selmalopez/code/selmalopez/data-challenges/04-Decision-Science/04-Logistic-Regression/01-Logit\n",
      "plugins: dash-2.0.0, anyio-3.3.2\n",
      "\u001b[1mcollecting ... \u001b[0mcollected 1 item\n",
      "\n",
      "tests/test_logit.py::TestLogit::test_question \u001b[32mPASSED\u001b[0m\u001b[32m                     [100%]\u001b[0m\n",
      "\n",
      "\u001b[32m============================== \u001b[32m\u001b[1m1 passed\u001b[0m\u001b[32m in 0.04s\u001b[0m\u001b[32m ===============================\u001b[0m\n",
      "\n",
      "\n",
      "💯 You can commit your code:\n",
      "\n",
      "\u001b[1;32mgit\u001b[39m add tests/logit.pickle\n",
      "\n",
      "\u001b[32mgit\u001b[39m commit -m \u001b[33m'Completed logit step'\u001b[39m\n",
      "\n",
      "\u001b[32mgit\u001b[39m push origin master\n"
     ]
    }
   ],
   "source": [
    "from nbresult import ChallengeResult\n",
    "\n",
    "result = ChallengeResult('logit',\n",
    "    answers = your_answer\n",
    ")\n",
    "result.write()\n",
    "print(result.check())"
   ]
  },
  {
   "cell_type": "markdown",
   "metadata": {},
   "source": [
    "<details>\n",
    "    <summary>- <i>Explanations</i> -</summary>\n",
    "\n",
    "\n",
    "> _All other thing being equal, the `delay factor` tends to increase the chances of getting stripped of the 5-star even more so than it affect the chances of 1-star reviews. Probably because 1-stars are really targeting bad products themselves, not bad deliveries_\n",
    "    \n",
    "</details>\n"
   ]
  },
  {
   "cell_type": "markdown",
   "metadata": {},
   "source": [
    "👉 Compare:\n",
    "- the regression coefficients obtained from the `Logistic Regression `\n",
    "- with the regression coefficients obtained through the `Linear Regression` \n",
    "- on `review_score`, using the same features. \n",
    "\n",
    "⚠️ Make sure both sets of coefficients  tell  \"the same story\"."
   ]
  },
  {
   "cell_type": "markdown",
   "metadata": {},
   "source": [
    "**`Linear Regression`** of the Review score w.r.t. selected features :"
   ]
  },
  {
   "cell_type": "markdown",
   "metadata": {},
   "source": [
    "1️⃣ Fit the Linear Regression:"
   ]
  },
  {
   "cell_type": "code",
   "execution_count": 26,
   "metadata": {
    "tags": [
     "challengify"
    ]
   },
   "outputs": [],
   "source": [
    "# YOUR CODE HERE\n"
   ]
  },
  {
   "cell_type": "markdown",
   "metadata": {},
   "source": [
    "2️⃣ Print its summary:"
   ]
  },
  {
   "cell_type": "code",
   "execution_count": 30,
   "metadata": {
    "tags": [
     "challengify"
    ]
   },
   "outputs": [],
   "source": [
    "# YOUR CODE HERE"
   ]
  },
  {
   "cell_type": "markdown",
   "metadata": {},
   "source": [
    "3️⃣ Print the summary of the `logit_five` "
   ]
  },
  {
   "cell_type": "code",
   "execution_count": 31,
   "metadata": {
    "ExecuteTime": {
     "end_time": "2021-01-28T09:36:30.986902Z",
     "start_time": "2021-01-28T09:36:30.907800Z"
    },
    "tags": [
     "challengify"
    ]
   },
   "outputs": [],
   "source": [
    "# YOUR CODE HERE"
   ]
  },
  {
   "cell_type": "markdown",
   "metadata": {},
   "source": [
    "4️⃣ Compare `logit_five` and `linear_regression` regression coefficients.\n",
    "\n",
    "<details>\n",
    "    <summary>- <i>Hints</i> -</summary>\n",
    "\n",
    "\n",
    "* Plot a sorted horizontal barchat of the regression cofficients for each model\n",
    "* Plot them side-by-side !\n",
    "    \n",
    "</details>\n"
   ]
  },
  {
   "cell_type": "code",
   "execution_count": 28,
   "metadata": {
    "ExecuteTime": {
     "end_time": "2021-01-28T09:27:42.452084Z",
     "start_time": "2021-01-28T09:27:42.192147Z"
    },
    "tags": [
     "challengify"
    ]
   },
   "outputs": [],
   "source": [
    "# YOUR CODE HERE"
   ]
  },
  {
   "cell_type": "markdown",
   "metadata": {
    "ExecuteTime": {
     "end_time": "2021-01-28T09:29:21.241228Z",
     "start_time": "2021-01-28T09:29:21.236809Z"
    }
   },
   "source": [
    "<details>\n",
    "    <summary><i> - Explanations -</i></summary>\n",
    "\n",
    "\n",
    "* A side-by-side comparison of the linear regression on `review_score` and the logistic regression on `dim_is_five_star` clearly shows that : <br/>\n",
    "    The most important feature when it comes to  `review_score` and `dim_is_five_star` is the same :`wait_time` (surprised ? probably not, but at least this is confirmed statistically !)_\n",
    "    \n",
    "</details>"
   ]
  },
  {
   "cell_type": "markdown",
   "metadata": {},
   "source": [
    "🏁 Congratulations! \n",
    "\n",
    "💾 Don't forget to commit and push your `logit.ipynb` notebook !"
   ]
  },
  {
   "cell_type": "code",
   "execution_count": null,
   "metadata": {},
   "outputs": [],
   "source": []
  }
 ],
 "metadata": {
  "kernelspec": {
   "display_name": "Python 3 (ipykernel)",
   "language": "python",
   "name": "python3"
  },
  "language_info": {
   "codemirror_mode": {
    "name": "ipython",
    "version": 3
   },
   "file_extension": ".py",
   "mimetype": "text/x-python",
   "name": "python",
   "nbconvert_exporter": "python",
   "pygments_lexer": "ipython3",
   "version": "3.8.12"
  },
  "toc": {
   "base_numbering": 1,
   "nav_menu": {},
   "number_sections": false,
   "sideBar": true,
   "skip_h1_title": false,
   "title_cell": "Table of Contents",
   "title_sidebar": "Contents",
   "toc_cell": false,
   "toc_position": {},
   "toc_section_display": true,
   "toc_window_display": false
  },
  "varInspector": {
   "cols": {
    "lenName": 16,
    "lenType": 16,
    "lenVar": 40
   },
   "kernels_config": {
    "python": {
     "delete_cmd_postfix": "",
     "delete_cmd_prefix": "del ",
     "library": "var_list.py",
     "varRefreshCmd": "print(var_dic_list())"
    },
    "r": {
     "delete_cmd_postfix": ") ",
     "delete_cmd_prefix": "rm(",
     "library": "var_list.r",
     "varRefreshCmd": "cat(var_dic_list()) "
    }
   },
   "types_to_exclude": [
    "module",
    "function",
    "builtin_function_or_method",
    "instance",
    "_Feature"
   ],
   "window_display": false
  }
 },
 "nbformat": 4,
 "nbformat_minor": 4
}
