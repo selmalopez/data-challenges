{
 "cells": [
  {
   "cell_type": "code",
   "execution_count": 6,
   "metadata": {
    "ExecuteTime": {
     "end_time": "2021-10-22T08:37:30.421533Z",
     "start_time": "2021-10-22T08:37:30.403021Z"
    }
   },
   "outputs": [],
   "source": [
    "%load_ext autoreload\n",
    "%autoreload 2\n",
    "\n",
    "import numpy as np\n",
    "import pandas as pd\n",
    "import matplotlib.pyplot as plt\n",
    "import seaborn as sns"
   ]
  },
  {
   "cell_type": "markdown",
   "metadata": {},
   "source": [
    "# SELLER P&L ANALYSIS"
   ]
  },
  {
   "cell_type": "markdown",
   "metadata": {},
   "source": [
    "The goal of this exercise is to compute, for each `seller_id`:\n",
    "\n",
    "- The **revenue** it brings (10% of each sales + 80 BRL per month)\n",
    "- The **cost** associated with all its bad reviews (1-star = 100 BRL, 2-star = 50, 3-star=40)\n",
    "- The resulting **profit** made by Olist for each seller\n",
    "\n",
    "❓ Let's not start all again from scratch! Import your seller training set and investigate what you already have.\n"
   ]
  },
  {
   "cell_type": "code",
   "execution_count": 1,
   "metadata": {
    "ExecuteTime": {
     "end_time": "2021-10-22T08:37:14.247331Z",
     "start_time": "2021-10-22T08:37:13.275919Z"
    }
   },
   "outputs": [],
   "source": [
    "from olist.seller import Seller"
   ]
  },
  {
   "cell_type": "code",
   "execution_count": 2,
   "metadata": {
    "ExecuteTime": {
     "end_time": "2021-10-22T08:37:22.058221Z",
     "start_time": "2021-10-22T08:37:14.390679Z"
    }
   },
   "outputs": [],
   "source": [
    "# Thanks to autoreload, a new instance of Seller benefits from the latest update in seller.py\n",
    "sellers = Seller().get_training_data()"
   ]
  },
  {
   "cell_type": "code",
   "execution_count": 21,
   "metadata": {
    "ExecuteTime": {
     "end_time": "2021-10-21T15:38:22.107202Z",
     "start_time": "2021-10-21T15:38:22.080631Z"
    },
    "scrolled": true
   },
   "outputs": [
    {
     "data": {
      "text/html": [
       "<div>\n",
       "<style scoped>\n",
       "    .dataframe tbody tr th:only-of-type {\n",
       "        vertical-align: middle;\n",
       "    }\n",
       "\n",
       "    .dataframe tbody tr th {\n",
       "        vertical-align: top;\n",
       "    }\n",
       "\n",
       "    .dataframe thead th {\n",
       "        text-align: right;\n",
       "    }\n",
       "</style>\n",
       "<table border=\"1\" class=\"dataframe\">\n",
       "  <thead>\n",
       "    <tr style=\"text-align: right;\">\n",
       "      <th></th>\n",
       "      <th>seller_id</th>\n",
       "      <th>seller_city</th>\n",
       "      <th>seller_state</th>\n",
       "      <th>delay_to_carrier</th>\n",
       "      <th>wait_time</th>\n",
       "      <th>date_first_sale</th>\n",
       "      <th>date_last_sale</th>\n",
       "      <th>months_on_olist</th>\n",
       "      <th>share_of_one_stars</th>\n",
       "      <th>share_of_five_stars</th>\n",
       "      <th>review_score</th>\n",
       "      <th>review_cost</th>\n",
       "      <th>n_orders</th>\n",
       "      <th>quantity</th>\n",
       "      <th>quantity_per_order</th>\n",
       "      <th>sales</th>\n",
       "      <th>revenue</th>\n",
       "      <th>profit</th>\n",
       "    </tr>\n",
       "  </thead>\n",
       "  <tbody>\n",
       "    <tr>\n",
       "      <th>0</th>\n",
       "      <td>3442f8959a84dea7ee197c632cb2df15</td>\n",
       "      <td>campinas</td>\n",
       "      <td>SP</td>\n",
       "      <td>0.000000</td>\n",
       "      <td>13.018588</td>\n",
       "      <td>2017-05-05 16:25:11</td>\n",
       "      <td>2017-08-30 12:50:19</td>\n",
       "      <td>4.0</td>\n",
       "      <td>0.333333</td>\n",
       "      <td>0.333333</td>\n",
       "      <td>3.00</td>\n",
       "      <td>140</td>\n",
       "      <td>3</td>\n",
       "      <td>3</td>\n",
       "      <td>1.000</td>\n",
       "      <td>218.70</td>\n",
       "      <td>341.870</td>\n",
       "      <td>201.870</td>\n",
       "    </tr>\n",
       "    <tr>\n",
       "      <th>1</th>\n",
       "      <td>d1b65fc7debc3361ea86b5f14c68d2e2</td>\n",
       "      <td>mogi guacu</td>\n",
       "      <td>SP</td>\n",
       "      <td>0.000000</td>\n",
       "      <td>9.065716</td>\n",
       "      <td>2017-03-29 02:10:34</td>\n",
       "      <td>2018-06-06 20:15:21</td>\n",
       "      <td>14.0</td>\n",
       "      <td>0.050000</td>\n",
       "      <td>0.725000</td>\n",
       "      <td>4.55</td>\n",
       "      <td>240</td>\n",
       "      <td>40</td>\n",
       "      <td>41</td>\n",
       "      <td>1.025</td>\n",
       "      <td>11703.07</td>\n",
       "      <td>2290.307</td>\n",
       "      <td>2050.307</td>\n",
       "    </tr>\n",
       "    <tr>\n",
       "      <th>2</th>\n",
       "      <td>ce3ad9de960102d0677a81f5d0bb7b2d</td>\n",
       "      <td>rio de janeiro</td>\n",
       "      <td>RJ</td>\n",
       "      <td>0.000000</td>\n",
       "      <td>4.042292</td>\n",
       "      <td>2018-07-30 12:44:49</td>\n",
       "      <td>2018-07-30 12:44:49</td>\n",
       "      <td>0.0</td>\n",
       "      <td>0.000000</td>\n",
       "      <td>1.000000</td>\n",
       "      <td>5.00</td>\n",
       "      <td>0</td>\n",
       "      <td>1</td>\n",
       "      <td>1</td>\n",
       "      <td>1.000</td>\n",
       "      <td>158.00</td>\n",
       "      <td>15.800</td>\n",
       "      <td>15.800</td>\n",
       "    </tr>\n",
       "    <tr>\n",
       "      <th>3</th>\n",
       "      <td>c0f3eea2e14555b6faeea3dd58c1b1c3</td>\n",
       "      <td>sao paulo</td>\n",
       "      <td>SP</td>\n",
       "      <td>0.000000</td>\n",
       "      <td>5.667187</td>\n",
       "      <td>2018-08-03 00:44:08</td>\n",
       "      <td>2018-08-03 00:44:08</td>\n",
       "      <td>0.0</td>\n",
       "      <td>0.000000</td>\n",
       "      <td>1.000000</td>\n",
       "      <td>5.00</td>\n",
       "      <td>0</td>\n",
       "      <td>1</td>\n",
       "      <td>1</td>\n",
       "      <td>1.000</td>\n",
       "      <td>79.99</td>\n",
       "      <td>7.999</td>\n",
       "      <td>7.999</td>\n",
       "    </tr>\n",
       "    <tr>\n",
       "      <th>4</th>\n",
       "      <td>51a04a8a6bdcb23deccc82b0b80742cf</td>\n",
       "      <td>braganca paulista</td>\n",
       "      <td>SP</td>\n",
       "      <td>3.353727</td>\n",
       "      <td>35.314861</td>\n",
       "      <td>2017-11-14 12:15:25</td>\n",
       "      <td>2017-11-14 12:15:25</td>\n",
       "      <td>0.0</td>\n",
       "      <td>1.000000</td>\n",
       "      <td>0.000000</td>\n",
       "      <td>1.00</td>\n",
       "      <td>100</td>\n",
       "      <td>1</td>\n",
       "      <td>1</td>\n",
       "      <td>1.000</td>\n",
       "      <td>167.99</td>\n",
       "      <td>16.799</td>\n",
       "      <td>-83.201</td>\n",
       "    </tr>\n",
       "  </tbody>\n",
       "</table>\n",
       "</div>"
      ],
      "text/plain": [
       "                          seller_id        seller_city seller_state  \\\n",
       "0  3442f8959a84dea7ee197c632cb2df15           campinas           SP   \n",
       "1  d1b65fc7debc3361ea86b5f14c68d2e2         mogi guacu           SP   \n",
       "2  ce3ad9de960102d0677a81f5d0bb7b2d     rio de janeiro           RJ   \n",
       "3  c0f3eea2e14555b6faeea3dd58c1b1c3          sao paulo           SP   \n",
       "4  51a04a8a6bdcb23deccc82b0b80742cf  braganca paulista           SP   \n",
       "\n",
       "   delay_to_carrier  wait_time     date_first_sale      date_last_sale  \\\n",
       "0          0.000000  13.018588 2017-05-05 16:25:11 2017-08-30 12:50:19   \n",
       "1          0.000000   9.065716 2017-03-29 02:10:34 2018-06-06 20:15:21   \n",
       "2          0.000000   4.042292 2018-07-30 12:44:49 2018-07-30 12:44:49   \n",
       "3          0.000000   5.667187 2018-08-03 00:44:08 2018-08-03 00:44:08   \n",
       "4          3.353727  35.314861 2017-11-14 12:15:25 2017-11-14 12:15:25   \n",
       "\n",
       "   months_on_olist  share_of_one_stars  share_of_five_stars  review_score  \\\n",
       "0              4.0            0.333333             0.333333          3.00   \n",
       "1             14.0            0.050000             0.725000          4.55   \n",
       "2              0.0            0.000000             1.000000          5.00   \n",
       "3              0.0            0.000000             1.000000          5.00   \n",
       "4              0.0            1.000000             0.000000          1.00   \n",
       "\n",
       "   review_cost  n_orders  quantity  quantity_per_order     sales   revenue  \\\n",
       "0          140         3         3               1.000    218.70   341.870   \n",
       "1          240        40        41               1.025  11703.07  2290.307   \n",
       "2            0         1         1               1.000    158.00    15.800   \n",
       "3            0         1         1               1.000     79.99     7.999   \n",
       "4          100         1         1               1.000    167.99    16.799   \n",
       "\n",
       "     profit  \n",
       "0   201.870  \n",
       "1  2050.307  \n",
       "2    15.800  \n",
       "3     7.999  \n",
       "4   -83.201  "
      ]
     },
     "execution_count": 21,
     "metadata": {},
     "output_type": "execute_result"
    }
   ],
   "source": [
    "sellers.head()"
   ]
  },
  {
   "cell_type": "markdown",
   "metadata": {},
   "source": [
    "❓ What is missing? Write down a strategy to get your missing columns, by re-using as much of  what has already been coded in `seller.py` as possible"
   ]
  },
  {
   "cell_type": "code",
   "execution_count": null,
   "metadata": {},
   "outputs": [],
   "source": [
    "# Revenue: Sum overall sales of seller, apply subscription to number of months of activity\n",
    "\n",
    "# Review Cost: Associate review cost to orders and sum by seller\n",
    "\n",
    "# Profit: Difference of Revenue and Review Cost"
   ]
  },
  {
   "cell_type": "markdown",
   "metadata": {},
   "source": [
    "❓ Update `seller.py` accordingly"
   ]
  },
  {
   "cell_type": "code",
   "execution_count": 7,
   "metadata": {
    "ExecuteTime": {
     "end_time": "2021-10-21T15:22:06.431454Z",
     "start_time": "2021-10-21T15:22:02.886133Z"
    }
   },
   "outputs": [],
   "source": [
    "# Modify method below to return review cost of seller\n",
    "\n",
    "def get_review_score(self=Seller()):\n",
    "\n",
    "    matching_table = self.matching_table\n",
    "    orders_reviews = self.order.get_review_score()\n",
    "    matching_table = matching_table[['order_id', 'seller_id']].drop_duplicates()\n",
    "    df = matching_table.merge(orders_reviews, on='order_id')\n",
    "\n",
    "    # Map review with cost\n",
    "    costs = {1: 100,\n",
    "             2: 50,\n",
    "             3: 40,\n",
    "             4: 0,\n",
    "             5: 0}\n",
    "    \n",
    "    # Get review cost for each order\n",
    "    df[\"review_cost\"] = df[\"review_score\"].map(costs)\n",
    "    \n",
    "    df = df.groupby('seller_id',\n",
    "                    as_index=False).agg({'dim_is_one_star': 'mean',\n",
    "                                         'dim_is_five_star': 'mean',\n",
    "                                         'review_score': 'mean',\n",
    "                                         'review_cost': 'sum'}) # add agg for review cost\n",
    "    \n",
    "    df.columns = ['seller_id', 'share_of_one_stars',\n",
    "                  'share_of_five_stars', 'review_score', 'review_cost'] # add new column name\n",
    "\n",
    "    return df"
   ]
  },
  {
   "cell_type": "code",
   "execution_count": 8,
   "metadata": {
    "ExecuteTime": {
     "end_time": "2021-10-21T15:22:09.426474Z",
     "start_time": "2021-10-21T15:22:09.258237Z"
    }
   },
   "outputs": [
    {
     "data": {
      "text/html": [
       "<div>\n",
       "<style scoped>\n",
       "    .dataframe tbody tr th:only-of-type {\n",
       "        vertical-align: middle;\n",
       "    }\n",
       "\n",
       "    .dataframe tbody tr th {\n",
       "        vertical-align: top;\n",
       "    }\n",
       "\n",
       "    .dataframe thead th {\n",
       "        text-align: right;\n",
       "    }\n",
       "</style>\n",
       "<table border=\"1\" class=\"dataframe\">\n",
       "  <thead>\n",
       "    <tr style=\"text-align: right;\">\n",
       "      <th></th>\n",
       "      <th>seller_id</th>\n",
       "      <th>share_of_one_stars</th>\n",
       "      <th>share_of_five_stars</th>\n",
       "      <th>review_score</th>\n",
       "      <th>review_cost</th>\n",
       "    </tr>\n",
       "  </thead>\n",
       "  <tbody>\n",
       "    <tr>\n",
       "      <th>0</th>\n",
       "      <td>0015a82c2db000af6aaaf3ae2ecb0532</td>\n",
       "      <td>0.333333</td>\n",
       "      <td>0.666667</td>\n",
       "      <td>3.666667</td>\n",
       "      <td>100</td>\n",
       "    </tr>\n",
       "    <tr>\n",
       "      <th>1</th>\n",
       "      <td>001cca7ae9ae17fb1caed9dfb1094831</td>\n",
       "      <td>0.130000</td>\n",
       "      <td>0.520000</td>\n",
       "      <td>3.950000</td>\n",
       "      <td>3800</td>\n",
       "    </tr>\n",
       "    <tr>\n",
       "      <th>2</th>\n",
       "      <td>001e6ad469a905060d959994f1b41e4f</td>\n",
       "      <td>1.000000</td>\n",
       "      <td>0.000000</td>\n",
       "      <td>1.000000</td>\n",
       "      <td>100</td>\n",
       "    </tr>\n",
       "    <tr>\n",
       "      <th>3</th>\n",
       "      <td>002100f778ceb8431b7a1020ff7ab48f</td>\n",
       "      <td>0.134615</td>\n",
       "      <td>0.519231</td>\n",
       "      <td>3.903846</td>\n",
       "      <td>1110</td>\n",
       "    </tr>\n",
       "    <tr>\n",
       "      <th>4</th>\n",
       "      <td>003554e2dce176b5555353e4f3555ac8</td>\n",
       "      <td>0.000000</td>\n",
       "      <td>1.000000</td>\n",
       "      <td>5.000000</td>\n",
       "      <td>0</td>\n",
       "    </tr>\n",
       "    <tr>\n",
       "      <th>...</th>\n",
       "      <td>...</td>\n",
       "      <td>...</td>\n",
       "      <td>...</td>\n",
       "      <td>...</td>\n",
       "      <td>...</td>\n",
       "    </tr>\n",
       "    <tr>\n",
       "      <th>3090</th>\n",
       "      <td>ffcfefa19b08742c5d315f2791395ee5</td>\n",
       "      <td>1.000000</td>\n",
       "      <td>0.000000</td>\n",
       "      <td>1.000000</td>\n",
       "      <td>100</td>\n",
       "    </tr>\n",
       "    <tr>\n",
       "      <th>3091</th>\n",
       "      <td>ffdd9f82b9a447f6f8d4b91554cc7dd3</td>\n",
       "      <td>0.055556</td>\n",
       "      <td>0.666667</td>\n",
       "      <td>4.333333</td>\n",
       "      <td>190</td>\n",
       "    </tr>\n",
       "    <tr>\n",
       "      <th>3092</th>\n",
       "      <td>ffeee66ac5d5a62fe688b9d26f83f534</td>\n",
       "      <td>0.142857</td>\n",
       "      <td>0.642857</td>\n",
       "      <td>4.214286</td>\n",
       "      <td>200</td>\n",
       "    </tr>\n",
       "    <tr>\n",
       "      <th>3093</th>\n",
       "      <td>fffd5413c0700ac820c7069d66d98c89</td>\n",
       "      <td>0.183333</td>\n",
       "      <td>0.550000</td>\n",
       "      <td>3.866667</td>\n",
       "      <td>1360</td>\n",
       "    </tr>\n",
       "    <tr>\n",
       "      <th>3094</th>\n",
       "      <td>ffff564a4f9085cd26170f4732393726</td>\n",
       "      <td>0.650000</td>\n",
       "      <td>0.200000</td>\n",
       "      <td>2.100000</td>\n",
       "      <td>1420</td>\n",
       "    </tr>\n",
       "  </tbody>\n",
       "</table>\n",
       "<p>3095 rows × 5 columns</p>\n",
       "</div>"
      ],
      "text/plain": [
       "                             seller_id  share_of_one_stars  \\\n",
       "0     0015a82c2db000af6aaaf3ae2ecb0532            0.333333   \n",
       "1     001cca7ae9ae17fb1caed9dfb1094831            0.130000   \n",
       "2     001e6ad469a905060d959994f1b41e4f            1.000000   \n",
       "3     002100f778ceb8431b7a1020ff7ab48f            0.134615   \n",
       "4     003554e2dce176b5555353e4f3555ac8            0.000000   \n",
       "...                                ...                 ...   \n",
       "3090  ffcfefa19b08742c5d315f2791395ee5            1.000000   \n",
       "3091  ffdd9f82b9a447f6f8d4b91554cc7dd3            0.055556   \n",
       "3092  ffeee66ac5d5a62fe688b9d26f83f534            0.142857   \n",
       "3093  fffd5413c0700ac820c7069d66d98c89            0.183333   \n",
       "3094  ffff564a4f9085cd26170f4732393726            0.650000   \n",
       "\n",
       "      share_of_five_stars  review_score  review_cost  \n",
       "0                0.666667      3.666667          100  \n",
       "1                0.520000      3.950000         3800  \n",
       "2                0.000000      1.000000          100  \n",
       "3                0.519231      3.903846         1110  \n",
       "4                1.000000      5.000000            0  \n",
       "...                   ...           ...          ...  \n",
       "3090             0.000000      1.000000          100  \n",
       "3091             0.666667      4.333333          190  \n",
       "3092             0.642857      4.214286          200  \n",
       "3093             0.550000      3.866667         1360  \n",
       "3094             0.200000      2.100000         1420  \n",
       "\n",
       "[3095 rows x 5 columns]"
      ]
     },
     "execution_count": 8,
     "metadata": {},
     "output_type": "execute_result"
    }
   ],
   "source": [
    "get_review_score()"
   ]
  },
  {
   "cell_type": "markdown",
   "metadata": {},
   "source": [
    "❓ Compute seller profits"
   ]
  },
  {
   "cell_type": "code",
   "execution_count": 12,
   "metadata": {
    "ExecuteTime": {
     "end_time": "2021-10-21T15:26:25.404862Z",
     "start_time": "2021-10-21T15:26:25.387921Z"
    }
   },
   "outputs": [],
   "source": [
    "# Handy for storing params\n",
    "from dotmap import DotMap"
   ]
  },
  {
   "cell_type": "code",
   "execution_count": 18,
   "metadata": {
    "ExecuteTime": {
     "end_time": "2021-10-21T15:35:40.521205Z",
     "start_time": "2021-10-21T15:35:36.977915Z"
    }
   },
   "outputs": [],
   "source": [
    "# Modify method below to return revenue, cost and profit of seller\n",
    "\n",
    "def get_training_data(self=Seller()):\n",
    "        \"\"\"\n",
    "        Returns a DataFrame with:\n",
    "        'seller_id', 'seller_state', 'seller_city', 'delay_to_carrier',\n",
    "        'wait_time', 'share_of_five_stars', 'share_of_one_stars',\n",
    "        'seller_review_score', 'n_orders', 'quantity,' 'date_first_sale', 'date_last_sale', 'sales'\n",
    "        \"\"\"\n",
    "\n",
    "        training_set =\\\n",
    "            self.get_seller_features()\\\n",
    "                .merge(\n",
    "                self.get_seller_delay_wait_time(), on='seller_id'\n",
    "               ).merge(\n",
    "                self.get_active_dates(), on='seller_id'\n",
    "               ).merge(\n",
    "                self.get_review_score(), on='seller_id'\n",
    "               ).merge(\n",
    "                self.get_quantity(), on='seller_id'\n",
    "               ).merge(\n",
    "                self.get_sales(), on='seller_id'\n",
    "               )\n",
    "        \n",
    "        # Set parameters\n",
    "        config = DotMap({\"sales\": 0.1, \"subscription\": 80})\n",
    "        \n",
    "        # Compute Revenue, fees on sales + subscriptions\n",
    "        training_set[\"revenue\"] = training_set[\"sales\"] * config.sales \\\n",
    "                                    + training_set[\"months_on_olist\"] * config.subscription\n",
    "        \n",
    "        # Compute Profit, revenue - cost\n",
    "        training_set[\"profit\"] = training_set[\"revenue\"] - training_set[\"review_cost\"]\n",
    "        \n",
    "        return training_set"
   ]
  },
  {
   "cell_type": "code",
   "execution_count": 19,
   "metadata": {
    "ExecuteTime": {
     "end_time": "2021-10-21T15:36:04.504021Z",
     "start_time": "2021-10-21T15:36:01.393438Z"
    }
   },
   "outputs": [
    {
     "data": {
      "text/html": [
       "<div>\n",
       "<style scoped>\n",
       "    .dataframe tbody tr th:only-of-type {\n",
       "        vertical-align: middle;\n",
       "    }\n",
       "\n",
       "    .dataframe tbody tr th {\n",
       "        vertical-align: top;\n",
       "    }\n",
       "\n",
       "    .dataframe thead th {\n",
       "        text-align: right;\n",
       "    }\n",
       "</style>\n",
       "<table border=\"1\" class=\"dataframe\">\n",
       "  <thead>\n",
       "    <tr style=\"text-align: right;\">\n",
       "      <th></th>\n",
       "      <th>seller_id</th>\n",
       "      <th>seller_city</th>\n",
       "      <th>seller_state</th>\n",
       "      <th>delay_to_carrier</th>\n",
       "      <th>wait_time</th>\n",
       "      <th>date_first_sale</th>\n",
       "      <th>date_last_sale</th>\n",
       "      <th>months_on_olist</th>\n",
       "      <th>share_of_one_stars</th>\n",
       "      <th>share_of_five_stars</th>\n",
       "      <th>review_score</th>\n",
       "      <th>review_cost</th>\n",
       "      <th>n_orders</th>\n",
       "      <th>quantity</th>\n",
       "      <th>quantity_per_order</th>\n",
       "      <th>sales</th>\n",
       "      <th>revenue</th>\n",
       "      <th>profit</th>\n",
       "    </tr>\n",
       "  </thead>\n",
       "  <tbody>\n",
       "    <tr>\n",
       "      <th>0</th>\n",
       "      <td>3442f8959a84dea7ee197c632cb2df15</td>\n",
       "      <td>campinas</td>\n",
       "      <td>SP</td>\n",
       "      <td>0.000000</td>\n",
       "      <td>13.018588</td>\n",
       "      <td>2017-05-05 16:25:11</td>\n",
       "      <td>2017-08-30 12:50:19</td>\n",
       "      <td>4.0</td>\n",
       "      <td>0.333333</td>\n",
       "      <td>0.333333</td>\n",
       "      <td>3.00</td>\n",
       "      <td>140</td>\n",
       "      <td>3</td>\n",
       "      <td>3</td>\n",
       "      <td>1.000000</td>\n",
       "      <td>218.70</td>\n",
       "      <td>341.870</td>\n",
       "      <td>201.870</td>\n",
       "    </tr>\n",
       "    <tr>\n",
       "      <th>1</th>\n",
       "      <td>d1b65fc7debc3361ea86b5f14c68d2e2</td>\n",
       "      <td>mogi guacu</td>\n",
       "      <td>SP</td>\n",
       "      <td>0.000000</td>\n",
       "      <td>9.065716</td>\n",
       "      <td>2017-03-29 02:10:34</td>\n",
       "      <td>2018-06-06 20:15:21</td>\n",
       "      <td>14.0</td>\n",
       "      <td>0.050000</td>\n",
       "      <td>0.725000</td>\n",
       "      <td>4.55</td>\n",
       "      <td>240</td>\n",
       "      <td>40</td>\n",
       "      <td>41</td>\n",
       "      <td>1.025000</td>\n",
       "      <td>11703.07</td>\n",
       "      <td>2290.307</td>\n",
       "      <td>2050.307</td>\n",
       "    </tr>\n",
       "    <tr>\n",
       "      <th>2</th>\n",
       "      <td>ce3ad9de960102d0677a81f5d0bb7b2d</td>\n",
       "      <td>rio de janeiro</td>\n",
       "      <td>RJ</td>\n",
       "      <td>0.000000</td>\n",
       "      <td>4.042292</td>\n",
       "      <td>2018-07-30 12:44:49</td>\n",
       "      <td>2018-07-30 12:44:49</td>\n",
       "      <td>0.0</td>\n",
       "      <td>0.000000</td>\n",
       "      <td>1.000000</td>\n",
       "      <td>5.00</td>\n",
       "      <td>0</td>\n",
       "      <td>1</td>\n",
       "      <td>1</td>\n",
       "      <td>1.000000</td>\n",
       "      <td>158.00</td>\n",
       "      <td>15.800</td>\n",
       "      <td>15.800</td>\n",
       "    </tr>\n",
       "    <tr>\n",
       "      <th>3</th>\n",
       "      <td>c0f3eea2e14555b6faeea3dd58c1b1c3</td>\n",
       "      <td>sao paulo</td>\n",
       "      <td>SP</td>\n",
       "      <td>0.000000</td>\n",
       "      <td>5.667187</td>\n",
       "      <td>2018-08-03 00:44:08</td>\n",
       "      <td>2018-08-03 00:44:08</td>\n",
       "      <td>0.0</td>\n",
       "      <td>0.000000</td>\n",
       "      <td>1.000000</td>\n",
       "      <td>5.00</td>\n",
       "      <td>0</td>\n",
       "      <td>1</td>\n",
       "      <td>1</td>\n",
       "      <td>1.000000</td>\n",
       "      <td>79.99</td>\n",
       "      <td>7.999</td>\n",
       "      <td>7.999</td>\n",
       "    </tr>\n",
       "    <tr>\n",
       "      <th>4</th>\n",
       "      <td>51a04a8a6bdcb23deccc82b0b80742cf</td>\n",
       "      <td>braganca paulista</td>\n",
       "      <td>SP</td>\n",
       "      <td>3.353727</td>\n",
       "      <td>35.314861</td>\n",
       "      <td>2017-11-14 12:15:25</td>\n",
       "      <td>2017-11-14 12:15:25</td>\n",
       "      <td>0.0</td>\n",
       "      <td>1.000000</td>\n",
       "      <td>0.000000</td>\n",
       "      <td>1.00</td>\n",
       "      <td>100</td>\n",
       "      <td>1</td>\n",
       "      <td>1</td>\n",
       "      <td>1.000000</td>\n",
       "      <td>167.99</td>\n",
       "      <td>16.799</td>\n",
       "      <td>-83.201</td>\n",
       "    </tr>\n",
       "    <tr>\n",
       "      <th>...</th>\n",
       "      <td>...</td>\n",
       "      <td>...</td>\n",
       "      <td>...</td>\n",
       "      <td>...</td>\n",
       "      <td>...</td>\n",
       "      <td>...</td>\n",
       "      <td>...</td>\n",
       "      <td>...</td>\n",
       "      <td>...</td>\n",
       "      <td>...</td>\n",
       "      <td>...</td>\n",
       "      <td>...</td>\n",
       "      <td>...</td>\n",
       "      <td>...</td>\n",
       "      <td>...</td>\n",
       "      <td>...</td>\n",
       "      <td>...</td>\n",
       "      <td>...</td>\n",
       "    </tr>\n",
       "    <tr>\n",
       "      <th>2965</th>\n",
       "      <td>98dddbc4601dd4443ca174359b237166</td>\n",
       "      <td>sarandi</td>\n",
       "      <td>PR</td>\n",
       "      <td>0.000000</td>\n",
       "      <td>8.230822</td>\n",
       "      <td>2018-07-14 03:10:19</td>\n",
       "      <td>2018-07-23 15:34:03</td>\n",
       "      <td>0.0</td>\n",
       "      <td>0.000000</td>\n",
       "      <td>1.000000</td>\n",
       "      <td>5.00</td>\n",
       "      <td>0</td>\n",
       "      <td>2</td>\n",
       "      <td>2</td>\n",
       "      <td>1.000000</td>\n",
       "      <td>158.00</td>\n",
       "      <td>15.800</td>\n",
       "      <td>15.800</td>\n",
       "    </tr>\n",
       "    <tr>\n",
       "      <th>2966</th>\n",
       "      <td>f8201cab383e484733266d1906e2fdfa</td>\n",
       "      <td>palhoca</td>\n",
       "      <td>SC</td>\n",
       "      <td>0.000000</td>\n",
       "      <td>13.045797</td>\n",
       "      <td>2017-06-17 15:30:11</td>\n",
       "      <td>2018-08-11 19:55:17</td>\n",
       "      <td>14.0</td>\n",
       "      <td>0.100000</td>\n",
       "      <td>0.500000</td>\n",
       "      <td>4.10</td>\n",
       "      <td>140</td>\n",
       "      <td>10</td>\n",
       "      <td>10</td>\n",
       "      <td>1.000000</td>\n",
       "      <td>889.00</td>\n",
       "      <td>1208.900</td>\n",
       "      <td>1068.900</td>\n",
       "    </tr>\n",
       "    <tr>\n",
       "      <th>2967</th>\n",
       "      <td>74871d19219c7d518d0090283e03c137</td>\n",
       "      <td>sao paulo</td>\n",
       "      <td>SP</td>\n",
       "      <td>0.000000</td>\n",
       "      <td>3.606625</td>\n",
       "      <td>2018-04-05 17:09:46</td>\n",
       "      <td>2018-08-21 19:25:15</td>\n",
       "      <td>5.0</td>\n",
       "      <td>0.000000</td>\n",
       "      <td>1.000000</td>\n",
       "      <td>5.00</td>\n",
       "      <td>0</td>\n",
       "      <td>6</td>\n",
       "      <td>7</td>\n",
       "      <td>1.166667</td>\n",
       "      <td>550.04</td>\n",
       "      <td>455.004</td>\n",
       "      <td>455.004</td>\n",
       "    </tr>\n",
       "    <tr>\n",
       "      <th>2968</th>\n",
       "      <td>e603cf3fec55f8697c9059638d6c8eb5</td>\n",
       "      <td>pelotas</td>\n",
       "      <td>RS</td>\n",
       "      <td>0.000000</td>\n",
       "      <td>6.657634</td>\n",
       "      <td>2017-02-09 02:43:17</td>\n",
       "      <td>2017-06-16 17:30:16</td>\n",
       "      <td>4.0</td>\n",
       "      <td>0.000000</td>\n",
       "      <td>0.500000</td>\n",
       "      <td>4.25</td>\n",
       "      <td>50</td>\n",
       "      <td>8</td>\n",
       "      <td>11</td>\n",
       "      <td>1.375000</td>\n",
       "      <td>297.00</td>\n",
       "      <td>349.700</td>\n",
       "      <td>299.700</td>\n",
       "    </tr>\n",
       "    <tr>\n",
       "      <th>2969</th>\n",
       "      <td>9e25199f6ef7e7c347120ff175652c3b</td>\n",
       "      <td>taubate</td>\n",
       "      <td>SP</td>\n",
       "      <td>0.000000</td>\n",
       "      <td>8.199456</td>\n",
       "      <td>2017-03-27 10:10:27</td>\n",
       "      <td>2017-03-27 10:10:27</td>\n",
       "      <td>0.0</td>\n",
       "      <td>0.000000</td>\n",
       "      <td>0.000000</td>\n",
       "      <td>4.00</td>\n",
       "      <td>0</td>\n",
       "      <td>1</td>\n",
       "      <td>1</td>\n",
       "      <td>1.000000</td>\n",
       "      <td>12.50</td>\n",
       "      <td>1.250</td>\n",
       "      <td>1.250</td>\n",
       "    </tr>\n",
       "  </tbody>\n",
       "</table>\n",
       "<p>2970 rows × 18 columns</p>\n",
       "</div>"
      ],
      "text/plain": [
       "                             seller_id        seller_city seller_state  \\\n",
       "0     3442f8959a84dea7ee197c632cb2df15           campinas           SP   \n",
       "1     d1b65fc7debc3361ea86b5f14c68d2e2         mogi guacu           SP   \n",
       "2     ce3ad9de960102d0677a81f5d0bb7b2d     rio de janeiro           RJ   \n",
       "3     c0f3eea2e14555b6faeea3dd58c1b1c3          sao paulo           SP   \n",
       "4     51a04a8a6bdcb23deccc82b0b80742cf  braganca paulista           SP   \n",
       "...                                ...                ...          ...   \n",
       "2965  98dddbc4601dd4443ca174359b237166            sarandi           PR   \n",
       "2966  f8201cab383e484733266d1906e2fdfa            palhoca           SC   \n",
       "2967  74871d19219c7d518d0090283e03c137          sao paulo           SP   \n",
       "2968  e603cf3fec55f8697c9059638d6c8eb5            pelotas           RS   \n",
       "2969  9e25199f6ef7e7c347120ff175652c3b            taubate           SP   \n",
       "\n",
       "      delay_to_carrier  wait_time     date_first_sale      date_last_sale  \\\n",
       "0             0.000000  13.018588 2017-05-05 16:25:11 2017-08-30 12:50:19   \n",
       "1             0.000000   9.065716 2017-03-29 02:10:34 2018-06-06 20:15:21   \n",
       "2             0.000000   4.042292 2018-07-30 12:44:49 2018-07-30 12:44:49   \n",
       "3             0.000000   5.667187 2018-08-03 00:44:08 2018-08-03 00:44:08   \n",
       "4             3.353727  35.314861 2017-11-14 12:15:25 2017-11-14 12:15:25   \n",
       "...                ...        ...                 ...                 ...   \n",
       "2965          0.000000   8.230822 2018-07-14 03:10:19 2018-07-23 15:34:03   \n",
       "2966          0.000000  13.045797 2017-06-17 15:30:11 2018-08-11 19:55:17   \n",
       "2967          0.000000   3.606625 2018-04-05 17:09:46 2018-08-21 19:25:15   \n",
       "2968          0.000000   6.657634 2017-02-09 02:43:17 2017-06-16 17:30:16   \n",
       "2969          0.000000   8.199456 2017-03-27 10:10:27 2017-03-27 10:10:27   \n",
       "\n",
       "      months_on_olist  share_of_one_stars  share_of_five_stars  review_score  \\\n",
       "0                 4.0            0.333333             0.333333          3.00   \n",
       "1                14.0            0.050000             0.725000          4.55   \n",
       "2                 0.0            0.000000             1.000000          5.00   \n",
       "3                 0.0            0.000000             1.000000          5.00   \n",
       "4                 0.0            1.000000             0.000000          1.00   \n",
       "...               ...                 ...                  ...           ...   \n",
       "2965              0.0            0.000000             1.000000          5.00   \n",
       "2966             14.0            0.100000             0.500000          4.10   \n",
       "2967              5.0            0.000000             1.000000          5.00   \n",
       "2968              4.0            0.000000             0.500000          4.25   \n",
       "2969              0.0            0.000000             0.000000          4.00   \n",
       "\n",
       "      review_cost  n_orders  quantity  quantity_per_order     sales   revenue  \\\n",
       "0             140         3         3            1.000000    218.70   341.870   \n",
       "1             240        40        41            1.025000  11703.07  2290.307   \n",
       "2               0         1         1            1.000000    158.00    15.800   \n",
       "3               0         1         1            1.000000     79.99     7.999   \n",
       "4             100         1         1            1.000000    167.99    16.799   \n",
       "...           ...       ...       ...                 ...       ...       ...   \n",
       "2965            0         2         2            1.000000    158.00    15.800   \n",
       "2966          140        10        10            1.000000    889.00  1208.900   \n",
       "2967            0         6         7            1.166667    550.04   455.004   \n",
       "2968           50         8        11            1.375000    297.00   349.700   \n",
       "2969            0         1         1            1.000000     12.50     1.250   \n",
       "\n",
       "        profit  \n",
       "0      201.870  \n",
       "1     2050.307  \n",
       "2       15.800  \n",
       "3        7.999  \n",
       "4      -83.201  \n",
       "...        ...  \n",
       "2965    15.800  \n",
       "2966  1068.900  \n",
       "2967   455.004  \n",
       "2968   299.700  \n",
       "2969     1.250  \n",
       "\n",
       "[2970 rows x 18 columns]"
      ]
     },
     "execution_count": 19,
     "metadata": {},
     "output_type": "execute_result"
    }
   ],
   "source": [
    "get_training_data()"
   ]
  },
  {
   "cell_type": "markdown",
   "metadata": {},
   "source": [
    "❓ Sort sellers by profit, and analyse their profitability: conclude on a possible strategy for Olist!"
   ]
  },
  {
   "cell_type": "code",
   "execution_count": 3,
   "metadata": {
    "ExecuteTime": {
     "end_time": "2021-10-22T08:37:22.081388Z",
     "start_time": "2021-10-22T08:37:22.077172Z"
    }
   },
   "outputs": [],
   "source": [
    "# Get indicators\n",
    "s = sellers[[\"n_orders\" ,\"review_cost\", \"revenue\", \"profit\"]]"
   ]
  },
  {
   "cell_type": "code",
   "execution_count": 4,
   "metadata": {
    "ExecuteTime": {
     "end_time": "2021-10-22T08:37:25.872343Z",
     "start_time": "2021-10-22T08:37:25.727629Z"
    }
   },
   "outputs": [
    {
     "data": {
      "text/plain": [
       "<AxesSubplot:>"
      ]
     },
     "execution_count": 4,
     "metadata": {},
     "output_type": "execute_result"
    },
    {
     "data": {
      "image/png": "[encoded data removed]",
      "text/plain": [
       "<Figure size 432x288 with 1 Axes>"
      ]
     },
     "metadata": {
      "needs_background": "light"
     },
     "output_type": "display_data"
    }
   ],
   "source": [
    "# This gives little information, as the data is sorted by index\n",
    "s.profit.plot()"
   ]
  },
  {
   "cell_type": "code",
   "execution_count": 7,
   "metadata": {
    "ExecuteTime": {
     "end_time": "2021-10-22T08:37:35.646270Z",
     "start_time": "2021-10-22T08:37:35.465987Z"
    }
   },
   "outputs": [
    {
     "data": {
      "image/png": "[encoded data removed]",
      "text/plain": [
       "<Figure size 432x288 with 1 Axes>"
      ]
     },
     "metadata": {
      "needs_background": "light"
     },
     "output_type": "display_data"
    }
   ],
   "source": [
    "# Sorting by Profit gives a lot more information\n",
    "df = s.sort_values(by=\"profit\").reset_index(drop=True)\n",
    "sns.lineplot(data=df.profit);"
   ]
  },
  {
   "cell_type": "code",
   "execution_count": 14,
   "metadata": {
    "ExecuteTime": {
     "end_time": "2021-10-22T08:43:23.473479Z",
     "start_time": "2021-10-22T08:43:23.285876Z"
    }
   },
   "outputs": [
    {
     "data": {
      "image/png": "[encoded data removed]",
      "text/plain": [
       "<Figure size 432x288 with 1 Axes>"
      ]
     },
     "metadata": {
      "needs_background": "light"
     },
     "output_type": "display_data"
    }
   ],
   "source": [
    "# Then can use a cumulative sum \n",
    "sns.lineplot(data=df.profit.cumsum());"
   ]
  },
  {
   "cell_type": "code",
   "execution_count": 8,
   "metadata": {
    "ExecuteTime": {
     "end_time": "2021-10-22T08:37:37.885827Z",
     "start_time": "2021-10-22T08:37:37.853164Z"
    }
   },
   "outputs": [
    {
     "data": {
      "text/html": [
       "<div>\n",
       "<style scoped>\n",
       "    .dataframe tbody tr th:only-of-type {\n",
       "        vertical-align: middle;\n",
       "    }\n",
       "\n",
       "    .dataframe tbody tr th {\n",
       "        vertical-align: top;\n",
       "    }\n",
       "\n",
       "    .dataframe thead th {\n",
       "        text-align: right;\n",
       "    }\n",
       "</style>\n",
       "<table border=\"1\" class=\"dataframe\">\n",
       "  <thead>\n",
       "    <tr style=\"text-align: right;\">\n",
       "      <th></th>\n",
       "      <th>n_orders</th>\n",
       "      <th>review_cost</th>\n",
       "      <th>revenue</th>\n",
       "      <th>profit</th>\n",
       "    </tr>\n",
       "  </thead>\n",
       "  <tbody>\n",
       "    <tr>\n",
       "      <th>count</th>\n",
       "      <td>2970.000000</td>\n",
       "      <td>2970.000000</td>\n",
       "      <td>2970.000000</td>\n",
       "      <td>2970.000000</td>\n",
       "    </tr>\n",
       "    <tr>\n",
       "      <th>mean</th>\n",
       "      <td>33.617508</td>\n",
       "      <td>562.131313</td>\n",
       "      <td>938.213880</td>\n",
       "      <td>376.082567</td>\n",
       "    </tr>\n",
       "    <tr>\n",
       "      <th>std</th>\n",
       "      <td>107.133714</td>\n",
       "      <td>1941.000427</td>\n",
       "      <td>1660.107616</td>\n",
       "      <td>1276.183916</td>\n",
       "    </tr>\n",
       "    <tr>\n",
       "      <th>min</th>\n",
       "      <td>1.000000</td>\n",
       "      <td>0.000000</td>\n",
       "      <td>0.650000</td>\n",
       "      <td>-22499.517000</td>\n",
       "    </tr>\n",
       "    <tr>\n",
       "      <th>25%</th>\n",
       "      <td>2.000000</td>\n",
       "      <td>0.000000</td>\n",
       "      <td>119.946750</td>\n",
       "      <td>19.892500</td>\n",
       "    </tr>\n",
       "    <tr>\n",
       "      <th>50%</th>\n",
       "      <td>7.000000</td>\n",
       "      <td>100.000000</td>\n",
       "      <td>460.221000</td>\n",
       "      <td>250.859500</td>\n",
       "    </tr>\n",
       "    <tr>\n",
       "      <th>75%</th>\n",
       "      <td>23.000000</td>\n",
       "      <td>380.000000</td>\n",
       "      <td>1183.160250</td>\n",
       "      <td>676.667750</td>\n",
       "    </tr>\n",
       "    <tr>\n",
       "      <th>max</th>\n",
       "      <td>1854.000000</td>\n",
       "      <td>40890.000000</td>\n",
       "      <td>24387.263000</td>\n",
       "      <td>17967.605000</td>\n",
       "    </tr>\n",
       "  </tbody>\n",
       "</table>\n",
       "</div>"
      ],
      "text/plain": [
       "          n_orders   review_cost       revenue        profit\n",
       "count  2970.000000   2970.000000   2970.000000   2970.000000\n",
       "mean     33.617508    562.131313    938.213880    376.082567\n",
       "std     107.133714   1941.000427   1660.107616   1276.183916\n",
       "min       1.000000      0.000000      0.650000 -22499.517000\n",
       "25%       2.000000      0.000000    119.946750     19.892500\n",
       "50%       7.000000    100.000000    460.221000    250.859500\n",
       "75%      23.000000    380.000000   1183.160250    676.667750\n",
       "max    1854.000000  40890.000000  24387.263000  17967.605000"
      ]
     },
     "execution_count": 8,
     "metadata": {},
     "output_type": "execute_result"
    }
   ],
   "source": [
    "df.describe()"
   ]
  },
  {
   "cell_type": "code",
   "execution_count": 9,
   "metadata": {
    "ExecuteTime": {
     "end_time": "2021-10-22T08:37:40.864818Z",
     "start_time": "2021-10-22T08:37:39.265776Z"
    }
   },
   "outputs": [],
   "source": [
    "# Nice tool for jupyter only data exploration\n",
    "!pip install -q ipywidgets\n",
    "from ipywidgets import interact"
   ]
  },
  {
   "cell_type": "code",
   "execution_count": 13,
   "metadata": {
    "ExecuteTime": {
     "end_time": "2021-10-22T08:42:10.629050Z",
     "start_time": "2021-10-22T08:42:09.558552Z"
    }
   },
   "outputs": [
    {
     "data": {
      "application/vnd.jupyter.widget-view+json": {
       "model_id": "2edcba5a271b49bab092cdbb9279cecb",
       "version_major": 2,
       "version_minor": 0
      },
      "text/plain": [
       "interactive(children=(Dropdown(description='display', options=('profit', 'n_orders', 'review_cost'), value='pr…"
      ]
     },
     "metadata": {},
     "output_type": "display_data"
    }
   ],
   "source": [
    "# Decorator, args should be the same as the method it decorates, they store possible values.\n",
    "@interact(display=[\"profit\", \"n_orders\", \"review_cost\"], sort_by=[\"profit\", \"n_orders\"],  hide_lower=[0, 1, 2, 3])\n",
    "def plot(display, sort_by, hide_lower):\n",
    "    '''\n",
    "    ---Parameters---\n",
    "    display: variable to display\n",
    "    sort_by: variable used to sort the dataframe, ascending\n",
    "    hide_lower: filter out values which are within this number of standard deviation from their mean\n",
    "    '''\n",
    "    df = s.sort_values(by=sort_by).reset_index(drop=True)\n",
    "    \n",
    "    if hide_lower:\n",
    "        df = df[abs(df[display]) > hide_lower * df[display].std() + df[display].mean()]\n",
    "    \n",
    "    fig = plt.figure(figsize=(30, 16))\n",
    "    grid = plt.GridSpec(4, 4, hspace=0.2, wspace=0.2)\n",
    "    \n",
    "    scatter = fig.add_subplot(grid[0, 0])\n",
    "    cumsum = fig.add_subplot(grid[0, 1])\n",
    "    hist = fig.add_subplot(grid[1, :2])\n",
    "    \n",
    "    if display == sort_by:\n",
    "        sns.lineplot(data=df[display], ax=scatter)\n",
    "    else:\n",
    "#         sns.scatterplot(data=df[[display]], ax=scatter)\n",
    "        sns.scatterplot(data=df, x=sort_by, y=display, ax=scatter)\n",
    "        \n",
    "    sns.lineplot(data=df[display].cumsum(), ax=cumsum)\n",
    "    sns.histplot(data=df[display], ax=hist)"
   ]
  }
 ],
 "metadata": {
  "kernelspec": {
   "display_name": "Python 3",
   "language": "python",
   "name": "python3"
  },
  "language_info": {
   "codemirror_mode": {
    "name": "ipython",
    "version": 3
   },
   "file_extension": ".py",
   "mimetype": "text/x-python",
   "name": "python",
   "nbconvert_exporter": "python",
   "pygments_lexer": "ipython3",
   "version": "3.8.12"
  },
  "toc": {
   "base_numbering": 1,
   "nav_menu": {},
   "number_sections": false,
   "sideBar": true,
   "skip_h1_title": false,
   "title_cell": "Table of Contents",
   "title_sidebar": "Contents",
   "toc_cell": false,
   "toc_position": {},
   "toc_section_display": true,
   "toc_window_display": false
  },
  "varInspector": {
   "cols": {
    "lenName": 16,
    "lenType": 16,
    "lenVar": 40
   },
   "kernels_config": {
    "python": {
     "delete_cmd_postfix": "",
     "delete_cmd_prefix": "del ",
     "library": "var_list.py",
     "varRefreshCmd": "print(var_dic_list())"
    },
    "r": {
     "delete_cmd_postfix": ") ",
     "delete_cmd_prefix": "rm(",
     "library": "var_list.r",
     "varRefreshCmd": "cat(var_dic_list()) "
    }
   },
   "types_to_exclude": [
    "module",
    "function",
    "builtin_function_or_method",
    "instance",
    "_Feature"
   ],
   "window_display": false
  }
 },
 "nbformat": 4,
 "nbformat_minor": 4
}
