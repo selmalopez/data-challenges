{
 "cells": [
  {
   "cell_type": "markdown",
   "metadata": {
    "tags": []
   },
   "source": [
    "# Orders - Multivariate Regression of  the `review_score`"
   ]
  },
  {
   "cell_type": "code",
   "execution_count": 1,
   "metadata": {
    "ExecuteTime": {
     "end_time": "2021-01-25T09:14:45.571867Z",
     "start_time": "2021-01-25T09:14:45.553631Z"
    }
   },
   "outputs": [],
   "source": [
    "%load_ext autoreload\n",
    "%autoreload 2"
   ]
  },
  {
   "cell_type": "code",
   "execution_count": 2,
   "metadata": {
    "ExecuteTime": {
     "end_time": "2021-01-25T09:14:47.240581Z",
     "start_time": "2021-01-25T09:14:45.951930Z"
    }
   },
   "outputs": [],
   "source": [
    "# Import modules \n",
    "import pandas as pd\n",
    "import numpy as np \n",
    "import seaborn as sns\n",
    "import matplotlib.pyplot as plt"
   ]
  },
  {
   "cell_type": "markdown",
   "metadata": {},
   "source": [
    "⚠️ You are strongly advised to:\n",
    "* 💾 download the solution for yesterday's optional `distance_seller_customer` function if you didn't have time to code it\n",
    "* 👥 copy-paste it into your `olist/orders.py` file\n",
    "\n"
   ]
  },
  {
   "cell_type": "markdown",
   "metadata": {},
   "source": [
    "👇 First things first, import the `orders` dataset"
   ]
  },
  {
   "cell_type": "code",
   "execution_count": 51,
   "metadata": {
    "ExecuteTime": {
     "end_time": "2021-01-25T09:14:55.676672Z",
     "start_time": "2021-01-25T09:14:49.194023Z"
    },
    "scrolled": true,
    "tags": [
     "challengify"
    ]
   },
   "outputs": [
    {
     "data": {
      "text/html": [
       "<div>\n",
       "<style scoped>\n",
       "    .dataframe tbody tr th:only-of-type {\n",
       "        vertical-align: middle;\n",
       "    }\n",
       "\n",
       "    .dataframe tbody tr th {\n",
       "        vertical-align: top;\n",
       "    }\n",
       "\n",
       "    .dataframe thead th {\n",
       "        text-align: right;\n",
       "    }\n",
       "</style>\n",
       "<table border=\"1\" class=\"dataframe\">\n",
       "  <thead>\n",
       "    <tr style=\"text-align: right;\">\n",
       "      <th></th>\n",
       "      <th>order_id</th>\n",
       "      <th>wait_time</th>\n",
       "      <th>expected_wait_time</th>\n",
       "      <th>delay_vs_expected</th>\n",
       "      <th>order_status</th>\n",
       "      <th>dim_is_five_star</th>\n",
       "      <th>dim_is_one_star</th>\n",
       "      <th>review_score</th>\n",
       "      <th>number_of_products</th>\n",
       "      <th>number_of_sellers</th>\n",
       "      <th>price</th>\n",
       "      <th>freight_value</th>\n",
       "    </tr>\n",
       "  </thead>\n",
       "  <tbody>\n",
       "    <tr>\n",
       "      <th>0</th>\n",
       "      <td>e481f51cbdc54678b7cc49136f2d6af7</td>\n",
       "      <td>8.436574</td>\n",
       "      <td>15.544063</td>\n",
       "      <td>0.0</td>\n",
       "      <td>delivered</td>\n",
       "      <td>0</td>\n",
       "      <td>0</td>\n",
       "      <td>4</td>\n",
       "      <td>1</td>\n",
       "      <td>1</td>\n",
       "      <td>29.99</td>\n",
       "      <td>8.72</td>\n",
       "    </tr>\n",
       "    <tr>\n",
       "      <th>1</th>\n",
       "      <td>53cdb2fc8bc7dce0b6741e2150273451</td>\n",
       "      <td>13.782037</td>\n",
       "      <td>19.137766</td>\n",
       "      <td>0.0</td>\n",
       "      <td>delivered</td>\n",
       "      <td>0</td>\n",
       "      <td>0</td>\n",
       "      <td>4</td>\n",
       "      <td>1</td>\n",
       "      <td>1</td>\n",
       "      <td>118.70</td>\n",
       "      <td>22.76</td>\n",
       "    </tr>\n",
       "    <tr>\n",
       "      <th>2</th>\n",
       "      <td>47770eb9100c2d0c44946d9cf07ec65d</td>\n",
       "      <td>9.394213</td>\n",
       "      <td>26.639711</td>\n",
       "      <td>0.0</td>\n",
       "      <td>delivered</td>\n",
       "      <td>1</td>\n",
       "      <td>0</td>\n",
       "      <td>5</td>\n",
       "      <td>1</td>\n",
       "      <td>1</td>\n",
       "      <td>159.90</td>\n",
       "      <td>19.22</td>\n",
       "    </tr>\n",
       "    <tr>\n",
       "      <th>3</th>\n",
       "      <td>949d5b44dbf5de918fe9c16f97b45f8a</td>\n",
       "      <td>13.208750</td>\n",
       "      <td>26.188819</td>\n",
       "      <td>0.0</td>\n",
       "      <td>delivered</td>\n",
       "      <td>1</td>\n",
       "      <td>0</td>\n",
       "      <td>5</td>\n",
       "      <td>1</td>\n",
       "      <td>1</td>\n",
       "      <td>45.00</td>\n",
       "      <td>27.20</td>\n",
       "    </tr>\n",
       "    <tr>\n",
       "      <th>4</th>\n",
       "      <td>ad21c59c0840e6cb83a9ceb5573f8159</td>\n",
       "      <td>2.873877</td>\n",
       "      <td>12.112049</td>\n",
       "      <td>0.0</td>\n",
       "      <td>delivered</td>\n",
       "      <td>1</td>\n",
       "      <td>0</td>\n",
       "      <td>5</td>\n",
       "      <td>1</td>\n",
       "      <td>1</td>\n",
       "      <td>19.90</td>\n",
       "      <td>8.72</td>\n",
       "    </tr>\n",
       "    <tr>\n",
       "      <th>...</th>\n",
       "      <td>...</td>\n",
       "      <td>...</td>\n",
       "      <td>...</td>\n",
       "      <td>...</td>\n",
       "      <td>...</td>\n",
       "      <td>...</td>\n",
       "      <td>...</td>\n",
       "      <td>...</td>\n",
       "      <td>...</td>\n",
       "      <td>...</td>\n",
       "      <td>...</td>\n",
       "      <td>...</td>\n",
       "    </tr>\n",
       "    <tr>\n",
       "      <th>96356</th>\n",
       "      <td>9c5dedf39a927c1b2549525ed64a053c</td>\n",
       "      <td>8.218009</td>\n",
       "      <td>18.587442</td>\n",
       "      <td>0.0</td>\n",
       "      <td>delivered</td>\n",
       "      <td>1</td>\n",
       "      <td>0</td>\n",
       "      <td>5</td>\n",
       "      <td>1</td>\n",
       "      <td>1</td>\n",
       "      <td>72.00</td>\n",
       "      <td>13.08</td>\n",
       "    </tr>\n",
       "    <tr>\n",
       "      <th>96357</th>\n",
       "      <td>63943bddc261676b46f01ca7ac2f7bd8</td>\n",
       "      <td>22.193727</td>\n",
       "      <td>23.459051</td>\n",
       "      <td>0.0</td>\n",
       "      <td>delivered</td>\n",
       "      <td>0</td>\n",
       "      <td>0</td>\n",
       "      <td>4</td>\n",
       "      <td>1</td>\n",
       "      <td>1</td>\n",
       "      <td>174.90</td>\n",
       "      <td>20.10</td>\n",
       "    </tr>\n",
       "    <tr>\n",
       "      <th>96358</th>\n",
       "      <td>83c1379a015df1e13d02aae0204711ab</td>\n",
       "      <td>24.859421</td>\n",
       "      <td>30.384225</td>\n",
       "      <td>0.0</td>\n",
       "      <td>delivered</td>\n",
       "      <td>1</td>\n",
       "      <td>0</td>\n",
       "      <td>5</td>\n",
       "      <td>1</td>\n",
       "      <td>1</td>\n",
       "      <td>205.99</td>\n",
       "      <td>65.02</td>\n",
       "    </tr>\n",
       "    <tr>\n",
       "      <th>96359</th>\n",
       "      <td>11c177c8e97725db2631073c19f07b62</td>\n",
       "      <td>17.086424</td>\n",
       "      <td>37.105243</td>\n",
       "      <td>0.0</td>\n",
       "      <td>delivered</td>\n",
       "      <td>0</td>\n",
       "      <td>0</td>\n",
       "      <td>2</td>\n",
       "      <td>2</td>\n",
       "      <td>1</td>\n",
       "      <td>359.98</td>\n",
       "      <td>81.18</td>\n",
       "    </tr>\n",
       "    <tr>\n",
       "      <th>96360</th>\n",
       "      <td>66dea50a8b16d9b4dee7af250b4be1a5</td>\n",
       "      <td>7.674306</td>\n",
       "      <td>25.126736</td>\n",
       "      <td>0.0</td>\n",
       "      <td>delivered</td>\n",
       "      <td>1</td>\n",
       "      <td>0</td>\n",
       "      <td>5</td>\n",
       "      <td>1</td>\n",
       "      <td>1</td>\n",
       "      <td>68.50</td>\n",
       "      <td>18.36</td>\n",
       "    </tr>\n",
       "  </tbody>\n",
       "</table>\n",
       "<p>96353 rows × 12 columns</p>\n",
       "</div>"
      ],
      "text/plain": [
       "                               order_id  wait_time  expected_wait_time  \\\n",
       "0      e481f51cbdc54678b7cc49136f2d6af7   8.436574           15.544063   \n",
       "1      53cdb2fc8bc7dce0b6741e2150273451  13.782037           19.137766   \n",
       "2      47770eb9100c2d0c44946d9cf07ec65d   9.394213           26.639711   \n",
       "3      949d5b44dbf5de918fe9c16f97b45f8a  13.208750           26.188819   \n",
       "4      ad21c59c0840e6cb83a9ceb5573f8159   2.873877           12.112049   \n",
       "...                                 ...        ...                 ...   \n",
       "96356  9c5dedf39a927c1b2549525ed64a053c   8.218009           18.587442   \n",
       "96357  63943bddc261676b46f01ca7ac2f7bd8  22.193727           23.459051   \n",
       "96358  83c1379a015df1e13d02aae0204711ab  24.859421           30.384225   \n",
       "96359  11c177c8e97725db2631073c19f07b62  17.086424           37.105243   \n",
       "96360  66dea50a8b16d9b4dee7af250b4be1a5   7.674306           25.126736   \n",
       "\n",
       "       delay_vs_expected order_status  dim_is_five_star  dim_is_one_star  \\\n",
       "0                    0.0    delivered                 0                0   \n",
       "1                    0.0    delivered                 0                0   \n",
       "2                    0.0    delivered                 1                0   \n",
       "3                    0.0    delivered                 1                0   \n",
       "4                    0.0    delivered                 1                0   \n",
       "...                  ...          ...               ...              ...   \n",
       "96356                0.0    delivered                 1                0   \n",
       "96357                0.0    delivered                 0                0   \n",
       "96358                0.0    delivered                 1                0   \n",
       "96359                0.0    delivered                 0                0   \n",
       "96360                0.0    delivered                 1                0   \n",
       "\n",
       "       review_score  number_of_products  number_of_sellers   price  \\\n",
       "0                 4                   1                  1   29.99   \n",
       "1                 4                   1                  1  118.70   \n",
       "2                 5                   1                  1  159.90   \n",
       "3                 5                   1                  1   45.00   \n",
       "4                 5                   1                  1   19.90   \n",
       "...             ...                 ...                ...     ...   \n",
       "96356             5                   1                  1   72.00   \n",
       "96357             4                   1                  1  174.90   \n",
       "96358             5                   1                  1  205.99   \n",
       "96359             2                   2                  1  359.98   \n",
       "96360             5                   1                  1   68.50   \n",
       "\n",
       "       freight_value  \n",
       "0               8.72  \n",
       "1              22.76  \n",
       "2              19.22  \n",
       "3              27.20  \n",
       "4               8.72  \n",
       "...              ...  \n",
       "96356          13.08  \n",
       "96357          20.10  \n",
       "96358          65.02  \n",
       "96359          81.18  \n",
       "96360          18.36  \n",
       "\n",
       "[96353 rows x 12 columns]"
      ]
     },
     "execution_count": 51,
     "metadata": {},
     "output_type": "execute_result"
    }
   ],
   "source": [
    "# YOUR CODE HERE\n",
    "from olist.order import Order\n",
    "olist = Olist()\n",
    "orders = Order().get_training_data()"
   ]
  },
  {
   "cell_type": "code",
   "execution_count": 53,
   "metadata": {},
   "outputs": [
    {
     "data": {
      "text/html": [
       "<div>\n",
       "<style scoped>\n",
       "    .dataframe tbody tr th:only-of-type {\n",
       "        vertical-align: middle;\n",
       "    }\n",
       "\n",
       "    .dataframe tbody tr th {\n",
       "        vertical-align: top;\n",
       "    }\n",
       "\n",
       "    .dataframe thead th {\n",
       "        text-align: right;\n",
       "    }\n",
       "</style>\n",
       "<table border=\"1\" class=\"dataframe\">\n",
       "  <thead>\n",
       "    <tr style=\"text-align: right;\">\n",
       "      <th></th>\n",
       "      <th>order_id</th>\n",
       "      <th>wait_time</th>\n",
       "      <th>expected_wait_time</th>\n",
       "      <th>delay_vs_expected</th>\n",
       "      <th>order_status</th>\n",
       "      <th>dim_is_five_star</th>\n",
       "      <th>dim_is_one_star</th>\n",
       "      <th>review_score</th>\n",
       "      <th>number_of_products</th>\n",
       "      <th>number_of_sellers</th>\n",
       "      <th>price</th>\n",
       "      <th>freight_value</th>\n",
       "    </tr>\n",
       "  </thead>\n",
       "  <tbody>\n",
       "    <tr>\n",
       "      <th>46217</th>\n",
       "      <td>3dcd400ff4301f079012e668f0c7a320</td>\n",
       "      <td>9.049062</td>\n",
       "      <td>29.186285</td>\n",
       "      <td>0.000000</td>\n",
       "      <td>delivered</td>\n",
       "      <td>0</td>\n",
       "      <td>0</td>\n",
       "      <td>3</td>\n",
       "      <td>1</td>\n",
       "      <td>1</td>\n",
       "      <td>39.99</td>\n",
       "      <td>11.85</td>\n",
       "    </tr>\n",
       "    <tr>\n",
       "      <th>37089</th>\n",
       "      <td>125005c942aa889a867518019392d649</td>\n",
       "      <td>2.117755</td>\n",
       "      <td>11.361771</td>\n",
       "      <td>0.000000</td>\n",
       "      <td>delivered</td>\n",
       "      <td>1</td>\n",
       "      <td>0</td>\n",
       "      <td>5</td>\n",
       "      <td>1</td>\n",
       "      <td>1</td>\n",
       "      <td>79.99</td>\n",
       "      <td>8.72</td>\n",
       "    </tr>\n",
       "    <tr>\n",
       "      <th>58347</th>\n",
       "      <td>10b4aca7d76f1ff55e0dfc750e4e0016</td>\n",
       "      <td>29.376863</td>\n",
       "      <td>22.604063</td>\n",
       "      <td>6.772801</td>\n",
       "      <td>delivered</td>\n",
       "      <td>0</td>\n",
       "      <td>1</td>\n",
       "      <td>1</td>\n",
       "      <td>1</td>\n",
       "      <td>1</td>\n",
       "      <td>520.00</td>\n",
       "      <td>18.39</td>\n",
       "    </tr>\n",
       "    <tr>\n",
       "      <th>64912</th>\n",
       "      <td>f3ace35a38b59892c97c14e9eadbc923</td>\n",
       "      <td>18.916574</td>\n",
       "      <td>30.889653</td>\n",
       "      <td>0.000000</td>\n",
       "      <td>delivered</td>\n",
       "      <td>1</td>\n",
       "      <td>0</td>\n",
       "      <td>5</td>\n",
       "      <td>1</td>\n",
       "      <td>1</td>\n",
       "      <td>45.90</td>\n",
       "      <td>17.63</td>\n",
       "    </tr>\n",
       "    <tr>\n",
       "      <th>75487</th>\n",
       "      <td>b9f477fd3f945b7f9c9392fecdafe712</td>\n",
       "      <td>19.800567</td>\n",
       "      <td>27.120984</td>\n",
       "      <td>0.000000</td>\n",
       "      <td>delivered</td>\n",
       "      <td>0</td>\n",
       "      <td>0</td>\n",
       "      <td>3</td>\n",
       "      <td>1</td>\n",
       "      <td>1</td>\n",
       "      <td>122.99</td>\n",
       "      <td>15.61</td>\n",
       "    </tr>\n",
       "    <tr>\n",
       "      <th>42983</th>\n",
       "      <td>a16ba3cb9eadcd233262e7dcabd63592</td>\n",
       "      <td>6.824294</td>\n",
       "      <td>22.337072</td>\n",
       "      <td>0.000000</td>\n",
       "      <td>delivered</td>\n",
       "      <td>1</td>\n",
       "      <td>0</td>\n",
       "      <td>5</td>\n",
       "      <td>2</td>\n",
       "      <td>1</td>\n",
       "      <td>59.98</td>\n",
       "      <td>23.70</td>\n",
       "    </tr>\n",
       "    <tr>\n",
       "      <th>17161</th>\n",
       "      <td>0f2f8cfaa707ef6df9c6363b3d70ed23</td>\n",
       "      <td>11.938252</td>\n",
       "      <td>25.092512</td>\n",
       "      <td>0.000000</td>\n",
       "      <td>delivered</td>\n",
       "      <td>1</td>\n",
       "      <td>0</td>\n",
       "      <td>5</td>\n",
       "      <td>1</td>\n",
       "      <td>1</td>\n",
       "      <td>19.95</td>\n",
       "      <td>8.72</td>\n",
       "    </tr>\n",
       "    <tr>\n",
       "      <th>71609</th>\n",
       "      <td>161df324497b4eb26108b523c74327a5</td>\n",
       "      <td>44.026991</td>\n",
       "      <td>28.580752</td>\n",
       "      <td>15.446238</td>\n",
       "      <td>delivered</td>\n",
       "      <td>0</td>\n",
       "      <td>1</td>\n",
       "      <td>1</td>\n",
       "      <td>1</td>\n",
       "      <td>1</td>\n",
       "      <td>149.90</td>\n",
       "      <td>38.60</td>\n",
       "    </tr>\n",
       "    <tr>\n",
       "      <th>7419</th>\n",
       "      <td>497557705ed42b9e7678b808d1f21dbb</td>\n",
       "      <td>11.248762</td>\n",
       "      <td>20.374618</td>\n",
       "      <td>0.000000</td>\n",
       "      <td>delivered</td>\n",
       "      <td>1</td>\n",
       "      <td>0</td>\n",
       "      <td>5</td>\n",
       "      <td>1</td>\n",
       "      <td>1</td>\n",
       "      <td>82.50</td>\n",
       "      <td>33.94</td>\n",
       "    </tr>\n",
       "    <tr>\n",
       "      <th>58492</th>\n",
       "      <td>bc488184689ceaa10ede9045693eb6bc</td>\n",
       "      <td>38.334456</td>\n",
       "      <td>26.517153</td>\n",
       "      <td>11.817303</td>\n",
       "      <td>delivered</td>\n",
       "      <td>0</td>\n",
       "      <td>1</td>\n",
       "      <td>1</td>\n",
       "      <td>1</td>\n",
       "      <td>1</td>\n",
       "      <td>1670.00</td>\n",
       "      <td>59.98</td>\n",
       "    </tr>\n",
       "  </tbody>\n",
       "</table>\n",
       "</div>"
      ],
      "text/plain": [
       "                               order_id  wait_time  expected_wait_time  \\\n",
       "46217  3dcd400ff4301f079012e668f0c7a320   9.049062           29.186285   \n",
       "37089  125005c942aa889a867518019392d649   2.117755           11.361771   \n",
       "58347  10b4aca7d76f1ff55e0dfc750e4e0016  29.376863           22.604063   \n",
       "64912  f3ace35a38b59892c97c14e9eadbc923  18.916574           30.889653   \n",
       "75487  b9f477fd3f945b7f9c9392fecdafe712  19.800567           27.120984   \n",
       "42983  a16ba3cb9eadcd233262e7dcabd63592   6.824294           22.337072   \n",
       "17161  0f2f8cfaa707ef6df9c6363b3d70ed23  11.938252           25.092512   \n",
       "71609  161df324497b4eb26108b523c74327a5  44.026991           28.580752   \n",
       "7419   497557705ed42b9e7678b808d1f21dbb  11.248762           20.374618   \n",
       "58492  bc488184689ceaa10ede9045693eb6bc  38.334456           26.517153   \n",
       "\n",
       "       delay_vs_expected order_status  dim_is_five_star  dim_is_one_star  \\\n",
       "46217           0.000000    delivered                 0                0   \n",
       "37089           0.000000    delivered                 1                0   \n",
       "58347           6.772801    delivered                 0                1   \n",
       "64912           0.000000    delivered                 1                0   \n",
       "75487           0.000000    delivered                 0                0   \n",
       "42983           0.000000    delivered                 1                0   \n",
       "17161           0.000000    delivered                 1                0   \n",
       "71609          15.446238    delivered                 0                1   \n",
       "7419            0.000000    delivered                 1                0   \n",
       "58492          11.817303    delivered                 0                1   \n",
       "\n",
       "       review_score  number_of_products  number_of_sellers    price  \\\n",
       "46217             3                   1                  1    39.99   \n",
       "37089             5                   1                  1    79.99   \n",
       "58347             1                   1                  1   520.00   \n",
       "64912             5                   1                  1    45.90   \n",
       "75487             3                   1                  1   122.99   \n",
       "42983             5                   2                  1    59.98   \n",
       "17161             5                   1                  1    19.95   \n",
       "71609             1                   1                  1   149.90   \n",
       "7419              5                   1                  1    82.50   \n",
       "58492             1                   1                  1  1670.00   \n",
       "\n",
       "       freight_value  \n",
       "46217          11.85  \n",
       "37089           8.72  \n",
       "58347          18.39  \n",
       "64912          17.63  \n",
       "75487          15.61  \n",
       "42983          23.70  \n",
       "17161           8.72  \n",
       "71609          38.60  \n",
       "7419           33.94  \n",
       "58492          59.98  "
      ]
     },
     "execution_count": 53,
     "metadata": {},
     "output_type": "execute_result"
    }
   ],
   "source": [
    "orders.sample(10)"
   ]
  },
  {
   "cell_type": "markdown",
   "metadata": {},
   "source": [
    "Let's recall our simple analysis from yesterday's exercise: \n",
    "\n",
    "Based on our correlation matrix down below 👇, we can notice that `review_score` is mostly correlated with  two features : `wait_time` and `delay_vs_expected`. However, these two features are also highly correlated with each other. \n",
    "\n",
    "In this exercise, we will use `statsmodels` to distinguish the effect of one feature, **holding the other features constant**."
   ]
  },
  {
   "cell_type": "code",
   "execution_count": 31,
   "metadata": {},
   "outputs": [
    {
     "data": {
      "text/plain": [
       "<AxesSubplot:>"
      ]
     },
     "execution_count": 31,
     "metadata": {},
     "output_type": "execute_result"
    },
    {
     "data": {
      "image/png": "[encoded data removed]",
      "text/plain": [
       "<Figure size 720x720 with 2 Axes>"
      ]
     },
     "metadata": {
      "needs_background": "light"
     },
     "output_type": "display_data"
    }
   ],
   "source": [
    "plt.figure(figsize = (10,10))\n",
    "\n",
    "sns.heatmap(orders.corr(), \n",
    "            cmap='coolwarm', \n",
    "            annot = True, \n",
    "            annot_kws={\"size\": 10})"
   ]
  },
  {
   "cell_type": "markdown",
   "metadata": {},
   "source": [
    "📈 Using `seaborn`, plot a `regression line` of the `review_score` vs. the `delay_vs_expected`.\n",
    "\n",
    "Do it once with a sub-`sample` of the population, and once with the `entire population`."
   ]
  },
  {
   "cell_type": "code",
   "execution_count": 32,
   "metadata": {
    "ExecuteTime": {
     "end_time": "2021-01-25T09:15:38.490784Z",
     "start_time": "2021-01-25T09:15:34.440143Z"
    },
    "tags": [
     "challengify"
    ]
   },
   "outputs": [
    {
     "data": {
      "text/plain": [
       "(0.0, 5.9797759253377185)"
      ]
     },
     "execution_count": 32,
     "metadata": {},
     "output_type": "execute_result"
    },
    {
     "data": {
      "image/png": "[encoded data removed]",
      "text/plain": [
       "<Figure size 936x360 with 2 Axes>"
      ]
     },
     "metadata": {
      "needs_background": "light"
     },
     "output_type": "display_data"
    }
   ],
   "source": [
    "# YOUR CODE HERE\n",
    "sample = orders.sample(10000, random_state=42)\n",
    "plt.figure(figsize=(13,5))\n",
    "\n",
    "plt.subplot(1,2,1)\n",
    "sns.regplot(x = sample.wait_time, y= sample.review_score, y_jitter=.1)\n",
    "plt.xlim(right=70)\n",
    "plt.ylim(bottom=0)\n",
    "\n",
    "plt.subplot(1,2,2)\n",
    "sns.regplot(x = sample.delay_vs_expected, y= sample.review_score, y_jitter=.1)\n",
    "plt.xlim(right=70)\n",
    "plt.ylim(bottom=0)"
   ]
  },
  {
   "cell_type": "markdown",
   "metadata": {},
   "source": [
    "## 1 - Univariate regression"
   ]
  },
  {
   "cell_type": "markdown",
   "metadata": {},
   "source": [
    "❓Use [statsmodels](https://www.statsmodels.org/stable/generated/statsmodels.formula.api.ols.html) with `statsmodels.formula.api` to quickly make\n",
    " - `model1`: an ols regression of `review_score` over `wait_time`\n",
    " - `model2`: an ols regression of `review_score` over `delay_vs_expected`\n",
    "\n",
    "For each, print the `summary` table and interpret the results:\n",
    "- Make sure to understand how these results match those of the seaborn regplot\n",
    "- Read the regression performance metric `R-squared`, as well as `individual regression coefficients`, `t-values`, `p-values`, and `95% confidence intervals`"
   ]
  },
  {
   "cell_type": "markdown",
   "metadata": {},
   "source": [
    "***Model 1***:"
   ]
  },
  {
   "cell_type": "code",
   "execution_count": 39,
   "metadata": {
    "ExecuteTime": {
     "end_time": "2021-01-25T09:15:40.492773Z",
     "start_time": "2021-01-25T09:15:40.430652Z"
    },
    "tags": [
     "challengify"
    ]
   },
   "outputs": [
    {
     "data": {
      "text/html": [
       "<table class=\"simpletable\">\n",
       "<caption>OLS Regression Results</caption>\n",
       "<tr>\n",
       "  <th>Dep. Variable:</th>      <td>review_score</td>   <th>  R-squared:         </th>  <td>   0.111</td>  \n",
       "</tr>\n",
       "<tr>\n",
       "  <th>Model:</th>                   <td>OLS</td>       <th>  Adj. R-squared:    </th>  <td>   0.111</td>  \n",
       "</tr>\n",
       "<tr>\n",
       "  <th>Method:</th>             <td>Least Squares</td>  <th>  F-statistic:       </th>  <td>1.208e+04</td> \n",
       "</tr>\n",
       "<tr>\n",
       "  <th>Date:</th>             <td>Wed, 20 Oct 2021</td> <th>  Prob (F-statistic):</th>   <td>  0.00</td>   \n",
       "</tr>\n",
       "<tr>\n",
       "  <th>Time:</th>                 <td>11:48:33</td>     <th>  Log-Likelihood:    </th> <td>-1.5519e+05</td>\n",
       "</tr>\n",
       "<tr>\n",
       "  <th>No. Observations:</th>      <td> 96353</td>      <th>  AIC:               </th>  <td>3.104e+05</td> \n",
       "</tr>\n",
       "<tr>\n",
       "  <th>Df Residuals:</th>          <td> 96351</td>      <th>  BIC:               </th>  <td>3.104e+05</td> \n",
       "</tr>\n",
       "<tr>\n",
       "  <th>Df Model:</th>              <td>     1</td>      <th>                     </th>      <td> </td>     \n",
       "</tr>\n",
       "<tr>\n",
       "  <th>Covariance Type:</th>      <td>nonrobust</td>    <th>                     </th>      <td> </td>     \n",
       "</tr>\n",
       "</table>\n",
       "<table class=\"simpletable\">\n",
       "<tr>\n",
       "      <td></td>         <th>coef</th>     <th>std err</th>      <th>t</th>      <th>P>|t|</th>  <th>[0.025</th>    <th>0.975]</th>  \n",
       "</tr>\n",
       "<tr>\n",
       "  <th>Intercept</th> <td>    4.7236</td> <td>    0.006</td> <td>  729.482</td> <td> 0.000</td> <td>    4.711</td> <td>    4.736</td>\n",
       "</tr>\n",
       "<tr>\n",
       "  <th>wait_time</th> <td>   -0.0453</td> <td>    0.000</td> <td> -109.902</td> <td> 0.000</td> <td>   -0.046</td> <td>   -0.045</td>\n",
       "</tr>\n",
       "</table>\n",
       "<table class=\"simpletable\">\n",
       "<tr>\n",
       "  <th>Omnibus:</th>       <td>19639.914</td> <th>  Durbin-Watson:     </th> <td>   2.007</td> \n",
       "</tr>\n",
       "<tr>\n",
       "  <th>Prob(Omnibus):</th>  <td> 0.000</td>   <th>  Jarque-Bera (JB):  </th> <td>35586.515</td>\n",
       "</tr>\n",
       "<tr>\n",
       "  <th>Skew:</th>           <td>-1.300</td>   <th>  Prob(JB):          </th> <td>    0.00</td> \n",
       "</tr>\n",
       "<tr>\n",
       "  <th>Kurtosis:</th>       <td> 4.449</td>   <th>  Cond. No.          </th> <td>    26.1</td> \n",
       "</tr>\n",
       "</table><br/><br/>Notes:<br/>[1] Standard Errors assume that the covariance matrix of the errors is correctly specified."
      ],
      "text/plain": [
       "<class 'statsmodels.iolib.summary.Summary'>\n",
       "\"\"\"\n",
       "                            OLS Regression Results                            \n",
       "==============================================================================\n",
       "Dep. Variable:           review_score   R-squared:                       0.111\n",
       "Model:                            OLS   Adj. R-squared:                  0.111\n",
       "Method:                 Least Squares   F-statistic:                 1.208e+04\n",
       "Date:                Wed, 20 Oct 2021   Prob (F-statistic):               0.00\n",
       "Time:                        11:48:33   Log-Likelihood:            -1.5519e+05\n",
       "No. Observations:               96353   AIC:                         3.104e+05\n",
       "Df Residuals:                   96351   BIC:                         3.104e+05\n",
       "Df Model:                           1                                         \n",
       "Covariance Type:            nonrobust                                         \n",
       "==============================================================================\n",
       "                 coef    std err          t      P>|t|      [0.025      0.975]\n",
       "------------------------------------------------------------------------------\n",
       "Intercept      4.7236      0.006    729.482      0.000       4.711       4.736\n",
       "wait_time     -0.0453      0.000   -109.902      0.000      -0.046      -0.045\n",
       "==============================================================================\n",
       "Omnibus:                    19639.914   Durbin-Watson:                   2.007\n",
       "Prob(Omnibus):                  0.000   Jarque-Bera (JB):            35586.515\n",
       "Skew:                          -1.300   Prob(JB):                         0.00\n",
       "Kurtosis:                       4.449   Cond. No.                         26.1\n",
       "==============================================================================\n",
       "\n",
       "Notes:\n",
       "[1] Standard Errors assume that the covariance matrix of the errors is correctly specified.\n",
       "\"\"\""
      ]
     },
     "execution_count": 39,
     "metadata": {},
     "output_type": "execute_result"
    }
   ],
   "source": [
    "# YOUR CODE HERE\n",
    "import statsmodels.formula.api as smf\n",
    "\n",
    "model1 = smf.ols(formula='review_score ~ wait_time', data=orders).fit()\n",
    "model1.rsquared\n",
    "model1.summary()\n",
    "\n"
   ]
  },
  {
   "cell_type": "markdown",
   "metadata": {},
   "source": [
    "***Model 2***:"
   ]
  },
  {
   "cell_type": "code",
   "execution_count": 40,
   "metadata": {
    "ExecuteTime": {
     "end_time": "2021-01-25T09:15:43.989495Z",
     "start_time": "2021-01-25T09:15:43.934388Z"
    },
    "tags": [
     "challengify"
    ]
   },
   "outputs": [
    {
     "data": {
      "text/html": [
       "<table class=\"simpletable\">\n",
       "<caption>OLS Regression Results</caption>\n",
       "<tr>\n",
       "  <th>Dep. Variable:</th>      <td>review_score</td>   <th>  R-squared:         </th>  <td>   0.074</td>  \n",
       "</tr>\n",
       "<tr>\n",
       "  <th>Model:</th>                   <td>OLS</td>       <th>  Adj. R-squared:    </th>  <td>   0.074</td>  \n",
       "</tr>\n",
       "<tr>\n",
       "  <th>Method:</th>             <td>Least Squares</td>  <th>  F-statistic:       </th>  <td>   7715.</td>  \n",
       "</tr>\n",
       "<tr>\n",
       "  <th>Date:</th>             <td>Wed, 20 Oct 2021</td> <th>  Prob (F-statistic):</th>   <td>  0.00</td>   \n",
       "</tr>\n",
       "<tr>\n",
       "  <th>Time:</th>                 <td>11:48:37</td>     <th>  Log-Likelihood:    </th> <td>-1.5717e+05</td>\n",
       "</tr>\n",
       "<tr>\n",
       "  <th>No. Observations:</th>      <td> 96353</td>      <th>  AIC:               </th>  <td>3.143e+05</td> \n",
       "</tr>\n",
       "<tr>\n",
       "  <th>Df Residuals:</th>          <td> 96351</td>      <th>  BIC:               </th>  <td>3.144e+05</td> \n",
       "</tr>\n",
       "<tr>\n",
       "  <th>Df Model:</th>              <td>     1</td>      <th>                     </th>      <td> </td>     \n",
       "</tr>\n",
       "<tr>\n",
       "  <th>Covariance Type:</th>      <td>nonrobust</td>    <th>                     </th>      <td> </td>     \n",
       "</tr>\n",
       "</table>\n",
       "<table class=\"simpletable\">\n",
       "<tr>\n",
       "          <td></td>             <th>coef</th>     <th>std err</th>      <th>t</th>      <th>P>|t|</th>  <th>[0.025</th>    <th>0.975]</th>  \n",
       "</tr>\n",
       "<tr>\n",
       "  <th>Intercept</th>         <td>    4.2124</td> <td>    0.004</td> <td> 1043.898</td> <td> 0.000</td> <td>    4.205</td> <td>    4.220</td>\n",
       "</tr>\n",
       "<tr>\n",
       "  <th>delay_vs_expected</th> <td>   -0.0751</td> <td>    0.001</td> <td>  -87.836</td> <td> 0.000</td> <td>   -0.077</td> <td>   -0.073</td>\n",
       "</tr>\n",
       "</table>\n",
       "<table class=\"simpletable\">\n",
       "<tr>\n",
       "  <th>Omnibus:</th>       <td>20752.916</td> <th>  Durbin-Watson:     </th> <td>   2.004</td> \n",
       "</tr>\n",
       "<tr>\n",
       "  <th>Prob(Omnibus):</th>  <td> 0.000</td>   <th>  Jarque-Bera (JB):  </th> <td>49852.017</td>\n",
       "</tr>\n",
       "<tr>\n",
       "  <th>Skew:</th>           <td>-1.204</td>   <th>  Prob(JB):          </th> <td>    0.00</td> \n",
       "</tr>\n",
       "<tr>\n",
       "  <th>Kurtosis:</th>       <td> 5.573</td>   <th>  Cond. No.          </th> <td>    4.78</td> \n",
       "</tr>\n",
       "</table><br/><br/>Notes:<br/>[1] Standard Errors assume that the covariance matrix of the errors is correctly specified."
      ],
      "text/plain": [
       "<class 'statsmodels.iolib.summary.Summary'>\n",
       "\"\"\"\n",
       "                            OLS Regression Results                            \n",
       "==============================================================================\n",
       "Dep. Variable:           review_score   R-squared:                       0.074\n",
       "Model:                            OLS   Adj. R-squared:                  0.074\n",
       "Method:                 Least Squares   F-statistic:                     7715.\n",
       "Date:                Wed, 20 Oct 2021   Prob (F-statistic):               0.00\n",
       "Time:                        11:48:37   Log-Likelihood:            -1.5717e+05\n",
       "No. Observations:               96353   AIC:                         3.143e+05\n",
       "Df Residuals:                   96351   BIC:                         3.144e+05\n",
       "Df Model:                           1                                         \n",
       "Covariance Type:            nonrobust                                         \n",
       "=====================================================================================\n",
       "                        coef    std err          t      P>|t|      [0.025      0.975]\n",
       "-------------------------------------------------------------------------------------\n",
       "Intercept             4.2124      0.004   1043.898      0.000       4.205       4.220\n",
       "delay_vs_expected    -0.0751      0.001    -87.836      0.000      -0.077      -0.073\n",
       "==============================================================================\n",
       "Omnibus:                    20752.916   Durbin-Watson:                   2.004\n",
       "Prob(Omnibus):                  0.000   Jarque-Bera (JB):            49852.017\n",
       "Skew:                          -1.204   Prob(JB):                         0.00\n",
       "Kurtosis:                       5.573   Cond. No.                         4.78\n",
       "==============================================================================\n",
       "\n",
       "Notes:\n",
       "[1] Standard Errors assume that the covariance matrix of the errors is correctly specified.\n",
       "\"\"\""
      ]
     },
     "execution_count": 40,
     "metadata": {},
     "output_type": "execute_result"
    }
   ],
   "source": [
    "# YOUR CODE HERE\n",
    "model2 = smf.ols(formula='review_score ~ delay_vs_expected', data=orders).fit()\n",
    "model2.rsquared\n",
    "model2.summary()"
   ]
  },
  {
   "cell_type": "markdown",
   "metadata": {},
   "source": [
    "## 2 - Multivariate regression"
   ]
  },
  {
   "cell_type": "markdown",
   "metadata": {},
   "source": [
    "❓ What is the impact on `review_score` of adding one day of `delay_vs_expected` to the order, **holding `wait_time` constant**? Which of the two features is the most explicative for the low `review_score`?\n",
    "\n",
    "For that purpose, run an OLS model `model3` where both `wait_time` and `delay_vs_expected` are the features (independent variables), and `review_score` is the target (dependent variable)"
   ]
  },
  {
   "cell_type": "markdown",
   "metadata": {},
   "source": [
    "***Model 3***:"
   ]
  },
  {
   "cell_type": "code",
   "execution_count": 43,
   "metadata": {
    "ExecuteTime": {
     "end_time": "2021-01-25T09:15:46.934489Z",
     "start_time": "2021-01-25T09:15:46.868198Z"
    },
    "tags": [
     "challengify"
    ]
   },
   "outputs": [
    {
     "data": {
      "text/html": [
       "<table class=\"simpletable\">\n",
       "<caption>OLS Regression Results</caption>\n",
       "<tr>\n",
       "  <th>Dep. Variable:</th>      <td>review_score</td>   <th>  R-squared:         </th>  <td>   0.114</td>  \n",
       "</tr>\n",
       "<tr>\n",
       "  <th>Model:</th>                   <td>OLS</td>       <th>  Adj. R-squared:    </th>  <td>   0.114</td>  \n",
       "</tr>\n",
       "<tr>\n",
       "  <th>Method:</th>             <td>Least Squares</td>  <th>  F-statistic:       </th>  <td>   6211.</td>  \n",
       "</tr>\n",
       "<tr>\n",
       "  <th>Date:</th>             <td>Wed, 20 Oct 2021</td> <th>  Prob (F-statistic):</th>   <td>  0.00</td>   \n",
       "</tr>\n",
       "<tr>\n",
       "  <th>Time:</th>                 <td>11:51:43</td>     <th>  Log-Likelihood:    </th> <td>-1.5504e+05</td>\n",
       "</tr>\n",
       "<tr>\n",
       "  <th>No. Observations:</th>      <td> 96353</td>      <th>  AIC:               </th>  <td>3.101e+05</td> \n",
       "</tr>\n",
       "<tr>\n",
       "  <th>Df Residuals:</th>          <td> 96350</td>      <th>  BIC:               </th>  <td>3.101e+05</td> \n",
       "</tr>\n",
       "<tr>\n",
       "  <th>Df Model:</th>              <td>     2</td>      <th>                     </th>      <td> </td>     \n",
       "</tr>\n",
       "<tr>\n",
       "  <th>Covariance Type:</th>      <td>nonrobust</td>    <th>                     </th>      <td> </td>     \n",
       "</tr>\n",
       "</table>\n",
       "<table class=\"simpletable\">\n",
       "<tr>\n",
       "          <td></td>             <th>coef</th>     <th>std err</th>      <th>t</th>      <th>P>|t|</th>  <th>[0.025</th>    <th>0.975]</th>  \n",
       "</tr>\n",
       "<tr>\n",
       "  <th>Intercept</th>         <td>    4.6500</td> <td>    0.008</td> <td>  602.765</td> <td> 0.000</td> <td>    4.635</td> <td>    4.665</td>\n",
       "</tr>\n",
       "<tr>\n",
       "  <th>delay_vs_expected</th> <td>   -0.0206</td> <td>    0.001</td> <td>  -17.485</td> <td> 0.000</td> <td>   -0.023</td> <td>   -0.018</td>\n",
       "</tr>\n",
       "<tr>\n",
       "  <th>wait_time</th>         <td>   -0.0382</td> <td>    0.001</td> <td>  -66.018</td> <td> 0.000</td> <td>   -0.039</td> <td>   -0.037</td>\n",
       "</tr>\n",
       "</table>\n",
       "<table class=\"simpletable\">\n",
       "<tr>\n",
       "  <th>Omnibus:</th>       <td>20080.290</td> <th>  Durbin-Watson:     </th> <td>   2.006</td> \n",
       "</tr>\n",
       "<tr>\n",
       "  <th>Prob(Omnibus):</th>  <td> 0.000</td>   <th>  Jarque-Bera (JB):  </th> <td>40618.500</td>\n",
       "</tr>\n",
       "<tr>\n",
       "  <th>Skew:</th>           <td>-1.249</td>   <th>  Prob(JB):          </th> <td>    0.00</td> \n",
       "</tr>\n",
       "<tr>\n",
       "  <th>Kurtosis:</th>       <td> 4.970</td>   <th>  Cond. No.          </th> <td>    31.7</td> \n",
       "</tr>\n",
       "</table><br/><br/>Notes:<br/>[1] Standard Errors assume that the covariance matrix of the errors is correctly specified."
      ],
      "text/plain": [
       "<class 'statsmodels.iolib.summary.Summary'>\n",
       "\"\"\"\n",
       "                            OLS Regression Results                            \n",
       "==============================================================================\n",
       "Dep. Variable:           review_score   R-squared:                       0.114\n",
       "Model:                            OLS   Adj. R-squared:                  0.114\n",
       "Method:                 Least Squares   F-statistic:                     6211.\n",
       "Date:                Wed, 20 Oct 2021   Prob (F-statistic):               0.00\n",
       "Time:                        11:51:43   Log-Likelihood:            -1.5504e+05\n",
       "No. Observations:               96353   AIC:                         3.101e+05\n",
       "Df Residuals:                   96350   BIC:                         3.101e+05\n",
       "Df Model:                           2                                         \n",
       "Covariance Type:            nonrobust                                         \n",
       "=====================================================================================\n",
       "                        coef    std err          t      P>|t|      [0.025      0.975]\n",
       "-------------------------------------------------------------------------------------\n",
       "Intercept             4.6500      0.008    602.765      0.000       4.635       4.665\n",
       "delay_vs_expected    -0.0206      0.001    -17.485      0.000      -0.023      -0.018\n",
       "wait_time            -0.0382      0.001    -66.018      0.000      -0.039      -0.037\n",
       "==============================================================================\n",
       "Omnibus:                    20080.290   Durbin-Watson:                   2.006\n",
       "Prob(Omnibus):                  0.000   Jarque-Bera (JB):            40618.500\n",
       "Skew:                          -1.249   Prob(JB):                         0.00\n",
       "Kurtosis:                       4.970   Cond. No.                         31.7\n",
       "==============================================================================\n",
       "\n",
       "Notes:\n",
       "[1] Standard Errors assume that the covariance matrix of the errors is correctly specified.\n",
       "\"\"\""
      ]
     },
     "execution_count": 43,
     "metadata": {},
     "output_type": "execute_result"
    }
   ],
   "source": [
    "# YOUR CODE HERE\n",
    "model3 = smf.ols(formula='review_score ~ delay_vs_expected + wait_time', data=orders).fit()\n",
    "model3.rsquared\n",
    "model3.summary()"
   ]
  },
  {
   "cell_type": "markdown",
   "metadata": {},
   "source": [
    "----\n",
    "👉 Our multivariate regression allows us to isolate the impact of one feature, while controlling the effect of other features. These new coefficients are called **`partial correlation coefficients`**. \n",
    "\n",
    "❓Can you notice the difference with the **simple regression** coeffients computed with *seaborn* above? \n",
    "\n",
    "❓What can you say about the relative slopes for `wait_time` and `delay_vs_expected`? \n"
   ]
  },
  {
   "cell_type": "markdown",
   "metadata": {
    "tags": [
     "challengify"
    ]
   },
   "source": [
    "> YOUR ANSWER HERE\n",
    "wait time et review score ont une corrélation négative, plus le wait time augmente plus le review score est diminué\n"
   ]
  },
  {
   "cell_type": "markdown",
   "metadata": {},
   "source": [
    "<details>\n",
    "    <summary>- 💡 Solution 💡-</summary>\n",
    "\n",
    "- Holding `wait_time` constant, each additional day of `delay` reduces the review_score on average by 0.0191 [0.017 - 0.21] points\n",
    "- Holding `delay` constant, each additional day of `wait_time` reduces the review_score on average by 0.0388 points \n",
    "\n",
    "Contrary to what was found with the simple bivariate correlation analysis, `delay` is actually less impactful than `wait_time` in driving lower `review_score`! This interesting finding demonstrates the importance of multi-variate regression to remove the potential impact of confounding factors"
   ]
  },
  {
   "cell_type": "markdown",
   "metadata": {},
   "source": [
    "---\n",
    "❌ R-squared is quite low: no more than 12% of the variations of review_score is explained by the combined variations of `wait_time` and `delay_vs_expected`. \n",
    "\n",
    "✅ Let's try to add more features to our regression to improve the explainability of the linear regression.\n",
    "\n",
    "👉 Create a new OLS `model4` with more features from the `orders` dataset.\n",
    "- ⚠️ Do not create **data leaks**: do not add features that are directly derived from the `review_score`\n",
    "- ⚠️ Do not add two features perfectly colinear with each other\n",
    "- ⚖️  Transform each feature $X_i$ into its respective z-score $Z_i = \\frac{X_i - \\mu_i}{\\sigma_i}$ in order to compare the partial regression coefficients $\\beta_i$ together. Otherwise, the $\\beta_i$ won't be in the same dimension, meaning you'll be comparing apples (e.g. \"review_stars per day\") with oranges (e.g. \"review_stars per BRL\")!"
   ]
  },
  {
   "cell_type": "markdown",
   "metadata": {},
   "source": [
    "📝 <u>Note</u>: a **`Multivariate Linear Regression`** is also called an **`Ordinary Least Squares`** method because in this model, we want to minimise the **`MSE Mean Squared Errors`**"
   ]
  },
  {
   "cell_type": "markdown",
   "metadata": {},
   "source": [
    "***Model 4***:"
   ]
  },
  {
   "cell_type": "code",
   "execution_count": 57,
   "metadata": {},
   "outputs": [
    {
     "data": {
      "text/html": [
       "<table class=\"simpletable\">\n",
       "<caption>OLS Regression Results</caption>\n",
       "<tr>\n",
       "  <th>Dep. Variable:</th>      <td>review_score</td>   <th>  R-squared:         </th>  <td>   0.140</td>  \n",
       "</tr>\n",
       "<tr>\n",
       "  <th>Model:</th>                   <td>OLS</td>       <th>  Adj. R-squared:    </th>  <td>   0.140</td>  \n",
       "</tr>\n",
       "<tr>\n",
       "  <th>Method:</th>             <td>Least Squares</td>  <th>  F-statistic:       </th>  <td>   3148.</td>  \n",
       "</tr>\n",
       "<tr>\n",
       "  <th>Date:</th>             <td>Wed, 20 Oct 2021</td> <th>  Prob (F-statistic):</th>   <td>  0.00</td>   \n",
       "</tr>\n",
       "<tr>\n",
       "  <th>Time:</th>                 <td>12:52:59</td>     <th>  Log-Likelihood:    </th> <td>-1.2943e+05</td>\n",
       "</tr>\n",
       "<tr>\n",
       "  <th>No. Observations:</th>      <td> 96353</td>      <th>  AIC:               </th>  <td>2.589e+05</td> \n",
       "</tr>\n",
       "<tr>\n",
       "  <th>Df Residuals:</th>          <td> 96347</td>      <th>  BIC:               </th>  <td>2.589e+05</td> \n",
       "</tr>\n",
       "<tr>\n",
       "  <th>Df Model:</th>              <td>     5</td>      <th>                     </th>      <td> </td>     \n",
       "</tr>\n",
       "<tr>\n",
       "  <th>Covariance Type:</th>      <td>nonrobust</td>    <th>                     </th>      <td> </td>     \n",
       "</tr>\n",
       "</table>\n",
       "<table class=\"simpletable\">\n",
       "<tr>\n",
       "           <td></td>             <th>coef</th>     <th>std err</th>      <th>t</th>      <th>P>|t|</th>  <th>[0.025</th>    <th>0.975]</th>  \n",
       "</tr>\n",
       "<tr>\n",
       "  <th>Intercept</th>          <td> 2.124e-16</td> <td>    0.003</td> <td> 7.11e-14</td> <td> 1.000</td> <td>   -0.006</td> <td>    0.006</td>\n",
       "</tr>\n",
       "<tr>\n",
       "  <th>delay_vs_expected</th>  <td>   -0.0721</td> <td>    0.004</td> <td>  -17.157</td> <td> 0.000</td> <td>   -0.080</td> <td>   -0.064</td>\n",
       "</tr>\n",
       "<tr>\n",
       "  <th>wait_time</th>          <td>   -0.2894</td> <td>    0.004</td> <td>  -68.718</td> <td> 0.000</td> <td>   -0.298</td> <td>   -0.281</td>\n",
       "</tr>\n",
       "<tr>\n",
       "  <th>price</th>              <td>    0.0024</td> <td>    0.003</td> <td>    0.797</td> <td> 0.425</td> <td>   -0.004</td> <td>    0.008</td>\n",
       "</tr>\n",
       "<tr>\n",
       "  <th>number_of_sellers</th>  <td>   -0.1008</td> <td>    0.003</td> <td>  -32.287</td> <td> 0.000</td> <td>   -0.107</td> <td>   -0.095</td>\n",
       "</tr>\n",
       "<tr>\n",
       "  <th>number_of_products</th> <td>   -0.1015</td> <td>    0.003</td> <td>  -32.179</td> <td> 0.000</td> <td>   -0.108</td> <td>   -0.095</td>\n",
       "</tr>\n",
       "</table>\n",
       "<table class=\"simpletable\">\n",
       "<tr>\n",
       "  <th>Omnibus:</th>       <td>18938.773</td> <th>  Durbin-Watson:     </th> <td>   2.009</td> \n",
       "</tr>\n",
       "<tr>\n",
       "  <th>Prob(Omnibus):</th>  <td> 0.000</td>   <th>  Jarque-Bera (JB):  </th> <td>38790.207</td>\n",
       "</tr>\n",
       "<tr>\n",
       "  <th>Skew:</th>           <td>-1.173</td>   <th>  Prob(JB):          </th> <td>    0.00</td> \n",
       "</tr>\n",
       "<tr>\n",
       "  <th>Kurtosis:</th>       <td> 5.039</td>   <th>  Cond. No.          </th> <td>    2.41</td> \n",
       "</tr>\n",
       "</table><br/><br/>Notes:<br/>[1] Standard Errors assume that the covariance matrix of the errors is correctly specified."
      ],
      "text/plain": [
       "<class 'statsmodels.iolib.summary.Summary'>\n",
       "\"\"\"\n",
       "                            OLS Regression Results                            \n",
       "==============================================================================\n",
       "Dep. Variable:           review_score   R-squared:                       0.140\n",
       "Model:                            OLS   Adj. R-squared:                  0.140\n",
       "Method:                 Least Squares   F-statistic:                     3148.\n",
       "Date:                Wed, 20 Oct 2021   Prob (F-statistic):               0.00\n",
       "Time:                        12:52:59   Log-Likelihood:            -1.2943e+05\n",
       "No. Observations:               96353   AIC:                         2.589e+05\n",
       "Df Residuals:                   96347   BIC:                         2.589e+05\n",
       "Df Model:                           5                                         \n",
       "Covariance Type:            nonrobust                                         \n",
       "======================================================================================\n",
       "                         coef    std err          t      P>|t|      [0.025      0.975]\n",
       "--------------------------------------------------------------------------------------\n",
       "Intercept           2.124e-16      0.003   7.11e-14      1.000      -0.006       0.006\n",
       "delay_vs_expected     -0.0721      0.004    -17.157      0.000      -0.080      -0.064\n",
       "wait_time             -0.2894      0.004    -68.718      0.000      -0.298      -0.281\n",
       "price                  0.0024      0.003      0.797      0.425      -0.004       0.008\n",
       "number_of_sellers     -0.1008      0.003    -32.287      0.000      -0.107      -0.095\n",
       "number_of_products    -0.1015      0.003    -32.179      0.000      -0.108      -0.095\n",
       "==============================================================================\n",
       "Omnibus:                    18938.773   Durbin-Watson:                   2.009\n",
       "Prob(Omnibus):                  0.000   Jarque-Bera (JB):            38790.207\n",
       "Skew:                          -1.173   Prob(JB):                         0.00\n",
       "Kurtosis:                       5.039   Cond. No.                         2.41\n",
       "==============================================================================\n",
       "\n",
       "Notes:\n",
       "[1] Standard Errors assume that the covariance matrix of the errors is correctly specified.\n",
       "\"\"\""
      ]
     },
     "execution_count": 57,
     "metadata": {},
     "output_type": "execute_result"
    }
   ],
   "source": [
    "model4 = smf.ols(formula='review_score ~ delay_vs_expected + wait_time + price + number_of_sellers+ number_of_products', data=orders).fit()\n",
    "model4.rsquared\n",
    "model4.summary()\n"
   ]
  },
  {
   "cell_type": "code",
   "execution_count": 54,
   "metadata": {},
   "outputs": [
    {
     "data": {
      "text/plain": [
       "57116.550293642256"
      ]
     },
     "execution_count": 54,
     "metadata": {},
     "output_type": "execute_result"
    }
   ],
   "source": []
  },
  {
   "cell_type": "markdown",
   "metadata": {},
   "source": [
    "❓ What features would you like to consider ?"
   ]
  },
  {
   "cell_type": "code",
   "execution_count": 47,
   "metadata": {
    "ExecuteTime": {
     "end_time": "2021-01-25T09:15:50.701360Z",
     "start_time": "2021-01-25T09:15:50.677888Z"
    },
    "tags": [
     "challengify"
    ]
   },
   "outputs": [],
   "source": [
    "# YOUR CODE HERE\n",
    "#wait_time + + price + number_of_sellers+ number_of_products"
   ]
  },
  {
   "cell_type": "markdown",
   "metadata": {},
   "source": [
    "⚖️ Standardize your features.\n",
    "\n",
    "*Do you remember why we need to perform this operation before running a `Multivariate regression` ?*\n",
    "\n",
    "<details>\n",
    "    <summary>- 💡 Answer 💡-</summary>\n",
    "\n",
    "👉 In a `multivariate linear regression`, we are trying to measure the impact of each feature on the target. \n",
    "    \n",
    "⚠️ Because of scale effects, some features will wrongly be seen as more important than others \n",
    "    \n",
    "    *Ex: if you have a feature \"number of bedrooms\" from 1 to 5 and a feature \"surface\" from 20 to 200 sqm, the ranges of these two features are quite different...*"
   ]
  },
  {
   "cell_type": "code",
   "execution_count": 58,
   "metadata": {
    "ExecuteTime": {
     "end_time": "2021-01-25T09:15:52.353808Z",
     "start_time": "2021-01-25T09:15:52.034599Z"
    },
    "tags": [
     "challengify"
    ]
   },
   "outputs": [
    {
     "data": {
      "text/html": [
       "<table class=\"simpletable\">\n",
       "<caption>OLS Regression Results</caption>\n",
       "<tr>\n",
       "  <th>Dep. Variable:</th>      <td>review_score</td>   <th>  R-squared:         </th>  <td>   0.140</td>  \n",
       "</tr>\n",
       "<tr>\n",
       "  <th>Model:</th>                   <td>OLS</td>       <th>  Adj. R-squared:    </th>  <td>   0.140</td>  \n",
       "</tr>\n",
       "<tr>\n",
       "  <th>Method:</th>             <td>Least Squares</td>  <th>  F-statistic:       </th>  <td>   3148.</td>  \n",
       "</tr>\n",
       "<tr>\n",
       "  <th>Date:</th>             <td>Wed, 20 Oct 2021</td> <th>  Prob (F-statistic):</th>   <td>  0.00</td>   \n",
       "</tr>\n",
       "<tr>\n",
       "  <th>Time:</th>                 <td>12:53:07</td>     <th>  Log-Likelihood:    </th> <td>-1.2943e+05</td>\n",
       "</tr>\n",
       "<tr>\n",
       "  <th>No. Observations:</th>      <td> 96353</td>      <th>  AIC:               </th>  <td>2.589e+05</td> \n",
       "</tr>\n",
       "<tr>\n",
       "  <th>Df Residuals:</th>          <td> 96347</td>      <th>  BIC:               </th>  <td>2.589e+05</td> \n",
       "</tr>\n",
       "<tr>\n",
       "  <th>Df Model:</th>              <td>     5</td>      <th>                     </th>      <td> </td>     \n",
       "</tr>\n",
       "<tr>\n",
       "  <th>Covariance Type:</th>      <td>nonrobust</td>    <th>                     </th>      <td> </td>     \n",
       "</tr>\n",
       "</table>\n",
       "<table class=\"simpletable\">\n",
       "<tr>\n",
       "           <td></td>             <th>coef</th>     <th>std err</th>      <th>t</th>      <th>P>|t|</th>  <th>[0.025</th>    <th>0.975]</th>  \n",
       "</tr>\n",
       "<tr>\n",
       "  <th>Intercept</th>          <td> 1.444e-16</td> <td>    0.003</td> <td> 4.84e-14</td> <td> 1.000</td> <td>   -0.006</td> <td>    0.006</td>\n",
       "</tr>\n",
       "<tr>\n",
       "  <th>delay_vs_expected</th>  <td>   -0.0721</td> <td>    0.004</td> <td>  -17.157</td> <td> 0.000</td> <td>   -0.080</td> <td>   -0.064</td>\n",
       "</tr>\n",
       "<tr>\n",
       "  <th>wait_time</th>          <td>   -0.2894</td> <td>    0.004</td> <td>  -68.718</td> <td> 0.000</td> <td>   -0.298</td> <td>   -0.281</td>\n",
       "</tr>\n",
       "<tr>\n",
       "  <th>number_of_sellers</th>  <td>   -0.1008</td> <td>    0.003</td> <td>  -32.287</td> <td> 0.000</td> <td>   -0.107</td> <td>   -0.095</td>\n",
       "</tr>\n",
       "<tr>\n",
       "  <th>number_of_products</th> <td>   -0.1015</td> <td>    0.003</td> <td>  -32.179</td> <td> 0.000</td> <td>   -0.108</td> <td>   -0.095</td>\n",
       "</tr>\n",
       "<tr>\n",
       "  <th>price</th>              <td>    0.0024</td> <td>    0.003</td> <td>    0.797</td> <td> 0.425</td> <td>   -0.004</td> <td>    0.008</td>\n",
       "</tr>\n",
       "</table>\n",
       "<table class=\"simpletable\">\n",
       "<tr>\n",
       "  <th>Omnibus:</th>       <td>18938.773</td> <th>  Durbin-Watson:     </th> <td>   2.009</td> \n",
       "</tr>\n",
       "<tr>\n",
       "  <th>Prob(Omnibus):</th>  <td> 0.000</td>   <th>  Jarque-Bera (JB):  </th> <td>38790.207</td>\n",
       "</tr>\n",
       "<tr>\n",
       "  <th>Skew:</th>           <td>-1.173</td>   <th>  Prob(JB):          </th> <td>    0.00</td> \n",
       "</tr>\n",
       "<tr>\n",
       "  <th>Kurtosis:</th>       <td> 5.039</td>   <th>  Cond. No.          </th> <td>    2.41</td> \n",
       "</tr>\n",
       "</table><br/><br/>Notes:<br/>[1] Standard Errors assume that the covariance matrix of the errors is correctly specified."
      ],
      "text/plain": [
       "<class 'statsmodels.iolib.summary.Summary'>\n",
       "\"\"\"\n",
       "                            OLS Regression Results                            \n",
       "==============================================================================\n",
       "Dep. Variable:           review_score   R-squared:                       0.140\n",
       "Model:                            OLS   Adj. R-squared:                  0.140\n",
       "Method:                 Least Squares   F-statistic:                     3148.\n",
       "Date:                Wed, 20 Oct 2021   Prob (F-statistic):               0.00\n",
       "Time:                        12:53:07   Log-Likelihood:            -1.2943e+05\n",
       "No. Observations:               96353   AIC:                         2.589e+05\n",
       "Df Residuals:                   96347   BIC:                         2.589e+05\n",
       "Df Model:                           5                                         \n",
       "Covariance Type:            nonrobust                                         \n",
       "======================================================================================\n",
       "                         coef    std err          t      P>|t|      [0.025      0.975]\n",
       "--------------------------------------------------------------------------------------\n",
       "Intercept           1.444e-16      0.003   4.84e-14      1.000      -0.006       0.006\n",
       "delay_vs_expected     -0.0721      0.004    -17.157      0.000      -0.080      -0.064\n",
       "wait_time             -0.2894      0.004    -68.718      0.000      -0.298      -0.281\n",
       "number_of_sellers     -0.1008      0.003    -32.287      0.000      -0.107      -0.095\n",
       "number_of_products    -0.1015      0.003    -32.179      0.000      -0.108      -0.095\n",
       "price                  0.0024      0.003      0.797      0.425      -0.004       0.008\n",
       "==============================================================================\n",
       "Omnibus:                    18938.773   Durbin-Watson:                   2.009\n",
       "Prob(Omnibus):                  0.000   Jarque-Bera (JB):            38790.207\n",
       "Skew:                          -1.173   Prob(JB):                         0.00\n",
       "Kurtosis:                       5.039   Cond. No.                         2.41\n",
       "==============================================================================\n",
       "\n",
       "Notes:\n",
       "[1] Standard Errors assume that the covariance matrix of the errors is correctly specified.\n",
       "\"\"\""
      ]
     },
     "execution_count": 58,
     "metadata": {},
     "output_type": "execute_result"
    }
   ],
   "source": [
    "# YOUR CODE HERE\n",
    "def standardize(x):\n",
    "    mean = x.mean()\n",
    "    std = x.std()\n",
    "    return (x-mean)/std\n",
    "normalized_orders = orders\n",
    "columns = ['review_score','wait_time','delay_vs_expected','number_of_sellers','price','number_of_products']\n",
    "for column in columns:\n",
    "    normalized_orders[column] = standardize(normalized_orders[column])\n",
    "normalized_orders.head(5)\n",
    "model4 = smf.ols(formula = 'review_score ~ delay_vs_expected + wait_time + number_of_sellers + number_of_products + price', data=normalized_orders).fit()\n",
    "model4.summary()"
   ]
  },
  {
   "cell_type": "markdown",
   "metadata": {},
   "source": [
    "👉 Create your `model4` and train it."
   ]
  },
  {
   "cell_type": "code",
   "execution_count": 12,
   "metadata": {
    "ExecuteTime": {
     "end_time": "2021-01-25T09:15:59.247763Z",
     "start_time": "2021-01-25T09:15:59.146216Z"
    },
    "tags": [
     "challengify"
    ]
   },
   "outputs": [],
   "source": [
    "# YOUR CODE HERE"
   ]
  },
  {
   "cell_type": "markdown",
   "metadata": {},
   "source": [
    "---\n",
    "❓ What are the most important features? (make a bar chart to visualize them well)\n",
    "- How has the overall regression performance changed?\n",
    "- Is this regression statistically significant?"
   ]
  },
  {
   "cell_type": "code",
   "execution_count": 73,
   "metadata": {},
   "outputs": [
    {
     "data": {
      "text/plain": [
       "wait_time            -2.893591e-01\n",
       "number_of_products   -1.015083e-01\n",
       "number_of_sellers    -1.008049e-01\n",
       "delay_vs_expected    -7.208503e-02\n",
       "Intercept             1.444293e-16\n",
       "price                 2.415559e-03\n",
       "dtype: float64"
      ]
     },
     "execution_count": 73,
     "metadata": {},
     "output_type": "execute_result"
    }
   ],
   "source": [
    "model4.params.sort_values()"
   ]
  },
  {
   "cell_type": "code",
   "execution_count": 77,
   "metadata": {},
   "outputs": [
    {
     "data": {
      "text/plain": [
       "<AxesSubplot:>"
      ]
     },
     "execution_count": 77,
     "metadata": {},
     "output_type": "execute_result"
    },
    {
     "data": {
      "image/png": "[encoded data removed]",
      "text/plain": [
       "<Figure size 432x288 with 1 Axes>"
      ]
     },
     "metadata": {
      "needs_background": "light"
     },
     "output_type": "display_data"
    }
   ],
   "source": [
    "model4.params[1:].sort_values().plot(kind='barh')"
   ]
  },
  {
   "cell_type": "code",
   "execution_count": 75,
   "metadata": {
    "ExecuteTime": {
     "end_time": "2021-01-25T09:16:02.013969Z",
     "start_time": "2021-01-25T09:16:01.864606Z"
    },
    "tags": [
     "challengify"
    ]
   },
   "outputs": [],
   "source": [
    "# YOUR CODE HERE"
   ]
  },
  {
   "cell_type": "markdown",
   "metadata": {},
   "source": [
    "<details>\n",
    "    <summary>- 💡Explanations 💡 -</summary>\n",
    "    \n",
    "\n",
    "- `wait_time` is the biggest explanatory variable\n",
    "- The more `products` and `sellers` there are for a single order, the lower the `review_score` seems to be\n",
    "- Distance also plays a role in customers' satisfaction.\n",
    "- Depending on your choice of feature, you may not be able to conclude anything about `price` and `freight_value` if their p-values are too high\n",
    "    \n",
    "- Overall, this multivariate regression remains statistically significant, because its F-statistics are much greater than 1 (at least one feature has a very low p-value)\n",
    "\n",
    "- R-squared hasn't increased by much. Most of the explanability of `review_score` lies outside of the orders dataset.\n",
    "\n",
    "⚠️ Low R-squared is common when the number of observations (n) is much higher than the number of features (p). Relevant insights can still be derived from such regressions, provided they are statistically significant\n",
    "</details>\n",
    "\n"
   ]
  },
  {
   "cell_type": "markdown",
   "metadata": {},
   "source": [
    "## 3 - Check model performance"
   ]
  },
  {
   "cell_type": "markdown",
   "metadata": {},
   "source": [
    "⚠️ Regression performance should not be measured only by its R-squared!  \n",
    "\n",
    "👀 Always visualize the distribution of the predictions, and especially the residuals.\n",
    "\n",
    "❓ Compute the residuals.\n",
    "\n",
    "You should see that the mean of the residuals is equal to 0 (always verified in a linear regression context)"
   ]
  },
  {
   "cell_type": "code",
   "execution_count": 80,
   "metadata": {
    "ExecuteTime": {
     "end_time": "2021-01-25T09:16:05.755230Z",
     "start_time": "2021-01-25T09:16:05.704776Z"
    },
    "tags": [
     "challengify"
    ]
   },
   "outputs": [
    {
     "data": {
      "text/plain": [
       "array([ 0.17368593,  0.01116508,  0.14589801, ..., -0.3267505 ,\n",
       "       -0.27673572,  0.1974573 ])"
      ]
     },
     "execution_count": 80,
     "metadata": {},
     "output_type": "execute_result"
    }
   ],
   "source": [
    "# YOUR CODE HERE\n",
    "prediction = model4.predict()\n",
    "residuals = prediction - (orders['review_score'])\n",
    "prediction"
   ]
  },
  {
   "cell_type": "markdown",
   "metadata": {},
   "source": [
    "🧮 Compute the associated RMSE. "
   ]
  },
  {
   "cell_type": "code",
   "execution_count": 84,
   "metadata": {
    "ExecuteTime": {
     "end_time": "2021-01-25T09:16:06.320567Z",
     "start_time": "2021-01-25T09:16:06.269154Z"
    },
    "tags": [
     "challengify"
    ]
   },
   "outputs": [
    {
     "ename": "ValueError",
     "evalue": "invalid number of arguments",
     "output_type": "error",
     "traceback": [
      "\u001b[0;31m---------------------------------------------------------------------------\u001b[0m",
      "\u001b[0;31mValueError\u001b[0m                                Traceback (most recent call last)",
      "\u001b[0;32m/var/folders/5t/r6_mkf0x1zl9f1rvdldpw7pr0000gn/T/ipykernel_91235/338658880.py\u001b[0m in \u001b[0;36m<module>\u001b[0;34m\u001b[0m\n\u001b[1;32m      1\u001b[0m \u001b[0;31m# YOUR CODE HERE\u001b[0m\u001b[0;34m\u001b[0m\u001b[0;34m\u001b[0m\u001b[0;34m\u001b[0m\u001b[0m\n\u001b[0;32m----> 2\u001b[0;31m \u001b[0mnp\u001b[0m\u001b[0;34m.\u001b[0m\u001b[0mpower\u001b[0m\u001b[0;34m(\u001b[0m\u001b[0mprediction\u001b[0m\u001b[0;34m)\u001b[0m\u001b[0;34m\u001b[0m\u001b[0;34m\u001b[0m\u001b[0m\n\u001b[0m",
      "\u001b[0;31mValueError\u001b[0m: invalid number of arguments"
     ]
    }
   ],
   "source": [
    "# YOUR CODE HERE\n",
    "#np.power(prediction)\n"
   ]
  },
  {
   "cell_type": "markdown",
   "metadata": {},
   "source": [
    "📊 Plot the `residuals` in a histogram."
   ]
  },
  {
   "cell_type": "code",
   "execution_count": 85,
   "metadata": {
    "ExecuteTime": {
     "end_time": "2021-01-25T09:17:53.573849Z",
     "start_time": "2021-01-25T09:17:53.145114Z"
    },
    "scrolled": true,
    "tags": [
     "challengify"
    ]
   },
   "outputs": [
    {
     "ename": "NameError",
     "evalue": "name 'g' is not defined",
     "output_type": "error",
     "traceback": [
      "\u001b[0;31m---------------------------------------------------------------------------\u001b[0m",
      "\u001b[0;31mNameError\u001b[0m                                 Traceback (most recent call last)",
      "\u001b[0;32m/var/folders/5t/r6_mkf0x1zl9f1rvdldpw7pr0000gn/T/ipykernel_91235/1914033406.py\u001b[0m in \u001b[0;36m<module>\u001b[0;34m\u001b[0m\n\u001b[1;32m      1\u001b[0m \u001b[0;31m# YOUR CODE HERE\u001b[0m\u001b[0;34m\u001b[0m\u001b[0;34m\u001b[0m\u001b[0;34m\u001b[0m\u001b[0m\n\u001b[0;32m----> 2\u001b[0;31m \u001b[0mg\u001b[0m \u001b[0;34m=\u001b[0m\u001b[0mg\u001b[0m\u001b[0;34m.\u001b[0m\u001b[0mmap\u001b[0m\u001b[0;34m(\u001b[0m\u001b[0mplt\u001b[0m\u001b[0;34m.\u001b[0m\u001b[0mhist\u001b[0m\u001b[0;34m,\u001b[0m\u001b[0;34m\"residuals\"\u001b[0m\u001b[0;34m)\u001b[0m\u001b[0;34m\u001b[0m\u001b[0;34m\u001b[0m\u001b[0m\n\u001b[0m\u001b[1;32m      3\u001b[0m \u001b[0mg\u001b[0m\u001b[0;34m\u001b[0m\u001b[0;34m\u001b[0m\u001b[0m\n",
      "\u001b[0;31mNameError\u001b[0m: name 'g' is not defined"
     ]
    }
   ],
   "source": [
    "# YOUR CODE HERE\n",
    "g = g.map(plt.hist,\"residuals\")\n",
    "g"
   ]
  },
  {
   "cell_type": "markdown",
   "metadata": {},
   "source": [
    "❓ Can you guess why the residual distplot has such a strange shape? \n",
    "\n",
    "*Hint:*<br/>\n",
    "👉 Plot, on the same graph, both the distribution of the `review_score` and the distribution of the`predicted_review_score`."
   ]
  },
  {
   "cell_type": "code",
   "execution_count": 17,
   "metadata": {
    "tags": [
     "challengify"
    ]
   },
   "outputs": [],
   "source": [
    "# YOUR CODE HERE"
   ]
  },
  {
   "cell_type": "markdown",
   "metadata": {},
   "source": [
    "☝️ Our model is not so great, for two reasons\n",
    "- First, because we don't have enough features to explain a significant proportion of the review_scores (low R-squared)\n",
    "- Second, because we are trying to fit a \"linear regression\" function to a discrete classification problem\n",
    "\n",
    "📅 In next session, you will discover a new model: the `Logistic Regression` which, despite its name, is a `Classification Algorithm` 🔥"
   ]
  },
  {
   "cell_type": "markdown",
   "metadata": {},
   "source": [
    "🏁 Great job! \n",
    "\n",
    "💾 Don't forget to *save*, *commit* and *push* this notebook when you are done!"
   ]
  }
 ],
 "metadata": {
  "interpreter": {
   "hash": "572b4e543617d03e90ecaf525e08695da1ff29b13594f787e33b342cf572f792"
  },
  "kernelspec": {
   "display_name": "Python 3 (ipykernel)",
   "language": "python",
   "name": "python3"
  },
  "language_info": {
   "codemirror_mode": {
    "name": "ipython",
    "version": 3
   },
   "file_extension": ".py",
   "mimetype": "text/x-python",
   "name": "python",
   "nbconvert_exporter": "python",
   "pygments_lexer": "ipython3",
   "version": "3.8.12"
  },
  "toc": {
   "base_numbering": 1,
   "nav_menu": {},
   "number_sections": false,
   "sideBar": true,
   "skip_h1_title": false,
   "title_cell": "Table of Contents",
   "title_sidebar": "Contents",
   "toc_cell": false,
   "toc_position": {
    "height": "calc(100% - 180px)",
    "left": "10px",
    "top": "150px",
    "width": "384px"
   },
   "toc_section_display": true,
   "toc_window_display": false
  },
  "varInspector": {
   "cols": {
    "lenName": 16,
    "lenType": 16,
    "lenVar": 40
   },
   "kernels_config": {
    "python": {
     "delete_cmd_postfix": "",
     "delete_cmd_prefix": "del ",
     "library": "var_list.py",
     "varRefreshCmd": "print(var_dic_list())"
    },
    "r": {
     "delete_cmd_postfix": ") ",
     "delete_cmd_prefix": "rm(",
     "library": "var_list.r",
     "varRefreshCmd": "cat(var_dic_list()) "
    }
   },
   "types_to_exclude": [
    "module",
    "function",
    "builtin_function_or_method",
    "instance",
    "_Feature"
   ],
   "window_display": false
  }
 },
 "nbformat": 4,
 "nbformat_minor": 4
}
