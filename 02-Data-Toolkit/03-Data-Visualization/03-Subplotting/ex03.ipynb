{
 "cells": [
  {
   "cell_type": "markdown",
   "metadata": {},
   "source": [
    "# Subplotting\n",
    "\n",
    "Sometimes we need more than one plot, we might want to compare 3 similar graphs or show an evolution.\n",
    "To do so we can create subplots in our `figure` object to create a **grid** of plots.\n",
    "\n",
    "<img src=\"https://matplotlib.org/3.1.1/_images/sphx_glr_axes_margins_001.png\" alt=\"subplot\" width=400>\n",
    "\n",
    "### Side by side plot\n",
    "\n",
    "Change the following code to show the two barplots **side by side**.\n",
    "To do this use the [plt.subplots()](https://matplotlib.org/3.2.1/api/_as_gen/matplotlib.pyplot.subplots.html) function.\n",
    "\n",
    "<details>\n",
    "  <summary>💡Hint</summary>\n",
    "  <p>You will need to use axes.</p>\n",
    "</details>"
   ]
  },
  {
   "cell_type": "code",
   "execution_count": 16,
   "metadata": {},
   "outputs": [
    {
     "data": {
      "text/plain": [
       "<BarContainer object of 3 artists>"
      ]
     },
     "execution_count": 16,
     "metadata": {},
     "output_type": "execute_result"
    },
    {
     "data": {
      "image/png": "[encoded data removed]",
      "text/plain": [
       "<Figure size 432x288 with 2 Axes>"
      ]
     },
     "metadata": {
      "needs_background": "light"
     },
     "output_type": "display_data"
    }
   ],
   "source": [
    "import matplotlib.pyplot as plt\n",
    "import numpy as np\n",
    "\n",
    "wallet_2015 = {\"currency\": [\"bitcoin\",\"ethereum\",\"euro\"], \"value_in_euro\": [234,74,530]}\n",
    "wallet_2020 = {\"currency\": [\"bitcoin\",\"ethereum\",\"euro\"], \"value_in_euro\": [234*4,74*7,530*1.3]}\n",
    "\n",
    "# CHANGE THE FOLLOWING CODE\n",
    "plt.subplot(1,2,1)\n",
    "plt.bar(wallet_2015[\"currency\"], wallet_2015[\"value_in_euro\"])\n",
    "\n",
    "plt.subplot(1,2,2)\n",
    "plt.bar(wallet_2020[\"currency\"], wallet_2020[\"value_in_euro\"])\n"
   ]
  },
  {
   "cell_type": "markdown",
   "metadata": {},
   "source": [
    "### Custom layout\n",
    "\n",
    "In the following code we have a third graph that we want to print along side the two barplots.\n",
    "\n",
    "This time our layout is a bit more complex and should look like this:\n",
    "\n",
    "<img src=\"https://i.ibb.co/KDTrv3X/Screen-Shot-2020-01-21-at-22-17-50.png\" alt=\"2 row, 2 col grid, with 3 elements, one at [0,0], one at [0,1] and one at [1,[0,1]]\" width=300>\n",
    "\n",
    "In this layout the **two barplots** should be on the **top** and the **line plot** at the **bottom**.  \n",
    "Change the following code to get this layout.  \n",
    "\n",
    "\n",
    "<details>\n",
    "    <summary>💡 Hints (only if you are stuck!)</summary>\n",
    "\n",
    "You can build two grids on top of each other...\n",
    "</details>"
   ]
  },
  {
   "cell_type": "code",
   "execution_count": 33,
   "metadata": {},
   "outputs": [
    {
     "data": {
      "text/plain": [
       "<AxesSubplot:>"
      ]
     },
     "execution_count": 33,
     "metadata": {},
     "output_type": "execute_result"
    },
    {
     "data": {
      "image/png": "[encoded data removed]",
      "text/plain": [
       "<Figure size 432x288 with 3 Axes>"
      ]
     },
     "metadata": {
      "needs_background": "light"
     },
     "output_type": "display_data"
    }
   ],
   "source": [
    "bitcoin = [3,3,4,5,5,6,11,12,13,14,16,14,18,15,19,18,19,15,10,8,9,9,9,12,13]\n",
    "ethereum = [1,1,1,2,2,3,3,4,4,4,4,8,9,12,10,9,14,15,10,8,6,5,5,8,7]\n",
    "euro = [7,7,7,7.6,7,7.8,7,7,7,7,7.6,7,7,7,7,6.8,6.9,7,7,7,7,7,7.2,7.2,7.3]\n",
    "\n",
    "# CHANGE THE FOLLOWING CODE\n",
    "plt.plot(bitcoin)\n",
    "plt.plot(ethereum)\n",
    "plt.plot(euro)\n",
    "plt.subplot(2,2,1)\n",
    "\n",
    "plt.bar(wallet_2015[\"currency\"], wallet_2015[\"value_in_euro\"])\n",
    "plt.subplot(2,2,2)\n",
    "\n",
    "plt.bar(wallet_2020[\"currency\"], wallet_2020[\"value_in_euro\"])\n",
    "plt.subplot(2,1,2)"
   ]
  },
  {
   "cell_type": "markdown",
   "metadata": {},
   "source": [
    "### (optional) complex layout\n",
    "\n",
    "This time we will just create the layout with **empty axes** to quickly get to the point.<br>\n",
    "\n",
    "The first layout that you should create is:\n",
    "<img src=\"https://i.ibb.co/s9Yscmp/Screen-Shot-2020-01-21-at-22-17-06.png\" alt=\"layout grid\" width=300>\n",
    "\n",
    "The second layout is:\n",
    "<img src=\"https://i.ibb.co/3FkwzsT/Screen-Shot-2020-01-21-at-22-16-59.png\" alt=\"layout grid 2\" width=300>\n",
    "\n",
    "\n",
    "<details>\n",
    "  <summary>💡Hint</summary>\n",
    "  <p>When the grid becomes too complex to manage, you may want to use <a src='https://matplotlib.org/3.1.1/api/_as_gen/matplotlib.figure.Figure.html#matplotlib.figure.Figure.add_gridspec'>figure.add_gridspec()</a>\n",
    "</p>\n",
    "</details>"
   ]
  },
  {
   "cell_type": "code",
   "execution_count": 0,
   "metadata": {},
   "outputs": [],
   "source": [
    "# YOUR SUBPLOTS HERE\n"
   ]
  },
  {
   "cell_type": "code",
   "execution_count": 0,
   "metadata": {},
   "outputs": [],
   "source": [
    "# YOUR SUBPLOTS HERE\n"
   ]
  },
  {
   "cell_type": "code",
   "execution_count": 0,
   "metadata": {},
   "outputs": [],
   "source": []
  }
 ],
 "metadata": {
  "kernelspec": {
   "display_name": "Python 3 (ipykernel)",
   "language": "python",
   "name": "python3"
  },
  "language_info": {
   "codemirror_mode": {
    "name": "ipython",
    "version": 3
   },
   "file_extension": ".py",
   "mimetype": "text/x-python",
   "name": "python",
   "nbconvert_exporter": "python",
   "pygments_lexer": "ipython3",
   "version": "3.8.12"
  },
  "toc": {
   "base_numbering": 1,
   "nav_menu": {},
   "number_sections": false,
   "sideBar": true,
   "skip_h1_title": false,
   "title_cell": "Table of Contents",
   "title_sidebar": "Contents",
   "toc_cell": false,
   "toc_position": {
    "height": "calc(100% - 180px)",
    "left": "10px",
    "top": "150px",
    "width": "165px"
   },
   "toc_section_display": true,
   "toc_window_display": true
  },
  "varInspector": {
   "cols": {
    "lenName": 16,
    "lenType": 16,
    "lenVar": 40
   },
   "kernels_config": {
    "python": {
     "delete_cmd_postfix": "",
     "delete_cmd_prefix": "del ",
     "library": "var_list.py",
     "varRefreshCmd": "print(var_dic_list())"
    },
    "r": {
     "delete_cmd_postfix": ") ",
     "delete_cmd_prefix": "rm(",
     "library": "var_list.r",
     "varRefreshCmd": "cat(var_dic_list()) "
    }
   },
   "types_to_exclude": [
    "module",
    "function",
    "builtin_function_or_method",
    "instance",
    "_Feature"
   ],
   "window_display": false
  }
 },
 "nbformat": 4,
 "nbformat_minor": 2
}
