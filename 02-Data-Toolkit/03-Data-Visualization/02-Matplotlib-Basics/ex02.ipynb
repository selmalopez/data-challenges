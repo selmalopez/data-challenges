{
 "cells": [
  {
   "cell_type": "markdown",
   "metadata": {},
   "source": [
    "# Matplotlib\n",
    "\n",
    "### Documentation\n",
    "\n",
    "[Pyplot - plt](https://matplotlib.org/3.1.1/api/_as_gen/matplotlib.pyplot.html#module-matplotlib.pyplot)"
   ]
  },
  {
   "cell_type": "code",
   "execution_count": 13,
   "metadata": {},
   "outputs": [],
   "source": [
    "import matplotlib.pyplot as plt\n",
    "import numpy as np"
   ]
  },
  {
   "cell_type": "markdown",
   "metadata": {},
   "source": [
    "### Preparing data for matplotlib\n",
    "\n",
    "You are given the following ordered list of points, which can't be passed directly to `pyplot`\n",
    "\n",
    "The goal is to **convert** the data in order for it to be usable by `pyplot`.\n",
    "\n",
    "You simply have to convert the list of dict to a list of lists. Then plot the points.\n",
    "\n",
    "Use `pyplot.plot()` to create a line plot."
   ]
  },
  {
   "cell_type": "code",
   "execution_count": 25,
   "metadata": {},
   "outputs": [
    {
     "data": {
      "text/plain": [
       "[<matplotlib.lines.Line2D at 0x1271b18e0>]"
      ]
     },
     "execution_count": 25,
     "metadata": {},
     "output_type": "execute_result"
    },
    {
     "data": {
      "image/png": "[encoded data removed]",
      "text/plain": [
       "<Figure size 432x288 with 1 Axes>"
      ]
     },
     "metadata": {
      "needs_background": "light"
     },
     "output_type": "display_data"
    }
   ],
   "source": [
    "points = [\n",
    "    {\"x\": 1, \"y\": 1},\n",
    "    {\"x\": 2, \"y\": 2},\n",
    "    {\"x\": 4, \"y\": 2},\n",
    "    {\"x\": 3, \"y\": 1},\n",
    "    {\"x\": 1, \"y\": 1},\n",
    "    {\"x\": 1, \"y\": 3},\n",
    "    {\"x\": 3, \"y\": 3},\n",
    "    {\"x\": 3, \"y\": 1},\n",
    "    {\"x\": 3, \"y\": 3},\n",
    "    {\"x\": 4, \"y\": 4},\n",
    "    {\"x\": 4, \"y\": 2},\n",
    "    {\"x\": 4, \"y\": 4},\n",
    "    {\"x\": 2, \"y\": 4},\n",
    "    {\"x\": 2, \"y\": 2},\n",
    "    {\"x\": 2, \"y\": 4},\n",
    "    {\"x\": 1, \"y\": 3},\n",
    "]\n",
    "key_list = ['x','y']\n",
    "new_list = [[row[key] for row in points] for key in key_list]\n",
    "plt.plot(new_list[0],new_list[1])\n",
    "# YOUR CODE HERE"
   ]
  },
  {
   "cell_type": "markdown",
   "metadata": {},
   "source": [
    "---\n",
    "\n",
    "New challenge: this time you are given a numpy array of **shape(100,2)**.\n",
    "\n",
    "Use `pyplot.scatter()` to plot these 100 points in a figure\n",
    "\n",
    "<details>\n",
    "  <summary>💡Hint</summary>\n",
    "  <p>Remember that numpy 2D-arrays can be convenently accessed with my_array[row_slicer, col_slicer]</p>\n",
    "</details>"
   ]
  },
  {
   "cell_type": "code",
   "execution_count": 27,
   "metadata": {},
   "outputs": [
    {
     "data": {
      "text/plain": [
       "array([[0.66658364, 0.43238733],\n",
       "       [0.38377744, 0.17857807],\n",
       "       [0.56240222, 0.48234428],\n",
       "       [0.87496164, 0.29170816],\n",
       "       [0.80279572, 0.93601224],\n",
       "       [0.09573251, 0.97310517],\n",
       "       [0.00832238, 0.74755515],\n",
       "       [0.94220895, 0.31984561],\n",
       "       [0.82262551, 0.05987465],\n",
       "       [0.7075076 , 0.72151388],\n",
       "       [0.16495389, 0.52853056],\n",
       "       [0.27908917, 0.23908175],\n",
       "       [0.66906478, 0.63783334],\n",
       "       [0.39382848, 0.92825173],\n",
       "       [0.80198668, 0.81715993],\n",
       "       [0.82342273, 0.38514685],\n",
       "       [0.9503072 , 0.703362  ],\n",
       "       [0.77001125, 0.55810564],\n",
       "       [0.04028583, 0.59490633],\n",
       "       [0.887793  , 0.00920513],\n",
       "       [0.23276344, 0.74191559],\n",
       "       [0.15343684, 0.539672  ],\n",
       "       [0.35591141, 0.21543577],\n",
       "       [0.49529959, 0.3309263 ],\n",
       "       [0.20988743, 0.02842716],\n",
       "       [0.64899618, 0.170249  ],\n",
       "       [0.57589231, 0.62965368],\n",
       "       [0.44838728, 0.57465276],\n",
       "       [0.61532337, 0.80089119],\n",
       "       [0.70511288, 0.01484852],\n",
       "       [0.31599021, 0.03903202],\n",
       "       [0.48534451, 0.86081451],\n",
       "       [0.21332272, 0.87911602],\n",
       "       [0.76058145, 0.27536723],\n",
       "       [0.77249734, 0.40934947],\n",
       "       [0.3747361 , 0.66481536],\n",
       "       [0.55631341, 0.02005763],\n",
       "       [0.27612454, 0.35872286],\n",
       "       [0.2081452 , 0.71886306],\n",
       "       [0.36186672, 0.42518553],\n",
       "       [0.16476868, 0.18543872],\n",
       "       [0.54951054, 0.30827329],\n",
       "       [0.51881854, 0.57757637],\n",
       "       [0.20331929, 0.20296562],\n",
       "       [0.61553672, 0.54174733],\n",
       "       [0.36368055, 0.96047388],\n",
       "       [0.95921084, 0.71718473],\n",
       "       [0.01751762, 0.21433882],\n",
       "       [0.26392117, 0.74180904],\n",
       "       [0.71365425, 0.1777661 ],\n",
       "       [0.07618968, 0.73107988],\n",
       "       [0.00844274, 0.82194989],\n",
       "       [0.8871559 , 0.29792325],\n",
       "       [0.89942872, 0.65115417],\n",
       "       [0.00930593, 0.2628276 ],\n",
       "       [0.4963679 , 0.40279457],\n",
       "       [0.16609638, 0.98879136],\n",
       "       [0.34965217, 0.49201481],\n",
       "       [0.71898047, 0.03632554],\n",
       "       [0.88425433, 0.82617685],\n",
       "       [0.90851837, 0.81076796],\n",
       "       [0.85077871, 0.82561487],\n",
       "       [0.94743974, 0.09316632],\n",
       "       [0.11271069, 0.10788476],\n",
       "       [0.09731852, 0.49630078],\n",
       "       [0.96617593, 0.69628478],\n",
       "       [0.48993362, 0.64558077],\n",
       "       [0.88056682, 0.10932059],\n",
       "       [0.69650475, 0.74976503],\n",
       "       [0.94668952, 0.21841815],\n",
       "       [0.84202886, 0.4808428 ],\n",
       "       [0.85149862, 0.20995179],\n",
       "       [0.12884556, 0.06486945],\n",
       "       [0.2259245 , 0.13723177],\n",
       "       [0.24062463, 0.80499771],\n",
       "       [0.8559756 , 0.03981319],\n",
       "       [0.62398121, 0.84565689],\n",
       "       [0.03145907, 0.42017189],\n",
       "       [0.36659137, 0.65227953],\n",
       "       [0.70856528, 0.22328529],\n",
       "       [0.77834087, 0.95041422],\n",
       "       [0.90444849, 0.61248174],\n",
       "       [0.79166684, 0.66094243],\n",
       "       [0.27668296, 0.00425173],\n",
       "       [0.57052995, 0.12750059],\n",
       "       [0.60075012, 0.68898535],\n",
       "       [0.0120931 , 0.57638258],\n",
       "       [0.81737686, 0.73333815],\n",
       "       [0.24199373, 0.55233172],\n",
       "       [0.67919718, 0.4764783 ],\n",
       "       [0.10724045, 0.95562817],\n",
       "       [0.43523598, 0.09494809],\n",
       "       [0.97817271, 0.8502866 ],\n",
       "       [0.11506357, 0.67974626],\n",
       "       [0.11997612, 0.21280722],\n",
       "       [0.77503427, 0.09786118],\n",
       "       [0.97005226, 0.67246975],\n",
       "       [0.17964172, 0.24694098],\n",
       "       [0.04256302, 0.27697014],\n",
       "       [0.68641807, 0.05615169]])"
      ]
     },
     "execution_count": 27,
     "metadata": {},
     "output_type": "execute_result"
    }
   ],
   "source": [
    "# YOUR CODE HERE\n",
    "np.array(np.random.random((100,2)))"
   ]
  },
  {
   "cell_type": "markdown",
   "metadata": {},
   "source": [
    "### Plotting a function\n",
    "\n",
    "Generate data points in range `[-10,10]` and at even intervals: they are your `x` points. Use them to plot the following function:\n",
    "\n",
    "$$y = 4x + 2$$\n",
    "\n",
    "\n",
    "Use [plt.ylim](https://matplotlib.org/3.1.1/api/_as_gen/matplotlib.pyplot.ylim.html#matplotlib.pyplot.ylim) to keep the **y axis** between **-20 and 20**\n",
    "\n",
    "<details>\n",
    "  <summary>💡Hint</summary>\n",
    "      <p>You can use <code><a href=\"https://docs.scipy.org/doc/numpy/reference/generated/numpy.arange.html\">numpy.arange()</a></code> to generate list of N number in a range</p>\n",
    "</details>"
   ]
  },
  {
   "cell_type": "code",
   "execution_count": 42,
   "metadata": {},
   "outputs": [
    {
     "data": {
      "text/plain": [
       "<matplotlib.collections.PathCollection at 0x12759bf10>"
      ]
     },
     "execution_count": 42,
     "metadata": {},
     "output_type": "execute_result"
    },
    {
     "data": {
      "image/png": "[encoded data removed]",
      "text/plain": [
       "<Figure size 432x288 with 1 Axes>"
      ]
     },
     "metadata": {
      "needs_background": "light"
     },
     "output_type": "display_data"
    }
   ],
   "source": [
    "points_y= []\n",
    "points_x = np.random.randint(-10,10,100)\n",
    "for point_x in points_x : \n",
    "    points_y.append(point_x * 4 + 2)\n",
    "plt.ylim(-20,20)\n",
    "plt.scatter(points_x, points_y)"
   ]
  },
  {
   "cell_type": "markdown",
   "metadata": {},
   "source": [
    "Plot these 4 functions on the same graph, using the same set of `x's` generated above, keeping the **y axis** between **-2 and 6** and **x axis** between **-4 and 4**.\n",
    "\n",
    "$$y1 = x^2$$\n",
    "\n",
    "$$y2 = \\log x$$\n",
    "\n",
    "$$y3 = e^x$$\n",
    "\n",
    "$$y4 = \\frac{e^x}{e^x + 1}$$\n",
    "\n",
    "<details>\n",
    "  <summary>💡Hint</summary>\n",
    "    <p>You can use the python built-in function <b>map()</b></p>\n",
    "</details>"
   ]
  },
  {
   "cell_type": "code",
   "execution_count": 56,
   "metadata": {},
   "outputs": [
    {
     "data": {
      "text/plain": [
       "100"
      ]
     },
     "execution_count": 56,
     "metadata": {},
     "output_type": "execute_result"
    }
   ],
   "source": [
    "poi = np.arange(-10,10,0.2)\n",
    "len(poi)"
   ]
  },
  {
   "cell_type": "code",
   "execution_count": 61,
   "metadata": {},
   "outputs": [
    {
     "data": {
      "text/plain": [
       "(-2.0, 6.0)"
      ]
     },
     "execution_count": 61,
     "metadata": {},
     "output_type": "execute_result"
    },
    {
     "data": {
      "image/png": "[encoded data removed]",
      "text/plain": [
       "<Figure size 432x288 with 1 Axes>"
      ]
     },
     "metadata": {
      "needs_background": "light"
     },
     "output_type": "display_data"
    }
   ],
   "source": [
    "import math\n",
    "points_x = np.arange(-10,10,0.2)\n",
    "y1 = []\n",
    "y2= []\n",
    "y3 = []\n",
    "y4 = []\n",
    "for point_x in points_x : \n",
    "    y1.append(point_x **2)\n",
    "    if point_x > 0:\n",
    "        y2.append(math.log(point_x))\n",
    "    y3.append(math.exp(point_x))\n",
    "    y4.append(math.exp(point_x)/(math.exp(point_x)+1))\n",
    "plt.plot(points_x, y1)\n",
    "plt.plot(points_x[51:], y2)\n",
    "plt.plot(points_x, y3)\n",
    "plt.plot(points_x, y4)\n",
    "plt.xlim(-4,4)\n",
    "plt.ylim(-2,6)"
   ]
  },
  {
   "cell_type": "code",
   "execution_count": 62,
   "metadata": {},
   "outputs": [
    {
     "data": {
      "text/plain": [
       "array([-1.00000000e+01, -9.80000000e+00, -9.60000000e+00, -9.40000000e+00,\n",
       "       -9.20000000e+00, -9.00000000e+00, -8.80000000e+00, -8.60000000e+00,\n",
       "       -8.40000000e+00, -8.20000000e+00, -8.00000000e+00, -7.80000000e+00,\n",
       "       -7.60000000e+00, -7.40000000e+00, -7.20000000e+00, -7.00000000e+00,\n",
       "       -6.80000000e+00, -6.60000000e+00, -6.40000000e+00, -6.20000000e+00,\n",
       "       -6.00000000e+00, -5.80000000e+00, -5.60000000e+00, -5.40000000e+00,\n",
       "       -5.20000000e+00, -5.00000000e+00, -4.80000000e+00, -4.60000000e+00,\n",
       "       -4.40000000e+00, -4.20000000e+00, -4.00000000e+00, -3.80000000e+00,\n",
       "       -3.60000000e+00, -3.40000000e+00, -3.20000000e+00, -3.00000000e+00,\n",
       "       -2.80000000e+00, -2.60000000e+00, -2.40000000e+00, -2.20000000e+00,\n",
       "       -2.00000000e+00, -1.80000000e+00, -1.60000000e+00, -1.40000000e+00,\n",
       "       -1.20000000e+00, -1.00000000e+00, -8.00000000e-01, -6.00000000e-01,\n",
       "       -4.00000000e-01, -2.00000000e-01, -3.55271368e-14,  2.00000000e-01,\n",
       "        4.00000000e-01,  6.00000000e-01,  8.00000000e-01,  1.00000000e+00,\n",
       "        1.20000000e+00,  1.40000000e+00,  1.60000000e+00,  1.80000000e+00,\n",
       "        2.00000000e+00,  2.20000000e+00,  2.40000000e+00,  2.60000000e+00,\n",
       "        2.80000000e+00,  3.00000000e+00,  3.20000000e+00,  3.40000000e+00,\n",
       "        3.60000000e+00,  3.80000000e+00,  4.00000000e+00,  4.20000000e+00,\n",
       "        4.40000000e+00,  4.60000000e+00,  4.80000000e+00,  5.00000000e+00,\n",
       "        5.20000000e+00,  5.40000000e+00,  5.60000000e+00,  5.80000000e+00,\n",
       "        6.00000000e+00,  6.20000000e+00,  6.40000000e+00,  6.60000000e+00,\n",
       "        6.80000000e+00,  7.00000000e+00,  7.20000000e+00,  7.40000000e+00,\n",
       "        7.60000000e+00,  7.80000000e+00,  8.00000000e+00,  8.20000000e+00,\n",
       "        8.40000000e+00,  8.60000000e+00,  8.80000000e+00,  9.00000000e+00,\n",
       "        9.20000000e+00,  9.40000000e+00,  9.60000000e+00,  9.80000000e+00])"
      ]
     },
     "execution_count": 62,
     "metadata": {},
     "output_type": "execute_result"
    }
   ],
   "source": [
    "points_x\n"
   ]
  },
  {
   "cell_type": "markdown",
   "metadata": {},
   "source": [
    "### Formatting basics\n",
    "\n",
    "We have the following **scatter plot**, we want to draw a **straight red dotted line** that follows the dots distribution as closely as possible.\n",
    "\n",
    "Visual example *without dotted line*:\n",
    "<img src=\"https://miro.medium.com/max/1280/1*LEmBCYAttxS6uI6rEyPLMQ.png\" alt=\"regression_line\" width=300>"
   ]
  },
  {
   "cell_type": "code",
   "execution_count": 63,
   "metadata": {},
   "outputs": [
    {
     "data": {
      "text/plain": [
       "<matplotlib.collections.PathCollection at 0x130ec95e0>"
      ]
     },
     "execution_count": 63,
     "metadata": {},
     "output_type": "execute_result"
    },
    {
     "data": {
      "image/png": "[encoded data removed]",
      "text/plain": [
       "<Figure size 432x288 with 1 Axes>"
      ]
     },
     "metadata": {
      "needs_background": "light"
     },
     "output_type": "display_data"
    }
   ],
   "source": [
    "from sklearn import datasets\n",
    "\n",
    "x, y, _ = datasets.make_regression(n_samples=100, n_features=1, noise=10, coef=True, random_state=0)\n",
    "\n",
    "plt.scatter(x,y)"
   ]
  },
  {
   "cell_type": "markdown",
   "metadata": {},
   "source": [
    "Using your eyes only, plot a line **approximately** regressing the scatter plot above \n",
    "- Reuse x and y from the previous cell\n",
    "- Two points are enough to draw a line"
   ]
  },
  {
   "cell_type": "code",
   "execution_count": 68,
   "metadata": {},
   "outputs": [
    {
     "data": {
      "text/plain": [
       "[<matplotlib.lines.Line2D at 0x1314020a0>]"
      ]
     },
     "execution_count": 68,
     "metadata": {},
     "output_type": "execute_result"
    },
    {
     "data": {
      "image/png": "[encoded data removed]",
      "text/plain": [
       "<Figure size 432x288 with 1 Axes>"
      ]
     },
     "metadata": {
      "needs_background": "light"
     },
     "output_type": "display_data"
    }
   ],
   "source": [
    "# YOUR CODE HERE\n",
    "plt.plot([-100,-2],[2,100])"
   ]
  },
  {
   "cell_type": "markdown",
   "metadata": {},
   "source": [
    "Now let's add some context to our graph by adding:\n",
    "1. A title with: \"Linear Regression\"\n",
    "1. A legend describing the data points and the line\n",
    "1. A label for the x (\"input value\") and y (\"output value\") axis\n",
    "\n",
    "Bonus: also copy this feature and try to understand the syntax (use shift-tab to call the docs)\n",
    "```python\n",
    "plt.annotate(\"Regression line\", (0,0), (1,-50), arrowprops={\"arrowstyle\":\"->\"})\n",
    "```"
   ]
  },
  {
   "cell_type": "code",
   "execution_count": 90,
   "metadata": {},
   "outputs": [
    {
     "data": {
      "text/plain": [
       "Text(1, -50, 'Regression line')"
      ]
     },
     "execution_count": 90,
     "metadata": {},
     "output_type": "execute_result"
    },
    {
     "data": {
      "image/png": "[encoded data removed]",
      "text/plain": [
       "<Figure size 432x288 with 1 Axes>"
      ]
     },
     "metadata": {
      "needs_background": "light"
     },
     "output_type": "display_data"
    }
   ],
   "source": [
    "# YOUR CODE HERE\n",
    "plt.plot([-100,-2],[2,100])\n",
    "plt.title('Regression line')\n",
    "plt.legend(\"description\")\n",
    "plt.xlabel('input value')\n",
    "plt.ylabel('output value')\n",
    "plt.annotate(\"Regression line\", (0,0), (1,-50), arrowprops={\"arrowstyle\":\"->\"})"
   ]
  },
  {
   "cell_type": "markdown",
   "metadata": {},
   "source": [
    "Let's continue to work on our plot design.\n",
    "\n",
    "Make the plot **15 inches wide** and **6 inch tall**. \n",
    "\n",
    "What you have to do is:\n",
    "1. Access the current figure object of the plot\n",
    "1. Set the size of the figure\n",
    "\n",
    "\n",
    "These documentation pages should be useful:\n",
    "1. [plt.gcf( )](https://matplotlib.org/3.1.1/api/_as_gen/matplotlib.pyplot.gcf.html#matplotlib.pyplot.gcf)\n",
    "1. [fig.set_figheight( )](https://matplotlib.org/3.1.1/api/_as_gen/matplotlib.figure.Figure.html#matplotlib.figure.Figure.set_figheight)\n",
    "\n"
   ]
  },
  {
   "cell_type": "code",
   "execution_count": 91,
   "metadata": {},
   "outputs": [
    {
     "data": {
      "image/png": "[encoded data removed]",
      "text/plain": [
       "<Figure size 1080x432 with 1 Axes>"
      ]
     },
     "metadata": {
      "needs_background": "light"
     },
     "output_type": "display_data"
    }
   ],
   "source": [
    "# YOUR CODE HERE\n",
    "plt.plot([-100,-2],[2,100])\n",
    "plt.title('Regression line')\n",
    "plt.legend(\"description\")\n",
    "plt.xlabel('input value')\n",
    "plt.ylabel('output value')\n",
    "plt.annotate(\"Regression line\", (0,0), (1,-50), arrowprops={\"arrowstyle\":\"->\"})\n",
    "\n",
    "a = plt.gcf()\n",
    "a.set_figheight(6)\n",
    "a.set_figwidth(15) "
   ]
  },
  {
   "cell_type": "code",
   "execution_count": null,
   "metadata": {},
   "outputs": [],
   "source": []
  }
 ],
 "metadata": {
  "kernelspec": {
   "display_name": "Python 3 (ipykernel)",
   "language": "python",
   "name": "python3"
  },
  "language_info": {
   "codemirror_mode": {
    "name": "ipython",
    "version": 3
   },
   "file_extension": ".py",
   "mimetype": "text/x-python",
   "name": "python",
   "nbconvert_exporter": "python",
   "pygments_lexer": "ipython3",
   "version": "3.8.12"
  },
  "toc": {
   "base_numbering": 1,
   "nav_menu": {},
   "number_sections": false,
   "sideBar": true,
   "skip_h1_title": false,
   "title_cell": "Table of Contents",
   "title_sidebar": "Contents",
   "toc_cell": false,
   "toc_position": {
    "height": "calc(100% - 180px)",
    "left": "10px",
    "top": "150px",
    "width": "165px"
   },
   "toc_section_display": true,
   "toc_window_display": true
  },
  "varInspector": {
   "cols": {
    "lenName": 16,
    "lenType": 16,
    "lenVar": 40
   },
   "kernels_config": {
    "python": {
     "delete_cmd_postfix": "",
     "delete_cmd_prefix": "del ",
     "library": "var_list.py",
     "varRefreshCmd": "print(var_dic_list())"
    },
    "r": {
     "delete_cmd_postfix": ") ",
     "delete_cmd_prefix": "rm(",
     "library": "var_list.r",
     "varRefreshCmd": "cat(var_dic_list()) "
    }
   },
   "types_to_exclude": [
    "module",
    "function",
    "builtin_function_or_method",
    "instance",
    "_Feature"
   ],
   "window_display": false
  }
 },
 "nbformat": 4,
 "nbformat_minor": 4
}
