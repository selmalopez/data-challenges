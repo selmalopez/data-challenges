{
 "cells": [
  {
   "cell_type": "markdown",
   "metadata": {},
   "source": [
    "# U.S. oil and gas Production analysis\n",
    "\n",
    "Analysing the [Kaggle Dataset](https://www.kaggle.com/djzurawski/us-oil-and-gas-production-june-2008-to-june-2018) with information about Oil and Gas production in the US from June 2008 to June 2018."
   ]
  },
  {
   "cell_type": "code",
   "execution_count": 11,
   "metadata": {},
   "outputs": [],
   "source": [
    "%matplotlib inline\n",
    "import numpy as np\n",
    "import pandas as pd\n",
    "import matplotlib"
   ]
  },
  {
   "cell_type": "markdown",
   "metadata": {},
   "source": [
    "---\n",
    "\n",
    "Let's load the Gas production:"
   ]
  },
  {
   "cell_type": "code",
   "execution_count": 13,
   "metadata": {},
   "outputs": [
    {
     "data": {
      "text/html": [
       "<div>\n",
       "<style scoped>\n",
       "    .dataframe tbody tr th:only-of-type {\n",
       "        vertical-align: middle;\n",
       "    }\n",
       "\n",
       "    .dataframe tbody tr th {\n",
       "        vertical-align: top;\n",
       "    }\n",
       "\n",
       "    .dataframe thead th {\n",
       "        text-align: right;\n",
       "    }\n",
       "</style>\n",
       "<table border=\"1\" class=\"dataframe\">\n",
       "  <thead>\n",
       "    <tr style=\"text-align: right;\">\n",
       "      <th></th>\n",
       "      <th>Month</th>\n",
       "      <th>U.S.</th>\n",
       "      <th>Alaska</th>\n",
       "      <th>Arkansas</th>\n",
       "      <th>Kansas</th>\n",
       "      <th>Other States</th>\n",
       "      <th>Federal Offshore--Gulf of Mexico</th>\n",
       "      <th>Wyoming</th>\n",
       "      <th>West Virginia</th>\n",
       "      <th>Utah</th>\n",
       "      <th>Pennsylvania</th>\n",
       "      <th>Texas</th>\n",
       "      <th>Oklahoma</th>\n",
       "      <th>Ohio</th>\n",
       "      <th>North Dakota</th>\n",
       "      <th>New Mexico</th>\n",
       "      <th>Montana</th>\n",
       "      <th>Louisiana</th>\n",
       "      <th>Colorado</th>\n",
       "      <th>California</th>\n",
       "    </tr>\n",
       "  </thead>\n",
       "  <tbody>\n",
       "    <tr>\n",
       "      <th>0</th>\n",
       "      <td>2008-06-01</td>\n",
       "      <td>70626</td>\n",
       "      <td>8875</td>\n",
       "      <td>1196</td>\n",
       "      <td>1024</td>\n",
       "      <td>2995</td>\n",
       "      <td>7339</td>\n",
       "      <td>6839</td>\n",
       "      <td>670</td>\n",
       "      <td>1198</td>\n",
       "      <td>540</td>\n",
       "      <td>21446</td>\n",
       "      <td>5241</td>\n",
       "      <td>224</td>\n",
       "      <td>243</td>\n",
       "      <td>3975</td>\n",
       "      <td>323</td>\n",
       "      <td>3989</td>\n",
       "      <td>3576</td>\n",
       "      <td>932</td>\n",
       "    </tr>\n",
       "    <tr>\n",
       "      <th>1</th>\n",
       "      <td>2008-07-01</td>\n",
       "      <td>71137</td>\n",
       "      <td>8375</td>\n",
       "      <td>1256</td>\n",
       "      <td>1034</td>\n",
       "      <td>3150</td>\n",
       "      <td>7468</td>\n",
       "      <td>6940</td>\n",
       "      <td>674</td>\n",
       "      <td>1200</td>\n",
       "      <td>512</td>\n",
       "      <td>21547</td>\n",
       "      <td>5256</td>\n",
       "      <td>220</td>\n",
       "      <td>243</td>\n",
       "      <td>4179</td>\n",
       "      <td>324</td>\n",
       "      <td>4008</td>\n",
       "      <td>3834</td>\n",
       "      <td>919</td>\n",
       "    </tr>\n",
       "    <tr>\n",
       "      <th>2</th>\n",
       "      <td>2008-08-01</td>\n",
       "      <td>70760</td>\n",
       "      <td>8739</td>\n",
       "      <td>1313</td>\n",
       "      <td>1033</td>\n",
       "      <td>3092</td>\n",
       "      <td>6868</td>\n",
       "      <td>6835</td>\n",
       "      <td>678</td>\n",
       "      <td>1277</td>\n",
       "      <td>529</td>\n",
       "      <td>21777</td>\n",
       "      <td>4896</td>\n",
       "      <td>220</td>\n",
       "      <td>249</td>\n",
       "      <td>4092</td>\n",
       "      <td>327</td>\n",
       "      <td>3896</td>\n",
       "      <td>4056</td>\n",
       "      <td>881</td>\n",
       "    </tr>\n",
       "  </tbody>\n",
       "</table>\n",
       "</div>"
      ],
      "text/plain": [
       "        Month   U.S.  Alaska  Arkansas  Kansas  Other States  \\\n",
       "0  2008-06-01  70626    8875      1196    1024          2995   \n",
       "1  2008-07-01  71137    8375      1256    1034          3150   \n",
       "2  2008-08-01  70760    8739      1313    1033          3092   \n",
       "\n",
       "   Federal Offshore--Gulf of Mexico  Wyoming  West Virginia  Utah  \\\n",
       "0                              7339     6839            670  1198   \n",
       "1                              7468     6940            674  1200   \n",
       "2                              6868     6835            678  1277   \n",
       "\n",
       "   Pennsylvania  Texas  Oklahoma  Ohio  North Dakota  New Mexico  Montana  \\\n",
       "0           540  21446      5241   224           243        3975      323   \n",
       "1           512  21547      5256   220           243        4179      324   \n",
       "2           529  21777      4896   220           249        4092      327   \n",
       "\n",
       "   Louisiana  Colorado  California  \n",
       "0       3989      3576         932  \n",
       "1       4008      3834         919  \n",
       "2       3896      4056         881  "
      ]
     },
     "execution_count": 13,
     "metadata": {},
     "output_type": "execute_result"
    }
   ],
   "source": [
    "file = \"U.S._natural_gas_production.csv\"\n",
    "gas_df = pd.read_csv(file, decimal=\",\")\n",
    "gas_df.head(3)"
   ]
  },
  {
   "cell_type": "code",
   "execution_count": 14,
   "metadata": {},
   "outputs": [
    {
     "data": {
      "text/plain": [
       "(121, 20)"
      ]
     },
     "execution_count": 14,
     "metadata": {},
     "output_type": "execute_result"
    }
   ],
   "source": [
    "gas_df.shape"
   ]
  },
  {
   "cell_type": "code",
   "execution_count": 15,
   "metadata": {},
   "outputs": [
    {
     "data": {
      "text/plain": [
       "Index(['Month', 'U.S.', 'Alaska', 'Arkansas', 'Kansas', 'Other States',\n",
       "       'Federal Offshore--Gulf of Mexico', 'Wyoming', 'West Virginia', 'Utah',\n",
       "       'Pennsylvania', 'Texas', 'Oklahoma', 'Ohio', 'North Dakota',\n",
       "       'New Mexico', 'Montana', 'Louisiana', 'Colorado', 'California'],\n",
       "      dtype='object')"
      ]
     },
     "execution_count": 15,
     "metadata": {},
     "output_type": "execute_result"
    }
   ],
   "source": [
    "gas_df.columns"
   ]
  },
  {
   "cell_type": "code",
   "execution_count": 16,
   "metadata": {},
   "outputs": [
    {
     "data": {
      "text/plain": [
       "Month    object\n",
       "U.S.      int64\n",
       "dtype: object"
      ]
     },
     "execution_count": 16,
     "metadata": {},
     "output_type": "execute_result"
    }
   ],
   "source": [
    "gas_df.dtypes[0:2]"
   ]
  },
  {
   "cell_type": "code",
   "execution_count": 17,
   "metadata": {},
   "outputs": [
    {
     "name": "stdout",
     "output_type": "stream",
     "text": [
      "<class 'pandas.core.frame.DataFrame'>\n",
      "RangeIndex: 121 entries, 0 to 120\n",
      "Data columns (total 20 columns):\n",
      " #   Column                            Non-Null Count  Dtype \n",
      "---  ------                            --------------  ----- \n",
      " 0   Month                             121 non-null    object\n",
      " 1   U.S.                              121 non-null    int64 \n",
      " 2   Alaska                            121 non-null    int64 \n",
      " 3   Arkansas                          121 non-null    int64 \n",
      " 4   Kansas                            121 non-null    int64 \n",
      " 5   Other States                      121 non-null    int64 \n",
      " 6   Federal Offshore--Gulf of Mexico  121 non-null    int64 \n",
      " 7   Wyoming                           121 non-null    int64 \n",
      " 8   West Virginia                     121 non-null    int64 \n",
      " 9   Utah                              121 non-null    int64 \n",
      " 10  Pennsylvania                      121 non-null    int64 \n",
      " 11  Texas                             121 non-null    int64 \n",
      " 12  Oklahoma                          121 non-null    int64 \n",
      " 13  Ohio                              121 non-null    int64 \n",
      " 14  North Dakota                      121 non-null    int64 \n",
      " 15  New Mexico                        121 non-null    int64 \n",
      " 16  Montana                           121 non-null    int64 \n",
      " 17  Louisiana                         121 non-null    int64 \n",
      " 18  Colorado                          121 non-null    int64 \n",
      " 19  California                        121 non-null    int64 \n",
      "dtypes: int64(19), object(1)\n",
      "memory usage: 19.0+ KB\n"
     ]
    }
   ],
   "source": [
    "gas_df.info()"
   ]
  },
  {
   "cell_type": "code",
   "execution_count": 6,
   "metadata": {},
   "outputs": [
    {
     "data": {
      "text/html": [
       "<div>\n",
       "<style scoped>\n",
       "    .dataframe tbody tr th:only-of-type {\n",
       "        vertical-align: middle;\n",
       "    }\n",
       "\n",
       "    .dataframe tbody tr th {\n",
       "        vertical-align: top;\n",
       "    }\n",
       "\n",
       "    .dataframe thead th {\n",
       "        text-align: right;\n",
       "    }\n",
       "</style>\n",
       "<table border=\"1\" class=\"dataframe\">\n",
       "  <thead>\n",
       "    <tr style=\"text-align: right;\">\n",
       "      <th></th>\n",
       "      <th>Month</th>\n",
       "      <th>U.S.</th>\n",
       "      <th>Alaska</th>\n",
       "      <th>Arkansas</th>\n",
       "      <th>Kansas</th>\n",
       "      <th>Other States</th>\n",
       "      <th>Federal Offshore--Gulf of Mexico</th>\n",
       "      <th>Wyoming</th>\n",
       "      <th>West Virginia</th>\n",
       "      <th>Utah</th>\n",
       "      <th>Pennsylvania</th>\n",
       "      <th>Texas</th>\n",
       "      <th>Oklahoma</th>\n",
       "      <th>Ohio</th>\n",
       "      <th>North Dakota</th>\n",
       "      <th>New Mexico</th>\n",
       "      <th>Montana</th>\n",
       "      <th>Louisiana</th>\n",
       "      <th>Colorado</th>\n",
       "      <th>California</th>\n",
       "    </tr>\n",
       "  </thead>\n",
       "  <tbody>\n",
       "    <tr>\n",
       "      <th>0</th>\n",
       "      <td>2008-06-01</td>\n",
       "      <td>70626</td>\n",
       "      <td>8875</td>\n",
       "      <td>1196</td>\n",
       "      <td>1024</td>\n",
       "      <td>2995</td>\n",
       "      <td>7339</td>\n",
       "      <td>6839</td>\n",
       "      <td>670</td>\n",
       "      <td>1198</td>\n",
       "      <td>540</td>\n",
       "      <td>21446</td>\n",
       "      <td>5241</td>\n",
       "      <td>224</td>\n",
       "      <td>243</td>\n",
       "      <td>3975</td>\n",
       "      <td>323</td>\n",
       "      <td>3989</td>\n",
       "      <td>3576</td>\n",
       "      <td>932</td>\n",
       "    </tr>\n",
       "    <tr>\n",
       "      <th>1</th>\n",
       "      <td>2008-07-01</td>\n",
       "      <td>71137</td>\n",
       "      <td>8375</td>\n",
       "      <td>1256</td>\n",
       "      <td>1034</td>\n",
       "      <td>3150</td>\n",
       "      <td>7468</td>\n",
       "      <td>6940</td>\n",
       "      <td>674</td>\n",
       "      <td>1200</td>\n",
       "      <td>512</td>\n",
       "      <td>21547</td>\n",
       "      <td>5256</td>\n",
       "      <td>220</td>\n",
       "      <td>243</td>\n",
       "      <td>4179</td>\n",
       "      <td>324</td>\n",
       "      <td>4008</td>\n",
       "      <td>3834</td>\n",
       "      <td>919</td>\n",
       "    </tr>\n",
       "    <tr>\n",
       "      <th>2</th>\n",
       "      <td>2008-08-01</td>\n",
       "      <td>70760</td>\n",
       "      <td>8739</td>\n",
       "      <td>1313</td>\n",
       "      <td>1033</td>\n",
       "      <td>3092</td>\n",
       "      <td>6868</td>\n",
       "      <td>6835</td>\n",
       "      <td>678</td>\n",
       "      <td>1277</td>\n",
       "      <td>529</td>\n",
       "      <td>21777</td>\n",
       "      <td>4896</td>\n",
       "      <td>220</td>\n",
       "      <td>249</td>\n",
       "      <td>4092</td>\n",
       "      <td>327</td>\n",
       "      <td>3896</td>\n",
       "      <td>4056</td>\n",
       "      <td>881</td>\n",
       "    </tr>\n",
       "  </tbody>\n",
       "</table>\n",
       "</div>"
      ],
      "text/plain": [
       "       Month   U.S.  Alaska  Arkansas  Kansas  Other States  \\\n",
       "0 2008-06-01  70626    8875      1196    1024          2995   \n",
       "1 2008-07-01  71137    8375      1256    1034          3150   \n",
       "2 2008-08-01  70760    8739      1313    1033          3092   \n",
       "\n",
       "   Federal Offshore--Gulf of Mexico  Wyoming  West Virginia  Utah  \\\n",
       "0                              7339     6839            670  1198   \n",
       "1                              7468     6940            674  1200   \n",
       "2                              6868     6835            678  1277   \n",
       "\n",
       "   Pennsylvania  Texas  Oklahoma  Ohio  North Dakota  New Mexico  Montana  \\\n",
       "0           540  21446      5241   224           243        3975      323   \n",
       "1           512  21547      5256   220           243        4179      324   \n",
       "2           529  21777      4896   220           249        4092      327   \n",
       "\n",
       "   Louisiana  Colorado  California  \n",
       "0       3989      3576         932  \n",
       "1       4008      3834         919  \n",
       "2       3896      4056         881  "
      ]
     },
     "execution_count": 6,
     "metadata": {},
     "output_type": "execute_result"
    }
   ],
   "source": [
    "gas_df['Month'] = pd.to_datetime(gas_df['Month'], format='%Y-%m-%d')\n",
    "gas_df.head(3)"
   ]
  },
  {
   "cell_type": "code",
   "execution_count": 7,
   "metadata": {},
   "outputs": [
    {
     "data": {
      "text/plain": [
       "Month    datetime64[ns]\n",
       "U.S.              int64\n",
       "dtype: object"
      ]
     },
     "execution_count": 7,
     "metadata": {},
     "output_type": "execute_result"
    }
   ],
   "source": [
    "gas_df.dtypes[0:2]"
   ]
  },
  {
   "cell_type": "code",
   "execution_count": 8,
   "metadata": {},
   "outputs": [
    {
     "data": {
      "text/plain": [
       "0    2008\n",
       "1    2008\n",
       "2    2008\n",
       "3    2008\n",
       "4    2008\n",
       "Name: Month, dtype: int64"
      ]
     },
     "execution_count": 8,
     "metadata": {},
     "output_type": "execute_result"
    }
   ],
   "source": [
    "gas_df['Month'].dt.year.head()"
   ]
  },
  {
   "cell_type": "code",
   "execution_count": 9,
   "metadata": {},
   "outputs": [
    {
     "data": {
      "text/plain": [
       "116    2\n",
       "117    3\n",
       "118    4\n",
       "119    5\n",
       "120    6\n",
       "Name: Month, dtype: int64"
      ]
     },
     "execution_count": 9,
     "metadata": {},
     "output_type": "execute_result"
    }
   ],
   "source": [
    "gas_df['Month'].dt.month.tail()"
   ]
  },
  {
   "cell_type": "code",
   "execution_count": 10,
   "metadata": {},
   "outputs": [],
   "source": [
    "month_type = gas_df['Month'].dtype"
   ]
  },
  {
   "cell_type": "markdown",
   "metadata": {},
   "source": [
    "---\n",
    "\n",
    "## Yearly Gas production"
   ]
  },
  {
   "cell_type": "code",
   "execution_count": 11,
   "metadata": {},
   "outputs": [
    {
     "data": {
      "text/html": [
       "<div>\n",
       "<style scoped>\n",
       "    .dataframe tbody tr th:only-of-type {\n",
       "        vertical-align: middle;\n",
       "    }\n",
       "\n",
       "    .dataframe tbody tr th {\n",
       "        vertical-align: top;\n",
       "    }\n",
       "\n",
       "    .dataframe thead th {\n",
       "        text-align: right;\n",
       "    }\n",
       "</style>\n",
       "<table border=\"1\" class=\"dataframe\">\n",
       "  <thead>\n",
       "    <tr style=\"text-align: right;\">\n",
       "      <th></th>\n",
       "      <th>U.S.</th>\n",
       "      <th>Alaska</th>\n",
       "      <th>Arkansas</th>\n",
       "      <th>Kansas</th>\n",
       "      <th>Other States</th>\n",
       "      <th>Federal Offshore--Gulf of Mexico</th>\n",
       "      <th>Wyoming</th>\n",
       "      <th>West Virginia</th>\n",
       "      <th>Utah</th>\n",
       "      <th>Pennsylvania</th>\n",
       "      <th>Texas</th>\n",
       "      <th>Oklahoma</th>\n",
       "      <th>Ohio</th>\n",
       "      <th>North Dakota</th>\n",
       "      <th>New Mexico</th>\n",
       "      <th>Montana</th>\n",
       "      <th>Louisiana</th>\n",
       "      <th>Colorado</th>\n",
       "      <th>California</th>\n",
       "    </tr>\n",
       "    <tr>\n",
       "      <th>Month</th>\n",
       "      <th></th>\n",
       "      <th></th>\n",
       "      <th></th>\n",
       "      <th></th>\n",
       "      <th></th>\n",
       "      <th></th>\n",
       "      <th></th>\n",
       "      <th></th>\n",
       "      <th></th>\n",
       "      <th></th>\n",
       "      <th></th>\n",
       "      <th></th>\n",
       "      <th></th>\n",
       "      <th></th>\n",
       "      <th></th>\n",
       "      <th></th>\n",
       "      <th></th>\n",
       "      <th></th>\n",
       "      <th></th>\n",
       "    </tr>\n",
       "  </thead>\n",
       "  <tbody>\n",
       "    <tr>\n",
       "      <th>2008</th>\n",
       "      <td>489473</td>\n",
       "      <td>64732</td>\n",
       "      <td>9395</td>\n",
       "      <td>7229</td>\n",
       "      <td>21678</td>\n",
       "      <td>39112</td>\n",
       "      <td>48393</td>\n",
       "      <td>4709</td>\n",
       "      <td>8726</td>\n",
       "      <td>3759</td>\n",
       "      <td>151483</td>\n",
       "      <td>36206</td>\n",
       "      <td>1617</td>\n",
       "      <td>1773</td>\n",
       "      <td>28518</td>\n",
       "      <td>2262</td>\n",
       "      <td>26289</td>\n",
       "      <td>27351</td>\n",
       "      <td>6240</td>\n",
       "    </tr>\n",
       "    <tr>\n",
       "      <th>2009</th>\n",
       "      <td>856876</td>\n",
       "      <td>108986</td>\n",
       "      <td>22353</td>\n",
       "      <td>11689</td>\n",
       "      <td>36078</td>\n",
       "      <td>80346</td>\n",
       "      <td>83413</td>\n",
       "      <td>8692</td>\n",
       "      <td>14782</td>\n",
       "      <td>9009</td>\n",
       "      <td>251694</td>\n",
       "      <td>62535</td>\n",
       "      <td>2919</td>\n",
       "      <td>3040</td>\n",
       "      <td>46867</td>\n",
       "      <td>3463</td>\n",
       "      <td>51221</td>\n",
       "      <td>49716</td>\n",
       "      <td>10071</td>\n",
       "    </tr>\n",
       "    <tr>\n",
       "      <th>2010</th>\n",
       "      <td>881622</td>\n",
       "      <td>105219</td>\n",
       "      <td>30475</td>\n",
       "      <td>10708</td>\n",
       "      <td>37542</td>\n",
       "      <td>74309</td>\n",
       "      <td>82687</td>\n",
       "      <td>8718</td>\n",
       "      <td>14361</td>\n",
       "      <td>18771</td>\n",
       "      <td>249632</td>\n",
       "      <td>60074</td>\n",
       "      <td>2568</td>\n",
       "      <td>3741</td>\n",
       "      <td>44101</td>\n",
       "      <td>3068</td>\n",
       "      <td>72873</td>\n",
       "      <td>52259</td>\n",
       "      <td>10521</td>\n",
       "    </tr>\n",
       "    <tr>\n",
       "      <th>2011</th>\n",
       "      <td>936163</td>\n",
       "      <td>104154</td>\n",
       "      <td>35384</td>\n",
       "      <td>10191</td>\n",
       "      <td>38187</td>\n",
       "      <td>60213</td>\n",
       "      <td>78095</td>\n",
       "      <td>12948</td>\n",
       "      <td>15170</td>\n",
       "      <td>43014</td>\n",
       "      <td>260747</td>\n",
       "      <td>62075</td>\n",
       "      <td>2592</td>\n",
       "      <td>5155</td>\n",
       "      <td>42315</td>\n",
       "      <td>2615</td>\n",
       "      <td>99905</td>\n",
       "      <td>54215</td>\n",
       "      <td>9181</td>\n",
       "    </tr>\n",
       "    <tr>\n",
       "      <th>2012</th>\n",
       "      <td>968632</td>\n",
       "      <td>103856</td>\n",
       "      <td>37571</td>\n",
       "      <td>9714</td>\n",
       "      <td>37045</td>\n",
       "      <td>50102</td>\n",
       "      <td>72988</td>\n",
       "      <td>17694</td>\n",
       "      <td>16079</td>\n",
       "      <td>73950</td>\n",
       "      <td>266989</td>\n",
       "      <td>66337</td>\n",
       "      <td>2772</td>\n",
       "      <td>8473</td>\n",
       "      <td>41846</td>\n",
       "      <td>2197</td>\n",
       "      <td>96895</td>\n",
       "      <td>56037</td>\n",
       "      <td>8092</td>\n",
       "    </tr>\n",
       "    <tr>\n",
       "      <th>2013</th>\n",
       "      <td>970617</td>\n",
       "      <td>105776</td>\n",
       "      <td>37466</td>\n",
       "      <td>9613</td>\n",
       "      <td>22657</td>\n",
       "      <td>43647</td>\n",
       "      <td>67338</td>\n",
       "      <td>24363</td>\n",
       "      <td>15482</td>\n",
       "      <td>107076</td>\n",
       "      <td>272844</td>\n",
       "      <td>65524</td>\n",
       "      <td>5442</td>\n",
       "      <td>11362</td>\n",
       "      <td>41010</td>\n",
       "      <td>2078</td>\n",
       "      <td>77873</td>\n",
       "      <td>52769</td>\n",
       "      <td>8296</td>\n",
       "    </tr>\n",
       "    <tr>\n",
       "      <th>2014</th>\n",
       "      <td>1032439</td>\n",
       "      <td>104298</td>\n",
       "      <td>36917</td>\n",
       "      <td>9415</td>\n",
       "      <td>20761</td>\n",
       "      <td>41937</td>\n",
       "      <td>65709</td>\n",
       "      <td>35055</td>\n",
       "      <td>14946</td>\n",
       "      <td>139932</td>\n",
       "      <td>284598</td>\n",
       "      <td>76643</td>\n",
       "      <td>16803</td>\n",
       "      <td>15214</td>\n",
       "      <td>41631</td>\n",
       "      <td>1947</td>\n",
       "      <td>64746</td>\n",
       "      <td>54021</td>\n",
       "      <td>7861</td>\n",
       "    </tr>\n",
       "    <tr>\n",
       "      <th>2015</th>\n",
       "      <td>1082158</td>\n",
       "      <td>104447</td>\n",
       "      <td>33221</td>\n",
       "      <td>9349</td>\n",
       "      <td>20102</td>\n",
       "      <td>42979</td>\n",
       "      <td>65615</td>\n",
       "      <td>43236</td>\n",
       "      <td>13717</td>\n",
       "      <td>158236</td>\n",
       "      <td>289330</td>\n",
       "      <td>82166</td>\n",
       "      <td>33069</td>\n",
       "      <td>19211</td>\n",
       "      <td>42638</td>\n",
       "      <td>1916</td>\n",
       "      <td>59621</td>\n",
       "      <td>55521</td>\n",
       "      <td>7786</td>\n",
       "    </tr>\n",
       "    <tr>\n",
       "      <th>2016</th>\n",
       "      <td>1070085</td>\n",
       "      <td>105900</td>\n",
       "      <td>26999</td>\n",
       "      <td>7984</td>\n",
       "      <td>18722</td>\n",
       "      <td>39990</td>\n",
       "      <td>60613</td>\n",
       "      <td>45077</td>\n",
       "      <td>11958</td>\n",
       "      <td>174225</td>\n",
       "      <td>266713</td>\n",
       "      <td>80932</td>\n",
       "      <td>47199</td>\n",
       "      <td>19964</td>\n",
       "      <td>42120</td>\n",
       "      <td>1710</td>\n",
       "      <td>57459</td>\n",
       "      <td>55791</td>\n",
       "      <td>6723</td>\n",
       "    </tr>\n",
       "    <tr>\n",
       "      <th>2017</th>\n",
       "      <td>1090730</td>\n",
       "      <td>106969</td>\n",
       "      <td>23050</td>\n",
       "      <td>7247</td>\n",
       "      <td>17069</td>\n",
       "      <td>35592</td>\n",
       "      <td>56410</td>\n",
       "      <td>52609</td>\n",
       "      <td>10312</td>\n",
       "      <td>179644</td>\n",
       "      <td>260314</td>\n",
       "      <td>82616</td>\n",
       "      <td>58702</td>\n",
       "      <td>22577</td>\n",
       "      <td>43910</td>\n",
       "      <td>1577</td>\n",
       "      <td>69947</td>\n",
       "      <td>55546</td>\n",
       "      <td>6642</td>\n",
       "    </tr>\n",
       "    <tr>\n",
       "      <th>2018</th>\n",
       "      <td>587058</td>\n",
       "      <td>54887</td>\n",
       "      <td>9991</td>\n",
       "      <td>3372</td>\n",
       "      <td>8129</td>\n",
       "      <td>15408</td>\n",
       "      <td>28696</td>\n",
       "      <td>28173</td>\n",
       "      <td>4970</td>\n",
       "      <td>97811</td>\n",
       "      <td>137852</td>\n",
       "      <td>46373</td>\n",
       "      <td>36691</td>\n",
       "      <td>13160</td>\n",
       "      <td>23655</td>\n",
       "      <td>739</td>\n",
       "      <td>44466</td>\n",
       "      <td>29410</td>\n",
       "      <td>3276</td>\n",
       "    </tr>\n",
       "  </tbody>\n",
       "</table>\n",
       "</div>"
      ],
      "text/plain": [
       "          U.S.  Alaska  Arkansas  Kansas  Other States  \\\n",
       "Month                                                    \n",
       "2008    489473   64732      9395    7229         21678   \n",
       "2009    856876  108986     22353   11689         36078   \n",
       "2010    881622  105219     30475   10708         37542   \n",
       "2011    936163  104154     35384   10191         38187   \n",
       "2012    968632  103856     37571    9714         37045   \n",
       "2013    970617  105776     37466    9613         22657   \n",
       "2014   1032439  104298     36917    9415         20761   \n",
       "2015   1082158  104447     33221    9349         20102   \n",
       "2016   1070085  105900     26999    7984         18722   \n",
       "2017   1090730  106969     23050    7247         17069   \n",
       "2018    587058   54887      9991    3372          8129   \n",
       "\n",
       "       Federal Offshore--Gulf of Mexico  Wyoming  West Virginia   Utah  \\\n",
       "Month                                                                    \n",
       "2008                              39112    48393           4709   8726   \n",
       "2009                              80346    83413           8692  14782   \n",
       "2010                              74309    82687           8718  14361   \n",
       "2011                              60213    78095          12948  15170   \n",
       "2012                              50102    72988          17694  16079   \n",
       "2013                              43647    67338          24363  15482   \n",
       "2014                              41937    65709          35055  14946   \n",
       "2015                              42979    65615          43236  13717   \n",
       "2016                              39990    60613          45077  11958   \n",
       "2017                              35592    56410          52609  10312   \n",
       "2018                              15408    28696          28173   4970   \n",
       "\n",
       "       Pennsylvania   Texas  Oklahoma   Ohio  North Dakota  New Mexico  \\\n",
       "Month                                                                    \n",
       "2008           3759  151483     36206   1617          1773       28518   \n",
       "2009           9009  251694     62535   2919          3040       46867   \n",
       "2010          18771  249632     60074   2568          3741       44101   \n",
       "2011          43014  260747     62075   2592          5155       42315   \n",
       "2012          73950  266989     66337   2772          8473       41846   \n",
       "2013         107076  272844     65524   5442         11362       41010   \n",
       "2014         139932  284598     76643  16803         15214       41631   \n",
       "2015         158236  289330     82166  33069         19211       42638   \n",
       "2016         174225  266713     80932  47199         19964       42120   \n",
       "2017         179644  260314     82616  58702         22577       43910   \n",
       "2018          97811  137852     46373  36691         13160       23655   \n",
       "\n",
       "       Montana  Louisiana  Colorado  California  \n",
       "Month                                            \n",
       "2008      2262      26289     27351        6240  \n",
       "2009      3463      51221     49716       10071  \n",
       "2010      3068      72873     52259       10521  \n",
       "2011      2615      99905     54215        9181  \n",
       "2012      2197      96895     56037        8092  \n",
       "2013      2078      77873     52769        8296  \n",
       "2014      1947      64746     54021        7861  \n",
       "2015      1916      59621     55521        7786  \n",
       "2016      1710      57459     55791        6723  \n",
       "2017      1577      69947     55546        6642  \n",
       "2018       739      44466     29410        3276  "
      ]
     },
     "execution_count": 11,
     "metadata": {},
     "output_type": "execute_result"
    }
   ],
   "source": [
    "yearly_gas_df = gas_df.groupby(gas_df['Month'].dt.year).sum()\n",
    "yearly_gas_df"
   ]
  },
  {
   "cell_type": "code",
   "execution_count": 12,
   "metadata": {},
   "outputs": [
    {
     "data": {
      "text/plain": [
       "Text(0.5, 0, 'Year')"
      ]
     },
     "execution_count": 12,
     "metadata": {},
     "output_type": "execute_result"
    },
    {
     "data": {
      "image/png": "[encoded data removed]",
      "text/plain": [
       "<Figure size 432x288 with 1 Axes>"
      ]
     },
     "metadata": {
      "needs_background": "light"
     },
     "output_type": "display_data"
    }
   ],
   "source": [
    "plot = yearly_gas_df.filter(items=['U.S.']).plot(kind=\"bar\")\n",
    "plot.set_xlabel(\"Year\")"
   ]
  },
  {
   "cell_type": "code",
   "execution_count": 13,
   "metadata": {},
   "outputs": [
    {
     "data": {
      "text/plain": [
       "array([False,  True,  True,  True,  True,  True,  True,  True,  True,\n",
       "        True, False])"
      ]
     },
     "execution_count": 13,
     "metadata": {},
     "output_type": "execute_result"
    }
   ],
   "source": [
    "good_year = np.logical_and(yearly_gas_df.index >= 2009, yearly_gas_df.index <= 2017)\n",
    "good_year"
   ]
  },
  {
   "cell_type": "markdown",
   "metadata": {},
   "source": [
    "### State production\n",
    "\n",
    "Let's have a look at the yearly production of some specific states"
   ]
  },
  {
   "cell_type": "code",
   "execution_count": 14,
   "metadata": {},
   "outputs": [
    {
     "data": {
      "text/plain": [
       "Text(0.5, 0, 'Year')"
      ]
     },
     "execution_count": 14,
     "metadata": {},
     "output_type": "execute_result"
    },
    {
     "data": {
      "image/png": "[encoded data removed]",
      "text/plain": [
       "<Figure size 432x288 with 1 Axes>"
      ]
     },
     "metadata": {
      "needs_background": "light"
     },
     "output_type": "display_data"
    }
   ],
   "source": [
    "filtered_yearly_gas_df = yearly_gas_df[good_year]\n",
    "plot = filtered_yearly_gas_df.filter(items=['Alaska', 'Texas', 'Ohio', 'Utah']).plot()\n",
    "plot.set_xlabel(\"Year\")"
   ]
  },
  {
   "cell_type": "markdown",
   "metadata": {},
   "source": [
    "### Check your code"
   ]
  },
  {
   "cell_type": "code",
   "execution_count": 15,
   "metadata": {},
   "outputs": [],
   "source": [
    "month_type = gas_df['Month'].dtype"
   ]
  },
  {
   "cell_type": "code",
   "execution_count": 16,
   "metadata": {},
   "outputs": [],
   "source": [
    "from nbresult import ChallengeResult\n",
    "\n",
    "result = ChallengeResult('gas',\n",
    "    month_type=month_type,\n",
    "    yearly_gas=filtered_yearly_gas_df.shape\n",
    ")\n",
    "result.write()"
   ]
  },
  {
   "cell_type": "code",
   "execution_count": 17,
   "metadata": {},
   "outputs": [
    {
     "name": "stdout",
     "output_type": "stream",
     "text": [
      "\u001b[1m============================= test session starts ==============================\u001b[0m\n",
      "platform darwin -- Python 3.8.12, pytest-6.2.5, py-1.10.0, pluggy-1.0.0 -- /Users/selmalopez/.pyenv/versions/lewagon_current/bin/python3\n",
      "cachedir: .pytest_cache\n",
      "rootdir: /Users/selmalopez/code/selmalopez/data-challenges/02-Data-Toolkit/01-Data-Analysis/02-US-Oil-and-Gas-Production\n",
      "plugins: dash-2.0.0, anyio-3.3.2\n",
      "\u001b[1mcollecting ... \u001b[0mcollected 2 items\n",
      "\n",
      "tests/test_gas.py::TestGas::test_month_column_is_a_datetime \u001b[32mPASSED\u001b[0m\u001b[32m       [ 50%]\u001b[0m\n",
      "tests/test_gas.py::TestGas::test_yearly_gas_production_df_has_the_right_shape \u001b[32mPASSED\u001b[0m\u001b[32m [100%]\u001b[0m\n",
      "\n",
      "\u001b[32m============================== \u001b[32m\u001b[1m2 passed\u001b[0m\u001b[32m in 0.12s\u001b[0m\u001b[32m ===============================\u001b[0m\n",
      "\n",
      "\n",
      "💯 You can commit your code:\n",
      "\n",
      "\u001b[1;32mgit\u001b[39m add tests/gas.pickle\n",
      "\n",
      "\u001b[32mgit\u001b[39m commit -m \u001b[33m'Completed gas step'\u001b[39m\n",
      "\n",
      "\u001b[32mgit\u001b[39m push origin master\n"
     ]
    }
   ],
   "source": [
    "print(result.check())"
   ]
  },
  {
   "cell_type": "markdown",
   "metadata": {},
   "source": [
    "---\n",
    "\n",
    "## Comparing with Crude Oil Production"
   ]
  },
  {
   "cell_type": "code",
   "execution_count": 18,
   "metadata": {},
   "outputs": [
    {
     "data": {
      "text/html": [
       "<div>\n",
       "<style scoped>\n",
       "    .dataframe tbody tr th:only-of-type {\n",
       "        vertical-align: middle;\n",
       "    }\n",
       "\n",
       "    .dataframe tbody tr th {\n",
       "        vertical-align: top;\n",
       "    }\n",
       "\n",
       "    .dataframe thead th {\n",
       "        text-align: right;\n",
       "    }\n",
       "</style>\n",
       "<table border=\"1\" class=\"dataframe\">\n",
       "  <thead>\n",
       "    <tr style=\"text-align: right;\">\n",
       "      <th></th>\n",
       "      <th>Month</th>\n",
       "      <th>U.S. Crude Oil</th>\n",
       "      <th>Alabama</th>\n",
       "      <th>Alaska</th>\n",
       "      <th>Arkansas</th>\n",
       "      <th>Arizona</th>\n",
       "      <th>California</th>\n",
       "      <th>Colorado</th>\n",
       "      <th>Federal Offshore Gulf of Mexico Crude Oil</th>\n",
       "      <th>Federal Offshore Pacific Crude Oil</th>\n",
       "      <th>...</th>\n",
       "      <th>Ohio</th>\n",
       "      <th>Oklahoma</th>\n",
       "      <th>Pennsylvania</th>\n",
       "      <th>South Dakota</th>\n",
       "      <th>Wyoming</th>\n",
       "      <th>West Virginia</th>\n",
       "      <th>Virginia</th>\n",
       "      <th>Utah</th>\n",
       "      <th>Texas</th>\n",
       "      <th>Tennessee</th>\n",
       "    </tr>\n",
       "  </thead>\n",
       "  <tbody>\n",
       "    <tr>\n",
       "      <th>0</th>\n",
       "      <td>2008-06-01</td>\n",
       "      <td>5138</td>\n",
       "      <td>21</td>\n",
       "      <td>655</td>\n",
       "      <td>17</td>\n",
       "      <td>0</td>\n",
       "      <td>583</td>\n",
       "      <td>82</td>\n",
       "      <td>1326</td>\n",
       "      <td>67</td>\n",
       "      <td>...</td>\n",
       "      <td>14</td>\n",
       "      <td>186</td>\n",
       "      <td>8</td>\n",
       "      <td>5</td>\n",
       "      <td>144</td>\n",
       "      <td>6</td>\n",
       "      <td>0</td>\n",
       "      <td>60</td>\n",
       "      <td>1097</td>\n",
       "      <td>1</td>\n",
       "    </tr>\n",
       "    <tr>\n",
       "      <th>1</th>\n",
       "      <td>2008-07-01</td>\n",
       "      <td>5177</td>\n",
       "      <td>21</td>\n",
       "      <td>640</td>\n",
       "      <td>17</td>\n",
       "      <td>0</td>\n",
       "      <td>586</td>\n",
       "      <td>81</td>\n",
       "      <td>1372</td>\n",
       "      <td>61</td>\n",
       "      <td>...</td>\n",
       "      <td>14</td>\n",
       "      <td>184</td>\n",
       "      <td>8</td>\n",
       "      <td>5</td>\n",
       "      <td>145</td>\n",
       "      <td>5</td>\n",
       "      <td>0</td>\n",
       "      <td>61</td>\n",
       "      <td>1111</td>\n",
       "      <td>1</td>\n",
       "    </tr>\n",
       "    <tr>\n",
       "      <th>2</th>\n",
       "      <td>2008-08-01</td>\n",
       "      <td>5003</td>\n",
       "      <td>21</td>\n",
       "      <td>544</td>\n",
       "      <td>17</td>\n",
       "      <td>0</td>\n",
       "      <td>588</td>\n",
       "      <td>82</td>\n",
       "      <td>1272</td>\n",
       "      <td>70</td>\n",
       "      <td>...</td>\n",
       "      <td>14</td>\n",
       "      <td>188</td>\n",
       "      <td>8</td>\n",
       "      <td>5</td>\n",
       "      <td>145</td>\n",
       "      <td>6</td>\n",
       "      <td>0</td>\n",
       "      <td>62</td>\n",
       "      <td>1110</td>\n",
       "      <td>1</td>\n",
       "    </tr>\n",
       "    <tr>\n",
       "      <th>3</th>\n",
       "      <td>2008-09-01</td>\n",
       "      <td>3974</td>\n",
       "      <td>21</td>\n",
       "      <td>681</td>\n",
       "      <td>16</td>\n",
       "      <td>0</td>\n",
       "      <td>587</td>\n",
       "      <td>88</td>\n",
       "      <td>242</td>\n",
       "      <td>67</td>\n",
       "      <td>...</td>\n",
       "      <td>14</td>\n",
       "      <td>186</td>\n",
       "      <td>8</td>\n",
       "      <td>5</td>\n",
       "      <td>144</td>\n",
       "      <td>6</td>\n",
       "      <td>0</td>\n",
       "      <td>63</td>\n",
       "      <td>1055</td>\n",
       "      <td>1</td>\n",
       "    </tr>\n",
       "    <tr>\n",
       "      <th>4</th>\n",
       "      <td>2008-10-01</td>\n",
       "      <td>4738</td>\n",
       "      <td>21</td>\n",
       "      <td>716</td>\n",
       "      <td>17</td>\n",
       "      <td>0</td>\n",
       "      <td>586</td>\n",
       "      <td>86</td>\n",
       "      <td>803</td>\n",
       "      <td>66</td>\n",
       "      <td>...</td>\n",
       "      <td>14</td>\n",
       "      <td>185</td>\n",
       "      <td>8</td>\n",
       "      <td>5</td>\n",
       "      <td>145</td>\n",
       "      <td>6</td>\n",
       "      <td>0</td>\n",
       "      <td>64</td>\n",
       "      <td>1125</td>\n",
       "      <td>1</td>\n",
       "    </tr>\n",
       "  </tbody>\n",
       "</table>\n",
       "<p>5 rows × 36 columns</p>\n",
       "</div>"
      ],
      "text/plain": [
       "       Month  U.S. Crude Oil   Alabama  Alaska  Arkansas  Arizona  California  \\\n",
       "0 2008-06-01             5138       21     655        17        0         583   \n",
       "1 2008-07-01             5177       21     640        17        0         586   \n",
       "2 2008-08-01             5003       21     544        17        0         588   \n",
       "3 2008-09-01             3974       21     681        16        0         587   \n",
       "4 2008-10-01             4738       21     716        17        0         586   \n",
       "\n",
       "   Colorado  Federal Offshore Gulf of Mexico Crude Oil  \\\n",
       "0        82                                       1326   \n",
       "1        81                                       1372   \n",
       "2        82                                       1272   \n",
       "3        88                                        242   \n",
       "4        86                                        803   \n",
       "\n",
       "   Federal Offshore Pacific Crude Oil  ...  Ohio  Oklahoma  Pennsylvania  \\\n",
       "0                                  67  ...    14       186             8   \n",
       "1                                  61  ...    14       184             8   \n",
       "2                                  70  ...    14       188             8   \n",
       "3                                  67  ...    14       186             8   \n",
       "4                                  66  ...    14       185             8   \n",
       "\n",
       "   South Dakota  Wyoming  West Virginia  Virginia  Utah  Texas  Tennessee  \n",
       "0             5      144              6         0    60   1097          1  \n",
       "1             5      145              5         0    61   1111          1  \n",
       "2             5      145              6         0    62   1110          1  \n",
       "3             5      144              6         0    63   1055          1  \n",
       "4             5      145              6         0    64   1125          1  \n",
       "\n",
       "[5 rows x 36 columns]"
      ]
     },
     "execution_count": 18,
     "metadata": {},
     "output_type": "execute_result"
    }
   ],
   "source": [
    "file = \"data/U.S._crude_oil_production.csv\"\n",
    "oil_df = pd.read_csv(file)\n",
    "oil_df['Month'] = pd.to_datetime(oil_df['Month'], format='%Y-%m-%d')\n",
    "oil_df.head()"
   ]
  },
  {
   "cell_type": "code",
   "execution_count": 23,
   "metadata": {},
   "outputs": [
    {
     "data": {
      "text/html": [
       "<div>\n",
       "<style scoped>\n",
       "    .dataframe tbody tr th:only-of-type {\n",
       "        vertical-align: middle;\n",
       "    }\n",
       "\n",
       "    .dataframe tbody tr th {\n",
       "        vertical-align: top;\n",
       "    }\n",
       "\n",
       "    .dataframe thead th {\n",
       "        text-align: right;\n",
       "    }\n",
       "</style>\n",
       "<table border=\"1\" class=\"dataframe\">\n",
       "  <thead>\n",
       "    <tr style=\"text-align: right;\">\n",
       "      <th></th>\n",
       "      <th>Crude Oil</th>\n",
       "    </tr>\n",
       "    <tr>\n",
       "      <th>Month</th>\n",
       "      <th></th>\n",
       "    </tr>\n",
       "  </thead>\n",
       "  <tbody>\n",
       "    <tr>\n",
       "      <th>2008</th>\n",
       "      <td>34211</td>\n",
       "    </tr>\n",
       "    <tr>\n",
       "      <th>2009</th>\n",
       "      <td>64180</td>\n",
       "    </tr>\n",
       "    <tr>\n",
       "      <th>2010</th>\n",
       "      <td>65741</td>\n",
       "    </tr>\n",
       "  </tbody>\n",
       "</table>\n",
       "</div>"
      ],
      "text/plain": [
       "       Crude Oil\n",
       "Month           \n",
       "2008       34211\n",
       "2009       64180\n",
       "2010       65741"
      ]
     },
     "execution_count": 23,
     "metadata": {},
     "output_type": "execute_result"
    }
   ],
   "source": [
    "yearly_gas = gas_df.groupby(gas_df['Month'].dt.year).sum().filter(items=['U.S.'])\n",
    "yearly_gas.columns = [ 'Gas' ]\n",
    "yearly_gas.head(3)\n",
    "\n",
    "yearly_oil = oil_df.groupby(oil_df['Month'].dt.year).sum().filter(items=['U.S. Crude Oil '])\n",
    "yearly_oil.columns = [ 'Crude Oil' ]\n",
    "yearly_oil.head(3)\n"
   ]
  },
  {
   "cell_type": "code",
   "execution_count": 26,
   "metadata": {},
   "outputs": [],
   "source": [
    "oil_df.rename(columns={'yearly_oil ': 'Crude Oil'}, inplace=True)\n",
    "gas_df.rename(columns={'yearly_gas': 'Gas'},inplace=True)"
   ]
  },
  {
   "cell_type": "code",
   "execution_count": 25,
   "metadata": {},
   "outputs": [
    {
     "data": {
      "text/html": [
       "<div>\n",
       "<style scoped>\n",
       "    .dataframe tbody tr th:only-of-type {\n",
       "        vertical-align: middle;\n",
       "    }\n",
       "\n",
       "    .dataframe tbody tr th {\n",
       "        vertical-align: top;\n",
       "    }\n",
       "\n",
       "    .dataframe thead th {\n",
       "        text-align: right;\n",
       "    }\n",
       "</style>\n",
       "<table border=\"1\" class=\"dataframe\">\n",
       "  <thead>\n",
       "    <tr style=\"text-align: right;\">\n",
       "      <th></th>\n",
       "      <th>Crude Oil</th>\n",
       "      <th>Gas</th>\n",
       "    </tr>\n",
       "    <tr>\n",
       "      <th>Month</th>\n",
       "      <th></th>\n",
       "      <th></th>\n",
       "    </tr>\n",
       "  </thead>\n",
       "  <tbody>\n",
       "    <tr>\n",
       "      <th>2008</th>\n",
       "      <td>34211</td>\n",
       "      <td>489473</td>\n",
       "    </tr>\n",
       "    <tr>\n",
       "      <th>2009</th>\n",
       "      <td>64180</td>\n",
       "      <td>856876</td>\n",
       "    </tr>\n",
       "    <tr>\n",
       "      <th>2010</th>\n",
       "      <td>65741</td>\n",
       "      <td>881622</td>\n",
       "    </tr>\n",
       "    <tr>\n",
       "      <th>2011</th>\n",
       "      <td>67829</td>\n",
       "      <td>936163</td>\n",
       "    </tr>\n",
       "    <tr>\n",
       "      <th>2012</th>\n",
       "      <td>78007</td>\n",
       "      <td>968632</td>\n",
       "    </tr>\n",
       "    <tr>\n",
       "      <th>2013</th>\n",
       "      <td>89585</td>\n",
       "      <td>970617</td>\n",
       "    </tr>\n",
       "    <tr>\n",
       "      <th>2014</th>\n",
       "      <td>105064</td>\n",
       "      <td>1032439</td>\n",
       "    </tr>\n",
       "    <tr>\n",
       "      <th>2015</th>\n",
       "      <td>113179</td>\n",
       "      <td>1082158</td>\n",
       "    </tr>\n",
       "    <tr>\n",
       "      <th>2016</th>\n",
       "      <td>105970</td>\n",
       "      <td>1070085</td>\n",
       "    </tr>\n",
       "    <tr>\n",
       "      <th>2017</th>\n",
       "      <td>112205</td>\n",
       "      <td>1090730</td>\n",
       "    </tr>\n",
       "    <tr>\n",
       "      <th>2018</th>\n",
       "      <td>62296</td>\n",
       "      <td>587058</td>\n",
       "    </tr>\n",
       "  </tbody>\n",
       "</table>\n",
       "</div>"
      ],
      "text/plain": [
       "       Crude Oil      Gas\n",
       "Month                    \n",
       "2008       34211   489473\n",
       "2009       64180   856876\n",
       "2010       65741   881622\n",
       "2011       67829   936163\n",
       "2012       78007   968632\n",
       "2013       89585   970617\n",
       "2014      105064  1032439\n",
       "2015      113179  1082158\n",
       "2016      105970  1070085\n",
       "2017      112205  1090730\n",
       "2018       62296   587058"
      ]
     },
     "execution_count": 25,
     "metadata": {},
     "output_type": "execute_result"
    }
   ],
   "source": [
    "merged_df = pd.concat([yearly_oil, yearly_gas], axis='columns')\n",
    "merged_df"
   ]
  },
  {
   "cell_type": "code",
   "execution_count": 27,
   "metadata": {},
   "outputs": [
    {
     "data": {
      "text/plain": [
       "<matplotlib.legend.Legend at 0x12408ee50>"
      ]
     },
     "execution_count": 27,
     "metadata": {},
     "output_type": "execute_result"
    },
    {
     "data": {
      "image/png": "[encoded data removed]",
      "text/plain": [
       "<Figure size 432x288 with 1 Axes>"
      ]
     },
     "metadata": {
      "needs_background": "light"
     },
     "output_type": "display_data"
    }
   ],
   "source": [
    "plot = merged_df.plot(kind=\"bar\")\n",
    "plot.set_xlabel(\"Year\")\n",
    "plot.legend(['Gas (Millions of Cubic feet)', 'Crude Oil (Thousands of barrels)'])"
   ]
  },
  {
   "cell_type": "markdown",
   "metadata": {},
   "source": [
    "### Check your code"
   ]
  },
  {
   "cell_type": "code",
   "execution_count": 29,
   "metadata": {},
   "outputs": [],
   "source": [
    "from nbresult import ChallengeResult\n",
    "\n",
    "result = ChallengeResult('merged_dataframes',\n",
    "    merged_df_shape=merged_df.shape,\n",
    "    yearly_oil_2008=merged_df.iloc[0][\"Crude Oil\"],\n",
    ")\n",
    "result.write()"
   ]
  },
  {
   "cell_type": "code",
   "execution_count": 30,
   "metadata": {},
   "outputs": [
    {
     "name": "stdout",
     "output_type": "stream",
     "text": [
      "\u001b[1m============================= test session starts ==============================\u001b[0m\n",
      "platform darwin -- Python 3.8.12, pytest-6.2.5, py-1.10.0, pluggy-1.0.0 -- /Users/selmalopez/.pyenv/versions/lewagon_current/bin/python3\n",
      "cachedir: .pytest_cache\n",
      "rootdir: /Users/selmalopez/code/selmalopez/data-challenges/02-Data-Toolkit/01-Data-Analysis/02-US-Oil-and-Gas-Production\n",
      "plugins: dash-2.0.0, anyio-3.3.2\n",
      "\u001b[1mcollecting ... \u001b[0mcollected 2 items\n",
      "\n",
      "tests/test_merged_dataframes.py::TestMergedDataframes::test_merged_df_has_the_right_shape \u001b[32mPASSED\u001b[0m\u001b[32m [ 50%]\u001b[0m\n",
      "tests/test_merged_dataframes.py::TestMergedDataframes::test_yearly_oil_value_2008 \u001b[32mPASSED\u001b[0m\u001b[32m [100%]\u001b[0m\n",
      "\n",
      "\u001b[32m============================== \u001b[32m\u001b[1m2 passed\u001b[0m\u001b[32m in 0.15s\u001b[0m\u001b[32m ===============================\u001b[0m\n",
      "\n",
      "\n",
      "💯 You can commit your code:\n",
      "\n",
      "\u001b[1;32mgit\u001b[39m add tests/merged_dataframes.pickle\n",
      "\n",
      "\u001b[32mgit\u001b[39m commit -m \u001b[33m'Completed merged_dataframes step'\u001b[39m\n",
      "\n",
      "\u001b[32mgit\u001b[39m push origin master\n"
     ]
    }
   ],
   "source": [
    "print(result.check())"
   ]
  },
  {
   "cell_type": "code",
   "execution_count": null,
   "metadata": {},
   "outputs": [],
   "source": []
  }
 ],
 "metadata": {
  "kernelspec": {
   "display_name": "Python 3 (ipykernel)",
   "language": "python",
   "name": "python3"
  },
  "language_info": {
   "codemirror_mode": {
    "name": "ipython",
    "version": 3
   },
   "file_extension": ".py",
   "mimetype": "text/x-python",
   "name": "python",
   "nbconvert_exporter": "python",
   "pygments_lexer": "ipython3",
   "version": "3.8.12"
  },
  "toc": {
   "base_numbering": 1,
   "nav_menu": {},
   "number_sections": false,
   "sideBar": true,
   "skip_h1_title": false,
   "title_cell": "Table of Contents",
   "title_sidebar": "Contents",
   "toc_cell": false,
   "toc_position": {
    "height": "calc(100% - 180px)",
    "left": "10px",
    "top": "150px",
    "width": "165px"
   },
   "toc_section_display": true,
   "toc_window_display": false
  },
  "varInspector": {
   "cols": {
    "lenName": 16,
    "lenType": 16,
    "lenVar": 40
   },
   "kernels_config": {
    "python": {
     "delete_cmd_postfix": "",
     "delete_cmd_prefix": "del ",
     "library": "var_list.py",
     "varRefreshCmd": "print(var_dic_list())"
    },
    "r": {
     "delete_cmd_postfix": ") ",
     "delete_cmd_prefix": "rm(",
     "library": "var_list.r",
     "varRefreshCmd": "cat(var_dic_list()) "
    }
   },
   "types_to_exclude": [
    "module",
    "function",
    "builtin_function_or_method",
    "instance",
    "_Feature"
   ],
   "window_display": false
  }
 },
 "nbformat": 4,
 "nbformat_minor": 2
}
