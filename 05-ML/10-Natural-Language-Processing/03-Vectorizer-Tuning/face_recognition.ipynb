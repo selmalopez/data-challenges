{
 "cells": [
  {
   "cell_type": "markdown",
   "metadata": {},
   "source": [
    "# PCA : Face Recognition\n",
    "\n"
   ]
  },
  {
   "cell_type": "markdown",
   "metadata": {},
   "source": [
    "In this challenge, we will use PCA in combination with a dataset of multiple black & white image**s**\n",
    "\n",
    "This time then:\n",
    "- each image is an observation (sample)\n",
    "- each pixel's luminosity level is a feature (lots of features!!)\n",
    "\n",
    "We will use PCA to compress the picture by reducing the number of feature used to describe it."
   ]
  },
  {
   "cell_type": "markdown",
   "metadata": {},
   "source": [
    "## Load dataset\n",
    "\n",
    "Using PCA for dimensionality reduction involves zeroing out one or more of the smallest principal components, resulting in a **lower-dimensional projection** of the data that preserves the maximal data variance.\n",
    "\n",
    "We can then use those new representations as features to feed any model we want. It can be very useful since you often have lots of features, and you want to transform and keep a packed number of features that are the most representative of what you want to model.\n",
    "\n",
    "__Lets load a face image dataset and apply PCA.__"
   ]
  },
  {
   "cell_type": "code",
   "execution_count": 46,
   "metadata": {},
   "outputs": [],
   "source": [
    "# Load data\n",
    "import pandas as pd \n",
    "from sklearn.datasets import fetch_lfw_people\n",
    "faces = fetch_lfw_people(min_faces_per_person=70, resize=0.4)"
   ]
  },
  {
   "cell_type": "markdown",
   "metadata": {},
   "source": [
    "You have access to\n",
    "- `faces.images` which are the matrix of __50 x 37 pixels__ you can plot \n",
    "- `faces.data` for the the flattened version in  of size __1850 x 1__ (because 50 x 37 = 1850). \n",
    "- `faces.target` which is annotation of every face to the corresponding person (as a number index)"
   ]
  },
  {
   "cell_type": "code",
   "execution_count": 87,
   "metadata": {},
   "outputs": [
    {
     "data": {
      "text/plain": [
       "(1288,)"
      ]
     },
     "execution_count": 87,
     "metadata": {},
     "output_type": "execute_result"
    }
   ],
   "source": [
    "faces.target.shape"
   ]
  },
  {
   "cell_type": "code",
   "execution_count": 94,
   "metadata": {},
   "outputs": [
    {
     "data": {
      "text/plain": [
       "3    530\n",
       "1    236\n",
       "6    144\n",
       "2    121\n",
       "4    109\n",
       "0     77\n",
       "5     71\n",
       "dtype: int64"
      ]
     },
     "execution_count": 94,
     "metadata": {},
     "output_type": "execute_result"
    }
   ],
   "source": [
    "pd.DataFrame(faces.target).value_counts()"
   ]
  },
  {
   "cell_type": "code",
   "execution_count": 4,
   "metadata": {},
   "outputs": [
    {
     "data": {
      "text/plain": [
       "(1288, 50, 37)"
      ]
     },
     "execution_count": 4,
     "metadata": {},
     "output_type": "execute_result"
    }
   ],
   "source": [
    "# 1288 images\n",
    "faces.images.shape"
   ]
  },
  {
   "cell_type": "code",
   "execution_count": 5,
   "metadata": {},
   "outputs": [
    {
     "data": {
      "text/plain": [
       "(1288, 1850)"
      ]
     },
     "execution_count": 5,
     "metadata": {},
     "output_type": "execute_result"
    }
   ],
   "source": [
    "# 1288 images flattened, equivalent to to faces.images.reshape(1288,1850)\n",
    "faces.data.shape"
   ]
  },
  {
   "cell_type": "code",
   "execution_count": 13,
   "metadata": {},
   "outputs": [
    {
     "data": {
      "text/plain": [
       "{'data': array([[254.      , 254.      , 251.66667 , ...,  87.333336,  88.666664,\n",
       "          86.666664],\n",
       "        [ 39.666668,  50.333332,  47.      , ..., 117.666664, 115.      ,\n",
       "         133.66667 ],\n",
       "        [ 89.333336, 104.      , 126.      , ..., 175.33333 , 183.33333 ,\n",
       "         183.      ],\n",
       "        ...,\n",
       "        [ 86.      ,  80.333336,  74.666664, ...,  44.      ,  49.666668,\n",
       "          44.666668],\n",
       "        [ 50.333332,  65.666664,  88.      , ..., 197.      , 179.33333 ,\n",
       "         166.33333 ],\n",
       "        [ 30.      ,  27.      ,  32.666668, ...,  35.      ,  35.333332,\n",
       "          61.      ]], dtype=float32),\n",
       " 'images': array([[[254.      , 254.      , 251.66667 , ...,  65.333336,\n",
       "           50.666668,  40.333332],\n",
       "         [253.33333 , 251.33333 , 247.33333 , ...,  66.666664,\n",
       "           52.      ,  42.666668],\n",
       "         [240.66667 , 231.66667 , 211.66667 , ...,  62.      ,\n",
       "           49.      ,  42.      ],\n",
       "         ...,\n",
       "         [ 74.333336,  54.      ,  31.666666, ...,  97.666664,\n",
       "           93.      ,  90.      ],\n",
       "         [ 65.333336,  47.      ,  30.333334, ...,  91.666664,\n",
       "           92.      ,  86.333336],\n",
       "         [ 59.333332,  44.333332,  32.333332, ...,  87.333336,\n",
       "           88.666664,  86.666664]],\n",
       " \n",
       "        [[ 39.666668,  50.333332,  47.      , ...,  61.333332,\n",
       "           51.      ,  38.666668],\n",
       "         [ 47.666668,  63.      ,  65.333336, ...,  57.666668,\n",
       "           55.      ,  44.666668],\n",
       "         [ 55.333332,  76.666664,  86.333336, ...,  71.      ,\n",
       "           48.333332,  43.666668],\n",
       "         ...,\n",
       "         [ 73.666664,  75.666664,  75.333336, ..., 125.666664,\n",
       "          119.666664, 115.333336],\n",
       "         [ 75.333336,  76.333336,  77.      , ..., 124.      ,\n",
       "          116.      , 116.333336],\n",
       "         [ 77.333336,  76.333336,  75.666664, ..., 117.666664,\n",
       "          115.      , 133.66667 ]],\n",
       " \n",
       "        [[ 89.333336, 104.      , 126.      , ..., 150.      ,\n",
       "          150.33333 , 149.      ],\n",
       "         [100.      , 128.      , 143.66667 , ..., 159.33333 ,\n",
       "          151.33333 , 147.33333 ],\n",
       "         [123.666664, 142.66667 , 146.66667 , ..., 161.      ,\n",
       "          152.66667 , 147.33333 ],\n",
       "         ...,\n",
       "         [ 75.666664,  73.666664,  74.      , ..., 123.      ,\n",
       "          168.66667 , 179.      ],\n",
       "         [ 73.      ,  68.666664,  69.333336, ..., 150.      ,\n",
       "          182.      , 181.33333 ],\n",
       "         [ 78.666664,  66.      ,  65.666664, ..., 175.33333 ,\n",
       "          183.33333 , 183.      ]],\n",
       " \n",
       "        ...,\n",
       " \n",
       "        [[ 86.      ,  80.333336,  74.666664, ...,  35.      ,\n",
       "           35.      ,  39.333332],\n",
       "         [ 84.666664,  75.      ,  79.666664, ...,  37.      ,\n",
       "           35.      ,  37.      ],\n",
       "         [ 71.666664,  65.666664,  94.666664, ...,  41.333332,\n",
       "           37.      ,  36.666668],\n",
       "         ...,\n",
       "         [ 92.      ,  88.333336,  87.333336, ...,  66.666664,\n",
       "           79.333336,  94.      ],\n",
       "         [ 86.333336,  86.      ,  88.666664, ...,  46.666668,\n",
       "           58.666668,  64.333336],\n",
       "         [ 77.333336,  78.666664,  81.333336, ...,  44.      ,\n",
       "           49.666668,  44.666668]],\n",
       " \n",
       "        [[ 50.333332,  65.666664,  88.      , ..., 159.      ,\n",
       "          158.66667 , 152.      ],\n",
       "         [ 59.666668,  83.      ,  99.333336, ..., 157.66667 ,\n",
       "          150.66667 , 149.66667 ],\n",
       "         [ 62.      ,  90.666664,  94.333336, ..., 157.33333 ,\n",
       "          145.      , 144.      ],\n",
       "         ...,\n",
       "         [ 59.666668,  60.666668,  62.      , ..., 151.66667 ,\n",
       "          166.66667 , 164.66667 ],\n",
       "         [ 60.333332,  61.333332,  63.      , ..., 187.33333 ,\n",
       "          176.33333 , 167.      ],\n",
       "         [ 61.333332,  61.333332,  62.333332, ..., 197.      ,\n",
       "          179.33333 , 166.33333 ]],\n",
       " \n",
       "        [[ 30.      ,  27.      ,  32.666668, ...,  89.666664,\n",
       "           53.333332,  46.666668],\n",
       "         [ 31.333334,  32.      ,  37.333332, ..., 104.      ,\n",
       "           56.333332,  42.666668],\n",
       "         [ 33.666668,  33.666668,  39.      , ..., 122.666664,\n",
       "           71.333336,  52.      ],\n",
       "         ...,\n",
       "         [ 45.666668,  44.      ,  43.333332, ...,  23.333334,\n",
       "           20.      ,  34.333332],\n",
       "         [ 42.333332,  42.      ,  44.333332, ...,  24.333334,\n",
       "           27.      ,  44.      ],\n",
       "         [ 45.666668,  49.333332,  51.333332, ...,  35.      ,\n",
       "           35.333332,  61.      ]]], dtype=float32),\n",
       " 'target': array([5, 6, 3, ..., 5, 3, 5]),\n",
       " 'target_names': array(['Ariel Sharon', 'Colin Powell', 'Donald Rumsfeld', 'George W Bush',\n",
       "        'Gerhard Schroeder', 'Hugo Chavez', 'Tony Blair'], dtype='<U17'),\n",
       " 'DESCR': \".. _labeled_faces_in_the_wild_dataset:\\n\\nThe Labeled Faces in the Wild face recognition dataset\\n------------------------------------------------------\\n\\nThis dataset is a collection of JPEG pictures of famous people collected\\nover the internet, all details are available on the official website:\\n\\n    http://vis-www.cs.umass.edu/lfw/\\n\\nEach picture is centered on a single face. The typical task is called\\nFace Verification: given a pair of two pictures, a binary classifier\\nmust predict whether the two images are from the same person.\\n\\nAn alternative task, Face Recognition or Face Identification is:\\ngiven the picture of the face of an unknown person, identify the name\\nof the person by referring to a gallery of previously seen pictures of\\nidentified persons.\\n\\nBoth Face Verification and Face Recognition are tasks that are typically\\nperformed on the output of a model trained to perform Face Detection. The\\nmost popular model for Face Detection is called Viola-Jones and is\\nimplemented in the OpenCV library. The LFW faces were extracted by this\\nface detector from various online websites.\\n\\n**Data Set Characteristics:**\\n\\n    =================   =======================\\n    Classes                                5749\\n    Samples total                         13233\\n    Dimensionality                         5828\\n    Features            real, between 0 and 255\\n    =================   =======================\\n\\nUsage\\n~~~~~\\n\\n``scikit-learn`` provides two loaders that will automatically download,\\ncache, parse the metadata files, decode the jpeg and convert the\\ninteresting slices into memmapped numpy arrays. This dataset size is more\\nthan 200 MB. The first load typically takes more than a couple of minutes\\nto fully decode the relevant part of the JPEG files into numpy arrays. If\\nthe dataset has  been loaded once, the following times the loading times\\nless than 200ms by using a memmapped version memoized on the disk in the\\n``~/scikit_learn_data/lfw_home/`` folder using ``joblib``.\\n\\nThe first loader is used for the Face Identification task: a multi-class\\nclassification task (hence supervised learning)::\\n\\n  >>> from sklearn.datasets import fetch_lfw_people\\n  >>> lfw_people = fetch_lfw_people(min_faces_per_person=70, resize=0.4)\\n\\n  >>> for name in lfw_people.target_names:\\n  ...     print(name)\\n  ...\\n  Ariel Sharon\\n  Colin Powell\\n  Donald Rumsfeld\\n  George W Bush\\n  Gerhard Schroeder\\n  Hugo Chavez\\n  Tony Blair\\n\\nThe default slice is a rectangular shape around the face, removing\\nmost of the background::\\n\\n  >>> lfw_people.data.dtype\\n  dtype('float32')\\n\\n  >>> lfw_people.data.shape\\n  (1288, 1850)\\n\\n  >>> lfw_people.images.shape\\n  (1288, 50, 37)\\n\\nEach of the ``1140`` faces is assigned to a single person id in the ``target``\\narray::\\n\\n  >>> lfw_people.target.shape\\n  (1288,)\\n\\n  >>> list(lfw_people.target[:10])\\n  [5, 6, 3, 1, 0, 1, 3, 4, 3, 0]\\n\\nThe second loader is typically used for the face verification task: each sample\\nis a pair of two picture belonging or not to the same person::\\n\\n  >>> from sklearn.datasets import fetch_lfw_pairs\\n  >>> lfw_pairs_train = fetch_lfw_pairs(subset='train')\\n\\n  >>> list(lfw_pairs_train.target_names)\\n  ['Different persons', 'Same person']\\n\\n  >>> lfw_pairs_train.pairs.shape\\n  (2200, 2, 62, 47)\\n\\n  >>> lfw_pairs_train.data.shape\\n  (2200, 5828)\\n\\n  >>> lfw_pairs_train.target.shape\\n  (2200,)\\n\\nBoth for the :func:`sklearn.datasets.fetch_lfw_people` and\\n:func:`sklearn.datasets.fetch_lfw_pairs` function it is\\npossible to get an additional dimension with the RGB color channels by\\npassing ``color=True``, in that case the shape will be\\n``(2200, 2, 62, 47, 3)``.\\n\\nThe :func:`sklearn.datasets.fetch_lfw_pairs` datasets is subdivided into\\n3 subsets: the development ``train`` set, the development ``test`` set and\\nan evaluation ``10_folds`` set meant to compute performance metrics using a\\n10-folds cross validation scheme.\\n\\n.. topic:: References:\\n\\n * `Labeled Faces in the Wild: A Database for Studying Face Recognition\\n   in Unconstrained Environments.\\n   <http://vis-www.cs.umass.edu/lfw/lfw.pdf>`_\\n   Gary B. Huang, Manu Ramesh, Tamara Berg, and Erik Learned-Miller.\\n   University of Massachusetts, Amherst, Technical Report 07-49, October, 2007.\\n\\n\\nExamples\\n~~~~~~~~\\n\\n:ref:`sphx_glr_auto_examples_applications_plot_face_recognition.py`\\n\"}"
      ]
     },
     "execution_count": 13,
     "metadata": {},
     "output_type": "execute_result"
    }
   ],
   "source": [
    "faces"
   ]
  },
  {
   "cell_type": "code",
   "execution_count": 12,
   "metadata": {},
   "outputs": [
    {
     "data": {
      "text/plain": [
       "array([[254.      , 254.      , 251.66667 , ...,  87.333336,  88.666664,\n",
       "         86.666664],\n",
       "       [ 39.666668,  50.333332,  47.      , ..., 117.666664, 115.      ,\n",
       "        133.66667 ],\n",
       "       [ 89.333336, 104.      , 126.      , ..., 175.33333 , 183.33333 ,\n",
       "        183.      ],\n",
       "       ...,\n",
       "       [ 86.      ,  80.333336,  74.666664, ...,  44.      ,  49.666668,\n",
       "         44.666668],\n",
       "       [ 50.333332,  65.666664,  88.      , ..., 197.      , 179.33333 ,\n",
       "        166.33333 ],\n",
       "       [ 30.      ,  27.      ,  32.666668, ...,  35.      ,  35.333332,\n",
       "         61.      ]], dtype=float32)"
      ]
     },
     "execution_count": 12,
     "metadata": {},
     "output_type": "execute_result"
    }
   ],
   "source": [
    "faces.data\n",
    "#dans mon dictionnaire j'ai un dataframe qui s'appelle data"
   ]
  },
  {
   "cell_type": "code",
   "execution_count": 11,
   "metadata": {},
   "outputs": [
    {
     "data": {
      "text/plain": [
       "array([[254.      , 254.      , 251.66667 , ...,  87.333336,  88.666664,\n",
       "         86.666664],\n",
       "       [ 39.666668,  50.333332,  47.      , ..., 117.666664, 115.      ,\n",
       "        133.66667 ],\n",
       "       [ 89.333336, 104.      , 126.      , ..., 175.33333 , 183.33333 ,\n",
       "        183.      ],\n",
       "       ...,\n",
       "       [ 86.      ,  80.333336,  74.666664, ...,  44.      ,  49.666668,\n",
       "         44.666668],\n",
       "       [ 50.333332,  65.666664,  88.      , ..., 197.      , 179.33333 ,\n",
       "        166.33333 ],\n",
       "       [ 30.      ,  27.      ,  32.666668, ...,  35.      ,  35.333332,\n",
       "         61.      ]], dtype=float32)"
      ]
     },
     "execution_count": 11,
     "metadata": {},
     "output_type": "execute_result"
    }
   ],
   "source": [
    "faces['data']"
   ]
  },
  {
   "cell_type": "code",
   "execution_count": 6,
   "metadata": {},
   "outputs": [
    {
     "data": {
      "text/plain": [
       "array([5, 6, 3, ..., 5, 3, 5])"
      ]
     },
     "execution_count": 6,
     "metadata": {},
     "output_type": "execute_result"
    }
   ],
   "source": [
    "faces.target"
   ]
  },
  {
   "cell_type": "code",
   "execution_count": 7,
   "metadata": {},
   "outputs": [
    {
     "data": {
      "image/png": "[encoded data removed]",
      "text/plain": [
       "<Figure size 504x720 with 15 Axes>"
      ]
     },
     "metadata": {},
     "output_type": "display_data"
    }
   ],
   "source": [
    "# Let’s visualize some faces.\n",
    "import matplotlib.pyplot as plt\n",
    "fig = plt.figure(figsize=(7,10))\n",
    "for i in range(15):\n",
    "    plt.subplot(5, 5, i + 1)\n",
    "    plt.title(faces.target_names[faces.target[i]], size=12)\n",
    "    plt.imshow(faces.images[i], cmap=plt.cm.gray)\n",
    "    plt.xticks(())\n",
    "    plt.yticks(())"
   ]
  },
  {
   "cell_type": "markdown",
   "metadata": {},
   "source": [
    "## Compress images with PCA"
   ]
  },
  {
   "cell_type": "markdown",
   "metadata": {},
   "source": [
    "In this scikit dataset we have 50 × 37 pixel images (1850 dimensions!). Often, so many dimensions is a lot to train algorithms we studied in the previous exercises (for example SVM). \n",
    "\n",
    "That's why we use PCA to reduce these features to a more manageable size, while maintaining most of the information of the dataset.\n",
    "\n",
    "__👉 Apply PCA to the dataset (both fit and transform), to reduce dimensions to 150, by setting `n_components=150`__. Put your transformation into a variable named `data_projected`"
   ]
  },
  {
   "cell_type": "code",
   "execution_count": 15,
   "metadata": {
    "tags": [
     "challengify"
    ]
   },
   "outputs": [
    {
     "data": {
      "text/plain": [
       "array([[   92.421394 ,    93.40681  ,   225.70383  , ...,    44.562103 ,\n",
       "           57.319542 ,   -29.08454  ],\n",
       "       [  646.10315  ,  -496.72903  ,   290.80954  , ...,     4.9083757,\n",
       "          -23.061821 ,    12.061969 ],\n",
       "       [ -488.29584  ,  -194.56212  ,  -374.94574  , ...,   -35.788857 ,\n",
       "          -37.638016 ,    25.038136 ],\n",
       "       ...,\n",
       "       [ 1221.9855   ,   244.1128   ,  -111.04751  , ...,   -55.620834 ,\n",
       "           44.320198 ,    -8.313362 ],\n",
       "       [-1234.8043   ,  -407.62952  ,   330.6361   , ...,     8.741535 ,\n",
       "          -25.473158 ,     8.582735 ],\n",
       "       [  382.34573  ,   -98.23669  ,   290.00754  , ...,     3.108625 ,\n",
       "          -33.744057 ,     6.26436  ]], dtype=float32)"
      ]
     },
     "execution_count": 15,
     "metadata": {},
     "output_type": "execute_result"
    }
   ],
   "source": [
    "# YOUR CODE HERE\n",
    "from sklearn.decomposition import PCA\n",
    "pca = PCA(n_components=150)\n",
    "data_projected = pca.fit_transform(faces['data'])\n",
    "data_projected"
   ]
  },
  {
   "cell_type": "markdown",
   "metadata": {},
   "source": [
    "The face dataset was projected onto only the first 150 principal components! Again, what we call components are directions of most variance of the dataset. \n",
    "\n",
    "It means that now, we don't need 1850 pixels anymore to describe each images but just 150 values. A gain by factor 12.\n",
    "\n",
    "__How is that possible?__\n",
    "\n",
    "- The pca has found to be the most representative directions of what distinguishes faces between each other with just 150 values for every image. \n",
    "\n",
    "- They are the directions of most variance. \n",
    "\n",
    "- You can access them in `pca.components_`\n",
    "\n",
    "👉  Look at the first component of this array of components, and its shape"
   ]
  },
  {
   "cell_type": "code",
   "execution_count": 124,
   "metadata": {},
   "outputs": [
    {
     "data": {
      "text/plain": [
       "array([[-8.7770922e-03, -9.3219876e-03, -1.0703985e-02, ...,\n",
       "        -1.2502352e-02, -1.1178405e-02, -1.0232723e-02],\n",
       "       [ 2.1796409e-02,  1.9876087e-02,  2.1215448e-02, ...,\n",
       "        -4.6622727e-02, -4.5771729e-02, -4.4418432e-02],\n",
       "       [ 2.4928359e-02,  2.3176823e-02,  2.2085350e-02, ...,\n",
       "         5.6272484e-02,  4.9405511e-02,  4.5221671e-02],\n",
       "       ...,\n",
       "       [-2.8138550e-02, -1.1944102e-02,  2.4812650e-02, ...,\n",
       "         5.2570507e-02,  2.4519099e-02,  3.9021741e-03],\n",
       "       [-7.4342075e-05,  7.1322089e-03,  6.6940100e-03, ...,\n",
       "        -5.4653469e-02, -2.6361879e-02,  6.2887751e-02],\n",
       "       [-1.9014966e-02, -7.8041074e-03, -3.7269683e-03, ...,\n",
       "         1.4869580e-02,  4.4224594e-02,  3.2550085e-02]], dtype=float32)"
      ]
     },
     "execution_count": 124,
     "metadata": {},
     "output_type": "execute_result"
    }
   ],
   "source": [
    "pca.components_"
   ]
  },
  {
   "cell_type": "code",
   "execution_count": 18,
   "metadata": {
    "tags": [
     "challengify"
    ]
   },
   "outputs": [
    {
     "data": {
      "text/plain": [
       "(1850,)"
      ]
     },
     "execution_count": 18,
     "metadata": {},
     "output_type": "execute_result"
    }
   ],
   "source": [
    "# YOUR CODE HERE\n",
    "# prendre les 150 features \n",
    "pca.components_[0].shape\n",
    "#150 vecteurs, mes images sont de dimension 1850\n"
   ]
  },
  {
   "cell_type": "markdown",
   "metadata": {},
   "source": [
    "As you can see, it's a vector of 1850 values. We have now 150 components of 1850 values each.\n",
    "\n",
    "One face is now described as a combination (sum) of those components.\n",
    "\n",
    "Let's reconstruct one image from its reduced representation to see how it works.\n",
    "\n",
    "👉 Use `inverse_transform` on your `data_projected` to reconstruct a `data_reconstructed` dataset"
   ]
  },
  {
   "cell_type": "code",
   "execution_count": 28,
   "metadata": {
    "tags": [
     "challengify"
    ]
   },
   "outputs": [
    {
     "data": {
      "text/plain": [
       "(1288, 1850)"
      ]
     },
     "execution_count": 28,
     "metadata": {},
     "output_type": "execute_result"
    }
   ],
   "source": [
    "# YOUR CODE HERE\n",
    "data_reconstructed = pca.inverse_transform(data_projected) \n"
   ]
  },
  {
   "cell_type": "markdown",
   "metadata": {},
   "source": [
    "👉 Plot the 13th picture (Gearge W Bush) of the reconstructed dataset, and compare it with the original one. \n",
    "\n",
    "<details>\n",
    "    <summary>💡Hint</summary>\n",
    "\n",
    "You'll have to reshape the flattened data into an \"image\" of dimension 2\n",
    "</details>"
   ]
  },
  {
   "cell_type": "code",
   "execution_count": 35,
   "metadata": {
    "tags": [
     "challengify"
    ]
   },
   "outputs": [
    {
     "data": {
      "text/plain": [
       "<matplotlib.image.AxesImage at 0x1369c9d90>"
      ]
     },
     "execution_count": 35,
     "metadata": {},
     "output_type": "execute_result"
    },
    {
     "data": {
      "image/png": "[encoded data removed]",
      "text/plain": [
       "<Figure size 432x288 with 1 Axes>"
      ]
     },
     "metadata": {
      "needs_background": "light"
     },
     "output_type": "display_data"
    }
   ],
   "source": [
    "# YOUR CODE HERE\n",
    "#on accède à la 13eme valeurs de ma liste qui correspond à bush\n",
    "plt.imshow(data_reconstructed[12].reshape(50,37),cmap=plt.cm.gray)"
   ]
  },
  {
   "cell_type": "markdown",
   "metadata": {},
   "source": [
    "### 🧪 Test your code"
   ]
  },
  {
   "cell_type": "code",
   "execution_count": 36,
   "metadata": {},
   "outputs": [
    {
     "name": "stdout",
     "output_type": "stream",
     "text": [
      "\u001b[1m============================= test session starts ==============================\u001b[0m\n",
      "platform darwin -- Python 3.8.12, pytest-6.2.5, py-1.10.0, pluggy-1.0.0 -- /Users/selmalopez/.pyenv/versions/lewagon_current/bin/python3\n",
      "cachedir: .pytest_cache\n",
      "rootdir: /Users/selmalopez/code/selmalopez/data-challenges/05-ML/06-Unsupervised-Learning/02-Face-Recognition\n",
      "plugins: dash-2.0.0, anyio-3.3.2\n",
      "\u001b[1mcollecting ... \u001b[0mcollected 1 item\n",
      "\n",
      "tests/test_projection.py::TestProjection::test_shape \u001b[32mPASSED\u001b[0m\u001b[32m              [100%]\u001b[0m\n",
      "\n",
      "\u001b[32m============================== \u001b[32m\u001b[1m1 passed\u001b[0m\u001b[32m in 0.07s\u001b[0m\u001b[32m ===============================\u001b[0m\n",
      "\n",
      "\n",
      "💯 You can commit your code:\n",
      "\n",
      "\u001b[1;32mgit\u001b[39m add tests/projection.pickle\n",
      "\n",
      "\u001b[32mgit\u001b[39m commit -m \u001b[33m'Completed projection step'\u001b[39m\n",
      "\n",
      "\u001b[32mgit\u001b[39m push origin master\n"
     ]
    }
   ],
   "source": [
    "from nbresult import ChallengeResult\n",
    "\n",
    "result = ChallengeResult('projection', shape=data_projected.shape)\n",
    "result.write()\n",
    "print(result.check())"
   ]
  },
  {
   "cell_type": "markdown",
   "metadata": {},
   "source": [
    "👉 (Optional) study the code below which reconstruct the image step by step without `inverse_transform`. \n",
    "\n",
    "Instead, we do manually the multiplication $X_{reconstructed} = X_{projected} W$ with $W$ being the `pca.components_` matrix of 150 PC in rows expressed as linear combination of 1850 pixels in columns\n"
   ]
  },
  {
   "cell_type": "code",
   "execution_count": 20,
   "metadata": {},
   "outputs": [
    {
     "data": {
      "image/png": "[encoded data removed]",
      "text/plain": [
       "<Figure size 360x360 with 2 Axes>"
      ]
     },
     "metadata": {
      "needs_background": "light"
     },
     "output_type": "display_data"
    }
   ],
   "source": [
    "num_dimensions = 150\n",
    "\n",
    "# We do our reconstruction over the 13th image\n",
    "image_original = faces.images[12];\n",
    "image_compressed = data_projected[12];\n",
    "\n",
    "# we start the reconstruction from the mean over all images (feel free to print mean face to check!)\n",
    "image_reconstructed = pca.mean_.copy(); \n",
    "\n",
    "# Then, reconstruct the image by doing the sum of every 150 entry of its compressed representation,\n",
    "# weighted by the corresponding principal components\n",
    "for i in range(num_dimensions):\n",
    "    image_reconstructed += pca.components_[i] * image_compressed[i]\n",
    "    \n",
    "# Plot the original and the compressed image.\n",
    "fig, ax = plt.subplots(1, 2, figsize = (5,5))\n",
    "ax[0].imshow(image_original, cmap=plt.cm.gray)\n",
    "ax[0].set_title('Original Image')\n",
    "ax[1].imshow(image_reconstructed.reshape(faces.images[0].shape), cmap=plt.cm.gray)\n",
    "ax[1].set_title('Compressed reconstructed Image')\n",
    "for ax in fig.axes:\n",
    "    ax.axis('off')\n",
    "plt.tight_layout()"
   ]
  },
  {
   "cell_type": "markdown",
   "metadata": {},
   "source": [
    "## Investigate your Principal Components"
   ]
  },
  {
   "cell_type": "markdown",
   "metadata": {},
   "source": [
    "👉 Image-plot the \"mean\" face of the dataset\n",
    "\n",
    "<details>\n",
    "    <summary>💡Hint</summary>\n",
    "\n",
    "\n",
    "You can use `pca.mean_` or `faces.data.mean(axis=0)`\n",
    "</details>\n"
   ]
  },
  {
   "cell_type": "code",
   "execution_count": 38,
   "metadata": {},
   "outputs": [
    {
     "data": {
      "text/plain": [
       "array([ 92.70909,  97.7074 , 107.88405, ..., 120.61822, 113.31209,\n",
       "       105.59517], dtype=float32)"
      ]
     },
     "execution_count": 38,
     "metadata": {},
     "output_type": "execute_result"
    }
   ],
   "source": [
    "faces.data.mean(axis=0)"
   ]
  },
  {
   "cell_type": "code",
   "execution_count": 37,
   "metadata": {
    "tags": [
     "challengify"
    ]
   },
   "outputs": [
    {
     "data": {
      "text/plain": [
       "array([ 92.70909,  97.7074 , 107.88405, ..., 120.61822, 113.31209,\n",
       "       105.59517], dtype=float32)"
      ]
     },
     "execution_count": 37,
     "metadata": {},
     "output_type": "execute_result"
    }
   ],
   "source": [
    "# YOUR CODE HERE\n",
    "pca = PCA(n_components=150)\n",
    "pca.mean_"
   ]
  },
  {
   "cell_type": "markdown",
   "metadata": {},
   "source": [
    "👉 Access your first PC. What's its shape? Print it as pd.Series or NDarray. What does each values represents?"
   ]
  },
  {
   "cell_type": "code",
   "execution_count": 50,
   "metadata": {
    "tags": [
     "challengify"
    ]
   },
   "outputs": [
    {
     "data": {
      "text/plain": [
       "(1850, 1)"
      ]
     },
     "execution_count": 50,
     "metadata": {},
     "output_type": "execute_result"
    }
   ],
   "source": [
    "# YOUR CODE HERE\n",
    "pd.DataFrame(pca.components_[0]).shape"
   ]
  },
  {
   "cell_type": "markdown",
   "metadata": {},
   "source": [
    "Each PC is a flatten \"image\" of 1850 pixels\n",
    "\n",
    "- Your first PC are the most important \"directions\" on of your 1850-dimension dataset.\n",
    "\n",
    "- They are the most important \"linear combination of your 1850 pixels\".\n",
    "\n",
    "- The ones which preserves the most \"variance\" when your dataset of pictures is projected onto it.\n",
    "\n",
    "- The first few PCs are the regions of the 2D pixel grid that bear the most differences between your 1288 images"
   ]
  },
  {
   "cell_type": "markdown",
   "metadata": {},
   "source": [
    "👉 Image-Plot the **5 first** principal components, as well as the **last** one.\n",
    "Do you see more intuitively what PC are? "
   ]
  },
  {
   "cell_type": "code",
   "execution_count": 78,
   "metadata": {
    "tags": [
     "challengify"
    ]
   },
   "outputs": [
    {
     "data": {
      "image/png": "[encoded data removed]",
      "text/plain": [
       "<Figure size 720x1008 with 6 Axes>"
      ]
     },
     "metadata": {
      "needs_background": "light"
     },
     "output_type": "display_data"
    }
   ],
   "source": [
    "# YOUR CODE HERE\n",
    "fig = plt.figure(figsize=(10,14))\n",
    "for i in range(0,6):\n",
    "    plt.subplot(5, 5, i + 1)\n",
    "    plt.imshow(pca.components_[i].reshape(50,37),cmap=plt.cm.gray)"
   ]
  },
  {
   "cell_type": "markdown",
   "metadata": {},
   "source": [
    "Every image can be represented by the \"mean face\" plus a linear combination of the 150 \"PC faces\"."
   ]
  },
  {
   "cell_type": "markdown",
   "metadata": {},
   "source": [
    "## How to Choose the Number of Components?\n",
    "\n",
    "In practice, it is very important to find how many components are needed to describe the data without losing too much information. This can be determined visually by plotting the cumulative sum of `explained_variance_ratio_` as a function of the number of components.\n",
    " \n",
    "👉 Plot it below for the first 150 components"
   ]
  },
  {
   "cell_type": "code",
   "execution_count": 70,
   "metadata": {
    "tags": [
     "challengify"
    ]
   },
   "outputs": [
    {
     "data": {
      "text/plain": [
       "array([1.])"
      ]
     },
     "execution_count": 70,
     "metadata": {},
     "output_type": "execute_result"
    }
   ],
   "source": [
    "# YOUR CODE HERE\n",
    "explained_variance_ratio_ = data_projected.std()**2 / ((data_projected.std()**2).cumsum())\n",
    "explained_variance_ratio_"
   ]
  },
  {
   "cell_type": "code",
   "execution_count": 71,
   "metadata": {},
   "outputs": [
    {
     "data": {
      "text/plain": [
       "array([0.18831764, 0.15066996, 0.07269001, 0.06034761, 0.05140398,\n",
       "       0.03032947, 0.02475532, 0.02107429, 0.02037348, 0.01916663,\n",
       "       0.01615011, 0.01504797, 0.01231834, 0.01079173, 0.01052914,\n",
       "       0.00978116, 0.00921124, 0.00878475, 0.00824299, 0.00713981,\n",
       "       0.00684672, 0.00655544, 0.0061341 , 0.00589635, 0.00542287,\n",
       "       0.00529274, 0.00505279, 0.0047892 , 0.00458215, 0.00423686,\n",
       "       0.00388917, 0.00371457, 0.00360875, 0.00349722, 0.00340279,\n",
       "       0.00321915, 0.00317491, 0.00301395, 0.00291113, 0.00279419,\n",
       "       0.0027767 , 0.00272101, 0.00259859, 0.00255515, 0.00238043,\n",
       "       0.00235594, 0.00233285, 0.00224394, 0.00219193, 0.00216221,\n",
       "       0.00210703, 0.00204842, 0.00198605, 0.00193043, 0.00192493,\n",
       "       0.00188259, 0.00178824, 0.00176901, 0.00172966, 0.00171373,\n",
       "       0.00163413, 0.00159547, 0.00156317, 0.00152295, 0.00150197,\n",
       "       0.0014588 , 0.00143406, 0.00141541, 0.00139657, 0.00139132,\n",
       "       0.00133426, 0.00130171, 0.00129649, 0.00126014, 0.0012328 ,\n",
       "       0.00122112, 0.00120223, 0.00118245, 0.00116852, 0.00114405,\n",
       "       0.00114079, 0.00110847, 0.00110708, 0.00106462, 0.00105404,\n",
       "       0.00102516, 0.00101841, 0.00099914, 0.00097779, 0.00096962,\n",
       "       0.00095679, 0.00093727, 0.00091801, 0.00090165, 0.000884  ,\n",
       "       0.00088108, 0.00086031, 0.00084069, 0.00083573, 0.00081653,\n",
       "       0.00081056, 0.00079191, 0.00077783, 0.00076406, 0.00074951,\n",
       "       0.00074334, 0.00072547, 0.00071474, 0.00070408, 0.00068997,\n",
       "       0.00068702, 0.00068119, 0.00066707, 0.00066215, 0.0006553 ,\n",
       "       0.00064739, 0.00063451, 0.00061843, 0.00061101, 0.00060234,\n",
       "       0.00059583, 0.00058573, 0.00057174, 0.0005609 , 0.00055827,\n",
       "       0.00054531, 0.00054094, 0.00053868, 0.00053372, 0.00051779,\n",
       "       0.00051345, 0.0005096 , 0.00050162, 0.00049625, 0.00048744,\n",
       "       0.00047793, 0.00047239, 0.00046406, 0.0004571 , 0.00045039,\n",
       "       0.00044672, 0.00043579, 0.00043486, 0.000426  , 0.00041789,\n",
       "       0.00041437, 0.00040934, 0.00040456, 0.00039734, 0.00039348],\n",
       "      dtype=float32)"
      ]
     },
     "execution_count": 71,
     "metadata": {},
     "output_type": "execute_result"
    }
   ],
   "source": [
    "pca.explained_variance_ratio_"
   ]
  },
  {
   "cell_type": "code",
   "execution_count": 76,
   "metadata": {},
   "outputs": [
    {
     "data": {
      "image/png": "[encoded data removed]",
      "text/plain": [
       "<Figure size 432x288 with 1 Axes>"
      ]
     },
     "metadata": {
      "needs_background": "light"
     },
     "output_type": "display_data"
    }
   ],
   "source": [
    "plt.plot(pca.explained_variance_ratio_.cumsum())\n",
    "plt.xlabel('Principal Component'); plt.ylabel('% explained variance');"
   ]
  },
  {
   "cell_type": "markdown",
   "metadata": {},
   "source": [
    "This curve quantifies how much of the total variance is contained within the first components. For example:\n",
    "- The first 20 components contain more than 75% of the variance,\n",
    "- while we need about only 70 components to describe 90% of the variance!"
   ]
  },
  {
   "cell_type": "markdown",
   "metadata": {},
   "source": [
    "**❓ What is the minimal number of components you need to keep to get _at least_ 80% of the variance?  Assign the value to a variable called `minimal_pc_count`**  "
   ]
  },
  {
   "cell_type": "code",
   "execution_count": 83,
   "metadata": {
    "tags": [
     "challengify"
    ]
   },
   "outputs": [],
   "source": [
    "# YOUR CODE HERE\n",
    "minimal_pc_count = 30"
   ]
  },
  {
   "cell_type": "markdown",
   "metadata": {},
   "source": [
    "### 🧪 Test your code"
   ]
  },
  {
   "cell_type": "code",
   "execution_count": 84,
   "metadata": {},
   "outputs": [
    {
     "name": "stdout",
     "output_type": "stream",
     "text": [
      "\u001b[1m============================= test session starts ==============================\u001b[0m\n",
      "platform darwin -- Python 3.8.12, pytest-6.2.5, py-1.10.0, pluggy-1.0.0 -- /Users/selmalopez/.pyenv/versions/lewagon_current/bin/python3\n",
      "cachedir: .pytest_cache\n",
      "rootdir: /Users/selmalopez/code/selmalopez/data-challenges/05-ML/06-Unsupervised-Learning/02-Face-Recognition\n",
      "plugins: dash-2.0.0, anyio-3.3.2\n",
      "\u001b[1mcollecting ... \u001b[0mcollected 1 item\n",
      "\n",
      "tests/test_components.py::TestComponents::test_minimal_pc \u001b[32mPASSED\u001b[0m\u001b[32m         [100%]\u001b[0m\n",
      "\n",
      "\u001b[32m============================== \u001b[32m\u001b[1m1 passed\u001b[0m\u001b[32m in 0.04s\u001b[0m\u001b[32m ===============================\u001b[0m\n",
      "\n",
      "\n",
      "💯 You can commit your code:\n",
      "\n",
      "\u001b[1;32mgit\u001b[39m add tests/components.pickle\n",
      "\n",
      "\u001b[32mgit\u001b[39m commit -m \u001b[33m'Completed components step'\u001b[39m\n",
      "\n",
      "\u001b[32mgit\u001b[39m push origin master\n"
     ]
    }
   ],
   "source": [
    "from nbresult import ChallengeResult\n",
    "\n",
    "result = ChallengeResult('components', min_pc = minimal_pc_count)\n",
    "result.write()\n",
    "print(result.check())"
   ]
  },
  {
   "cell_type": "markdown",
   "metadata": {},
   "source": [
    "## Classify images (PCA as feature engineering)\n",
    "\n",
    "You have this dataset of faces and you want to build a face recognition engine to predict `faces.target` which is annotation of every face to the corresponding person (as a number index)\n",
    "\n",
    "You can now use this low-dimensional new transformation you just created, that is still representative of the faces to train your supervised algorithm!"
   ]
  },
  {
   "cell_type": "markdown",
   "metadata": {},
   "source": [
    "### Train test split the face dataset\n",
    "\n",
    "👉 Use the train test split function from scikit to separate __the original faces dataset__ into training and testing set, `X_train`, `X_test`, `y_train`, `y_test`"
   ]
  },
  {
   "cell_type": "code",
   "execution_count": 98,
   "metadata": {
    "tags": [
     "challengify"
    ]
   },
   "outputs": [],
   "source": [
    "# YOUR CODE HERE\n",
    "from sklearn.model_selection import train_test_split\n",
    "#mon X est le face.data et mon Y le face.target\n",
    "X_train, X_test, y_train, y_test = train_test_split(faces.data, faces.target, test_size=0.33, random_state=42) \n",
    "from sklearn.decomposition import PCA\n",
    "\n",
    "pca = PCA(n_components=150).fit(X_train)\n",
    "X_train_transformed = pca.transform(X_train)"
   ]
  },
  {
   "cell_type": "markdown",
   "metadata": {},
   "source": [
    "### Transform your training set to reduce the number of dimensions / features"
   ]
  },
  {
   "cell_type": "markdown",
   "metadata": {},
   "source": [
    "👉 Fit a PCA __over the training data only__ and transform your training data into the reduced dimension (150 features for example)."
   ]
  },
  {
   "cell_type": "code",
   "execution_count": 125,
   "metadata": {
    "tags": [
     "challengify"
    ]
   },
   "outputs": [],
   "source": [
    "# YOUR CODE HERE\n",
    "pca.fit(X_train)\n",
    "X_train_transform = pca.transform(X_train)"
   ]
  },
  {
   "cell_type": "markdown",
   "metadata": {},
   "source": [
    "👉 Using this same PCA (only trained on the training set) transform your testing set as well"
   ]
  },
  {
   "cell_type": "code",
   "execution_count": 101,
   "metadata": {
    "tags": [
     "challengify"
    ]
   },
   "outputs": [
    {
     "data": {
      "text/plain": [
       "array([[ -908.71533  , -1197.8276   ,  -378.7068   , ...,   -29.884224 ,\n",
       "          -26.652332 ,     6.3210897],\n",
       "       [ -610.72974  ,   926.77545  ,  -298.43866  , ...,    40.68524  ,\n",
       "           43.4546   ,     3.6237679],\n",
       "       [ -587.3799   ,  -217.27228  ,  -521.0599   , ...,    47.34642  ,\n",
       "            8.36241  ,    14.13628  ],\n",
       "       ...,\n",
       "       [-1165.6803   ,   799.58856  ,  -520.89355  , ...,   -32.738617 ,\n",
       "          -21.808834 ,    -9.678864 ],\n",
       "       [  762.0667   ,     6.3836746,  -347.83194  , ...,     6.4960256,\n",
       "          -17.89993  ,   -56.63598  ],\n",
       "       [ -277.29532  ,  -171.01233  ,  -118.01958  , ...,   -13.7303295,\n",
       "           26.24778  ,   -16.044825 ]], dtype=float32)"
      ]
     },
     "execution_count": 101,
     "metadata": {},
     "output_type": "execute_result"
    }
   ],
   "source": [
    "# YOUR CODE HERE\n",
    "pca.transform(X_test)"
   ]
  },
  {
   "cell_type": "markdown",
   "metadata": {},
   "source": [
    "### Cross validate your choice of best hyperparameters"
   ]
  },
  {
   "cell_type": "markdown",
   "metadata": {},
   "source": [
    "👉 Call a cross validated grid search for an SVM, where you loop over all combinations of\n",
    "\n",
    "- kernels\n",
    "- \"C between 10 and 10000\n",
    "- \"gamma\" between 0.0001 and 0.1\n",
    "\n",
    "👉 Use `n_jobs=-1` to make use of all your core CPUs\n",
    "\n",
    "👉 Use `f1_weighted` as the performance metric"
   ]
  },
  {
   "cell_type": "markdown",
   "metadata": {},
   "source": [
    "<details>\n",
    "    <summary>🔎 Hint </summary>\n",
    "    Remember the task at hand calls for classification, have a look at the <a src=https://scikit-learn.org/stable/modules/generated/sklearn.svm.SVC.html#sklearn.svm.SVC>Support Vector Classification </a> class.\n",
    "</details>"
   ]
  },
  {
   "cell_type": "code",
   "execution_count": 130,
   "metadata": {
    "tags": [
     "challengify"
    ]
   },
   "outputs": [
    {
     "data": {
      "text/plain": [
       "SVC(C=10, class_weight='balanced', gamma=0.0001, kernel='linear')"
      ]
     },
     "execution_count": 130,
     "metadata": {},
     "output_type": "execute_result"
    }
   ],
   "source": [
    "# YOUR CODE HERE\n",
    "from sklearn.svm import SVC\n",
    "from sklearn.model_selection import GridSearchCV\n",
    "from sklearn.model_selection import cross_validate\n",
    "model = SVC()\n",
    "param_grid = {'kernel':['linear', 'rbf'],'C':[10, 200, 500, 10000,10000],\"gamma\":[0.0001, 0.0005, 0.001, 0.005, 0.01, 0.1]}\n",
    "\n",
    "#Instanciate Grid Search\n",
    "search_svm_rbf = GridSearchCV(SVC(class_weight=\"balanced\"), param_grid,scoring = 'f1_weighted',cv = 5,n_jobs=-1) # paralellize computation\n",
    "             \n",
    "search_svm_rbf.fit(X_train, y_train);\n",
    "svm_rbf_best = search_svm_rbf.best_estimator_\n",
    "svm_rbf_best "
   ]
  },
  {
   "cell_type": "markdown",
   "metadata": {},
   "source": [
    "👉 Train that cross validation grid search over our newly transformed training set. (Long computation)"
   ]
  },
  {
   "cell_type": "code",
   "execution_count": 114,
   "metadata": {
    "tags": [
     "challengify"
    ]
   },
   "outputs": [],
   "source": [
    "# YOUR CODE HERE\n"
   ]
  },
  {
   "cell_type": "markdown",
   "metadata": {},
   "source": [
    "👉 Print the [classification report](https://scikit-learn.org/stable/modules/generated/sklearn.metrics.classification_report.html#sklearn.metrics.classification_report) of your best model over the testing set "
   ]
  },
  {
   "cell_type": "code",
   "execution_count": 116,
   "metadata": {
    "tags": [
     "challengify"
    ]
   },
   "outputs": [
    {
     "name": "stdout",
     "output_type": "stream",
     "text": [
      "              precision    recall  f1-score   support\n",
      "\n",
      "           0       0.62      0.76      0.68        21\n",
      "           1       0.84      0.89      0.86        79\n",
      "           2       0.69      0.76      0.72        38\n",
      "           3       0.90      0.89      0.90       179\n",
      "           4       0.81      0.79      0.80        33\n",
      "           5       0.83      0.65      0.73        23\n",
      "           6       0.82      0.75      0.78        53\n",
      "\n",
      "    accuracy                           0.83       426\n",
      "   macro avg       0.79      0.78      0.78       426\n",
      "weighted avg       0.84      0.83      0.83       426\n",
      "\n"
     ]
    }
   ],
   "source": [
    "# YOUR CODE HERE\n",
    "from sklearn.metrics import classification_report\n",
    "y_pred = search_svm_rbf.predict(X_test)\n",
    "print(classification_report(y_test, y_pred))"
   ]
  },
  {
   "cell_type": "markdown",
   "metadata": {},
   "source": [
    "👉 Try to improve this score with the best choice of PCA components"
   ]
  },
  {
   "cell_type": "markdown",
   "metadata": {},
   "source": [
    "<details>\n",
    "    <summary>💡 Hint</summary>\n",
    "    \n",
    "- Try to pipeline your preprocessing (PCA) and your modelling (SVC)\n",
    "- A pipeline is an instance of Scikit-Learn `Estimator` which hyperparameters can be grid searched\n",
    "- Consider `n_components` as an hyperparameter of your pipeline!\n",
    "    \n",
    "</details>"
   ]
  },
  {
   "cell_type": "code",
   "execution_count": 123,
   "metadata": {
    "tags": [
     "challengify"
    ]
   },
   "outputs": [],
   "source": [
    "# YOUR CODE HERE\n",
    "from sklearn.svm import SVC\n",
    "from sklearn.pipeline import Pipeline\n",
    "from sklearn.pipeline import make_pipeline\n",
    "from sklearn.svm import SVC\n",
    "\n",
    "#pipeline(preproc, model_xgb)\n",
    "pipe = make_pipeline(PCA(),SVC(class_weight=\"balanced\"))\n",
    "param_grid = {\n",
    "    \"pca__n_components\": range(200, 600, 1),\n",
    "    \"svc__kernel\": [\"linear\"],\n",
    "    \"svc__C\": [10],#[10, 20, 50, 100, 200, 500, 1000, 2000, 5000],\n",
    "    \"svc__gamma\": [0.0001]#[0.0001, 0.0005, 0.001, 0.005, 0.01, 0.1],\n",
    "}\n",
    "from sklearn.model_selection import GridSearchCV\n",
    "\n",
    "clf = GridSearchCV(pipe, param_grid, cv=5, n_jobs=-1, scoring='f1_weighted')"
   ]
  },
  {
   "cell_type": "markdown",
   "metadata": {},
   "source": [
    "**❓ How many components give the best score?  Assign the value to a variable called `best_n_components`**"
   ]
  },
  {
   "cell_type": "code",
   "execution_count": 121,
   "metadata": {
    "tags": [
     "challengify"
    ]
   },
   "outputs": [],
   "source": [
    "# YOUR CODE HERE\n",
    "best_n_components = 258"
   ]
  },
  {
   "cell_type": "markdown",
   "metadata": {},
   "source": [
    "### 🧪 Test your code"
   ]
  },
  {
   "cell_type": "code",
   "execution_count": 122,
   "metadata": {},
   "outputs": [
    {
     "name": "stdout",
     "output_type": "stream",
     "text": [
      "\u001b[1m============================= test session starts ==============================\u001b[0m\n",
      "platform darwin -- Python 3.8.12, pytest-6.2.5, py-1.10.0, pluggy-1.0.0 -- /Users/selmalopez/.pyenv/versions/lewagon_current/bin/python3\n",
      "cachedir: .pytest_cache\n",
      "rootdir: /Users/selmalopez/code/selmalopez/data-challenges/05-ML/06-Unsupervised-Learning/02-Face-Recognition\n",
      "plugins: dash-2.0.0, anyio-3.3.2\n",
      "\u001b[1mcollecting ... \u001b[0mcollected 1 item\n",
      "\n",
      "tests/test_classification.py::TestClassification::test_best_pc_number \u001b[32mPASSED\u001b[0m\u001b[32m [100%]\u001b[0m\n",
      "\n",
      "\u001b[32m============================== \u001b[32m\u001b[1m1 passed\u001b[0m\u001b[32m in 0.06s\u001b[0m\u001b[32m ===============================\u001b[0m\n",
      "\n",
      "\n",
      "💯 You can commit your code:\n",
      "\n",
      "\u001b[1;32mgit\u001b[39m add tests/classification.pickle\n",
      "\n",
      "\u001b[32mgit\u001b[39m commit -m \u001b[33m'Completed classification step'\u001b[39m\n",
      "\n",
      "\u001b[32mgit\u001b[39m push origin master\n"
     ]
    }
   ],
   "source": [
    "from nbresult import ChallengeResult\n",
    "\n",
    "result = ChallengeResult('classification', best_pc=best_n_components)\n",
    "result.write()\n",
    "print(result.check())"
   ]
  },
  {
   "cell_type": "markdown",
   "metadata": {},
   "source": [
    "🏁 **Congratulation! Don't forget to commit and push your notebook**"
   ]
  }
 ],
 "metadata": {
  "kernelspec": {
   "display_name": "Python 3 (ipykernel)",
   "language": "python",
   "name": "python3"
  },
  "language_info": {
   "codemirror_mode": {
    "name": "ipython",
    "version": 3
   },
   "file_extension": ".py",
   "mimetype": "text/x-python",
   "name": "python",
   "nbconvert_exporter": "python",
   "pygments_lexer": "ipython3",
   "version": "3.8.12"
  },
  "toc": {
   "base_numbering": 1,
   "nav_menu": {},
   "number_sections": true,
   "sideBar": true,
   "skip_h1_title": false,
   "title_cell": "Table of Contents",
   "title_sidebar": "Contents",
   "toc_cell": false,
   "toc_position": {},
   "toc_section_display": true,
   "toc_window_display": false
  }
 },
 "nbformat": 4,
 "nbformat_minor": 2
}
