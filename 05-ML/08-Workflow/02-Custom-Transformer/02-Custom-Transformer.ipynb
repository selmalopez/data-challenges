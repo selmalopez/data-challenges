{
 "cells": [
  {
   "cell_type": "markdown",
   "metadata": {},
   "source": [
    "# Custom Transformer"
   ]
  },
  {
   "cell_type": "code",
   "execution_count": 1,
   "metadata": {
    "ExecuteTime": {
     "end_time": "2021-10-30T10:50:18.865028Z",
     "start_time": "2021-10-30T10:50:17.191473Z"
    }
   },
   "outputs": [],
   "source": [
    "import seaborn as sns\n",
    "import pandas as pd\n",
    "import numpy as np\n",
    "from sklearn import set_config; set_config(display='diagram')"
   ]
  },
  {
   "cell_type": "markdown",
   "metadata": {},
   "source": [
    "👇 Consider the following dataset"
   ]
  },
  {
   "cell_type": "code",
   "execution_count": 2,
   "metadata": {
    "ExecuteTime": {
     "end_time": "2021-10-30T10:50:18.886502Z",
     "start_time": "2021-10-30T10:50:18.867324Z"
    }
   },
   "outputs": [
    {
     "data": {
      "text/html": [
       "<div>\n",
       "<style scoped>\n",
       "    .dataframe tbody tr th:only-of-type {\n",
       "        vertical-align: middle;\n",
       "    }\n",
       "\n",
       "    .dataframe tbody tr th {\n",
       "        vertical-align: top;\n",
       "    }\n",
       "\n",
       "    .dataframe thead th {\n",
       "        text-align: right;\n",
       "    }\n",
       "</style>\n",
       "<table border=\"1\" class=\"dataframe\">\n",
       "  <thead>\n",
       "    <tr style=\"text-align: right;\">\n",
       "      <th></th>\n",
       "      <th>customer_state</th>\n",
       "      <th>seller_state</th>\n",
       "      <th>product_weight_g</th>\n",
       "      <th>product_length_cm</th>\n",
       "      <th>product_height_cm</th>\n",
       "      <th>product_width_cm</th>\n",
       "      <th>days_until_delivery</th>\n",
       "    </tr>\n",
       "  </thead>\n",
       "  <tbody>\n",
       "    <tr>\n",
       "      <th>0</th>\n",
       "      <td>RJ</td>\n",
       "      <td>SP</td>\n",
       "      <td>1825</td>\n",
       "      <td>53</td>\n",
       "      <td>10</td>\n",
       "      <td>40</td>\n",
       "      <td>9</td>\n",
       "    </tr>\n",
       "    <tr>\n",
       "      <th>1</th>\n",
       "      <td>RJ</td>\n",
       "      <td>SP</td>\n",
       "      <td>700</td>\n",
       "      <td>65</td>\n",
       "      <td>18</td>\n",
       "      <td>28</td>\n",
       "      <td>9</td>\n",
       "    </tr>\n",
       "    <tr>\n",
       "      <th>2</th>\n",
       "      <td>RJ</td>\n",
       "      <td>SP</td>\n",
       "      <td>1825</td>\n",
       "      <td>53</td>\n",
       "      <td>10</td>\n",
       "      <td>40</td>\n",
       "      <td>11</td>\n",
       "    </tr>\n",
       "    <tr>\n",
       "      <th>3</th>\n",
       "      <td>RJ</td>\n",
       "      <td>SP</td>\n",
       "      <td>1825</td>\n",
       "      <td>53</td>\n",
       "      <td>10</td>\n",
       "      <td>40</td>\n",
       "      <td>12</td>\n",
       "    </tr>\n",
       "    <tr>\n",
       "      <th>4</th>\n",
       "      <td>RJ</td>\n",
       "      <td>SP</td>\n",
       "      <td>1825</td>\n",
       "      <td>53</td>\n",
       "      <td>10</td>\n",
       "      <td>40</td>\n",
       "      <td>14</td>\n",
       "    </tr>\n",
       "  </tbody>\n",
       "</table>\n",
       "</div>"
      ],
      "text/plain": [
       "  customer_state seller_state  product_weight_g  product_length_cm  \\\n",
       "0             RJ           SP              1825                 53   \n",
       "1             RJ           SP               700                 65   \n",
       "2             RJ           SP              1825                 53   \n",
       "3             RJ           SP              1825                 53   \n",
       "4             RJ           SP              1825                 53   \n",
       "\n",
       "   product_height_cm  product_width_cm  days_until_delivery  \n",
       "0                 10                40                    9  \n",
       "1                 18                28                    9  \n",
       "2                 10                40                   11  \n",
       "3                 10                40                   12  \n",
       "4                 10                40                   14  "
      ]
     },
     "execution_count": 2,
     "metadata": {},
     "output_type": "execute_result"
    }
   ],
   "source": [
    "import pandas as pd\n",
    "\n",
    "data = pd.read_csv(\"data.csv\")\n",
    "data.head()"
   ]
  },
  {
   "cell_type": "markdown",
   "metadata": {},
   "source": [
    "- Each observation of the dataset represents an item being delivered from a  `seller_state` to a `customer_state`. \n",
    "- Other columns describe the packaging properties of each item.\n",
    "\n",
    "🎯 The target is the number of days between the order and the delivery."
   ]
  },
  {
   "cell_type": "code",
   "execution_count": 3,
   "metadata": {
    "ExecuteTime": {
     "end_time": "2021-10-30T10:50:19.191696Z",
     "start_time": "2021-10-30T10:50:18.890019Z"
    }
   },
   "outputs": [
    {
     "data": {
      "text/plain": [
       "<AxesSubplot:xlabel='days_until_delivery', ylabel='Count'>"
      ]
     },
     "execution_count": 3,
     "metadata": {},
     "output_type": "execute_result"
    },
    {
     "data": {
      "image/png": "[encoded data removed]",
      "text/plain": [
       "<Figure size 432x288 with 1 Axes>"
      ]
     },
     "metadata": {
      "needs_background": "light"
     },
     "output_type": "display_data"
    }
   ],
   "source": [
    "# Check target\n",
    "sns.histplot(data.days_until_delivery)"
   ]
  },
  {
   "cell_type": "markdown",
   "metadata": {},
   "source": [
    "## 1. Pipeline"
   ]
  },
  {
   "cell_type": "markdown",
   "metadata": {},
   "source": [
    "👇 Create a scikit-learn pipeline named `pipe`:\n",
    "\n",
    "- Engineer a `volume` feature from the dimensions features\n",
    "- Preserve the original product dimensions features for training\n",
    "- Scale all numerical features\n",
    "- Encode the categorical features\n",
    "- Add a default `Ridge` regression estimator"
   ]
  },
  {
   "cell_type": "markdown",
   "metadata": {},
   "source": [
    "<details><summary>Hints</summary>\n",
    "\n",
    "- There are many ways to create your preprocessed matrix (using `ColumnTransformer` and/or `FeatureUnion`). \n",
    "    \n",
    "- If your transformed feature matrix look wierd, it may be stored as \"sparse\" by the default behavior of `OneHotEncoder(sparse=True)`. Use `.todense()` to turn it back to a dense matrix\n",
    "\n",
    "</details>"
   ]
  },
  {
   "cell_type": "code",
   "execution_count": 15,
   "metadata": {},
   "outputs": [],
   "source": [
    "# YOUR CODE HERE\n",
    "#imports\n",
    "from sklearn.pipeline import Pipeline\n",
    "from sklearn.model_selection import GridSearchCV\n",
    "from sklearn.preprocessing import OneHotEncoder #Encode features as a one-hot numeric array.\n",
    "from sklearn.compose import ColumnTransformer \n",
    "from sklearn.linear_model import Ridge\n",
    "from sklearn.preprocessing import RobustScaler\n",
    "from sklearn.impute import SimpleImputer\n",
    "from sklearn.preprocessing import FunctionTransformer\n",
    "from sklearn.pipeline import make_pipeline\n",
    "from sklearn.pipeline import make_union\n",
    "from sklearn.compose import make_column_transformer, make_column_selector"
   ]
  },
  {
   "cell_type": "code",
   "execution_count": 30,
   "metadata": {},
   "outputs": [],
   "source": [
    "# type prepocessing \n",
    "num_transformer = make_pipeline(SimpleImputer(),  RobustScaler())\n",
    "cat_transformer =  OneHotEncoder(handle_unknown='ignore', sparse=False)\n",
    "\n",
    "# transformer mes colonnes selon les deux méthod num_transformer ou cat_transformer\n",
    "\n",
    "preproc_basic = make_column_transformer(\n",
    "(num_transformer, make_column_selector(dtype_include=['int64'])),\n",
    "(cat_transformer, make_column_selector(dtype_include=['object']))\n",
    ")\n",
    "\n",
    "#target : number of days between the order and the delivery\n",
    "X = data.drop(columns='days_until_delivery')\n",
    "y = data.days_until_delivery.copy()\n",
    "\n",
    "\n",
    "volume_transformer = FunctionTransformer(\n",
    "    lambda df : pd.DataFrame(\n",
    "        df['product_length_cm']*df['product_height_cm']*df['product_width_cm']\n",
    "    )\n",
    ")\n",
    "\n",
    "\n",
    "\n",
    "#preprocessor = ColumnTransformer([\n",
    "   # ('', pipe, ['','']),\n",
    "    #('', cat_transformer, ['', ''])])"
   ]
  },
  {
   "cell_type": "code",
   "execution_count": 31,
   "metadata": {},
   "outputs": [
    {
     "data": {
      "text/html": [
       "<style>#sk-a04475cf-5f1a-4bd5-a137-5dda42281b7d {color: black;background-color: white;}#sk-a04475cf-5f1a-4bd5-a137-5dda42281b7d pre{padding: 0;}#sk-a04475cf-5f1a-4bd5-a137-5dda42281b7d div.sk-toggleable {background-color: white;}#sk-a04475cf-5f1a-4bd5-a137-5dda42281b7d label.sk-toggleable__label {cursor: pointer;display: block;width: 100%;margin-bottom: 0;padding: 0.3em;box-sizing: border-box;text-align: center;}#sk-a04475cf-5f1a-4bd5-a137-5dda42281b7d div.sk-toggleable__content {max-height: 0;max-width: 0;overflow: hidden;text-align: left;background-color: #f0f8ff;}#sk-a04475cf-5f1a-4bd5-a137-5dda42281b7d div.sk-toggleable__content pre {margin: 0.2em;color: black;border-radius: 0.25em;background-color: #f0f8ff;}#sk-a04475cf-5f1a-4bd5-a137-5dda42281b7d input.sk-toggleable__control:checked~div.sk-toggleable__content {max-height: 200px;max-width: 100%;overflow: auto;}#sk-a04475cf-5f1a-4bd5-a137-5dda42281b7d div.sk-estimator input.sk-toggleable__control:checked~label.sk-toggleable__label {background-color: #d4ebff;}#sk-a04475cf-5f1a-4bd5-a137-5dda42281b7d div.sk-label input.sk-toggleable__control:checked~label.sk-toggleable__label {background-color: #d4ebff;}#sk-a04475cf-5f1a-4bd5-a137-5dda42281b7d input.sk-hidden--visually {border: 0;clip: rect(1px 1px 1px 1px);clip: rect(1px, 1px, 1px, 1px);height: 1px;margin: -1px;overflow: hidden;padding: 0;position: absolute;width: 1px;}#sk-a04475cf-5f1a-4bd5-a137-5dda42281b7d div.sk-estimator {font-family: monospace;background-color: #f0f8ff;border: 1px dotted black;border-radius: 0.25em;box-sizing: border-box;margin-bottom: 0.5em;}#sk-a04475cf-5f1a-4bd5-a137-5dda42281b7d div.sk-estimator:hover {background-color: #d4ebff;}#sk-a04475cf-5f1a-4bd5-a137-5dda42281b7d div.sk-parallel-item::after {content: \"\";width: 100%;border-bottom: 1px solid gray;flex-grow: 1;}#sk-a04475cf-5f1a-4bd5-a137-5dda42281b7d div.sk-label:hover label.sk-toggleable__label {background-color: #d4ebff;}#sk-a04475cf-5f1a-4bd5-a137-5dda42281b7d div.sk-serial::before {content: \"\";position: absolute;border-left: 1px solid gray;box-sizing: border-box;top: 2em;bottom: 0;left: 50%;}#sk-a04475cf-5f1a-4bd5-a137-5dda42281b7d div.sk-serial {display: flex;flex-direction: column;align-items: center;background-color: white;padding-right: 0.2em;padding-left: 0.2em;}#sk-a04475cf-5f1a-4bd5-a137-5dda42281b7d div.sk-item {z-index: 1;}#sk-a04475cf-5f1a-4bd5-a137-5dda42281b7d div.sk-parallel {display: flex;align-items: stretch;justify-content: center;background-color: white;}#sk-a04475cf-5f1a-4bd5-a137-5dda42281b7d div.sk-parallel::before {content: \"\";position: absolute;border-left: 1px solid gray;box-sizing: border-box;top: 2em;bottom: 0;left: 50%;}#sk-a04475cf-5f1a-4bd5-a137-5dda42281b7d div.sk-parallel-item {display: flex;flex-direction: column;position: relative;background-color: white;}#sk-a04475cf-5f1a-4bd5-a137-5dda42281b7d div.sk-parallel-item:first-child::after {align-self: flex-end;width: 50%;}#sk-a04475cf-5f1a-4bd5-a137-5dda42281b7d div.sk-parallel-item:last-child::after {align-self: flex-start;width: 50%;}#sk-a04475cf-5f1a-4bd5-a137-5dda42281b7d div.sk-parallel-item:only-child::after {width: 0;}#sk-a04475cf-5f1a-4bd5-a137-5dda42281b7d div.sk-dashed-wrapped {border: 1px dashed gray;margin: 0 0.4em 0.5em 0.4em;box-sizing: border-box;padding-bottom: 0.4em;background-color: white;position: relative;}#sk-a04475cf-5f1a-4bd5-a137-5dda42281b7d div.sk-label label {font-family: monospace;font-weight: bold;background-color: white;display: inline-block;line-height: 1.2em;}#sk-a04475cf-5f1a-4bd5-a137-5dda42281b7d div.sk-label-container {position: relative;z-index: 2;text-align: center;}#sk-a04475cf-5f1a-4bd5-a137-5dda42281b7d div.sk-container {display: inline-block;position: relative;}</style><div id=\"sk-a04475cf-5f1a-4bd5-a137-5dda42281b7d\" class\"sk-top-container\"><div class=\"sk-container\"><div class=\"sk-item sk-dashed-wrapped\"><div class=\"sk-label-container\"><div class=\"sk-label sk-toggleable\"><input class=\"sk-toggleable__control sk-hidden--visually\" id=\"c5cb66e4-923c-4082-a02b-b2dcb86d6636\" type=\"checkbox\" ><label class=\"sk-toggleable__label\" for=\"c5cb66e4-923c-4082-a02b-b2dcb86d6636\">FeatureUnion</label><div class=\"sk-toggleable__content\"><pre>FeatureUnion(transformer_list=[('functiontransformer',\n",
       "                                FunctionTransformer(func=<function <lambda> at 0x137d9f790>)),\n",
       "                               ('columntransformer',\n",
       "                                ColumnTransformer(transformers=[('pipeline',\n",
       "                                                                 Pipeline(steps=[('simpleimputer',\n",
       "                                                                                  SimpleImputer()),\n",
       "                                                                                 ('robustscaler',\n",
       "                                                                                  RobustScaler())]),\n",
       "                                                                 <sklearn.compose._column_transformer.make_column_selector object at 0x136f7b490>),\n",
       "                                                                ('onehotencoder',\n",
       "                                                                 OneHotEncoder(handle_unknown='ignore',\n",
       "                                                                               sparse=False),\n",
       "                                                                 <sklearn.compose._column_transformer.make_column_selector object at 0x136f7b820>)]))])</pre></div></div></div><div class=\"sk-parallel\"><div class=\"sk-parallel-item\"><div class=\"sk-item\"><div class=\"sk-label-container\"><div class=\"sk-label sk-toggleable\"><label>functiontransformer</label></div></div><div class=\"sk-serial\"><div class=\"sk-item\"><div class=\"sk-estimator sk-toggleable\"><input class=\"sk-toggleable__control sk-hidden--visually\" id=\"5e5bfc79-ffcd-4cd4-b892-e22beddc10ae\" type=\"checkbox\" ><label class=\"sk-toggleable__label\" for=\"5e5bfc79-ffcd-4cd4-b892-e22beddc10ae\">FunctionTransformer</label><div class=\"sk-toggleable__content\"><pre>FunctionTransformer(func=<function <lambda> at 0x137d9f790>)</pre></div></div></div></div></div></div><div class=\"sk-parallel-item\"><div class=\"sk-item\"><div class=\"sk-label-container\"><div class=\"sk-label sk-toggleable\"><label>columntransformer</label></div></div><div class=\"sk-serial\"><div class=\"sk-item sk-dashed-wrapped\"><div class=\"sk-parallel\"><div class=\"sk-parallel-item\"><div class=\"sk-item\"><div class=\"sk-label-container\"><div class=\"sk-label sk-toggleable\"><input class=\"sk-toggleable__control sk-hidden--visually\" id=\"00f12c1f-3c34-4f6e-a25f-0453fcc5c14c\" type=\"checkbox\" ><label class=\"sk-toggleable__label\" for=\"00f12c1f-3c34-4f6e-a25f-0453fcc5c14c\">pipeline</label><div class=\"sk-toggleable__content\"><pre><sklearn.compose._column_transformer.make_column_selector object at 0x136f7b490></pre></div></div></div><div class=\"sk-serial\"><div class=\"sk-item\"><div class=\"sk-serial\"><div class=\"sk-item\"><div class=\"sk-estimator sk-toggleable\"><input class=\"sk-toggleable__control sk-hidden--visually\" id=\"0cc3ba52-2de1-47ee-bb59-e889ebcf6498\" type=\"checkbox\" ><label class=\"sk-toggleable__label\" for=\"0cc3ba52-2de1-47ee-bb59-e889ebcf6498\">SimpleImputer</label><div class=\"sk-toggleable__content\"><pre>SimpleImputer()</pre></div></div></div><div class=\"sk-item\"><div class=\"sk-estimator sk-toggleable\"><input class=\"sk-toggleable__control sk-hidden--visually\" id=\"8de487ad-a807-4a64-b6b4-46b67556712c\" type=\"checkbox\" ><label class=\"sk-toggleable__label\" for=\"8de487ad-a807-4a64-b6b4-46b67556712c\">RobustScaler</label><div class=\"sk-toggleable__content\"><pre>RobustScaler()</pre></div></div></div></div></div></div></div></div><div class=\"sk-parallel-item\"><div class=\"sk-item\"><div class=\"sk-label-container\"><div class=\"sk-label sk-toggleable\"><input class=\"sk-toggleable__control sk-hidden--visually\" id=\"a391673a-ecf2-4afa-85f5-8f716c3022e8\" type=\"checkbox\" ><label class=\"sk-toggleable__label\" for=\"a391673a-ecf2-4afa-85f5-8f716c3022e8\">onehotencoder</label><div class=\"sk-toggleable__content\"><pre><sklearn.compose._column_transformer.make_column_selector object at 0x136f7b820></pre></div></div></div><div class=\"sk-serial\"><div class=\"sk-item\"><div class=\"sk-estimator sk-toggleable\"><input class=\"sk-toggleable__control sk-hidden--visually\" id=\"3642a59e-e8e2-4b80-9f46-e18abe564579\" type=\"checkbox\" ><label class=\"sk-toggleable__label\" for=\"3642a59e-e8e2-4b80-9f46-e18abe564579\">OneHotEncoder</label><div class=\"sk-toggleable__content\"><pre>OneHotEncoder(handle_unknown='ignore', sparse=False)</pre></div></div></div></div></div></div></div></div></div></div></div></div></div></div></div>"
      ],
      "text/plain": [
       "FeatureUnion(transformer_list=[('functiontransformer',\n",
       "                                FunctionTransformer(func=<function <lambda> at 0x137d9f790>)),\n",
       "                               ('columntransformer',\n",
       "                                ColumnTransformer(transformers=[('pipeline',\n",
       "                                                                 Pipeline(steps=[('simpleimputer',\n",
       "                                                                                  SimpleImputer()),\n",
       "                                                                                 ('robustscaler',\n",
       "                                                                                  RobustScaler())]),\n",
       "                                                                 <sklearn.compose._column_transformer.make_column_selector object at 0x136f7b490>),\n",
       "                                                                ('onehotencoder',\n",
       "                                                                 OneHotEncoder(handle_unknown='ignore',\n",
       "                                                                               sparse=False),\n",
       "                                                                 <sklearn.compose._column_transformer.make_column_selector object at 0x136f7b820>)]))])"
      ]
     },
     "execution_count": 31,
     "metadata": {},
     "output_type": "execute_result"
    }
   ],
   "source": [
    "preproc_full = make_union(volume_transformer, preproc_basic)\n",
    "preproc_full"
   ]
  },
  {
   "cell_type": "code",
   "execution_count": 33,
   "metadata": {},
   "outputs": [
    {
     "data": {
      "text/html": [
       "<div>\n",
       "<style scoped>\n",
       "    .dataframe tbody tr th:only-of-type {\n",
       "        vertical-align: middle;\n",
       "    }\n",
       "\n",
       "    .dataframe tbody tr th {\n",
       "        vertical-align: top;\n",
       "    }\n",
       "\n",
       "    .dataframe thead th {\n",
       "        text-align: right;\n",
       "    }\n",
       "</style>\n",
       "<table border=\"1\" class=\"dataframe\">\n",
       "  <thead>\n",
       "    <tr style=\"text-align: right;\">\n",
       "      <th></th>\n",
       "      <th>0</th>\n",
       "      <th>1</th>\n",
       "      <th>2</th>\n",
       "      <th>3</th>\n",
       "      <th>4</th>\n",
       "      <th>5</th>\n",
       "      <th>6</th>\n",
       "      <th>7</th>\n",
       "      <th>8</th>\n",
       "      <th>9</th>\n",
       "      <th>...</th>\n",
       "      <th>22</th>\n",
       "      <th>23</th>\n",
       "      <th>24</th>\n",
       "      <th>25</th>\n",
       "      <th>26</th>\n",
       "      <th>27</th>\n",
       "      <th>28</th>\n",
       "      <th>29</th>\n",
       "      <th>30</th>\n",
       "      <th>31</th>\n",
       "    </tr>\n",
       "  </thead>\n",
       "  <tbody>\n",
       "    <tr>\n",
       "      <th>0</th>\n",
       "      <td>21200.0</td>\n",
       "      <td>-0.660217</td>\n",
       "      <td>0.000000</td>\n",
       "      <td>-1.000000</td>\n",
       "      <td>0.642857</td>\n",
       "      <td>0.0</td>\n",
       "      <td>0.0</td>\n",
       "      <td>0.0</td>\n",
       "      <td>0.0</td>\n",
       "      <td>0.0</td>\n",
       "      <td>...</td>\n",
       "      <td>1.0</td>\n",
       "      <td>0.0</td>\n",
       "      <td>0.0</td>\n",
       "      <td>0.0</td>\n",
       "      <td>0.0</td>\n",
       "      <td>0.0</td>\n",
       "      <td>0.0</td>\n",
       "      <td>0.0</td>\n",
       "      <td>0.0</td>\n",
       "      <td>1.0</td>\n",
       "    </tr>\n",
       "    <tr>\n",
       "      <th>1</th>\n",
       "      <td>32760.0</td>\n",
       "      <td>-0.768520</td>\n",
       "      <td>1.000000</td>\n",
       "      <td>-0.804878</td>\n",
       "      <td>-0.214286</td>\n",
       "      <td>0.0</td>\n",
       "      <td>0.0</td>\n",
       "      <td>0.0</td>\n",
       "      <td>0.0</td>\n",
       "      <td>0.0</td>\n",
       "      <td>...</td>\n",
       "      <td>1.0</td>\n",
       "      <td>0.0</td>\n",
       "      <td>0.0</td>\n",
       "      <td>0.0</td>\n",
       "      <td>0.0</td>\n",
       "      <td>0.0</td>\n",
       "      <td>0.0</td>\n",
       "      <td>0.0</td>\n",
       "      <td>0.0</td>\n",
       "      <td>1.0</td>\n",
       "    </tr>\n",
       "    <tr>\n",
       "      <th>2</th>\n",
       "      <td>21200.0</td>\n",
       "      <td>-0.660217</td>\n",
       "      <td>0.000000</td>\n",
       "      <td>-1.000000</td>\n",
       "      <td>0.642857</td>\n",
       "      <td>0.0</td>\n",
       "      <td>0.0</td>\n",
       "      <td>0.0</td>\n",
       "      <td>0.0</td>\n",
       "      <td>0.0</td>\n",
       "      <td>...</td>\n",
       "      <td>1.0</td>\n",
       "      <td>0.0</td>\n",
       "      <td>0.0</td>\n",
       "      <td>0.0</td>\n",
       "      <td>0.0</td>\n",
       "      <td>0.0</td>\n",
       "      <td>0.0</td>\n",
       "      <td>0.0</td>\n",
       "      <td>0.0</td>\n",
       "      <td>1.0</td>\n",
       "    </tr>\n",
       "    <tr>\n",
       "      <th>3</th>\n",
       "      <td>21200.0</td>\n",
       "      <td>-0.660217</td>\n",
       "      <td>0.000000</td>\n",
       "      <td>-1.000000</td>\n",
       "      <td>0.642857</td>\n",
       "      <td>0.0</td>\n",
       "      <td>0.0</td>\n",
       "      <td>0.0</td>\n",
       "      <td>0.0</td>\n",
       "      <td>0.0</td>\n",
       "      <td>...</td>\n",
       "      <td>1.0</td>\n",
       "      <td>0.0</td>\n",
       "      <td>0.0</td>\n",
       "      <td>0.0</td>\n",
       "      <td>0.0</td>\n",
       "      <td>0.0</td>\n",
       "      <td>0.0</td>\n",
       "      <td>0.0</td>\n",
       "      <td>0.0</td>\n",
       "      <td>1.0</td>\n",
       "    </tr>\n",
       "    <tr>\n",
       "      <th>4</th>\n",
       "      <td>21200.0</td>\n",
       "      <td>-0.660217</td>\n",
       "      <td>0.000000</td>\n",
       "      <td>-1.000000</td>\n",
       "      <td>0.642857</td>\n",
       "      <td>0.0</td>\n",
       "      <td>0.0</td>\n",
       "      <td>0.0</td>\n",
       "      <td>0.0</td>\n",
       "      <td>0.0</td>\n",
       "      <td>...</td>\n",
       "      <td>1.0</td>\n",
       "      <td>0.0</td>\n",
       "      <td>0.0</td>\n",
       "      <td>0.0</td>\n",
       "      <td>0.0</td>\n",
       "      <td>0.0</td>\n",
       "      <td>0.0</td>\n",
       "      <td>0.0</td>\n",
       "      <td>0.0</td>\n",
       "      <td>1.0</td>\n",
       "    </tr>\n",
       "    <tr>\n",
       "      <th>...</th>\n",
       "      <td>...</td>\n",
       "      <td>...</td>\n",
       "      <td>...</td>\n",
       "      <td>...</td>\n",
       "      <td>...</td>\n",
       "      <td>...</td>\n",
       "      <td>...</td>\n",
       "      <td>...</td>\n",
       "      <td>...</td>\n",
       "      <td>...</td>\n",
       "      <td>...</td>\n",
       "      <td>...</td>\n",
       "      <td>...</td>\n",
       "      <td>...</td>\n",
       "      <td>...</td>\n",
       "      <td>...</td>\n",
       "      <td>...</td>\n",
       "      <td>...</td>\n",
       "      <td>...</td>\n",
       "      <td>...</td>\n",
       "      <td>...</td>\n",
       "    </tr>\n",
       "    <tr>\n",
       "      <th>995</th>\n",
       "      <td>87696.0</td>\n",
       "      <td>0.781420</td>\n",
       "      <td>0.833333</td>\n",
       "      <td>0.170732</td>\n",
       "      <td>-0.500000</td>\n",
       "      <td>0.0</td>\n",
       "      <td>0.0</td>\n",
       "      <td>0.0</td>\n",
       "      <td>0.0</td>\n",
       "      <td>0.0</td>\n",
       "      <td>...</td>\n",
       "      <td>1.0</td>\n",
       "      <td>0.0</td>\n",
       "      <td>0.0</td>\n",
       "      <td>0.0</td>\n",
       "      <td>0.0</td>\n",
       "      <td>0.0</td>\n",
       "      <td>0.0</td>\n",
       "      <td>0.0</td>\n",
       "      <td>0.0</td>\n",
       "      <td>1.0</td>\n",
       "    </tr>\n",
       "    <tr>\n",
       "      <th>996</th>\n",
       "      <td>25200.0</td>\n",
       "      <td>-0.770927</td>\n",
       "      <td>-1.083333</td>\n",
       "      <td>-0.804878</td>\n",
       "      <td>0.285714</td>\n",
       "      <td>0.0</td>\n",
       "      <td>0.0</td>\n",
       "      <td>0.0</td>\n",
       "      <td>0.0</td>\n",
       "      <td>0.0</td>\n",
       "      <td>...</td>\n",
       "      <td>0.0</td>\n",
       "      <td>0.0</td>\n",
       "      <td>0.0</td>\n",
       "      <td>1.0</td>\n",
       "      <td>0.0</td>\n",
       "      <td>0.0</td>\n",
       "      <td>0.0</td>\n",
       "      <td>0.0</td>\n",
       "      <td>0.0</td>\n",
       "      <td>1.0</td>\n",
       "    </tr>\n",
       "    <tr>\n",
       "      <th>997</th>\n",
       "      <td>23625.0</td>\n",
       "      <td>-0.638556</td>\n",
       "      <td>-0.666667</td>\n",
       "      <td>-0.878049</td>\n",
       "      <td>0.285714</td>\n",
       "      <td>0.0</td>\n",
       "      <td>0.0</td>\n",
       "      <td>0.0</td>\n",
       "      <td>0.0</td>\n",
       "      <td>0.0</td>\n",
       "      <td>...</td>\n",
       "      <td>1.0</td>\n",
       "      <td>0.0</td>\n",
       "      <td>0.0</td>\n",
       "      <td>0.0</td>\n",
       "      <td>0.0</td>\n",
       "      <td>0.0</td>\n",
       "      <td>0.0</td>\n",
       "      <td>0.0</td>\n",
       "      <td>0.0</td>\n",
       "      <td>1.0</td>\n",
       "    </tr>\n",
       "    <tr>\n",
       "      <th>998</th>\n",
       "      <td>45084.0</td>\n",
       "      <td>0.006450</td>\n",
       "      <td>-0.083333</td>\n",
       "      <td>0.000000</td>\n",
       "      <td>-1.000000</td>\n",
       "      <td>0.0</td>\n",
       "      <td>0.0</td>\n",
       "      <td>0.0</td>\n",
       "      <td>1.0</td>\n",
       "      <td>0.0</td>\n",
       "      <td>...</td>\n",
       "      <td>0.0</td>\n",
       "      <td>0.0</td>\n",
       "      <td>0.0</td>\n",
       "      <td>0.0</td>\n",
       "      <td>0.0</td>\n",
       "      <td>0.0</td>\n",
       "      <td>0.0</td>\n",
       "      <td>0.0</td>\n",
       "      <td>0.0</td>\n",
       "      <td>1.0</td>\n",
       "    </tr>\n",
       "    <tr>\n",
       "      <th>999</th>\n",
       "      <td>81000.0</td>\n",
       "      <td>0.307774</td>\n",
       "      <td>-0.250000</td>\n",
       "      <td>0.219512</td>\n",
       "      <td>-0.285714</td>\n",
       "      <td>0.0</td>\n",
       "      <td>0.0</td>\n",
       "      <td>0.0</td>\n",
       "      <td>0.0</td>\n",
       "      <td>0.0</td>\n",
       "      <td>...</td>\n",
       "      <td>0.0</td>\n",
       "      <td>0.0</td>\n",
       "      <td>0.0</td>\n",
       "      <td>0.0</td>\n",
       "      <td>0.0</td>\n",
       "      <td>0.0</td>\n",
       "      <td>1.0</td>\n",
       "      <td>0.0</td>\n",
       "      <td>0.0</td>\n",
       "      <td>1.0</td>\n",
       "    </tr>\n",
       "  </tbody>\n",
       "</table>\n",
       "<p>1000 rows × 32 columns</p>\n",
       "</div>"
      ],
      "text/plain": [
       "          0         1         2         3         4    5    6    7    8    9   \\\n",
       "0    21200.0 -0.660217  0.000000 -1.000000  0.642857  0.0  0.0  0.0  0.0  0.0   \n",
       "1    32760.0 -0.768520  1.000000 -0.804878 -0.214286  0.0  0.0  0.0  0.0  0.0   \n",
       "2    21200.0 -0.660217  0.000000 -1.000000  0.642857  0.0  0.0  0.0  0.0  0.0   \n",
       "3    21200.0 -0.660217  0.000000 -1.000000  0.642857  0.0  0.0  0.0  0.0  0.0   \n",
       "4    21200.0 -0.660217  0.000000 -1.000000  0.642857  0.0  0.0  0.0  0.0  0.0   \n",
       "..       ...       ...       ...       ...       ...  ...  ...  ...  ...  ...   \n",
       "995  87696.0  0.781420  0.833333  0.170732 -0.500000  0.0  0.0  0.0  0.0  0.0   \n",
       "996  25200.0 -0.770927 -1.083333 -0.804878  0.285714  0.0  0.0  0.0  0.0  0.0   \n",
       "997  23625.0 -0.638556 -0.666667 -0.878049  0.285714  0.0  0.0  0.0  0.0  0.0   \n",
       "998  45084.0  0.006450 -0.083333  0.000000 -1.000000  0.0  0.0  0.0  1.0  0.0   \n",
       "999  81000.0  0.307774 -0.250000  0.219512 -0.285714  0.0  0.0  0.0  0.0  0.0   \n",
       "\n",
       "     ...   22   23   24   25   26   27   28   29   30   31  \n",
       "0    ...  1.0  0.0  0.0  0.0  0.0  0.0  0.0  0.0  0.0  1.0  \n",
       "1    ...  1.0  0.0  0.0  0.0  0.0  0.0  0.0  0.0  0.0  1.0  \n",
       "2    ...  1.0  0.0  0.0  0.0  0.0  0.0  0.0  0.0  0.0  1.0  \n",
       "3    ...  1.0  0.0  0.0  0.0  0.0  0.0  0.0  0.0  0.0  1.0  \n",
       "4    ...  1.0  0.0  0.0  0.0  0.0  0.0  0.0  0.0  0.0  1.0  \n",
       "..   ...  ...  ...  ...  ...  ...  ...  ...  ...  ...  ...  \n",
       "995  ...  1.0  0.0  0.0  0.0  0.0  0.0  0.0  0.0  0.0  1.0  \n",
       "996  ...  0.0  0.0  0.0  1.0  0.0  0.0  0.0  0.0  0.0  1.0  \n",
       "997  ...  1.0  0.0  0.0  0.0  0.0  0.0  0.0  0.0  0.0  1.0  \n",
       "998  ...  0.0  0.0  0.0  0.0  0.0  0.0  0.0  0.0  0.0  1.0  \n",
       "999  ...  0.0  0.0  0.0  0.0  0.0  0.0  1.0  0.0  0.0  1.0  \n",
       "\n",
       "[1000 rows x 32 columns]"
      ]
     },
     "execution_count": 33,
     "metadata": {},
     "output_type": "execute_result"
    }
   ],
   "source": [
    "pd.DataFrame(preproc_full.fit_transform(X))"
   ]
  },
  {
   "cell_type": "code",
   "execution_count": 36,
   "metadata": {},
   "outputs": [
    {
     "data": {
      "text/html": [
       "<style>#sk-a0c5bcdb-606f-4a8f-98b3-ba76b3f63eef {color: black;background-color: white;}#sk-a0c5bcdb-606f-4a8f-98b3-ba76b3f63eef pre{padding: 0;}#sk-a0c5bcdb-606f-4a8f-98b3-ba76b3f63eef div.sk-toggleable {background-color: white;}#sk-a0c5bcdb-606f-4a8f-98b3-ba76b3f63eef label.sk-toggleable__label {cursor: pointer;display: block;width: 100%;margin-bottom: 0;padding: 0.3em;box-sizing: border-box;text-align: center;}#sk-a0c5bcdb-606f-4a8f-98b3-ba76b3f63eef div.sk-toggleable__content {max-height: 0;max-width: 0;overflow: hidden;text-align: left;background-color: #f0f8ff;}#sk-a0c5bcdb-606f-4a8f-98b3-ba76b3f63eef div.sk-toggleable__content pre {margin: 0.2em;color: black;border-radius: 0.25em;background-color: #f0f8ff;}#sk-a0c5bcdb-606f-4a8f-98b3-ba76b3f63eef input.sk-toggleable__control:checked~div.sk-toggleable__content {max-height: 200px;max-width: 100%;overflow: auto;}#sk-a0c5bcdb-606f-4a8f-98b3-ba76b3f63eef div.sk-estimator input.sk-toggleable__control:checked~label.sk-toggleable__label {background-color: #d4ebff;}#sk-a0c5bcdb-606f-4a8f-98b3-ba76b3f63eef div.sk-label input.sk-toggleable__control:checked~label.sk-toggleable__label {background-color: #d4ebff;}#sk-a0c5bcdb-606f-4a8f-98b3-ba76b3f63eef input.sk-hidden--visually {border: 0;clip: rect(1px 1px 1px 1px);clip: rect(1px, 1px, 1px, 1px);height: 1px;margin: -1px;overflow: hidden;padding: 0;position: absolute;width: 1px;}#sk-a0c5bcdb-606f-4a8f-98b3-ba76b3f63eef div.sk-estimator {font-family: monospace;background-color: #f0f8ff;border: 1px dotted black;border-radius: 0.25em;box-sizing: border-box;margin-bottom: 0.5em;}#sk-a0c5bcdb-606f-4a8f-98b3-ba76b3f63eef div.sk-estimator:hover {background-color: #d4ebff;}#sk-a0c5bcdb-606f-4a8f-98b3-ba76b3f63eef div.sk-parallel-item::after {content: \"\";width: 100%;border-bottom: 1px solid gray;flex-grow: 1;}#sk-a0c5bcdb-606f-4a8f-98b3-ba76b3f63eef div.sk-label:hover label.sk-toggleable__label {background-color: #d4ebff;}#sk-a0c5bcdb-606f-4a8f-98b3-ba76b3f63eef div.sk-serial::before {content: \"\";position: absolute;border-left: 1px solid gray;box-sizing: border-box;top: 2em;bottom: 0;left: 50%;}#sk-a0c5bcdb-606f-4a8f-98b3-ba76b3f63eef div.sk-serial {display: flex;flex-direction: column;align-items: center;background-color: white;padding-right: 0.2em;padding-left: 0.2em;}#sk-a0c5bcdb-606f-4a8f-98b3-ba76b3f63eef div.sk-item {z-index: 1;}#sk-a0c5bcdb-606f-4a8f-98b3-ba76b3f63eef div.sk-parallel {display: flex;align-items: stretch;justify-content: center;background-color: white;}#sk-a0c5bcdb-606f-4a8f-98b3-ba76b3f63eef div.sk-parallel::before {content: \"\";position: absolute;border-left: 1px solid gray;box-sizing: border-box;top: 2em;bottom: 0;left: 50%;}#sk-a0c5bcdb-606f-4a8f-98b3-ba76b3f63eef div.sk-parallel-item {display: flex;flex-direction: column;position: relative;background-color: white;}#sk-a0c5bcdb-606f-4a8f-98b3-ba76b3f63eef div.sk-parallel-item:first-child::after {align-self: flex-end;width: 50%;}#sk-a0c5bcdb-606f-4a8f-98b3-ba76b3f63eef div.sk-parallel-item:last-child::after {align-self: flex-start;width: 50%;}#sk-a0c5bcdb-606f-4a8f-98b3-ba76b3f63eef div.sk-parallel-item:only-child::after {width: 0;}#sk-a0c5bcdb-606f-4a8f-98b3-ba76b3f63eef div.sk-dashed-wrapped {border: 1px dashed gray;margin: 0 0.4em 0.5em 0.4em;box-sizing: border-box;padding-bottom: 0.4em;background-color: white;position: relative;}#sk-a0c5bcdb-606f-4a8f-98b3-ba76b3f63eef div.sk-label label {font-family: monospace;font-weight: bold;background-color: white;display: inline-block;line-height: 1.2em;}#sk-a0c5bcdb-606f-4a8f-98b3-ba76b3f63eef div.sk-label-container {position: relative;z-index: 2;text-align: center;}#sk-a0c5bcdb-606f-4a8f-98b3-ba76b3f63eef div.sk-container {display: inline-block;position: relative;}</style><div id=\"sk-a0c5bcdb-606f-4a8f-98b3-ba76b3f63eef\" class\"sk-top-container\"><div class=\"sk-container\"><div class=\"sk-item sk-dashed-wrapped\"><div class=\"sk-label-container\"><div class=\"sk-label sk-toggleable\"><input class=\"sk-toggleable__control sk-hidden--visually\" id=\"b8367774-8b5b-492f-b113-afdbf4e68802\" type=\"checkbox\" ><label class=\"sk-toggleable__label\" for=\"b8367774-8b5b-492f-b113-afdbf4e68802\">Pipeline</label><div class=\"sk-toggleable__content\"><pre>Pipeline(steps=[('preproc',\n",
       "                 FeatureUnion(transformer_list=[('functiontransformer',\n",
       "                                                 FunctionTransformer(func=<function <lambda> at 0x137d9f790>)),\n",
       "                                                ('columntransformer',\n",
       "                                                 ColumnTransformer(transformers=[('pipeline',\n",
       "                                                                                  Pipeline(steps=[('simpleimputer',\n",
       "                                                                                                   SimpleImputer()),\n",
       "                                                                                                  ('robustscaler',\n",
       "                                                                                                   RobustScaler())]),\n",
       "                                                                                  <sklearn.compose._column_transformer.make_column_selector object at 0x136f7b490>),\n",
       "                                                                                 ('onehotencoder',\n",
       "                                                                                  OneHotEncoder(handle_unknown='ignore',\n",
       "                                                                                                sparse=False),\n",
       "                                                                                  <sklearn.compose._column_transformer.make_column_selector object at 0x136f7b820>)]))])),\n",
       "                ('ridge', Ridge())])</pre></div></div></div><div class=\"sk-serial\"><div class=\"sk-item sk-dashed-wrapped\"><div class=\"sk-label-container\"><div class=\"sk-label sk-toggleable\"><input class=\"sk-toggleable__control sk-hidden--visually\" id=\"88833994-4c47-4b6a-bd66-3b170f11491f\" type=\"checkbox\" ><label class=\"sk-toggleable__label\" for=\"88833994-4c47-4b6a-bd66-3b170f11491f\">preproc: FeatureUnion</label><div class=\"sk-toggleable__content\"><pre>FeatureUnion(transformer_list=[('functiontransformer',\n",
       "                                FunctionTransformer(func=<function <lambda> at 0x137d9f790>)),\n",
       "                               ('columntransformer',\n",
       "                                ColumnTransformer(transformers=[('pipeline',\n",
       "                                                                 Pipeline(steps=[('simpleimputer',\n",
       "                                                                                  SimpleImputer()),\n",
       "                                                                                 ('robustscaler',\n",
       "                                                                                  RobustScaler())]),\n",
       "                                                                 <sklearn.compose._column_transformer.make_column_selector object at 0x136f7b490>),\n",
       "                                                                ('onehotencoder',\n",
       "                                                                 OneHotEncoder(handle_unknown='ignore',\n",
       "                                                                               sparse=False),\n",
       "                                                                 <sklearn.compose._column_transformer.make_column_selector object at 0x136f7b820>)]))])</pre></div></div></div><div class=\"sk-parallel\"><div class=\"sk-parallel-item\"><div class=\"sk-item\"><div class=\"sk-label-container\"><div class=\"sk-label sk-toggleable\"><label>functiontransformer</label></div></div><div class=\"sk-serial\"><div class=\"sk-item\"><div class=\"sk-estimator sk-toggleable\"><input class=\"sk-toggleable__control sk-hidden--visually\" id=\"d9259171-b735-4af2-af24-ecaaa8e15eb9\" type=\"checkbox\" ><label class=\"sk-toggleable__label\" for=\"d9259171-b735-4af2-af24-ecaaa8e15eb9\">FunctionTransformer</label><div class=\"sk-toggleable__content\"><pre>FunctionTransformer(func=<function <lambda> at 0x137d9f790>)</pre></div></div></div></div></div></div><div class=\"sk-parallel-item\"><div class=\"sk-item\"><div class=\"sk-label-container\"><div class=\"sk-label sk-toggleable\"><label>columntransformer</label></div></div><div class=\"sk-serial\"><div class=\"sk-item sk-dashed-wrapped\"><div class=\"sk-parallel\"><div class=\"sk-parallel-item\"><div class=\"sk-item\"><div class=\"sk-label-container\"><div class=\"sk-label sk-toggleable\"><input class=\"sk-toggleable__control sk-hidden--visually\" id=\"c2b43b80-ec90-497f-9af4-56b771a1418d\" type=\"checkbox\" ><label class=\"sk-toggleable__label\" for=\"c2b43b80-ec90-497f-9af4-56b771a1418d\">pipeline</label><div class=\"sk-toggleable__content\"><pre><sklearn.compose._column_transformer.make_column_selector object at 0x136f7b490></pre></div></div></div><div class=\"sk-serial\"><div class=\"sk-item\"><div class=\"sk-serial\"><div class=\"sk-item\"><div class=\"sk-estimator sk-toggleable\"><input class=\"sk-toggleable__control sk-hidden--visually\" id=\"0897b35d-3a06-4983-ae12-45c37b87a610\" type=\"checkbox\" ><label class=\"sk-toggleable__label\" for=\"0897b35d-3a06-4983-ae12-45c37b87a610\">SimpleImputer</label><div class=\"sk-toggleable__content\"><pre>SimpleImputer()</pre></div></div></div><div class=\"sk-item\"><div class=\"sk-estimator sk-toggleable\"><input class=\"sk-toggleable__control sk-hidden--visually\" id=\"fc4d0964-cec9-41a5-8775-ae89ef5f1a6b\" type=\"checkbox\" ><label class=\"sk-toggleable__label\" for=\"fc4d0964-cec9-41a5-8775-ae89ef5f1a6b\">RobustScaler</label><div class=\"sk-toggleable__content\"><pre>RobustScaler()</pre></div></div></div></div></div></div></div></div><div class=\"sk-parallel-item\"><div class=\"sk-item\"><div class=\"sk-label-container\"><div class=\"sk-label sk-toggleable\"><input class=\"sk-toggleable__control sk-hidden--visually\" id=\"e24f23e7-495b-44e6-aa47-f357a5a2612f\" type=\"checkbox\" ><label class=\"sk-toggleable__label\" for=\"e24f23e7-495b-44e6-aa47-f357a5a2612f\">onehotencoder</label><div class=\"sk-toggleable__content\"><pre><sklearn.compose._column_transformer.make_column_selector object at 0x136f7b820></pre></div></div></div><div class=\"sk-serial\"><div class=\"sk-item\"><div class=\"sk-estimator sk-toggleable\"><input class=\"sk-toggleable__control sk-hidden--visually\" id=\"a09e6de1-38de-42fa-b30c-c93e32862c68\" type=\"checkbox\" ><label class=\"sk-toggleable__label\" for=\"a09e6de1-38de-42fa-b30c-c93e32862c68\">OneHotEncoder</label><div class=\"sk-toggleable__content\"><pre>OneHotEncoder(handle_unknown='ignore', sparse=False)</pre></div></div></div></div></div></div></div></div></div></div></div></div></div><div class=\"sk-item\"><div class=\"sk-estimator sk-toggleable\"><input class=\"sk-toggleable__control sk-hidden--visually\" id=\"0aecc31f-a57b-4bb1-94c1-803d69645955\" type=\"checkbox\" ><label class=\"sk-toggleable__label\" for=\"0aecc31f-a57b-4bb1-94c1-803d69645955\">Ridge</label><div class=\"sk-toggleable__content\"><pre>Ridge()</pre></div></div></div></div></div></div></div>"
      ],
      "text/plain": [
       "Pipeline(steps=[('preproc',\n",
       "                 FeatureUnion(transformer_list=[('functiontransformer',\n",
       "                                                 FunctionTransformer(func=<function <lambda> at 0x137d9f790>)),\n",
       "                                                ('columntransformer',\n",
       "                                                 ColumnTransformer(transformers=[('pipeline',\n",
       "                                                                                  Pipeline(steps=[('simpleimputer',\n",
       "                                                                                                   SimpleImputer()),\n",
       "                                                                                                  ('robustscaler',\n",
       "                                                                                                   RobustScaler())]),\n",
       "                                                                                  <sklearn.compose._column_transformer.make_column_selector object at 0x136f7b490>),\n",
       "                                                                                 ('onehotencoder',\n",
       "                                                                                  OneHotEncoder(handle_unknown='ignore',\n",
       "                                                                                                sparse=False),\n",
       "                                                                                  <sklearn.compose._column_transformer.make_column_selector object at 0x136f7b820>)]))])),\n",
       "                ('ridge', Ridge())])"
      ]
     },
     "execution_count": 36,
     "metadata": {},
     "output_type": "execute_result"
    }
   ],
   "source": [
    "pipe = Pipeline([\n",
    "    ('preproc',preproc_full),\n",
    "    ('ridge',Ridge())\n",
    "])\n",
    "pipe"
   ]
  },
  {
   "cell_type": "markdown",
   "metadata": {},
   "source": [
    "#### 🧪 Test your pipe"
   ]
  },
  {
   "cell_type": "code",
   "execution_count": 37,
   "metadata": {
    "ExecuteTime": {
     "end_time": "2021-10-30T10:54:56.628889Z",
     "start_time": "2021-10-30T10:54:54.532549Z"
    }
   },
   "outputs": [
    {
     "name": "stdout",
     "output_type": "stream",
     "text": [
      "\u001b[1m============================= test session starts ==============================\u001b[0m\n",
      "platform darwin -- Python 3.8.12, pytest-6.2.5, py-1.10.0, pluggy-1.0.0 -- /Users/selmalopez/.pyenv/versions/lewagon_current/bin/python3\n",
      "cachedir: .pytest_cache\n",
      "rootdir: /Users/selmalopez/code/selmalopez/data-challenges/05-ML/08-Workflow/02-Custom-Transformer\n",
      "plugins: dash-2.0.0, anyio-3.3.2\n",
      "\u001b[1mcollecting ... \u001b[0mcollected 1 item\n",
      "\n",
      "tests/test_pipe.py::TestPipe::test_pipe_not_crashing \u001b[32mPASSED\u001b[0m\u001b[32m              [100%]\u001b[0m\n",
      "\n",
      "\u001b[32m============================== \u001b[32m\u001b[1m1 passed\u001b[0m\u001b[32m in 0.71s\u001b[0m\u001b[32m ===============================\u001b[0m\n",
      "\n",
      "\n",
      "💯 You can commit your code:\n",
      "\n",
      "\u001b[1;32mgit\u001b[39m add tests/pipe.pickle\n",
      "\n",
      "\u001b[32mgit\u001b[39m commit -m \u001b[33m'Completed pipe step'\u001b[39m\n",
      "\n",
      "\u001b[32mgit\u001b[39m push origin master\n"
     ]
    }
   ],
   "source": [
    "from nbresult import ChallengeResult\n",
    "\n",
    "pipe_test = pipe\n",
    "\n",
    "# Check that it doesn't crash\n",
    "assert pipe_test.fit(X,y)\n",
    "\n",
    "result = ChallengeResult('pipe', \n",
    "                         shape = pipe_test[:-1].fit_transform(X).shape\n",
    ")\n",
    "result.write()\n",
    "print(result.check())"
   ]
  },
  {
   "cell_type": "markdown",
   "metadata": {},
   "source": [
    "## 2. Train and Predict"
   ]
  },
  {
   "cell_type": "markdown",
   "metadata": {},
   "source": [
    "👇 Let's imagine `data` is your entire training set.\n",
    "\n",
    "- `cross_validate` your pipeline on this dataset (❗️low r2 score are expected)\n",
    "- Now, imagine you just received an new order `new_data`: predict it's duration of delivery in a variable `prediction`"
   ]
  },
  {
   "cell_type": "code",
   "execution_count": 8,
   "metadata": {
    "ExecuteTime": {
     "end_time": "2021-10-31T16:25:35.254441Z",
     "start_time": "2021-10-31T16:25:35.163952Z"
    },
    "scrolled": true
   },
   "outputs": [
    {
     "data": {
      "text/html": [
       "<div>\n",
       "<style scoped>\n",
       "    .dataframe tbody tr th:only-of-type {\n",
       "        vertical-align: middle;\n",
       "    }\n",
       "\n",
       "    .dataframe tbody tr th {\n",
       "        vertical-align: top;\n",
       "    }\n",
       "\n",
       "    .dataframe thead th {\n",
       "        text-align: right;\n",
       "    }\n",
       "</style>\n",
       "<table border=\"1\" class=\"dataframe\">\n",
       "  <thead>\n",
       "    <tr style=\"text-align: right;\">\n",
       "      <th></th>\n",
       "      <th>customer_state</th>\n",
       "      <th>seller_state</th>\n",
       "      <th>product_weight_g</th>\n",
       "      <th>product_length_cm</th>\n",
       "      <th>product_height_cm</th>\n",
       "      <th>product_width_cm</th>\n",
       "    </tr>\n",
       "  </thead>\n",
       "  <tbody>\n",
       "    <tr>\n",
       "      <th>0</th>\n",
       "      <td>RJ</td>\n",
       "      <td>SP</td>\n",
       "      <td>1825</td>\n",
       "      <td>53</td>\n",
       "      <td>10</td>\n",
       "      <td>40</td>\n",
       "    </tr>\n",
       "  </tbody>\n",
       "</table>\n",
       "</div>"
      ],
      "text/plain": [
       "  customer_state seller_state  product_weight_g  product_length_cm  \\\n",
       "0             RJ           SP              1825                 53   \n",
       "\n",
       "   product_height_cm  product_width_cm  \n",
       "0                 10                40  "
      ]
     },
     "execution_count": 8,
     "metadata": {},
     "output_type": "execute_result"
    }
   ],
   "source": [
    "new_data = pd.read_csv(\"data_new.csv\")\n",
    "new_data"
   ]
  },
  {
   "cell_type": "code",
   "execution_count": 43,
   "metadata": {},
   "outputs": [
    {
     "data": {
      "text/plain": [
       "0.12471298419992369"
      ]
     },
     "execution_count": 43,
     "metadata": {},
     "output_type": "execute_result"
    }
   ],
   "source": [
    "# YOUR CODE HERE\n",
    "from sklearn.model_selection import cross_validate\n",
    "model = pipe\n",
    "r_score = cross_validate(model,X, y, cv=5)\n",
    "r_score\n",
    "r_score['test_score'].mean()"
   ]
  },
  {
   "cell_type": "code",
   "execution_count": 47,
   "metadata": {},
   "outputs": [],
   "source": [
    "prediction = model.predict(new_data)"
   ]
  },
  {
   "cell_type": "code",
   "execution_count": 48,
   "metadata": {
    "ExecuteTime": {
     "end_time": "2021-10-31T16:25:43.981745Z",
     "start_time": "2021-10-31T16:25:41.571968Z"
    }
   },
   "outputs": [
    {
     "name": "stdout",
     "output_type": "stream",
     "text": [
      "\u001b[1m============================= test session starts ==============================\u001b[0m\n",
      "platform darwin -- Python 3.8.12, pytest-6.2.5, py-1.10.0, pluggy-1.0.0 -- /Users/selmalopez/.pyenv/versions/lewagon_current/bin/python3\n",
      "cachedir: .pytest_cache\n",
      "rootdir: /Users/selmalopez/code/selmalopez/data-challenges/05-ML/08-Workflow/02-Custom-Transformer\n",
      "plugins: dash-2.0.0, anyio-3.3.2\n",
      "\u001b[1mcollecting ... \u001b[0mcollected 1 item\n",
      "\n",
      "tests/test_prediction.py::TestPrediction::test_prediction \u001b[32mPASSED\u001b[0m\u001b[32m         [100%]\u001b[0m\n",
      "\n",
      "\u001b[32m============================== \u001b[32m\u001b[1m1 passed\u001b[0m\u001b[32m in 0.69s\u001b[0m\u001b[32m ===============================\u001b[0m\n",
      "\n",
      "\n",
      "💯 You can commit your code:\n",
      "\n",
      "\u001b[1;32mgit\u001b[39m add tests/prediction.pickle\n",
      "\n",
      "\u001b[32mgit\u001b[39m commit -m \u001b[33m'Completed prediction step'\u001b[39m\n",
      "\n",
      "\u001b[32mgit\u001b[39m push origin master\n"
     ]
    }
   ],
   "source": [
    "from nbresult import ChallengeResult\n",
    "\n",
    "result = ChallengeResult('prediction',\n",
    "    prediction = prediction\n",
    ")\n",
    "result.write()\n",
    "print(result.check())\n"
   ]
  },
  {
   "cell_type": "markdown",
   "metadata": {},
   "source": [
    "🏁 Congratulation. Don't forget to add, commit and push your notebook."
   ]
  },
  {
   "cell_type": "code",
   "execution_count": null,
   "metadata": {},
   "outputs": [],
   "source": []
  }
 ],
 "metadata": {
  "interpreter": {
   "hash": "572b4e543617d03e90ecaf525e08695da1ff29b13594f787e33b342cf572f792"
  },
  "kernelspec": {
   "display_name": "Python 3 (ipykernel)",
   "language": "python",
   "name": "python3"
  },
  "language_info": {
   "codemirror_mode": {
    "name": "ipython",
    "version": 3
   },
   "file_extension": ".py",
   "mimetype": "text/x-python",
   "name": "python",
   "nbconvert_exporter": "python",
   "pygments_lexer": "ipython3",
   "version": "3.8.12"
  },
  "toc": {
   "base_numbering": 1,
   "nav_menu": {},
   "number_sections": false,
   "sideBar": true,
   "skip_h1_title": false,
   "title_cell": "Table of Contents",
   "title_sidebar": "Contents",
   "toc_cell": false,
   "toc_position": {
    "height": "calc(100% - 180px)",
    "left": "10px",
    "top": "150px",
    "width": "165px"
   },
   "toc_section_display": true,
   "toc_window_display": true
  }
 },
 "nbformat": 4,
 "nbformat_minor": 4
}
