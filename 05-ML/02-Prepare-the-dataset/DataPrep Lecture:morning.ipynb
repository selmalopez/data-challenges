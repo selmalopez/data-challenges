{
 "cells": [
  {
   "cell_type": "markdown",
   "id": "32beb582",
   "metadata": {},
   "source": [
    "<b><big><big> ML House Challenge </big></big></b>"
   ]
  },
  {
   "cell_type": "markdown",
   "id": "8c0120d8",
   "metadata": {
    "heading_collapsed": true
   },
   "source": [
    "# Load The Data"
   ]
  },
  {
   "cell_type": "code",
   "execution_count": 1,
   "id": "04c6d982",
   "metadata": {
    "hidden": true
   },
   "outputs": [],
   "source": [
    "import pandas as pd\n",
    "import numpy as np\n",
    "import matplotlib.pyplot as plt"
   ]
  },
  {
   "cell_type": "markdown",
   "id": "82e98967",
   "metadata": {
    "hidden": true
   },
   "source": [
    "Consider the **Houses dataset** we used in the previous lecture ([download here](https://wagon-public-datasets.s3.amazonaws.com/Machine%20Learning%20Datasets/ML_Houses_dataset.csv)) <br>\n",
    "    ℹ️ Full dataset description [here](https://wagon-public-datasets.s3.amazonaws.com/Machine%20Learning%20Datasets/ML_Houses_dataset_description.txt)"
   ]
  },
  {
   "cell_type": "code",
   "execution_count": 2,
   "id": "37f8e88c",
   "metadata": {
    "hidden": true
   },
   "outputs": [],
   "source": [
    "!curl -s -L \"https://wagon-public-datasets.s3.amazonaws.com/Machine%20Learning%20Datasets/ML_Houses_dataset.csv\" > house.csv"
   ]
  },
  {
   "cell_type": "code",
   "execution_count": 3,
   "id": "749feeca",
   "metadata": {
    "hidden": true
   },
   "outputs": [],
   "source": [
    "data = pd.read_csv(\"house.csv\")"
   ]
  },
  {
   "cell_type": "code",
   "execution_count": 4,
   "id": "e896bc6c",
   "metadata": {
    "hidden": true
   },
   "outputs": [
    {
     "data": {
      "text/html": [
       "<div>\n",
       "<style scoped>\n",
       "    .dataframe tbody tr th:only-of-type {\n",
       "        vertical-align: middle;\n",
       "    }\n",
       "\n",
       "    .dataframe tbody tr th {\n",
       "        vertical-align: top;\n",
       "    }\n",
       "\n",
       "    .dataframe thead th {\n",
       "        text-align: right;\n",
       "    }\n",
       "</style>\n",
       "<table border=\"1\" class=\"dataframe\">\n",
       "  <thead>\n",
       "    <tr style=\"text-align: right;\">\n",
       "      <th></th>\n",
       "      <th>WallMat</th>\n",
       "      <th>Alley</th>\n",
       "      <th>Pesos</th>\n",
       "      <th>GrLivArea</th>\n",
       "      <th>BedroomAbvGr</th>\n",
       "      <th>KitchenAbvGr</th>\n",
       "      <th>OverallCond</th>\n",
       "      <th>Street</th>\n",
       "      <th>SalePrice</th>\n",
       "    </tr>\n",
       "  </thead>\n",
       "  <tbody>\n",
       "    <tr>\n",
       "      <th>0</th>\n",
       "      <td>Concrete</td>\n",
       "      <td>NaN</td>\n",
       "      <td>4170000.0</td>\n",
       "      <td>1710</td>\n",
       "      <td>3</td>\n",
       "      <td>1</td>\n",
       "      <td>5</td>\n",
       "      <td>Pave</td>\n",
       "      <td>208500</td>\n",
       "    </tr>\n",
       "    <tr>\n",
       "      <th>1</th>\n",
       "      <td>Wood</td>\n",
       "      <td>NaN</td>\n",
       "      <td>3630000.0</td>\n",
       "      <td>1262</td>\n",
       "      <td>3</td>\n",
       "      <td>1</td>\n",
       "      <td>8</td>\n",
       "      <td>Pave</td>\n",
       "      <td>181500</td>\n",
       "    </tr>\n",
       "    <tr>\n",
       "      <th>2</th>\n",
       "      <td>Wood</td>\n",
       "      <td>NaN</td>\n",
       "      <td>4470000.0</td>\n",
       "      <td>1786</td>\n",
       "      <td>3</td>\n",
       "      <td>1</td>\n",
       "      <td>5</td>\n",
       "      <td>Pave</td>\n",
       "      <td>223500</td>\n",
       "    </tr>\n",
       "    <tr>\n",
       "      <th>3</th>\n",
       "      <td>Concrete</td>\n",
       "      <td>NaN</td>\n",
       "      <td>2800000.0</td>\n",
       "      <td>1717</td>\n",
       "      <td>3</td>\n",
       "      <td>1</td>\n",
       "      <td>5</td>\n",
       "      <td>Pave</td>\n",
       "      <td>140000</td>\n",
       "    </tr>\n",
       "    <tr>\n",
       "      <th>4</th>\n",
       "      <td>Concrete</td>\n",
       "      <td>NaN</td>\n",
       "      <td>5000000.0</td>\n",
       "      <td>2198</td>\n",
       "      <td>4</td>\n",
       "      <td>1</td>\n",
       "      <td>5</td>\n",
       "      <td>Pave</td>\n",
       "      <td>250000</td>\n",
       "    </tr>\n",
       "  </tbody>\n",
       "</table>\n",
       "</div>"
      ],
      "text/plain": [
       "    WallMat Alley      Pesos  GrLivArea  BedroomAbvGr  KitchenAbvGr  \\\n",
       "0  Concrete   NaN  4170000.0       1710             3             1   \n",
       "1      Wood   NaN  3630000.0       1262             3             1   \n",
       "2      Wood   NaN  4470000.0       1786             3             1   \n",
       "3  Concrete   NaN  2800000.0       1717             3             1   \n",
       "4  Concrete   NaN  5000000.0       2198             4             1   \n",
       "\n",
       "   OverallCond Street  SalePrice  \n",
       "0            5   Pave     208500  \n",
       "1            8   Pave     181500  \n",
       "2            5   Pave     223500  \n",
       "3            5   Pave     140000  \n",
       "4            5   Pave     250000  "
      ]
     },
     "execution_count": 4,
     "metadata": {},
     "output_type": "execute_result"
    }
   ],
   "source": [
    "columns = [\n",
    "    \"WallMat\",\n",
    "    \"Alley\",\n",
    "    \"Pesos\",\n",
    "    \"GrLivArea\",\n",
    "    \"BedroomAbvGr\",\n",
    "    \"KitchenAbvGr\",\n",
    "    \"OverallCond\",\n",
    "    \"Street\",\n",
    "    \"SalePrice\"\n",
    "]\n",
    "data = data[columns]\n",
    "data.head()"
   ]
  },
  {
   "cell_type": "markdown",
   "id": "2a521bd7",
   "metadata": {
    "heading_collapsed": true
   },
   "source": [
    "# Duplicates"
   ]
  },
  {
   "cell_type": "markdown",
   "id": "c5b80d09",
   "metadata": {
    "hidden": true
   },
   "source": [
    "We can first check <b><i>how many duplicates</i></b> there are with **<mark>pandas.DataFrame.duplicated</mark>**"
   ]
  },
  {
   "cell_type": "code",
   "execution_count": 5,
   "id": "9672e888",
   "metadata": {
    "hidden": true
   },
   "outputs": [
    {
     "data": {
      "text/plain": [
       "303"
      ]
     },
     "execution_count": 5,
     "metadata": {},
     "output_type": "execute_result"
    }
   ],
   "source": [
    "data.duplicated().sum()"
   ]
  },
  {
   "cell_type": "code",
   "execution_count": 6,
   "id": "496e3709",
   "metadata": {
    "hidden": true
   },
   "outputs": [
    {
     "data": {
      "text/plain": [
       "1760"
      ]
     },
     "execution_count": 6,
     "metadata": {},
     "output_type": "execute_result"
    }
   ],
   "source": [
    "len(data)"
   ]
  },
  {
   "cell_type": "code",
   "execution_count": 7,
   "id": "6c461fc4",
   "metadata": {
    "hidden": true
   },
   "outputs": [
    {
     "data": {
      "text/plain": [
       "0.1721590909090909"
      ]
     },
     "execution_count": 7,
     "metadata": {},
     "output_type": "execute_result"
    }
   ],
   "source": [
    "data.duplicated().sum()/len(data)"
   ]
  },
  {
   "cell_type": "markdown",
   "id": "76f828b8",
   "metadata": {
    "hidden": true
   },
   "source": [
    "Now we can <i><b>delete duplicates</i></b> with **<mark>pandas.DataFrame.drop_duplicates</mark>**"
   ]
  },
  {
   "cell_type": "code",
   "execution_count": 8,
   "id": "827bbe8c",
   "metadata": {
    "hidden": true
   },
   "outputs": [
    {
     "data": {
      "text/plain": [
       "1457"
      ]
     },
     "execution_count": 8,
     "metadata": {},
     "output_type": "execute_result"
    }
   ],
   "source": [
    "data.drop_duplicates(inplace=True)\n",
    "len(data)"
   ]
  },
  {
   "cell_type": "code",
   "execution_count": null,
   "id": "0ce23959",
   "metadata": {
    "hidden": true
   },
   "outputs": [],
   "source": []
  },
  {
   "cell_type": "markdown",
   "id": "520a735d",
   "metadata": {
    "heading_collapsed": true
   },
   "source": [
    "# Missing Data"
   ]
  },
  {
   "cell_type": "markdown",
   "id": "c71922bf",
   "metadata": {
    "hidden": true
   },
   "source": [
    "💻 Detecting missing data with **<mark>pandas.DataFrame.isnull</mark>**"
   ]
  },
  {
   "cell_type": "code",
   "execution_count": 9,
   "id": "a7b64ca8",
   "metadata": {
    "hidden": true
   },
   "outputs": [
    {
     "data": {
      "text/plain": [
       "WallMat         0.996568\n",
       "Alley           0.938229\n",
       "Pesos           0.006863\n",
       "GrLivArea       0.000000\n",
       "BedroomAbvGr    0.000000\n",
       "KitchenAbvGr    0.000000\n",
       "OverallCond     0.000000\n",
       "Street          0.000000\n",
       "SalePrice       0.000000\n",
       "dtype: float64"
      ]
     },
     "execution_count": 9,
     "metadata": {},
     "output_type": "execute_result"
    }
   ],
   "source": [
    "data.isnull().sum()/len(data)"
   ]
  },
  {
   "cell_type": "markdown",
   "id": "0bad9084",
   "metadata": {
    "hidden": true
   },
   "source": [
    "## Handling missing data"
   ]
  },
  {
   "cell_type": "markdown",
   "id": "969b3d63",
   "metadata": {
    "hidden": true
   },
   "source": [
    "How you handle missing values will differ from field to field and dataset to dataset?\n",
    "\n",
    "   * What might have caused the missing values?\n",
    "   * Do the missing values represent a particular story or event?\n",
    "   * Can I replace them by another value?\n",
    "   * Can I afford to lose any data?"
   ]
  },
  {
   "cell_type": "markdown",
   "id": "423fe092",
   "metadata": {
    "hidden": true
   },
   "source": [
    "### WallMat"
   ]
  },
  {
   "cell_type": "code",
   "execution_count": 10,
   "id": "610b223d",
   "metadata": {
    "hidden": true
   },
   "outputs": [
    {
     "data": {
      "text/plain": [
       "array(['Concrete', 'Wood', nan], dtype=object)"
      ]
     },
     "execution_count": 10,
     "metadata": {},
     "output_type": "execute_result"
    }
   ],
   "source": [
    "data.WallMat.unique()"
   ]
  },
  {
   "cell_type": "code",
   "execution_count": 11,
   "id": "680e3203",
   "metadata": {
    "hidden": true
   },
   "outputs": [],
   "source": [
    "data.drop(columns=\"WallMat\",inplace=True)\n"
   ]
  },
  {
   "cell_type": "code",
   "execution_count": 12,
   "id": "52ebb8c6",
   "metadata": {
    "hidden": true
   },
   "outputs": [
    {
     "data": {
      "text/plain": [
       "Index(['Alley', 'Pesos', 'GrLivArea', 'BedroomAbvGr', 'KitchenAbvGr',\n",
       "       'OverallCond', 'Street', 'SalePrice'],\n",
       "      dtype='object')"
      ]
     },
     "execution_count": 12,
     "metadata": {},
     "output_type": "execute_result"
    }
   ],
   "source": [
    "data.columns"
   ]
  },
  {
   "cell_type": "markdown",
   "id": "c2e39101",
   "metadata": {
    "hidden": true
   },
   "source": [
    "### Alley"
   ]
  },
  {
   "cell_type": "code",
   "execution_count": 13,
   "id": "dee69ae2",
   "metadata": {
    "hidden": true
   },
   "outputs": [
    {
     "data": {
      "text/plain": [
       "array([nan, 'Grvl', 'Pave'], dtype=object)"
      ]
     },
     "execution_count": 13,
     "metadata": {},
     "output_type": "execute_result"
    }
   ],
   "source": [
    "data.Alley.unique()"
   ]
  },
  {
   "cell_type": "code",
   "execution_count": 14,
   "id": "55acdfcc",
   "metadata": {
    "hidden": true
   },
   "outputs": [
    {
     "data": {
      "text/plain": [
       "array(['NoAlley', 'Grvl', 'Pave'], dtype=object)"
      ]
     },
     "execution_count": 14,
     "metadata": {},
     "output_type": "execute_result"
    }
   ],
   "source": [
    "data.Alley.replace(np.nan,\"NoAlley\",inplace=True)\n",
    "data.Alley.unique()"
   ]
  },
  {
   "cell_type": "markdown",
   "id": "6dd3507a",
   "metadata": {
    "hidden": true
   },
   "source": [
    "### Pesos"
   ]
  },
  {
   "cell_type": "code",
   "execution_count": 15,
   "id": "673f4374",
   "metadata": {
    "hidden": true
   },
   "outputs": [
    {
     "data": {
      "text/plain": [
       "0       4170000.0\n",
       "1       3630000.0\n",
       "2       4470000.0\n",
       "3       2800000.0\n",
       "4       5000000.0\n",
       "          ...    \n",
       "1455    3500000.0\n",
       "1456    4200000.0\n",
       "1457    5330000.0\n",
       "1458    2842500.0\n",
       "1459    2950000.0\n",
       "Name: Pesos, Length: 1457, dtype: float64"
      ]
     },
     "execution_count": 15,
     "metadata": {},
     "output_type": "execute_result"
    }
   ],
   "source": [
    "\n",
    "(data.Pesos.isnull().sum()/len(data))*100 # Percentage of missing values in Pesos\n",
    "\n",
    "\n",
    "data.dropna(subset=['Pesos']) # Option 1: Drop rows where Pesos value is missing\n",
    "\n",
    "data.Pesos.replace(np.nan, data.Pesos.mean()) # Option 2: Replace missing Pesos values with mean"
   ]
  },
  {
   "cell_type": "markdown",
   "id": "9c9daa6b",
   "metadata": {
    "hidden": true
   },
   "source": [
    "## SimpleImputer"
   ]
  },
  {
   "cell_type": "markdown",
   "id": "04d45cf4",
   "metadata": {
    "hidden": true
   },
   "source": [
    "👉[Sklearn <mark>SimpleImputer()</mark> documentation](https://scikit-learn.org/stable/modules/generated/sklearn.impute.SimpleImputer.html)"
   ]
  },
  {
   "cell_type": "code",
   "execution_count": 16,
   "id": "262d7c11",
   "metadata": {
    "hidden": true
   },
   "outputs": [],
   "source": [
    "from sklearn.impute import SimpleImputer"
   ]
  },
  {
   "cell_type": "code",
   "execution_count": 17,
   "id": "3bfffc0a",
   "metadata": {
    "hidden": true
   },
   "outputs": [],
   "source": [
    "simple_impute = SimpleImputer(strategy='mean')\n",
    "simple_impute.fit(data[[\"Pesos\"]])\n",
    "data[[\"Pesos\"]] = simple_impute.transform(data[[\"Pesos\"]])"
   ]
  },
  {
   "cell_type": "code",
   "execution_count": 18,
   "id": "66a16697",
   "metadata": {
    "hidden": true
   },
   "outputs": [
    {
     "data": {
      "text/plain": [
       "Alley           0\n",
       "Pesos           0\n",
       "GrLivArea       0\n",
       "BedroomAbvGr    0\n",
       "KitchenAbvGr    0\n",
       "OverallCond     0\n",
       "Street          0\n",
       "SalePrice       0\n",
       "dtype: int64"
      ]
     },
     "execution_count": 18,
     "metadata": {},
     "output_type": "execute_result"
    }
   ],
   "source": [
    "data.isnull().sum()"
   ]
  },
  {
   "cell_type": "markdown",
   "id": "719892df",
   "metadata": {
    "heading_collapsed": true
   },
   "source": [
    "# Outliers"
   ]
  },
  {
   "cell_type": "markdown",
   "id": "a420f944",
   "metadata": {
    "hidden": true
   },
   "source": [
    "<b><big>Detecting Outliers - Boxplot</big><b>"
   ]
  },
  {
   "cell_type": "markdown",
   "id": "c31b6836",
   "metadata": {
    "hidden": true
   },
   "source": [
    "We can use <b><mark>pandas.DataFrame.boxplot</mark></b> to easily visualize outliers within `GrLivArea`."
   ]
  },
  {
   "cell_type": "code",
   "execution_count": 19,
   "id": "9d026f4f",
   "metadata": {
    "hidden": true
   },
   "outputs": [
    {
     "data": {
      "text/plain": [
       "<AxesSubplot:>"
      ]
     },
     "execution_count": 19,
     "metadata": {},
     "output_type": "execute_result"
    },
    {
     "data": {
      "image/png": "[encoded data removed]",
      "text/plain": [
       "<Figure size 432x288 with 1 Axes>"
      ]
     },
     "metadata": {
      "needs_background": "light"
     },
     "output_type": "display_data"
    }
   ],
   "source": [
    "data[['GrLivArea']].boxplot()"
   ]
  },
  {
   "cell_type": "code",
   "execution_count": 20,
   "id": "ac0e103e",
   "metadata": {
    "hidden": true
   },
   "outputs": [
    {
     "data": {
      "text/plain": [
       "GrLivArea   -1\n",
       "dtype: int64"
      ]
     },
     "execution_count": 20,
     "metadata": {},
     "output_type": "execute_result"
    }
   ],
   "source": [
    "data[['GrLivArea']].min()"
   ]
  },
  {
   "cell_type": "code",
   "execution_count": 21,
   "id": "0fa735cb",
   "metadata": {
    "hidden": true
   },
   "outputs": [
    {
     "data": {
      "text/plain": [
       "10"
      ]
     },
     "execution_count": 21,
     "metadata": {},
     "output_type": "execute_result"
    }
   ],
   "source": [
    "data.GrLivArea.argmin()"
   ]
  },
  {
   "cell_type": "code",
   "execution_count": 22,
   "id": "785d79cc",
   "metadata": {
    "hidden": true
   },
   "outputs": [
    {
     "data": {
      "text/html": [
       "<div>\n",
       "<style scoped>\n",
       "    .dataframe tbody tr th:only-of-type {\n",
       "        vertical-align: middle;\n",
       "    }\n",
       "\n",
       "    .dataframe tbody tr th {\n",
       "        vertical-align: top;\n",
       "    }\n",
       "\n",
       "    .dataframe thead th {\n",
       "        text-align: right;\n",
       "    }\n",
       "</style>\n",
       "<table border=\"1\" class=\"dataframe\">\n",
       "  <thead>\n",
       "    <tr style=\"text-align: right;\">\n",
       "      <th></th>\n",
       "      <th>Alley</th>\n",
       "      <th>Pesos</th>\n",
       "      <th>GrLivArea</th>\n",
       "      <th>BedroomAbvGr</th>\n",
       "      <th>KitchenAbvGr</th>\n",
       "      <th>OverallCond</th>\n",
       "      <th>Street</th>\n",
       "      <th>SalePrice</th>\n",
       "    </tr>\n",
       "  </thead>\n",
       "  <tbody>\n",
       "    <tr>\n",
       "      <th>0</th>\n",
       "      <td>NoAlley</td>\n",
       "      <td>4170000.0</td>\n",
       "      <td>1710</td>\n",
       "      <td>3</td>\n",
       "      <td>1</td>\n",
       "      <td>5</td>\n",
       "      <td>Pave</td>\n",
       "      <td>208500</td>\n",
       "    </tr>\n",
       "    <tr>\n",
       "      <th>1</th>\n",
       "      <td>NoAlley</td>\n",
       "      <td>3630000.0</td>\n",
       "      <td>1262</td>\n",
       "      <td>3</td>\n",
       "      <td>1</td>\n",
       "      <td>8</td>\n",
       "      <td>Pave</td>\n",
       "      <td>181500</td>\n",
       "    </tr>\n",
       "    <tr>\n",
       "      <th>2</th>\n",
       "      <td>NoAlley</td>\n",
       "      <td>4470000.0</td>\n",
       "      <td>1786</td>\n",
       "      <td>3</td>\n",
       "      <td>1</td>\n",
       "      <td>5</td>\n",
       "      <td>Pave</td>\n",
       "      <td>223500</td>\n",
       "    </tr>\n",
       "    <tr>\n",
       "      <th>3</th>\n",
       "      <td>NoAlley</td>\n",
       "      <td>2800000.0</td>\n",
       "      <td>1717</td>\n",
       "      <td>3</td>\n",
       "      <td>1</td>\n",
       "      <td>5</td>\n",
       "      <td>Pave</td>\n",
       "      <td>140000</td>\n",
       "    </tr>\n",
       "    <tr>\n",
       "      <th>4</th>\n",
       "      <td>NoAlley</td>\n",
       "      <td>5000000.0</td>\n",
       "      <td>2198</td>\n",
       "      <td>4</td>\n",
       "      <td>1</td>\n",
       "      <td>5</td>\n",
       "      <td>Pave</td>\n",
       "      <td>250000</td>\n",
       "    </tr>\n",
       "    <tr>\n",
       "      <th>5</th>\n",
       "      <td>NoAlley</td>\n",
       "      <td>2860000.0</td>\n",
       "      <td>1362</td>\n",
       "      <td>1</td>\n",
       "      <td>1</td>\n",
       "      <td>5</td>\n",
       "      <td>Pave</td>\n",
       "      <td>143000</td>\n",
       "    </tr>\n",
       "    <tr>\n",
       "      <th>6</th>\n",
       "      <td>NoAlley</td>\n",
       "      <td>6140000.0</td>\n",
       "      <td>1694</td>\n",
       "      <td>3</td>\n",
       "      <td>1</td>\n",
       "      <td>5</td>\n",
       "      <td>Pave</td>\n",
       "      <td>307000</td>\n",
       "    </tr>\n",
       "    <tr>\n",
       "      <th>7</th>\n",
       "      <td>NoAlley</td>\n",
       "      <td>4000000.0</td>\n",
       "      <td>2090</td>\n",
       "      <td>3</td>\n",
       "      <td>1</td>\n",
       "      <td>6</td>\n",
       "      <td>Pave</td>\n",
       "      <td>200000</td>\n",
       "    </tr>\n",
       "    <tr>\n",
       "      <th>8</th>\n",
       "      <td>NoAlley</td>\n",
       "      <td>2598000.0</td>\n",
       "      <td>1774</td>\n",
       "      <td>2</td>\n",
       "      <td>2</td>\n",
       "      <td>5</td>\n",
       "      <td>Pave</td>\n",
       "      <td>129900</td>\n",
       "    </tr>\n",
       "    <tr>\n",
       "      <th>9</th>\n",
       "      <td>NoAlley</td>\n",
       "      <td>2360000.0</td>\n",
       "      <td>1077</td>\n",
       "      <td>2</td>\n",
       "      <td>2</td>\n",
       "      <td>6</td>\n",
       "      <td>Pave</td>\n",
       "      <td>118000</td>\n",
       "    </tr>\n",
       "    <tr>\n",
       "      <th>10</th>\n",
       "      <td>NoAlley</td>\n",
       "      <td>2590000.0</td>\n",
       "      <td>-1</td>\n",
       "      <td>3</td>\n",
       "      <td>1</td>\n",
       "      <td>5</td>\n",
       "      <td>Pave</td>\n",
       "      <td>129500</td>\n",
       "    </tr>\n",
       "  </tbody>\n",
       "</table>\n",
       "</div>"
      ],
      "text/plain": [
       "      Alley      Pesos  GrLivArea  BedroomAbvGr  KitchenAbvGr  OverallCond  \\\n",
       "0   NoAlley  4170000.0       1710             3             1            5   \n",
       "1   NoAlley  3630000.0       1262             3             1            8   \n",
       "2   NoAlley  4470000.0       1786             3             1            5   \n",
       "3   NoAlley  2800000.0       1717             3             1            5   \n",
       "4   NoAlley  5000000.0       2198             4             1            5   \n",
       "5   NoAlley  2860000.0       1362             1             1            5   \n",
       "6   NoAlley  6140000.0       1694             3             1            5   \n",
       "7   NoAlley  4000000.0       2090             3             1            6   \n",
       "8   NoAlley  2598000.0       1774             2             2            5   \n",
       "9   NoAlley  2360000.0       1077             2             2            6   \n",
       "10  NoAlley  2590000.0         -1             3             1            5   \n",
       "\n",
       "   Street  SalePrice  \n",
       "0    Pave     208500  \n",
       "1    Pave     181500  \n",
       "2    Pave     223500  \n",
       "3    Pave     140000  \n",
       "4    Pave     250000  \n",
       "5    Pave     143000  \n",
       "6    Pave     307000  \n",
       "7    Pave     200000  \n",
       "8    Pave     129900  \n",
       "9    Pave     118000  \n",
       "10   Pave     129500  "
      ]
     },
     "execution_count": 22,
     "metadata": {},
     "output_type": "execute_result"
    }
   ],
   "source": [
    "data.head(11)"
   ]
  },
  {
   "cell_type": "code",
   "execution_count": 23,
   "id": "804ce4d9",
   "metadata": {
    "hidden": true
   },
   "outputs": [],
   "source": [
    "data.drop(labels=data.GrLivArea.argmin(),inplace=True)\n",
    "data.reset_index(drop=True,inplace=True)"
   ]
  },
  {
   "cell_type": "code",
   "execution_count": 24,
   "id": "14880649",
   "metadata": {
    "hidden": true
   },
   "outputs": [
    {
     "data": {
      "text/html": [
       "<div>\n",
       "<style scoped>\n",
       "    .dataframe tbody tr th:only-of-type {\n",
       "        vertical-align: middle;\n",
       "    }\n",
       "\n",
       "    .dataframe tbody tr th {\n",
       "        vertical-align: top;\n",
       "    }\n",
       "\n",
       "    .dataframe thead th {\n",
       "        text-align: right;\n",
       "    }\n",
       "</style>\n",
       "<table border=\"1\" class=\"dataframe\">\n",
       "  <thead>\n",
       "    <tr style=\"text-align: right;\">\n",
       "      <th></th>\n",
       "      <th>Alley</th>\n",
       "      <th>Pesos</th>\n",
       "      <th>GrLivArea</th>\n",
       "      <th>BedroomAbvGr</th>\n",
       "      <th>KitchenAbvGr</th>\n",
       "      <th>OverallCond</th>\n",
       "      <th>Street</th>\n",
       "      <th>SalePrice</th>\n",
       "    </tr>\n",
       "  </thead>\n",
       "  <tbody>\n",
       "    <tr>\n",
       "      <th>0</th>\n",
       "      <td>NoAlley</td>\n",
       "      <td>4170000.0</td>\n",
       "      <td>1710</td>\n",
       "      <td>3</td>\n",
       "      <td>1</td>\n",
       "      <td>5</td>\n",
       "      <td>Pave</td>\n",
       "      <td>208500</td>\n",
       "    </tr>\n",
       "    <tr>\n",
       "      <th>1</th>\n",
       "      <td>NoAlley</td>\n",
       "      <td>3630000.0</td>\n",
       "      <td>1262</td>\n",
       "      <td>3</td>\n",
       "      <td>1</td>\n",
       "      <td>8</td>\n",
       "      <td>Pave</td>\n",
       "      <td>181500</td>\n",
       "    </tr>\n",
       "    <tr>\n",
       "      <th>2</th>\n",
       "      <td>NoAlley</td>\n",
       "      <td>4470000.0</td>\n",
       "      <td>1786</td>\n",
       "      <td>3</td>\n",
       "      <td>1</td>\n",
       "      <td>5</td>\n",
       "      <td>Pave</td>\n",
       "      <td>223500</td>\n",
       "    </tr>\n",
       "    <tr>\n",
       "      <th>3</th>\n",
       "      <td>NoAlley</td>\n",
       "      <td>2800000.0</td>\n",
       "      <td>1717</td>\n",
       "      <td>3</td>\n",
       "      <td>1</td>\n",
       "      <td>5</td>\n",
       "      <td>Pave</td>\n",
       "      <td>140000</td>\n",
       "    </tr>\n",
       "    <tr>\n",
       "      <th>4</th>\n",
       "      <td>NoAlley</td>\n",
       "      <td>5000000.0</td>\n",
       "      <td>2198</td>\n",
       "      <td>4</td>\n",
       "      <td>1</td>\n",
       "      <td>5</td>\n",
       "      <td>Pave</td>\n",
       "      <td>250000</td>\n",
       "    </tr>\n",
       "  </tbody>\n",
       "</table>\n",
       "</div>"
      ],
      "text/plain": [
       "     Alley      Pesos  GrLivArea  BedroomAbvGr  KitchenAbvGr  OverallCond  \\\n",
       "0  NoAlley  4170000.0       1710             3             1            5   \n",
       "1  NoAlley  3630000.0       1262             3             1            8   \n",
       "2  NoAlley  4470000.0       1786             3             1            5   \n",
       "3  NoAlley  2800000.0       1717             3             1            5   \n",
       "4  NoAlley  5000000.0       2198             4             1            5   \n",
       "\n",
       "  Street  SalePrice  \n",
       "0   Pave     208500  \n",
       "1   Pave     181500  \n",
       "2   Pave     223500  \n",
       "3   Pave     140000  \n",
       "4   Pave     250000  "
      ]
     },
     "execution_count": 24,
     "metadata": {},
     "output_type": "execute_result"
    }
   ],
   "source": [
    "data.head()"
   ]
  },
  {
   "cell_type": "markdown",
   "id": "4a55cf23",
   "metadata": {
    "heading_collapsed": true
   },
   "source": [
    "# Scaling"
   ]
  },
  {
   "cell_type": "markdown",
   "id": "5d55417a",
   "metadata": {
    "hidden": true
   },
   "source": [
    "## Standardization"
   ]
  },
  {
   "cell_type": "markdown",
   "id": "48ce1194",
   "metadata": {
    "hidden": true
   },
   "source": [
    "💻 Standard scaling `Pesos`"
   ]
  },
  {
   "cell_type": "code",
   "execution_count": 25,
   "id": "f98004ca",
   "metadata": {
    "hidden": true
   },
   "outputs": [
    {
     "data": {
      "text/plain": [
       "array([[<AxesSubplot:title={'center':'Pesos'}>]], dtype=object)"
      ]
     },
     "execution_count": 25,
     "metadata": {},
     "output_type": "execute_result"
    },
    {
     "data": {
      "image/png": "[encoded data removed]",
      "text/plain": [
       "<Figure size 432x288 with 1 Axes>"
      ]
     },
     "metadata": {
      "needs_background": "light"
     },
     "output_type": "display_data"
    }
   ],
   "source": [
    "from sklearn.preprocessing import StandardScaler\n",
    "\n",
    "s_scaler = StandardScaler()\n",
    "data.Pesos = s_scaler.fit_transform(data[[\"Pesos\"]])\n",
    "data[[\"Pesos\"]].hist()"
   ]
  },
  {
   "cell_type": "code",
   "execution_count": null,
   "id": "d81ffcd7",
   "metadata": {
    "hidden": true
   },
   "outputs": [],
   "source": []
  },
  {
   "cell_type": "markdown",
   "id": "50bcb56d",
   "metadata": {
    "hidden": true
   },
   "source": [
    "What if you're concerned with outliers? 🧐"
   ]
  },
  {
   "cell_type": "markdown",
   "id": "30bfd9b5",
   "metadata": {
    "hidden": true
   },
   "source": [
    "## Robust Scaling"
   ]
  },
  {
   "cell_type": "markdown",
   "id": "e244f85a",
   "metadata": {
    "hidden": true
   },
   "source": [
    "💻 Robust scaling `GrLivArea`"
   ]
  },
  {
   "cell_type": "code",
   "execution_count": 26,
   "id": "59dfbea7",
   "metadata": {
    "hidden": true
   },
   "outputs": [],
   "source": [
    "from sklearn.preprocessing import RobustScaler\n",
    "\n",
    "r_scaler = RobustScaler() # Instanciate Robust Scaler\n",
    "\n",
    "r_scaler.fit(data[['GrLivArea']]) # Fit scaler to feature\n",
    "\n",
    "data['GrLivArea'] = r_scaler.transform(data[['GrLivArea']]) #Scale"
   ]
  },
  {
   "cell_type": "code",
   "execution_count": 27,
   "id": "80bff628",
   "metadata": {
    "hidden": true
   },
   "outputs": [
    {
     "data": {
      "text/plain": [
       "<AxesSubplot:>"
      ]
     },
     "execution_count": 27,
     "metadata": {},
     "output_type": "execute_result"
    },
    {
     "data": {
      "image/png": "[encoded data removed]",
      "text/plain": [
       "<Figure size 432x288 with 1 Axes>"
      ]
     },
     "metadata": {
      "needs_background": "light"
     },
     "output_type": "display_data"
    }
   ],
   "source": [
    "data['GrLivArea'].hist()"
   ]
  },
  {
   "cell_type": "markdown",
   "id": "7df6e322",
   "metadata": {
    "heading_collapsed": true
   },
   "source": [
    "# Balancing"
   ]
  },
  {
   "cell_type": "markdown",
   "id": "9240f496",
   "metadata": {
    "hidden": true
   },
   "source": [
    "See Slides"
   ]
  },
  {
   "cell_type": "markdown",
   "id": "e2d61de6",
   "metadata": {
    "heading_collapsed": true
   },
   "source": [
    "# Encoding"
   ]
  },
  {
   "cell_type": "markdown",
   "id": "2f5750ab",
   "metadata": {
    "hidden": true
   },
   "source": [
    "Encode the column **`Alley`** with sklearn.preprocessing.**<mark>OneHotEncoder</mark>**"
   ]
  },
  {
   "cell_type": "code",
   "execution_count": 28,
   "id": "42028363",
   "metadata": {
    "hidden": true
   },
   "outputs": [
    {
     "data": {
      "text/plain": [
       "array(['NoAlley', 'Grvl', 'Pave'], dtype=object)"
      ]
     },
     "execution_count": 28,
     "metadata": {},
     "output_type": "execute_result"
    }
   ],
   "source": [
    "data.Alley.unique()"
   ]
  },
  {
   "cell_type": "code",
   "execution_count": 29,
   "id": "2db8f92a",
   "metadata": {
    "hidden": true
   },
   "outputs": [],
   "source": [
    "from sklearn.preprocessing import OneHotEncoder\n",
    "import numpy as np\n",
    "\n",
    "data.Alley.unique()  # Check unique values for streets (3)\n",
    "\n",
    "ohe = OneHotEncoder(sparse = False) # Instanciate encoder\n",
    "\n",
    "ohe.fit(data[['Alley']]) # Fit encoder\n",
    "\n",
    "alley_encoded = ohe.transform(data[['Alley']]) # Encode alley\n",
    "\n"
   ]
  },
  {
   "cell_type": "code",
   "execution_count": 30,
   "id": "d16b1193",
   "metadata": {
    "hidden": true
   },
   "outputs": [
    {
     "data": {
      "text/plain": [
       "array([[0., 0., 0., ..., 0., 0., 0.],\n",
       "       [1., 1., 1., ..., 1., 1., 1.],\n",
       "       [0., 0., 0., ..., 0., 0., 0.]])"
      ]
     },
     "execution_count": 30,
     "metadata": {},
     "output_type": "execute_result"
    }
   ],
   "source": [
    "alley_encoded.T"
   ]
  },
  {
   "cell_type": "code",
   "execution_count": 31,
   "id": "9c4391a6",
   "metadata": {
    "hidden": true
   },
   "outputs": [
    {
     "data": {
      "text/plain": [
       "[array(['Grvl', 'NoAlley', 'Pave'], dtype=object)]"
      ]
     },
     "execution_count": 31,
     "metadata": {},
     "output_type": "execute_result"
    }
   ],
   "source": [
    "ohe.categories_"
   ]
  },
  {
   "cell_type": "code",
   "execution_count": 32,
   "id": "fb918194",
   "metadata": {
    "hidden": true
   },
   "outputs": [
    {
     "data": {
      "text/html": [
       "<div>\n",
       "<style scoped>\n",
       "    .dataframe tbody tr th:only-of-type {\n",
       "        vertical-align: middle;\n",
       "    }\n",
       "\n",
       "    .dataframe tbody tr th {\n",
       "        vertical-align: top;\n",
       "    }\n",
       "\n",
       "    .dataframe thead th {\n",
       "        text-align: right;\n",
       "    }\n",
       "</style>\n",
       "<table border=\"1\" class=\"dataframe\">\n",
       "  <thead>\n",
       "    <tr style=\"text-align: right;\">\n",
       "      <th></th>\n",
       "      <th>Alley</th>\n",
       "      <th>Pesos</th>\n",
       "      <th>GrLivArea</th>\n",
       "      <th>BedroomAbvGr</th>\n",
       "      <th>KitchenAbvGr</th>\n",
       "      <th>OverallCond</th>\n",
       "      <th>Street</th>\n",
       "      <th>SalePrice</th>\n",
       "      <th>Grvl</th>\n",
       "      <th>NoAlley</th>\n",
       "      <th>Pave</th>\n",
       "    </tr>\n",
       "  </thead>\n",
       "  <tbody>\n",
       "    <tr>\n",
       "      <th>0</th>\n",
       "      <td>NoAlley</td>\n",
       "      <td>0.356032</td>\n",
       "      <td>0.377941</td>\n",
       "      <td>3</td>\n",
       "      <td>1</td>\n",
       "      <td>5</td>\n",
       "      <td>Pave</td>\n",
       "      <td>208500</td>\n",
       "      <td>0.0</td>\n",
       "      <td>1.0</td>\n",
       "      <td>0.0</td>\n",
       "    </tr>\n",
       "    <tr>\n",
       "      <th>1</th>\n",
       "      <td>NoAlley</td>\n",
       "      <td>0.013024</td>\n",
       "      <td>-0.313151</td>\n",
       "      <td>3</td>\n",
       "      <td>1</td>\n",
       "      <td>8</td>\n",
       "      <td>Pave</td>\n",
       "      <td>181500</td>\n",
       "      <td>0.0</td>\n",
       "      <td>1.0</td>\n",
       "      <td>0.0</td>\n",
       "    </tr>\n",
       "    <tr>\n",
       "      <th>2</th>\n",
       "      <td>NoAlley</td>\n",
       "      <td>0.546592</td>\n",
       "      <td>0.495179</td>\n",
       "      <td>3</td>\n",
       "      <td>1</td>\n",
       "      <td>5</td>\n",
       "      <td>Pave</td>\n",
       "      <td>223500</td>\n",
       "      <td>0.0</td>\n",
       "      <td>1.0</td>\n",
       "      <td>0.0</td>\n",
       "    </tr>\n",
       "    <tr>\n",
       "      <th>3</th>\n",
       "      <td>NoAlley</td>\n",
       "      <td>-0.514191</td>\n",
       "      <td>0.388739</td>\n",
       "      <td>3</td>\n",
       "      <td>1</td>\n",
       "      <td>5</td>\n",
       "      <td>Pave</td>\n",
       "      <td>140000</td>\n",
       "      <td>0.0</td>\n",
       "      <td>1.0</td>\n",
       "      <td>0.0</td>\n",
       "    </tr>\n",
       "    <tr>\n",
       "      <th>4</th>\n",
       "      <td>NoAlley</td>\n",
       "      <td>0.883247</td>\n",
       "      <td>1.130737</td>\n",
       "      <td>4</td>\n",
       "      <td>1</td>\n",
       "      <td>5</td>\n",
       "      <td>Pave</td>\n",
       "      <td>250000</td>\n",
       "      <td>0.0</td>\n",
       "      <td>1.0</td>\n",
       "      <td>0.0</td>\n",
       "    </tr>\n",
       "  </tbody>\n",
       "</table>\n",
       "</div>"
      ],
      "text/plain": [
       "     Alley     Pesos  GrLivArea  BedroomAbvGr  KitchenAbvGr  OverallCond  \\\n",
       "0  NoAlley  0.356032   0.377941             3             1            5   \n",
       "1  NoAlley  0.013024  -0.313151             3             1            8   \n",
       "2  NoAlley  0.546592   0.495179             3             1            5   \n",
       "3  NoAlley -0.514191   0.388739             3             1            5   \n",
       "4  NoAlley  0.883247   1.130737             4             1            5   \n",
       "\n",
       "  Street  SalePrice  Grvl  NoAlley  Pave  \n",
       "0   Pave     208500   0.0      1.0   0.0  \n",
       "1   Pave     181500   0.0      1.0   0.0  \n",
       "2   Pave     223500   0.0      1.0   0.0  \n",
       "3   Pave     140000   0.0      1.0   0.0  \n",
       "4   Pave     250000   0.0      1.0   0.0  "
      ]
     },
     "execution_count": 32,
     "metadata": {},
     "output_type": "execute_result"
    }
   ],
   "source": [
    "data[\"Grvl\"],data[\"NoAlley\"],data['Pave'] = alley_encoded.T # Transpose encoded Alley back into dataframe\n",
    "\n",
    "data.head()"
   ]
  },
  {
   "cell_type": "markdown",
   "id": "91a5c22a",
   "metadata": {
    "hidden": true
   },
   "source": [
    "Encode the column **`Street`** with sklearn.preprocessing.**<mark>OneHotEncoder</mark>**"
   ]
  },
  {
   "cell_type": "markdown",
   "id": "85811321",
   "metadata": {
    "hidden": true
   },
   "source": [
    "⚠️ Careful with binary datas (check <mark>drop</mark> option `if_binary` in OHE)"
   ]
  },
  {
   "cell_type": "code",
   "execution_count": 33,
   "id": "a5cee998",
   "metadata": {
    "hidden": true
   },
   "outputs": [],
   "source": [
    "data.Street.unique()\n",
    "ohe_street = OneHotEncoder(sparse=False,drop='if_binary')\n",
    "data.Street = ohe_street.fit_transform(data[[\"Street\"]])\n"
   ]
  },
  {
   "cell_type": "code",
   "execution_count": 34,
   "id": "e766da62",
   "metadata": {
    "hidden": true
   },
   "outputs": [
    {
     "data": {
      "text/plain": [
       "array([1., 0.])"
      ]
     },
     "execution_count": 34,
     "metadata": {},
     "output_type": "execute_result"
    }
   ],
   "source": [
    "data.Street.unique()"
   ]
  },
  {
   "cell_type": "code",
   "execution_count": 35,
   "id": "e671ba36",
   "metadata": {
    "hidden": true
   },
   "outputs": [
    {
     "data": {
      "text/plain": [
       "[array(['Grvl', 'Pave'], dtype=object)]"
      ]
     },
     "execution_count": 35,
     "metadata": {},
     "output_type": "execute_result"
    }
   ],
   "source": [
    "ohe_street.categories_"
   ]
  },
  {
   "cell_type": "code",
   "execution_count": 36,
   "id": "dd6e946c",
   "metadata": {
    "hidden": true
   },
   "outputs": [
    {
     "data": {
      "text/html": [
       "<div>\n",
       "<style scoped>\n",
       "    .dataframe tbody tr th:only-of-type {\n",
       "        vertical-align: middle;\n",
       "    }\n",
       "\n",
       "    .dataframe tbody tr th {\n",
       "        vertical-align: top;\n",
       "    }\n",
       "\n",
       "    .dataframe thead th {\n",
       "        text-align: right;\n",
       "    }\n",
       "</style>\n",
       "<table border=\"1\" class=\"dataframe\">\n",
       "  <thead>\n",
       "    <tr style=\"text-align: right;\">\n",
       "      <th></th>\n",
       "      <th>Alley</th>\n",
       "      <th>Pesos</th>\n",
       "      <th>GrLivArea</th>\n",
       "      <th>BedroomAbvGr</th>\n",
       "      <th>KitchenAbvGr</th>\n",
       "      <th>OverallCond</th>\n",
       "      <th>Street</th>\n",
       "      <th>SalePrice</th>\n",
       "      <th>Grvl</th>\n",
       "      <th>NoAlley</th>\n",
       "      <th>Pave</th>\n",
       "    </tr>\n",
       "  </thead>\n",
       "  <tbody>\n",
       "    <tr>\n",
       "      <th>0</th>\n",
       "      <td>NoAlley</td>\n",
       "      <td>0.356032</td>\n",
       "      <td>0.377941</td>\n",
       "      <td>3</td>\n",
       "      <td>1</td>\n",
       "      <td>5</td>\n",
       "      <td>1.0</td>\n",
       "      <td>208500</td>\n",
       "      <td>0.0</td>\n",
       "      <td>1.0</td>\n",
       "      <td>0.0</td>\n",
       "    </tr>\n",
       "    <tr>\n",
       "      <th>1</th>\n",
       "      <td>NoAlley</td>\n",
       "      <td>0.013024</td>\n",
       "      <td>-0.313151</td>\n",
       "      <td>3</td>\n",
       "      <td>1</td>\n",
       "      <td>8</td>\n",
       "      <td>1.0</td>\n",
       "      <td>181500</td>\n",
       "      <td>0.0</td>\n",
       "      <td>1.0</td>\n",
       "      <td>0.0</td>\n",
       "    </tr>\n",
       "    <tr>\n",
       "      <th>2</th>\n",
       "      <td>NoAlley</td>\n",
       "      <td>0.546592</td>\n",
       "      <td>0.495179</td>\n",
       "      <td>3</td>\n",
       "      <td>1</td>\n",
       "      <td>5</td>\n",
       "      <td>1.0</td>\n",
       "      <td>223500</td>\n",
       "      <td>0.0</td>\n",
       "      <td>1.0</td>\n",
       "      <td>0.0</td>\n",
       "    </tr>\n",
       "    <tr>\n",
       "      <th>3</th>\n",
       "      <td>NoAlley</td>\n",
       "      <td>-0.514191</td>\n",
       "      <td>0.388739</td>\n",
       "      <td>3</td>\n",
       "      <td>1</td>\n",
       "      <td>5</td>\n",
       "      <td>1.0</td>\n",
       "      <td>140000</td>\n",
       "      <td>0.0</td>\n",
       "      <td>1.0</td>\n",
       "      <td>0.0</td>\n",
       "    </tr>\n",
       "    <tr>\n",
       "      <th>4</th>\n",
       "      <td>NoAlley</td>\n",
       "      <td>0.883247</td>\n",
       "      <td>1.130737</td>\n",
       "      <td>4</td>\n",
       "      <td>1</td>\n",
       "      <td>5</td>\n",
       "      <td>1.0</td>\n",
       "      <td>250000</td>\n",
       "      <td>0.0</td>\n",
       "      <td>1.0</td>\n",
       "      <td>0.0</td>\n",
       "    </tr>\n",
       "  </tbody>\n",
       "</table>\n",
       "</div>"
      ],
      "text/plain": [
       "     Alley     Pesos  GrLivArea  BedroomAbvGr  KitchenAbvGr  OverallCond  \\\n",
       "0  NoAlley  0.356032   0.377941             3             1            5   \n",
       "1  NoAlley  0.013024  -0.313151             3             1            8   \n",
       "2  NoAlley  0.546592   0.495179             3             1            5   \n",
       "3  NoAlley -0.514191   0.388739             3             1            5   \n",
       "4  NoAlley  0.883247   1.130737             4             1            5   \n",
       "\n",
       "   Street  SalePrice  Grvl  NoAlley  Pave  \n",
       "0     1.0     208500   0.0      1.0   0.0  \n",
       "1     1.0     181500   0.0      1.0   0.0  \n",
       "2     1.0     223500   0.0      1.0   0.0  \n",
       "3     1.0     140000   0.0      1.0   0.0  \n",
       "4     1.0     250000   0.0      1.0   0.0  "
      ]
     },
     "execution_count": 36,
     "metadata": {},
     "output_type": "execute_result"
    }
   ],
   "source": [
    "data.head()"
   ]
  },
  {
   "cell_type": "code",
   "execution_count": 37,
   "id": "428682a4",
   "metadata": {
    "hidden": true
   },
   "outputs": [],
   "source": [
    "data.drop(columns=\"Alley\",inplace=True)"
   ]
  },
  {
   "cell_type": "markdown",
   "id": "0a623d1c",
   "metadata": {
    "heading_collapsed": true
   },
   "source": [
    "# Discretizing"
   ]
  },
  {
   "cell_type": "markdown",
   "id": "995bd303",
   "metadata": {
    "hidden": true
   },
   "source": [
    "Let's turn this dataset into a <mark>classification</mark> task, **Cheap** or **Expensive**, according to the mean"
   ]
  },
  {
   "cell_type": "code",
   "execution_count": 38,
   "id": "69988d25",
   "metadata": {
    "hidden": true
   },
   "outputs": [
    {
     "data": {
      "text/html": [
       "<div>\n",
       "<style scoped>\n",
       "    .dataframe tbody tr th:only-of-type {\n",
       "        vertical-align: middle;\n",
       "    }\n",
       "\n",
       "    .dataframe tbody tr th {\n",
       "        vertical-align: top;\n",
       "    }\n",
       "\n",
       "    .dataframe thead th {\n",
       "        text-align: right;\n",
       "    }\n",
       "</style>\n",
       "<table border=\"1\" class=\"dataframe\">\n",
       "  <thead>\n",
       "    <tr style=\"text-align: right;\">\n",
       "      <th></th>\n",
       "      <th>Pesos</th>\n",
       "      <th>GrLivArea</th>\n",
       "      <th>BedroomAbvGr</th>\n",
       "      <th>KitchenAbvGr</th>\n",
       "      <th>OverallCond</th>\n",
       "      <th>Street</th>\n",
       "      <th>SalePrice</th>\n",
       "      <th>Grvl</th>\n",
       "      <th>NoAlley</th>\n",
       "      <th>Pave</th>\n",
       "      <th>SalePriceBinary</th>\n",
       "    </tr>\n",
       "  </thead>\n",
       "  <tbody>\n",
       "    <tr>\n",
       "      <th>0</th>\n",
       "      <td>0.356032</td>\n",
       "      <td>0.377941</td>\n",
       "      <td>3</td>\n",
       "      <td>1</td>\n",
       "      <td>5</td>\n",
       "      <td>1.0</td>\n",
       "      <td>208500</td>\n",
       "      <td>0.0</td>\n",
       "      <td>1.0</td>\n",
       "      <td>0.0</td>\n",
       "      <td>expensive</td>\n",
       "    </tr>\n",
       "    <tr>\n",
       "      <th>1</th>\n",
       "      <td>0.013024</td>\n",
       "      <td>-0.313151</td>\n",
       "      <td>3</td>\n",
       "      <td>1</td>\n",
       "      <td>8</td>\n",
       "      <td>1.0</td>\n",
       "      <td>181500</td>\n",
       "      <td>0.0</td>\n",
       "      <td>1.0</td>\n",
       "      <td>0.0</td>\n",
       "      <td>expensive</td>\n",
       "    </tr>\n",
       "    <tr>\n",
       "      <th>2</th>\n",
       "      <td>0.546592</td>\n",
       "      <td>0.495179</td>\n",
       "      <td>3</td>\n",
       "      <td>1</td>\n",
       "      <td>5</td>\n",
       "      <td>1.0</td>\n",
       "      <td>223500</td>\n",
       "      <td>0.0</td>\n",
       "      <td>1.0</td>\n",
       "      <td>0.0</td>\n",
       "      <td>expensive</td>\n",
       "    </tr>\n",
       "    <tr>\n",
       "      <th>3</th>\n",
       "      <td>-0.514191</td>\n",
       "      <td>0.388739</td>\n",
       "      <td>3</td>\n",
       "      <td>1</td>\n",
       "      <td>5</td>\n",
       "      <td>1.0</td>\n",
       "      <td>140000</td>\n",
       "      <td>0.0</td>\n",
       "      <td>1.0</td>\n",
       "      <td>0.0</td>\n",
       "      <td>cheap</td>\n",
       "    </tr>\n",
       "    <tr>\n",
       "      <th>4</th>\n",
       "      <td>0.883247</td>\n",
       "      <td>1.130737</td>\n",
       "      <td>4</td>\n",
       "      <td>1</td>\n",
       "      <td>5</td>\n",
       "      <td>1.0</td>\n",
       "      <td>250000</td>\n",
       "      <td>0.0</td>\n",
       "      <td>1.0</td>\n",
       "      <td>0.0</td>\n",
       "      <td>expensive</td>\n",
       "    </tr>\n",
       "  </tbody>\n",
       "</table>\n",
       "</div>"
      ],
      "text/plain": [
       "      Pesos  GrLivArea  BedroomAbvGr  KitchenAbvGr  OverallCond  Street  \\\n",
       "0  0.356032   0.377941             3             1            5     1.0   \n",
       "1  0.013024  -0.313151             3             1            8     1.0   \n",
       "2  0.546592   0.495179             3             1            5     1.0   \n",
       "3 -0.514191   0.388739             3             1            5     1.0   \n",
       "4  0.883247   1.130737             4             1            5     1.0   \n",
       "\n",
       "   SalePrice  Grvl  NoAlley  Pave SalePriceBinary  \n",
       "0     208500   0.0      1.0   0.0       expensive  \n",
       "1     181500   0.0      1.0   0.0       expensive  \n",
       "2     223500   0.0      1.0   0.0       expensive  \n",
       "3     140000   0.0      1.0   0.0           cheap  \n",
       "4     250000   0.0      1.0   0.0       expensive  "
      ]
     },
     "execution_count": 38,
     "metadata": {},
     "output_type": "execute_result"
    }
   ],
   "source": [
    "data['SalePriceBinary'] = pd.cut(x = data['SalePrice'],\n",
    "                       bins=[data['SalePrice'].min()-1,\n",
    "                             data['SalePrice'].mean(),\n",
    "                             data['SalePrice'].max()+1], \n",
    "                       labels=['cheap', 'expensive'])\n",
    "\n",
    "data.head()"
   ]
  },
  {
   "cell_type": "markdown",
   "id": "070d8d00",
   "metadata": {
    "heading_collapsed": true
   },
   "source": [
    "# Feature Creation"
   ]
  },
  {
   "cell_type": "markdown",
   "id": "8ee2a6b9",
   "metadata": {
    "hidden": true
   },
   "source": [
    "See Slides"
   ]
  },
  {
   "cell_type": "markdown",
   "id": "3060268e",
   "metadata": {
    "heading_collapsed": true
   },
   "source": [
    "# Feature Selection"
   ]
  },
  {
   "cell_type": "markdown",
   "id": "2ef45ca9",
   "metadata": {
    "hidden": true
   },
   "source": [
    "## Feature Correlation"
   ]
  },
  {
   "cell_type": "code",
   "execution_count": 39,
   "id": "ba0d9a74",
   "metadata": {
    "hidden": true
   },
   "outputs": [
    {
     "data": {
      "text/plain": [
       "<AxesSubplot:>"
      ]
     },
     "execution_count": 39,
     "metadata": {},
     "output_type": "execute_result"
    },
    {
     "data": {
      "image/png": "[encoded data removed]",
      "text/plain": [
       "<Figure size 432x288 with 2 Axes>"
      ]
     },
     "metadata": {
      "needs_background": "light"
     },
     "output_type": "display_data"
    }
   ],
   "source": [
    "import seaborn as sns\n",
    "\n",
    "# Heatmap\n",
    "corr = data.corr()\n",
    "sns.heatmap(corr, \n",
    "        xticklabels=corr.columns,\n",
    "        yticklabels=corr.columns,\n",
    "        cmap= \"YlGnBu\")"
   ]
  },
  {
   "cell_type": "code",
   "execution_count": 40,
   "id": "3238c910",
   "metadata": {
    "hidden": true
   },
   "outputs": [
    {
     "data": {
      "text/html": [
       "<div>\n",
       "<style scoped>\n",
       "    .dataframe tbody tr th:only-of-type {\n",
       "        vertical-align: middle;\n",
       "    }\n",
       "\n",
       "    .dataframe tbody tr th {\n",
       "        vertical-align: top;\n",
       "    }\n",
       "\n",
       "    .dataframe thead th {\n",
       "        text-align: right;\n",
       "    }\n",
       "</style>\n",
       "<table border=\"1\" class=\"dataframe\">\n",
       "  <thead>\n",
       "    <tr style=\"text-align: right;\">\n",
       "      <th></th>\n",
       "      <th>feature_1</th>\n",
       "      <th>feature_2</th>\n",
       "      <th>correlation</th>\n",
       "    </tr>\n",
       "  </thead>\n",
       "  <tbody>\n",
       "    <tr>\n",
       "      <th>60</th>\n",
       "      <td>SalePrice</td>\n",
       "      <td>Pesos</td>\n",
       "      <td>0.990353</td>\n",
       "    </tr>\n",
       "    <tr>\n",
       "      <th>6</th>\n",
       "      <td>Pesos</td>\n",
       "      <td>SalePrice</td>\n",
       "      <td>0.990353</td>\n",
       "    </tr>\n",
       "    <tr>\n",
       "      <th>16</th>\n",
       "      <td>GrLivArea</td>\n",
       "      <td>SalePrice</td>\n",
       "      <td>0.708652</td>\n",
       "    </tr>\n",
       "    <tr>\n",
       "      <th>61</th>\n",
       "      <td>SalePrice</td>\n",
       "      <td>GrLivArea</td>\n",
       "      <td>0.708652</td>\n",
       "    </tr>\n",
       "    <tr>\n",
       "      <th>10</th>\n",
       "      <td>GrLivArea</td>\n",
       "      <td>Pesos</td>\n",
       "      <td>0.707766</td>\n",
       "    </tr>\n",
       "  </tbody>\n",
       "</table>\n",
       "</div>"
      ],
      "text/plain": [
       "    feature_1  feature_2  correlation\n",
       "60  SalePrice      Pesos     0.990353\n",
       "6       Pesos  SalePrice     0.990353\n",
       "16  GrLivArea  SalePrice     0.708652\n",
       "61  SalePrice  GrLivArea     0.708652\n",
       "10  GrLivArea      Pesos     0.707766"
      ]
     },
     "execution_count": 40,
     "metadata": {},
     "output_type": "execute_result"
    }
   ],
   "source": [
    "corr_df = corr.unstack().reset_index() # Unstack correlation matrix \n",
    "corr_df.columns = ['feature_1','feature_2', 'correlation'] # rename columns\n",
    "corr_df.sort_values(by=\"correlation\",ascending=False, inplace=True) # sort by correlation\n",
    "corr_df = corr_df[corr_df['feature_1'] != corr_df['feature_2']] # Remove self correlation\n",
    "corr_df.head()"
   ]
  },
  {
   "cell_type": "code",
   "execution_count": 41,
   "id": "4482c178",
   "metadata": {
    "hidden": true
   },
   "outputs": [],
   "source": [
    "data.drop(columns='Pesos',inplace=True)"
   ]
  },
  {
   "cell_type": "markdown",
   "id": "ef7987e3",
   "metadata": {
    "hidden": true
   },
   "source": [
    "## Modeling"
   ]
  },
  {
   "cell_type": "code",
   "execution_count": 42,
   "id": "59cf174d",
   "metadata": {
    "hidden": true
   },
   "outputs": [
    {
     "data": {
      "text/plain": [
       "0.842687765706188"
      ]
     },
     "execution_count": 42,
     "metadata": {},
     "output_type": "execute_result"
    }
   ],
   "source": [
    "from sklearn.preprocessing import LabelEncoder, MinMaxScaler\n",
    "from sklearn.linear_model import LogisticRegression\n",
    "from sklearn.model_selection import cross_val_score\n",
    "\n",
    "target_encoder = LabelEncoder().fit(data['SalePriceBinary']) # Fit target encoder\n",
    "\n",
    "y = target_encoder.transform(data['SalePriceBinary']) # ENCODE LABELS\n",
    "\n",
    "X = data.drop(columns=['SalePrice', 'SalePriceBinary'])# Create feature set\n",
    "\n",
    "log_reg = LogisticRegression(max_iter=10000) # Instanciate model\n",
    "\n",
    "scores = cross_val_score(log_reg, X, y, cv=10) # Cross validate\n",
    "\n",
    "scores.mean()"
   ]
  },
  {
   "cell_type": "markdown",
   "id": "be7f7b6e",
   "metadata": {
    "hidden": true
   },
   "source": [
    "⚠️ Data Leakage"
   ]
  },
  {
   "cell_type": "markdown",
   "id": "6f8a4697",
   "metadata": {
    "hidden": true
   },
   "source": [
    "## Feature Permutation"
   ]
  },
  {
   "cell_type": "code",
   "execution_count": 43,
   "id": "726dd11f",
   "metadata": {
    "hidden": true,
    "scrolled": true
   },
   "outputs": [
    {
     "data": {
      "text/html": [
       "<div>\n",
       "<style scoped>\n",
       "    .dataframe tbody tr th:only-of-type {\n",
       "        vertical-align: middle;\n",
       "    }\n",
       "\n",
       "    .dataframe tbody tr th {\n",
       "        vertical-align: top;\n",
       "    }\n",
       "\n",
       "    .dataframe thead th {\n",
       "        text-align: right;\n",
       "    }\n",
       "</style>\n",
       "<table border=\"1\" class=\"dataframe\">\n",
       "  <thead>\n",
       "    <tr style=\"text-align: right;\">\n",
       "      <th></th>\n",
       "      <th>feature</th>\n",
       "      <th>score decrease</th>\n",
       "    </tr>\n",
       "  </thead>\n",
       "  <tbody>\n",
       "    <tr>\n",
       "      <th>0</th>\n",
       "      <td>GrLivArea</td>\n",
       "      <td>0.315659</td>\n",
       "    </tr>\n",
       "    <tr>\n",
       "      <th>1</th>\n",
       "      <td>BedroomAbvGr</td>\n",
       "      <td>0.036401</td>\n",
       "    </tr>\n",
       "    <tr>\n",
       "      <th>2</th>\n",
       "      <td>KitchenAbvGr</td>\n",
       "      <td>0.018956</td>\n",
       "    </tr>\n",
       "    <tr>\n",
       "      <th>6</th>\n",
       "      <td>NoAlley</td>\n",
       "      <td>0.008654</td>\n",
       "    </tr>\n",
       "    <tr>\n",
       "      <th>5</th>\n",
       "      <td>Grvl</td>\n",
       "      <td>0.004876</td>\n",
       "    </tr>\n",
       "    <tr>\n",
       "      <th>3</th>\n",
       "      <td>OverallCond</td>\n",
       "      <td>0.002198</td>\n",
       "    </tr>\n",
       "    <tr>\n",
       "      <th>4</th>\n",
       "      <td>Street</td>\n",
       "      <td>-0.000275</td>\n",
       "    </tr>\n",
       "    <tr>\n",
       "      <th>7</th>\n",
       "      <td>Pave</td>\n",
       "      <td>-0.000412</td>\n",
       "    </tr>\n",
       "  </tbody>\n",
       "</table>\n",
       "</div>"
      ],
      "text/plain": [
       "        feature score decrease\n",
       "0     GrLivArea       0.315659\n",
       "1  BedroomAbvGr       0.036401\n",
       "2  KitchenAbvGr       0.018956\n",
       "6       NoAlley       0.008654\n",
       "5          Grvl       0.004876\n",
       "3   OverallCond       0.002198\n",
       "4        Street      -0.000275\n",
       "7          Pave      -0.000412"
      ]
     },
     "execution_count": 43,
     "metadata": {},
     "output_type": "execute_result"
    }
   ],
   "source": [
    "from sklearn.inspection import permutation_importance\n",
    "\n",
    "log_model = LogisticRegression().fit(X, y) # Fit model\n",
    "\n",
    "permutation_score = permutation_importance(log_model, X, y, n_repeats=10) # Perform Permutation\n",
    "\n",
    "importance_df = pd.DataFrame(np.vstack((X.columns,\n",
    "                                        permutation_score.importances_mean)).T) # Unstack results\n",
    "importance_df.columns=['feature','score decrease']\n",
    "\n",
    "importance_df.sort_values(by=\"score decrease\", ascending = False) # Order by importance"
   ]
  },
  {
   "cell_type": "markdown",
   "id": "d06c01de",
   "metadata": {
    "hidden": true
   },
   "source": [
    "## Modeling v2"
   ]
  },
  {
   "cell_type": "code",
   "execution_count": 44,
   "id": "f3e7b51a",
   "metadata": {
    "hidden": true
   },
   "outputs": [
    {
     "data": {
      "text/plain": [
       "0.8433679735474728"
      ]
     },
     "execution_count": 44,
     "metadata": {},
     "output_type": "execute_result"
    }
   ],
   "source": [
    "X = X.drop(columns=['Street', \"Pave\"]) # Drops weak features\n",
    "\n",
    "log_reg = LogisticRegression()\n",
    "\n",
    "scores = cross_val_score(log_reg, X, y, cv=10)\n",
    "\n",
    "scores.mean()"
   ]
  }
 ],
 "metadata": {
  "kernelspec": {
   "display_name": "Python 3 (ipykernel)",
   "language": "python",
   "name": "python3"
  },
  "language_info": {
   "codemirror_mode": {
    "name": "ipython",
    "version": 3
   },
   "file_extension": ".py",
   "mimetype": "text/x-python",
   "name": "python",
   "nbconvert_exporter": "python",
   "pygments_lexer": "ipython3",
   "version": "3.8.6"
  },
  "toc": {
   "base_numbering": 1,
   "nav_menu": {},
   "number_sections": true,
   "sideBar": true,
   "skip_h1_title": false,
   "title_cell": "Table of Contents",
   "title_sidebar": "Contents",
   "toc_cell": false,
   "toc_position": {},
   "toc_section_display": true,
   "toc_window_display": false
  }
 },
 "nbformat": 4,
 "nbformat_minor": 5
}
