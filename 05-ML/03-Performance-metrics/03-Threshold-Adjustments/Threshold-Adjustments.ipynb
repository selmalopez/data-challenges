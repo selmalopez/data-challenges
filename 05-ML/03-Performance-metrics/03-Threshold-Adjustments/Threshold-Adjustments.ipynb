{
 "cells": [
  {
   "cell_type": "markdown",
   "metadata": {},
   "source": [
    "# Threshold Adjustment"
   ]
  },
  {
   "cell_type": "markdown",
   "metadata": {},
   "source": [
    "👇 Load the player `player_performances.csv` dataset to see what you will be working with."
   ]
  },
  {
   "cell_type": "code",
   "execution_count": 1,
   "metadata": {
    "scrolled": false
   },
   "outputs": [
    {
     "data": {
      "text/html": [
       "<div>\n",
       "<style scoped>\n",
       "    .dataframe tbody tr th:only-of-type {\n",
       "        vertical-align: middle;\n",
       "    }\n",
       "\n",
       "    .dataframe tbody tr th {\n",
       "        vertical-align: top;\n",
       "    }\n",
       "\n",
       "    .dataframe thead th {\n",
       "        text-align: right;\n",
       "    }\n",
       "</style>\n",
       "<table border=\"1\" class=\"dataframe\">\n",
       "  <thead>\n",
       "    <tr style=\"text-align: right;\">\n",
       "      <th></th>\n",
       "      <th>games played</th>\n",
       "      <th>minutes played</th>\n",
       "      <th>points per game</th>\n",
       "      <th>field goals made</th>\n",
       "      <th>field goal attempts</th>\n",
       "      <th>field goal percent</th>\n",
       "      <th>3 point made</th>\n",
       "      <th>3 point attempt</th>\n",
       "      <th>3 point %</th>\n",
       "      <th>free throw made</th>\n",
       "      <th>free throw attempts</th>\n",
       "      <th>free throw %</th>\n",
       "      <th>offensive rebounds</th>\n",
       "      <th>defensive rebounds</th>\n",
       "      <th>rebounds</th>\n",
       "      <th>assists</th>\n",
       "      <th>steals</th>\n",
       "      <th>blocks</th>\n",
       "      <th>turnovers</th>\n",
       "      <th>target_5y</th>\n",
       "    </tr>\n",
       "  </thead>\n",
       "  <tbody>\n",
       "    <tr>\n",
       "      <th>0</th>\n",
       "      <td>36</td>\n",
       "      <td>27.4</td>\n",
       "      <td>7.4</td>\n",
       "      <td>2.6</td>\n",
       "      <td>7.6</td>\n",
       "      <td>34.7</td>\n",
       "      <td>0.5</td>\n",
       "      <td>2.1</td>\n",
       "      <td>25.0</td>\n",
       "      <td>1.6</td>\n",
       "      <td>2.3</td>\n",
       "      <td>69.9</td>\n",
       "      <td>0.7</td>\n",
       "      <td>3.4</td>\n",
       "      <td>4.1</td>\n",
       "      <td>1.9</td>\n",
       "      <td>0.4</td>\n",
       "      <td>0.4</td>\n",
       "      <td>1.3</td>\n",
       "      <td>0</td>\n",
       "    </tr>\n",
       "    <tr>\n",
       "      <th>1</th>\n",
       "      <td>35</td>\n",
       "      <td>26.9</td>\n",
       "      <td>7.2</td>\n",
       "      <td>2.0</td>\n",
       "      <td>6.7</td>\n",
       "      <td>29.6</td>\n",
       "      <td>0.7</td>\n",
       "      <td>2.8</td>\n",
       "      <td>23.5</td>\n",
       "      <td>2.6</td>\n",
       "      <td>3.4</td>\n",
       "      <td>76.5</td>\n",
       "      <td>0.5</td>\n",
       "      <td>2.0</td>\n",
       "      <td>2.4</td>\n",
       "      <td>3.7</td>\n",
       "      <td>1.1</td>\n",
       "      <td>0.5</td>\n",
       "      <td>1.6</td>\n",
       "      <td>0</td>\n",
       "    </tr>\n",
       "    <tr>\n",
       "      <th>2</th>\n",
       "      <td>74</td>\n",
       "      <td>15.3</td>\n",
       "      <td>5.2</td>\n",
       "      <td>2.0</td>\n",
       "      <td>4.7</td>\n",
       "      <td>42.2</td>\n",
       "      <td>0.4</td>\n",
       "      <td>1.7</td>\n",
       "      <td>24.4</td>\n",
       "      <td>0.9</td>\n",
       "      <td>1.3</td>\n",
       "      <td>67.0</td>\n",
       "      <td>0.5</td>\n",
       "      <td>1.7</td>\n",
       "      <td>2.2</td>\n",
       "      <td>1.0</td>\n",
       "      <td>0.5</td>\n",
       "      <td>0.3</td>\n",
       "      <td>1.0</td>\n",
       "      <td>0</td>\n",
       "    </tr>\n",
       "    <tr>\n",
       "      <th>3</th>\n",
       "      <td>58</td>\n",
       "      <td>11.6</td>\n",
       "      <td>5.7</td>\n",
       "      <td>2.3</td>\n",
       "      <td>5.5</td>\n",
       "      <td>42.6</td>\n",
       "      <td>0.1</td>\n",
       "      <td>0.5</td>\n",
       "      <td>22.6</td>\n",
       "      <td>0.9</td>\n",
       "      <td>1.3</td>\n",
       "      <td>68.9</td>\n",
       "      <td>1.0</td>\n",
       "      <td>0.9</td>\n",
       "      <td>1.9</td>\n",
       "      <td>0.8</td>\n",
       "      <td>0.6</td>\n",
       "      <td>0.1</td>\n",
       "      <td>1.0</td>\n",
       "      <td>1</td>\n",
       "    </tr>\n",
       "    <tr>\n",
       "      <th>4</th>\n",
       "      <td>48</td>\n",
       "      <td>11.5</td>\n",
       "      <td>4.5</td>\n",
       "      <td>1.6</td>\n",
       "      <td>3.0</td>\n",
       "      <td>52.4</td>\n",
       "      <td>0.0</td>\n",
       "      <td>0.1</td>\n",
       "      <td>0.0</td>\n",
       "      <td>1.3</td>\n",
       "      <td>1.9</td>\n",
       "      <td>67.4</td>\n",
       "      <td>1.0</td>\n",
       "      <td>1.5</td>\n",
       "      <td>2.5</td>\n",
       "      <td>0.3</td>\n",
       "      <td>0.3</td>\n",
       "      <td>0.4</td>\n",
       "      <td>0.8</td>\n",
       "      <td>1</td>\n",
       "    </tr>\n",
       "  </tbody>\n",
       "</table>\n",
       "</div>"
      ],
      "text/plain": [
       "   games played  minutes played  points per game  field goals made  \\\n",
       "0            36            27.4              7.4               2.6   \n",
       "1            35            26.9              7.2               2.0   \n",
       "2            74            15.3              5.2               2.0   \n",
       "3            58            11.6              5.7               2.3   \n",
       "4            48            11.5              4.5               1.6   \n",
       "\n",
       "   field goal attempts  field goal percent  3 point made  3 point attempt  \\\n",
       "0                  7.6                34.7           0.5              2.1   \n",
       "1                  6.7                29.6           0.7              2.8   \n",
       "2                  4.7                42.2           0.4              1.7   \n",
       "3                  5.5                42.6           0.1              0.5   \n",
       "4                  3.0                52.4           0.0              0.1   \n",
       "\n",
       "   3 point %  free throw made  free throw attempts  free throw %  \\\n",
       "0       25.0              1.6                  2.3          69.9   \n",
       "1       23.5              2.6                  3.4          76.5   \n",
       "2       24.4              0.9                  1.3          67.0   \n",
       "3       22.6              0.9                  1.3          68.9   \n",
       "4        0.0              1.3                  1.9          67.4   \n",
       "\n",
       "   offensive rebounds  defensive rebounds  rebounds  assists  steals  blocks  \\\n",
       "0                 0.7                 3.4       4.1      1.9     0.4     0.4   \n",
       "1                 0.5                 2.0       2.4      3.7     1.1     0.5   \n",
       "2                 0.5                 1.7       2.2      1.0     0.5     0.3   \n",
       "3                 1.0                 0.9       1.9      0.8     0.6     0.1   \n",
       "4                 1.0                 1.5       2.5      0.3     0.3     0.4   \n",
       "\n",
       "   turnovers  target_5y  \n",
       "0        1.3          0  \n",
       "1        1.6          0  \n",
       "2        1.0          0  \n",
       "3        1.0          1  \n",
       "4        0.8          1  "
      ]
     },
     "execution_count": 1,
     "metadata": {},
     "output_type": "execute_result"
    }
   ],
   "source": [
    "## Your code here\n",
    "import pandas as pd\n",
    "\n",
    "data = pd.read_csv(\"data/player_performance.csv\")\n",
    "\n",
    "data.head()"
   ]
  },
  {
   "cell_type": "markdown",
   "metadata": {},
   "source": [
    "ℹ️ Each observations represents a player and each column a characteristic of performance. The target `target_5y` defines whether the player has had a professional career of less than 5 years [0] or 5 years or more [1]."
   ]
  },
  {
   "cell_type": "markdown",
   "metadata": {},
   "source": [
    "# Preprocessing"
   ]
  },
  {
   "cell_type": "markdown",
   "metadata": {},
   "source": [
    "👇 To avoid spending too much time on the preprocessing, Robust Scale the entire feature set. This practice is not optimal, but can be used for preliminary preprocessing and/or to get models up and running quickly.\n",
    "\n",
    "Save the scaled feature set as `X_scaled`."
   ]
  },
  {
   "cell_type": "code",
   "execution_count": 2,
   "metadata": {},
   "outputs": [],
   "source": [
    "## Your code here\n",
    "from sklearn.preprocessing import RobustScaler\n",
    "x = data.drop(columns=['target_5y'])\n",
    "X_scaler = RobustScaler()\n",
    "X_scaled = X_scaler.fit_transform(x)"
   ]
  },
  {
   "cell_type": "markdown",
   "metadata": {},
   "source": [
    "### ☑️ Check your code"
   ]
  },
  {
   "cell_type": "code",
   "execution_count": 3,
   "metadata": {
    "scrolled": true
   },
   "outputs": [
    {
     "name": "stdout",
     "output_type": "stream",
     "text": [
      "\u001b[1m============================= test session starts ==============================\u001b[0m\n",
      "platform darwin -- Python 3.8.12, pytest-6.2.5, py-1.10.0, pluggy-1.0.0 -- /Users/selmalopez/.pyenv/versions/lewagon_current/bin/python3\n",
      "cachedir: .pytest_cache\n",
      "rootdir: /Users/selmalopez/code/selmalopez/data-challenges/05-ML/03-Performance-metrics/03-Threshold-Adjustments\n",
      "plugins: dash-2.0.0, anyio-3.3.2\n",
      "\u001b[1mcollecting ... \u001b[0mcollected 1 item\n",
      "\n",
      "tests/test_scaled_features.py::TestScaled_features::test_scaled_features \u001b[32mPASSED\u001b[0m\u001b[32m [100%]\u001b[0m\n",
      "\n",
      "\u001b[32m============================== \u001b[32m\u001b[1m1 passed\u001b[0m\u001b[32m in 0.15s\u001b[0m\u001b[32m ===============================\u001b[0m\n",
      "\n",
      "\n",
      "💯 You can commit your code:\n",
      "\n",
      "\u001b[1;32mgit\u001b[39m add tests/scaled_features.pickle\n",
      "\n",
      "\u001b[32mgit\u001b[39m commit -m \u001b[33m'Completed scaled_features step'\u001b[39m\n",
      "\n",
      "\u001b[32mgit\u001b[39m push origin master\n"
     ]
    }
   ],
   "source": [
    "from nbresult import ChallengeResult\n",
    "\n",
    "result = ChallengeResult('scaled_features',\n",
    "                         scaled_features = X_scaled\n",
    ")\n",
    "\n",
    "result.write()\n",
    "print(result.check())"
   ]
  },
  {
   "cell_type": "markdown",
   "metadata": {},
   "source": [
    "# Base modelling"
   ]
  },
  {
   "cell_type": "markdown",
   "metadata": {},
   "source": [
    "🎯 The task is to detect players who will last 5 years minimum as professionals, with a 90% guarantee.\n",
    "\n",
    "👇 Is a default Logistic Regression model going to satisfy the coach's requirements? Use cross validation and save the score that supports your answer under variable name `base_score`."
   ]
  },
  {
   "cell_type": "code",
   "execution_count": 14,
   "metadata": {},
   "outputs": [
    {
     "data": {
      "text/plain": [
       "0.7346247634876919"
      ]
     },
     "execution_count": 14,
     "metadata": {},
     "output_type": "execute_result"
    }
   ],
   "source": [
    "## Your code here\n",
    "from sklearn.linear_model import LogisticRegression\n",
    "from sklearn.metrics import accuracy_score\n",
    "from sklearn.model_selection import cross_validate\n",
    "y = data['target_5y']\n",
    "model =  LogisticRegression(max_iter = 1000).fit(X_scaled, y) \n",
    "cv_results = cross_validate(model, X_scaled,y,scoring = \"precision\")\n",
    "\n",
    "base_score = cv_results['test_score'].mean()\n",
    "base_score"
   ]
  },
  {
   "cell_type": "markdown",
   "metadata": {},
   "source": [
    "### ☑️ Check your code"
   ]
  },
  {
   "cell_type": "code",
   "execution_count": 15,
   "metadata": {
    "scrolled": true
   },
   "outputs": [
    {
     "name": "stdout",
     "output_type": "stream",
     "text": [
      "\u001b[1m============================= test session starts ==============================\u001b[0m\n",
      "platform darwin -- Python 3.8.12, pytest-6.2.5, py-1.10.0, pluggy-1.0.0 -- /Users/selmalopez/.pyenv/versions/lewagon_current/bin/python3\n",
      "cachedir: .pytest_cache\n",
      "rootdir: /Users/selmalopez/code/selmalopez/data-challenges/05-ML/03-Performance-metrics/03-Threshold-Adjustments\n",
      "plugins: dash-2.0.0, anyio-3.3.2\n",
      "\u001b[1mcollecting ... \u001b[0mcollected 1 item\n",
      "\n",
      "tests/test_base_precision.py::TestBase_precision::test_precision_score \u001b[32mPASSED\u001b[0m\u001b[32m [100%]\u001b[0m\n",
      "\n",
      "\u001b[32m============================== \u001b[32m\u001b[1m1 passed\u001b[0m\u001b[32m in 0.21s\u001b[0m\u001b[32m ===============================\u001b[0m\n",
      "\n",
      "\n",
      "💯 You can commit your code:\n",
      "\n",
      "\u001b[1;32mgit\u001b[39m add tests/base_precision.pickle\n",
      "\n",
      "\u001b[32mgit\u001b[39m commit -m \u001b[33m'Completed base_precision step'\u001b[39m\n",
      "\n",
      "\u001b[32mgit\u001b[39m push origin master\n"
     ]
    }
   ],
   "source": [
    "from nbresult import ChallengeResult\n",
    "\n",
    "result = ChallengeResult('base_precision',\n",
    "                         score = base_score\n",
    ")\n",
    "\n",
    "result.write()\n",
    "print(result.check())"
   ]
  },
  {
   "cell_type": "markdown",
   "metadata": {},
   "source": [
    "# Threshold adjustment"
   ]
  },
  {
   "cell_type": "markdown",
   "metadata": {},
   "source": [
    "👇 Find the decision threshold that guarantees a 90% precision for a player to last 5 years or more as a professional. Save the threshold under variable name `new_threshold`."
   ]
  },
  {
   "cell_type": "markdown",
   "metadata": {},
   "source": [
    "<details>\n",
    "<summary>💡 Hint</summary>\n",
    "\n",
    "- Make cross validated probability predictions with [`cross_val_predict`](https://scikit-learn.org/stable/modules/generated/sklearn.model_selection.cross_val_predict.html)\n",
    "    \n",
    "- Plug the probabilities into [`precision_recall_curve`](https://scikit-learn.org/stable/modules/generated/sklearn.metrics.precision_recall_curve.html) to generate precision scores at different thresholds\n",
    "\n",
    "- Find out which threshold guarantees a precision of 0.9\n",
    "      \n",
    "</details>\n",
    "\n"
   ]
  },
  {
   "cell_type": "code",
   "execution_count": 19,
   "metadata": {},
   "outputs": [
    {
     "name": "stdout",
     "output_type": "stream",
     "text": [
      "precision- [0.62292609 0.62264151 0.62311178 0.62358277 0.62405446]\n",
      "recall- [1.         0.99878935 0.99878935 0.99878935 0.99878935]\n",
      "threshold- [0.07674062 0.09561194 0.10298152 0.10620172 0.11859761]\n"
     ]
    },
    {
     "name": "stderr",
     "output_type": "stream",
     "text": [
      "/Users/selmalopez/.pyenv/versions/3.8.12/envs/lewagon_current/lib/python3.8/site-packages/sklearn/utils/validation.py:70: FutureWarning: Pass groups=0       0\n",
      "1       0\n",
      "2       0\n",
      "3       1\n",
      "4       1\n",
      "       ..\n",
      "1324    0\n",
      "1325    1\n",
      "1326    0\n",
      "1327    1\n",
      "1328    1\n",
      "Name: target_5y, Length: 1329, dtype: int64 as keyword args. From version 1.0 (renaming of 0.25) passing these as positional arguments will result in an error\n",
      "  warnings.warn(f\"Pass {args_msg} as keyword args. From version \"\n"
     ]
    }
   ],
   "source": [
    "## Your code here\n",
    "from sklearn.linear_model import LogisticRegression\n",
    "from sklearn.model_selection import cross_val_predict\n",
    "from sklearn.metrics import precision_recall_curve\n",
    "import matplotlib.pyplot as plt\n",
    "\n",
    "\n",
    "# Predict class probabilties\n",
    "data['less_5y'], data[\"more_5y\"] =cross_val_predict(model,X_scaled, y,data['target_5y'],cv=5,method='predict_proba').T\n",
    "\n",
    "# precision recall data\n",
    "precision, recall, threshold = precision_recall_curve(y,data[\"more_5y\"])\n",
    "\n",
    "print(f'precision- {precision[:5]}')\n",
    "print(f'recall- c')\n",
    "print(f'threshold- {threshold[:5]}')"
   ]
  },
  {
   "cell_type": "code",
   "execution_count": 30,
   "metadata": {},
   "outputs": [
    {
     "data": {
      "text/plain": [
       "{'precision': array([0.62292609, 0.62264151, 0.62311178, ..., 0.75      , 0.66666667,\n",
       "        1.        ]),\n",
       " 'recall': array([1.        , 0.99878935, 0.99878935, ..., 0.00363196, 0.00242131,\n",
       "        0.00121065]),\n",
       " 'threshold': array([0.07674062, 0.09561194, 0.10298152, ..., 0.9857583 , 0.99335743,\n",
       "        0.99676065])}"
      ]
     },
     "execution_count": 30,
     "metadata": {},
     "output_type": "execute_result"
    }
   ],
   "source": [
    "scores = {'precision': precision[:-1],'recall': recall[:-1],'threshold':threshold[:]}\n",
    "scores"
   ]
  },
  {
   "cell_type": "code",
   "execution_count": 33,
   "metadata": {},
   "outputs": [
    {
     "data": {
      "text/plain": [
       "[<matplotlib.lines.Line2D at 0x12e63cac0>]"
      ]
     },
     "execution_count": 33,
     "metadata": {},
     "output_type": "execute_result"
    },
    {
     "data": {
      "image/png": "[encoded data removed]",
      "text/plain": [
       "<Figure size 432x288 with 1 Axes>"
      ]
     },
     "metadata": {
      "needs_background": "light"
     },
     "output_type": "display_data"
    }
   ],
   "source": [
    "import matplotlib.pyplot as plt\n",
    "scores = pd.DataFrame(scores)\n",
    "plt.plot(scores['recall'], scores['precision'])"
   ]
  },
  {
   "cell_type": "code",
   "execution_count": 34,
   "metadata": {},
   "outputs": [
    {
     "data": {
      "text/html": [
       "<div>\n",
       "<style scoped>\n",
       "    .dataframe tbody tr th:only-of-type {\n",
       "        vertical-align: middle;\n",
       "    }\n",
       "\n",
       "    .dataframe tbody tr th {\n",
       "        vertical-align: top;\n",
       "    }\n",
       "\n",
       "    .dataframe thead th {\n",
       "        text-align: right;\n",
       "    }\n",
       "</style>\n",
       "<table border=\"1\" class=\"dataframe\">\n",
       "  <thead>\n",
       "    <tr style=\"text-align: right;\">\n",
       "      <th></th>\n",
       "      <th>precision</th>\n",
       "      <th>recall</th>\n",
       "      <th>threshold</th>\n",
       "    </tr>\n",
       "  </thead>\n",
       "  <tbody>\n",
       "    <tr>\n",
       "      <th>0</th>\n",
       "      <td>0.622926</td>\n",
       "      <td>1.000000</td>\n",
       "      <td>0.076741</td>\n",
       "    </tr>\n",
       "    <tr>\n",
       "      <th>1</th>\n",
       "      <td>0.622642</td>\n",
       "      <td>0.998789</td>\n",
       "      <td>0.095612</td>\n",
       "    </tr>\n",
       "    <tr>\n",
       "      <th>2</th>\n",
       "      <td>0.623112</td>\n",
       "      <td>0.998789</td>\n",
       "      <td>0.102982</td>\n",
       "    </tr>\n",
       "    <tr>\n",
       "      <th>3</th>\n",
       "      <td>0.623583</td>\n",
       "      <td>0.998789</td>\n",
       "      <td>0.106202</td>\n",
       "    </tr>\n",
       "    <tr>\n",
       "      <th>4</th>\n",
       "      <td>0.624054</td>\n",
       "      <td>0.998789</td>\n",
       "      <td>0.118598</td>\n",
       "    </tr>\n",
       "    <tr>\n",
       "      <th>...</th>\n",
       "      <td>...</td>\n",
       "      <td>...</td>\n",
       "      <td>...</td>\n",
       "    </tr>\n",
       "    <tr>\n",
       "      <th>1292</th>\n",
       "      <td>0.833333</td>\n",
       "      <td>0.006053</td>\n",
       "      <td>0.984614</td>\n",
       "    </tr>\n",
       "    <tr>\n",
       "      <th>1293</th>\n",
       "      <td>0.800000</td>\n",
       "      <td>0.004843</td>\n",
       "      <td>0.984745</td>\n",
       "    </tr>\n",
       "    <tr>\n",
       "      <th>1294</th>\n",
       "      <td>0.750000</td>\n",
       "      <td>0.003632</td>\n",
       "      <td>0.985758</td>\n",
       "    </tr>\n",
       "    <tr>\n",
       "      <th>1295</th>\n",
       "      <td>0.666667</td>\n",
       "      <td>0.002421</td>\n",
       "      <td>0.993357</td>\n",
       "    </tr>\n",
       "    <tr>\n",
       "      <th>1296</th>\n",
       "      <td>1.000000</td>\n",
       "      <td>0.001211</td>\n",
       "      <td>0.996761</td>\n",
       "    </tr>\n",
       "  </tbody>\n",
       "</table>\n",
       "<p>1297 rows × 3 columns</p>\n",
       "</div>"
      ],
      "text/plain": [
       "      precision    recall  threshold\n",
       "0      0.622926  1.000000   0.076741\n",
       "1      0.622642  0.998789   0.095612\n",
       "2      0.623112  0.998789   0.102982\n",
       "3      0.623583  0.998789   0.106202\n",
       "4      0.624054  0.998789   0.118598\n",
       "...         ...       ...        ...\n",
       "1292   0.833333  0.006053   0.984614\n",
       "1293   0.800000  0.004843   0.984745\n",
       "1294   0.750000  0.003632   0.985758\n",
       "1295   0.666667  0.002421   0.993357\n",
       "1296   1.000000  0.001211   0.996761\n",
       "\n",
       "[1297 rows x 3 columns]"
      ]
     },
     "execution_count": 34,
     "metadata": {},
     "output_type": "execute_result"
    }
   ],
   "source": [
    "scores "
   ]
  },
  {
   "cell_type": "code",
   "execution_count": 39,
   "metadata": {},
   "outputs": [
    {
     "data": {
      "text/plain": [
       "0.8626977113267628"
      ]
     },
     "execution_count": 39,
     "metadata": {},
     "output_type": "execute_result"
    }
   ],
   "source": [
    "new_threshold = scores[scores['precision'] >= 0.9].threshold.min()\n",
    "new_threshold"
   ]
  },
  {
   "cell_type": "markdown",
   "metadata": {},
   "source": [
    "### ☑️ Check your code"
   ]
  },
  {
   "cell_type": "code",
   "execution_count": 41,
   "metadata": {
    "scrolled": true
   },
   "outputs": [
    {
     "name": "stdout",
     "output_type": "stream",
     "text": [
      "\u001b[1m============================= test session starts ==============================\u001b[0m\n",
      "platform darwin -- Python 3.8.12, pytest-6.2.5, py-1.10.0, pluggy-1.0.0 -- /Users/selmalopez/.pyenv/versions/lewagon_current/bin/python3\n",
      "cachedir: .pytest_cache\n",
      "rootdir: /Users/selmalopez/code/selmalopez/data-challenges/05-ML/03-Performance-metrics/03-Threshold-Adjustments\n",
      "plugins: dash-2.0.0, anyio-3.3.2\n",
      "\u001b[1mcollecting ... \u001b[0mcollected 1 item\n",
      "\n",
      "tests/test_decision_threshold.py::TestDecision_threshold::test_new_threshold \u001b[32mPASSED\u001b[0m\u001b[32m [100%]\u001b[0m\n",
      "\n",
      "\u001b[32m============================== \u001b[32m\u001b[1m1 passed\u001b[0m\u001b[32m in 0.14s\u001b[0m\u001b[32m ===============================\u001b[0m\n",
      "\n",
      "\n",
      "💯 You can commit your code:\n",
      "\n",
      "\u001b[1;32mgit\u001b[39m add tests/decision_threshold.pickle\n",
      "\n",
      "\u001b[32mgit\u001b[39m commit -m \u001b[33m'Completed decision_threshold step'\u001b[39m\n",
      "\n",
      "\u001b[32mgit\u001b[39m push origin master\n"
     ]
    }
   ],
   "source": [
    "from nbresult import ChallengeResult\n",
    "\n",
    "result = ChallengeResult('decision_threshold',\n",
    "                         threshold = new_threshold\n",
    ")\n",
    "\n",
    "result.write()\n",
    "print(result.check())"
   ]
  },
  {
   "cell_type": "markdown",
   "metadata": {},
   "source": [
    "# Using the new threshold"
   ]
  },
  {
   "cell_type": "markdown",
   "metadata": {},
   "source": [
    "🎯 The coach has spotted a potentially interesting player, but wants your 90% guarantee that he would last 5 years minimum as a pro. Download the player's data [here](https://wagon-public-datasets.s3.amazonaws.com/Machine%20Learning%20Datasets/ML_New_player.csv)."
   ]
  },
  {
   "cell_type": "markdown",
   "metadata": {},
   "source": [
    "❓ Would you risk recommending the player to the coach? Save your answer as string under variable name `recommendation` as \"recommend\" or \"not recommend\"."
   ]
  },
  {
   "cell_type": "code",
   "execution_count": 42,
   "metadata": {},
   "outputs": [
    {
     "data": {
      "text/html": [
       "<div>\n",
       "<style scoped>\n",
       "    .dataframe tbody tr th:only-of-type {\n",
       "        vertical-align: middle;\n",
       "    }\n",
       "\n",
       "    .dataframe tbody tr th {\n",
       "        vertical-align: top;\n",
       "    }\n",
       "\n",
       "    .dataframe thead th {\n",
       "        text-align: right;\n",
       "    }\n",
       "</style>\n",
       "<table border=\"1\" class=\"dataframe\">\n",
       "  <thead>\n",
       "    <tr style=\"text-align: right;\">\n",
       "      <th></th>\n",
       "      <th>games played</th>\n",
       "      <th>minutes played</th>\n",
       "      <th>points per game</th>\n",
       "      <th>field goals made</th>\n",
       "      <th>field goal attempts</th>\n",
       "      <th>field goal percent</th>\n",
       "      <th>3 point made</th>\n",
       "      <th>3 point attempt</th>\n",
       "      <th>3 point %</th>\n",
       "      <th>free throw made</th>\n",
       "      <th>free throw attempts</th>\n",
       "      <th>free throw %</th>\n",
       "      <th>offensive rebounds</th>\n",
       "      <th>defensive rebounds</th>\n",
       "      <th>rebounds</th>\n",
       "      <th>assists</th>\n",
       "      <th>steals</th>\n",
       "      <th>blocks</th>\n",
       "      <th>turnovers</th>\n",
       "    </tr>\n",
       "  </thead>\n",
       "  <tbody>\n",
       "    <tr>\n",
       "      <th>0</th>\n",
       "      <td>80</td>\n",
       "      <td>31.4</td>\n",
       "      <td>14.3</td>\n",
       "      <td>5.9</td>\n",
       "      <td>11.1</td>\n",
       "      <td>52.5</td>\n",
       "      <td>0.0</td>\n",
       "      <td>0.1</td>\n",
       "      <td>11.1</td>\n",
       "      <td>2.6</td>\n",
       "      <td>3.9</td>\n",
       "      <td>65.4</td>\n",
       "      <td>3.0</td>\n",
       "      <td>5.0</td>\n",
       "      <td>8.0</td>\n",
       "      <td>2.4</td>\n",
       "      <td>1.1</td>\n",
       "      <td>0.8</td>\n",
       "      <td>2.2</td>\n",
       "    </tr>\n",
       "  </tbody>\n",
       "</table>\n",
       "</div>"
      ],
      "text/plain": [
       "   games played  minutes played  points per game  field goals made  \\\n",
       "0            80            31.4             14.3               5.9   \n",
       "\n",
       "   field goal attempts  field goal percent  3 point made  3 point attempt  \\\n",
       "0                 11.1                52.5           0.0              0.1   \n",
       "\n",
       "   3 point %  free throw made  free throw attempts  free throw %  \\\n",
       "0       11.1              2.6                  3.9          65.4   \n",
       "\n",
       "   offensive rebounds  defensive rebounds  rebounds  assists  steals  blocks  \\\n",
       "0                 3.0                 5.0       8.0      2.4     1.1     0.8   \n",
       "\n",
       "   turnovers  \n",
       "0        2.2  "
      ]
     },
     "execution_count": 42,
     "metadata": {},
     "output_type": "execute_result"
    }
   ],
   "source": [
    "import pandas as pd\n",
    "\n",
    "data = pd.read_csv(\"data/new_player.csv\")\n",
    "\n",
    "data.head()"
   ]
  },
  {
   "cell_type": "code",
   "execution_count": 47,
   "metadata": {},
   "outputs": [],
   "source": [
    "## Your code here\n",
    "X_new = data\n",
    "\n",
    "log_bask_model = model\n",
    "\n",
    "if log_bask_model.predict(X_new)[0] == 1:\n",
    "    recommendation = 'recommend'\n",
    "else :\n",
    "    recommendation= 'not recommand'\n"
   ]
  },
  {
   "cell_type": "markdown",
   "metadata": {},
   "source": [
    "### ☑️ Check your code"
   ]
  },
  {
   "cell_type": "code",
   "execution_count": 48,
   "metadata": {
    "scrolled": true
   },
   "outputs": [
    {
     "name": "stdout",
     "output_type": "stream",
     "text": [
      "\u001b[1m============================= test session starts ==============================\u001b[0m\n",
      "platform darwin -- Python 3.8.12, pytest-6.2.5, py-1.10.0, pluggy-1.0.0 -- /Users/selmalopez/.pyenv/versions/lewagon_current/bin/python3\n",
      "cachedir: .pytest_cache\n",
      "rootdir: /Users/selmalopez/code/selmalopez/data-challenges/05-ML/03-Performance-metrics/03-Threshold-Adjustments\n",
      "plugins: dash-2.0.0, anyio-3.3.2\n",
      "\u001b[1mcollecting ... \u001b[0mcollected 1 item\n",
      "\n",
      "tests/test_recommendation.py::TestRecommendation::test_recommendation \u001b[32mPASSED\u001b[0m\u001b[32m [100%]\u001b[0m\n",
      "\n",
      "\u001b[32m============================== \u001b[32m\u001b[1m1 passed\u001b[0m\u001b[32m in 0.06s\u001b[0m\u001b[32m ===============================\u001b[0m\n",
      "\n",
      "\n",
      "💯 You can commit your code:\n",
      "\n",
      "\u001b[1;32mgit\u001b[39m add tests/recommendation.pickle\n",
      "\n",
      "\u001b[32mgit\u001b[39m commit -m \u001b[33m'Completed recommendation step'\u001b[39m\n",
      "\n",
      "\u001b[32mgit\u001b[39m push origin master\n"
     ]
    }
   ],
   "source": [
    "from nbresult import ChallengeResult\n",
    "\n",
    "result = ChallengeResult('recommendation',\n",
    "                         recommendation = recommendation\n",
    ")\n",
    "\n",
    "result.write()\n",
    "print(result.check())"
   ]
  },
  {
   "cell_type": "markdown",
   "metadata": {},
   "source": [
    "# 🏁"
   ]
  }
 ],
 "metadata": {
  "kernelspec": {
   "display_name": "Python 3 (ipykernel)",
   "language": "python",
   "name": "python3"
  },
  "language_info": {
   "codemirror_mode": {
    "name": "ipython",
    "version": 3
   },
   "file_extension": ".py",
   "mimetype": "text/x-python",
   "name": "python",
   "nbconvert_exporter": "python",
   "pygments_lexer": "ipython3",
   "version": "3.8.12"
  },
  "toc": {
   "base_numbering": 1,
   "nav_menu": {},
   "number_sections": false,
   "sideBar": true,
   "skip_h1_title": false,
   "title_cell": "Table of Contents",
   "title_sidebar": "Contents",
   "toc_cell": false,
   "toc_position": {
    "height": "calc(100% - 180px)",
    "left": "10px",
    "top": "150px",
    "width": "165px"
   },
   "toc_section_display": true,
   "toc_window_display": true
  },
  "varInspector": {
   "cols": {
    "lenName": 16,
    "lenType": 16,
    "lenVar": 40
   },
   "kernels_config": {
    "python": {
     "delete_cmd_postfix": "",
     "delete_cmd_prefix": "del ",
     "library": "var_list.py",
     "varRefreshCmd": "print(var_dic_list())"
    },
    "r": {
     "delete_cmd_postfix": ") ",
     "delete_cmd_prefix": "rm(",
     "library": "var_list.r",
     "varRefreshCmd": "cat(var_dic_list()) "
    }
   },
   "types_to_exclude": [
    "module",
    "function",
    "builtin_function_or_method",
    "instance",
    "_Feature"
   ],
   "window_display": false
  }
 },
 "nbformat": 4,
 "nbformat_minor": 4
}