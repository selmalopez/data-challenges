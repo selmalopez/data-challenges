{
 "cells": [
  {
   "cell_type": "markdown",
   "metadata": {},
   "source": [
    "# PCA : a warm up\n",
    "\n",
    "Lets start with a small dataset to get intuition on how PCA works."
   ]
  },
  {
   "cell_type": "code",
   "execution_count": 0,
   "metadata": {},
   "outputs": [],
   "source": [
    "import numpy as np\n",
    "import matplotlib.pyplot as plt\n",
    "\n",
    "# Generate and plot a 2d dataset with some positive correlation using stats & linear algebra tricks!\n",
    "rng = np.random.RandomState(5)\n",
    "X = np.dot(rng.rand(100, 2), rng.randn(2, 2))\n",
    "plt.scatter(X[:, 0], X[:, 1])\n",
    "\n",
    "plt.xlim(xmin=-1.5, xmax=1.5); plt.ylim(ymin=-1.5, ymax=1.5)\n",
    "plt.show()"
   ]
  },
  {
   "cell_type": "markdown",
   "metadata": {},
   "source": [
    "Can you see the positive correlation between the X0 and X1?\n",
    "\n",
    "In PCA, this relationship is quantified by finding a list of the principal axes in the data. Lets do this using Sklearn.\n",
    "\n",
    "👉 First, import the PCA and call PCA with `n_components=2`. Fit the PCA to the `X` data."
   ]
  },
  {
   "cell_type": "code",
   "execution_count": 0,
   "metadata": {
    "tags": [
     "challengify"
    ]
   },
   "outputs": [],
   "source": [
    "# YOUR CODE HERE"
   ]
  },
  {
   "cell_type": "markdown",
   "metadata": {},
   "source": [
    "There is two objects we're interested in that `pca` object : \n",
    "\n",
    "- `pca.components_`: it's a set of eigenvectors which point to the directions where the variance is maximally explained. In other words, the directions of maximum variance.\n",
    "\n",
    "- `pca.explained_variance_`:  $\\frac{Var(PC)}{Var(X)}$, given by the corresponding L2 norm of these eigenvectors\n",
    "\n",
    "Let's visualize those two Pincipal Components. \n",
    "Execute the two following cells, and make sur to understand how they work"
   ]
  },
  {
   "cell_type": "code",
   "execution_count": 0,
   "metadata": {},
   "outputs": [],
   "source": [
    "def draw_vector(v0, v1, ax=None):\n",
    "    '''\n",
    "    Plot 2 vectors in the same ax\n",
    "    '''\n",
    "    ax = ax or plt.gca()\n",
    "    arrowprops=dict(arrowstyle='->', color='red', linewidth=2)\n",
    "    ax.annotate('', v1, v0, arrowprops=arrowprops)"
   ]
  },
  {
   "cell_type": "code",
   "execution_count": 0,
   "metadata": {},
   "outputs": [],
   "source": [
    "plt.figure(figsize=(5,5))\n",
    "plt.scatter(X[:, 0], X[:, 1])\n",
    "for (length, vector) in zip(pca.explained_variance_, pca.components_):\n",
    "    v = vector * np.sqrt(length) # Visualize the square root of their lenghts, in order to compare same \"units\" (sqrt(Var)=std)\n",
    "    draw_vector(pca.mean_, pca.mean_ + v)\n",
    "\n",
    "plt.xlim(xmin=-1.5, xmax=1.5); plt.ylim(ymin=-1.5, ymax=1.5)"
   ]
  },
  {
   "cell_type": "markdown",
   "metadata": {},
   "source": [
    "The length of the vector is a measure of the standard deviation of the data when projected onto that axis!\n",
    "\n",
    "We can then use those directions to \"explain\" most of our observations behaviour - most of the distinction between observations happens along thoses axis. "
   ]
  },
  {
   "cell_type": "markdown",
   "metadata": {},
   "source": [
    "### Now what happens when we use those components?\n",
    "\n",
    "We can use those components (`pca.components_`, the red arrows on the plot) to transform every sample of our dataset and see it in a new space where its variance is more clear and hence more easy to visualize.\n",
    "\n",
    "To do that, first transform the dataset into the new space by using the function `transform` of your `pca` object, then you can plot this transformation."
   ]
  },
  {
   "cell_type": "code",
   "execution_count": 0,
   "metadata": {
    "tags": [
     "challengify"
    ]
   },
   "outputs": [],
   "source": [
    "# YOUR CODE HERE"
   ]
  },
  {
   "cell_type": "markdown",
   "metadata": {},
   "source": [
    "We have stretched the whole dataset into it's nicer form, where we can now study the behviour __between__ the observations. It's not crushed anymore into a line that was too packed."
   ]
  }
 ],
 "metadata": {
  "kernelspec": {
   "display_name": "Python 3",
   "language": "python",
   "name": "python3"
  }
 },
 "nbformat": 4,
 "nbformat_minor": 2
}